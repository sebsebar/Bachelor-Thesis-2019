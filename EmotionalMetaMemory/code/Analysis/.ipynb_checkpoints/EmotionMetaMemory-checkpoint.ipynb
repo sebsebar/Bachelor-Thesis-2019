{
 "cells": [
  {
   "cell_type": "markdown",
   "metadata": {},
   "source": [
    "Author: Nicolas Legrand <nicolas.legrand@cfin.au.dk>"
   ]
  },
  {
   "cell_type": "code",
   "execution_count": 24,
   "metadata": {},
   "outputs": [],
   "source": [
    "import numpy as np\n",
    "import os\n",
    "import pandas as pd\n",
    "import seaborn as sns\n",
    "from sklearn.linear_model import LinearRegression\n",
    "import matplotlib.pyplot as plt\n",
    "from systole.detection import oxi_peaks, artefact_correction\n",
    "from systole.utils import heart_rate\n",
    "from systole.hrv_time import time_domain\n",
    "from systole.hrv_frequency import frequency_domain\n",
    "from systole.hrv_nonlinear import nonlinear_domain\n",
    "from systole.epochs import to_epochs\n",
    "import pingouin as pg"
   ]
  },
  {
   "cell_type": "code",
   "execution_count": 6,
   "metadata": {},
   "outputs": [],
   "source": [
    "path = 'C:/Users/au646069/Google Drive/ECG_root/Projects/in_progress/EmotionalMetaMemory/data/Data/'\n",
    "results_path = 'C:/Users/au646069/Google Drive/ECG_root/Projects/in_progress/EmotionalMetaMemory/figures/results/HeartRate/'"
   ]
  },
  {
   "cell_type": "markdown",
   "metadata": {},
   "source": [
    "# Extract heart rate"
   ]
  },
  {
   "cell_type": "code",
   "execution_count": 22,
   "metadata": {},
   "outputs": [],
   "source": [
    "from systole.hrv import hrv_psd\n",
    "from systole.detection import hrv_subspaces\n",
    "from systole.plotting import plot_subspaces\n",
    "\n",
    "def create_report(oxi, kind='ppg', file=None, dpi=600):\n",
    "    \"\"\"Creat quality check report\n",
    "    \n",
    "    Parameters\n",
    "    ----------\n",
    "    signal : array\n",
    "        PPG signal.\n",
    "    kind : str\n",
    "        The king of signal provided. Can be 'ppg' or 'ecg'.\n",
    "    file : str\n",
    "        Output filename.\n",
    "    dpi : int\n",
    "        Image quality.\n",
    "    \"\"\"\n",
    "    # Find peaks\n",
    "    signal, peaks = oxi_peaks(oxi)\n",
    "\n",
    "    # Artifacts removal\n",
    "    clean_peaks, per = artefact_correction(peaks)\n",
    "\n",
    "    # Extract instantaneous heartrate\n",
    "    sfreq = 1000\n",
    "    noisy_hr, time = heart_rate(peaks, sfreq=sfreq, unit='bpm', kind='cubic')\n",
    "    hr, time = heart_rate(clean_peaks, sfreq=sfreq, unit='bpm', kind='cubic')\n",
    "\n",
    "    time = np.arange(0, len(signal)/sfreq, 1/sfreq)\n",
    "    \n",
    "    fig = plt.figure(figsize=(8.27, 11.69))\n",
    "    gs = fig.add_gridspec(4, 3)\n",
    "    fig_ax1 = fig.add_subplot(gs[0, :])\n",
    "\n",
    "    fig_ax1.plot(time, signal, linewidth=.2)\n",
    "    fig_ax1.plot(time[np.where(clean_peaks)[0]], signal[np.where(clean_peaks)[0]], 'o')\n",
    "    fig_ax1.set_ylabel('PPG level')\n",
    "    fig_ax1.set_xlim(0, time[-1])\n",
    "    fig_ax1.set_title('Signal', fontweight='bold')\n",
    "\n",
    "    fig_ax2 = fig.add_subplot(gs[1, :])\n",
    "    fig_ax2.plot(time, noisy_hr, linewidth=.8, color='r')\n",
    "    fig_ax2.plot(time, hr, linewidth=.8, color='g')\n",
    "    fig_ax2.set_ylabel('BPM')\n",
    "    fig_ax2.set_xlabel('Time (s)')\n",
    "    fig_ax2.set_xlim(0, time[-1])\n",
    "    fig_ax2.set_title('RR time-course', fontweight='bold')\n",
    "    \n",
    "    # HRV\n",
    "    rr = np.diff(np.where(peaks)[0])\n",
    "    \n",
    "    fig_ax3 = fig.add_subplot(gs[2, 0])\n",
    "    fig_ax3.hist(rr, bins=30, alpha=.5)\n",
    "    fig_ax3.hist(rr[(rr<=400) | (rr>=1500)], bins=30, color='r')\n",
    "    fig_ax3.set_title('Distribution', fontweight='bold')\n",
    "    fig_ax3.set_ylabel('Count')\n",
    "    fig_ax3.set_xlabel('RR(s)')\n",
    "\n",
    "    fig_ax4 = fig.add_subplot(gs[2, 1])\n",
    "    hrv_psd(rr, show=True, ax=fig_ax4)\n",
    "\n",
    "    fig_ax5 = fig.add_subplot(gs[2, 2])\n",
    "    fig_ax5.plot(rr[:-1], rr[1:], 'o', color='gray')\n",
    "    fig_ax5.set_title('Pointcare Plot', fontweight='bold')\n",
    "    fig_ax5.set_ylabel('$RR_{n+1}$')\n",
    "    fig_ax5.set_xlabel('$RR_n$')\n",
    "    plt.tight_layout()\n",
    "    if file is not None:\n",
    "        plt.savefig(file, dpi=dpi)\n",
    "    plt.close()\n",
    "\n",
    "#create_report(oxi)"
   ]
  },
  {
   "cell_type": "code",
   "execution_count": 23,
   "metadata": {},
   "outputs": [
    {
     "name": "stdout",
     "output_type": "stream",
     "text": [
      "Start extracting data from subject11113\n",
      "Start extracting data from subject11114\n"
     ]
    },
    {
     "ename": "ValueError",
     "evalue": "A value in x_new is below the interpolation range.",
     "output_type": "error",
     "traceback": [
      "\u001b[1;31m---------------------------------------------------------------------------\u001b[0m",
      "\u001b[1;31mValueError\u001b[0m                                Traceback (most recent call last)",
      "\u001b[1;32m<ipython-input-23-ba1d5af974ea>\u001b[0m in \u001b[0;36m<module>\u001b[1;34m\u001b[0m\n\u001b[0;32m     20\u001b[0m                 \u001b[0mtriggers\u001b[0m \u001b[1;33m=\u001b[0m \u001b[0mnp\u001b[0m\u001b[1;33m.\u001b[0m\u001b[0mload\u001b[0m\u001b[1;33m(\u001b[0m\u001b[0mpath\u001b[0m \u001b[1;33m+\u001b[0m \u001b[0mnSub\u001b[0m \u001b[1;33m+\u001b[0m \u001b[1;34m'/'\u001b[0m \u001b[1;33m+\u001b[0m \u001b[0mnSub2\u001b[0m \u001b[1;33m+\u001b[0m \u001b[0mstr\u001b[0m\u001b[1;33m(\u001b[0m\u001b[0mint\u001b[0m\u001b[1;33m(\u001b[0m\u001b[0mbl\u001b[0m\u001b[1;33m)\u001b[0m\u001b[1;33m)\u001b[0m \u001b[1;33m+\u001b[0m \u001b[1;34m'.npy'\u001b[0m\u001b[1;33m,\u001b[0m \u001b[0mallow_pickle\u001b[0m\u001b[1;33m=\u001b[0m\u001b[1;32mTrue\u001b[0m\u001b[1;33m)\u001b[0m\u001b[1;33m[\u001b[0m\u001b[1;36m1\u001b[0m\u001b[1;33m]\u001b[0m\u001b[1;33m[\u001b[0m\u001b[1;33m:\u001b[0m\u001b[1;33m-\u001b[0m\u001b[1;36m1\u001b[0m\u001b[1;33m]\u001b[0m\u001b[1;33m\u001b[0m\u001b[1;33m\u001b[0m\u001b[0m\n\u001b[0;32m     21\u001b[0m \u001b[1;33m\u001b[0m\u001b[0m\n\u001b[1;32m---> 22\u001b[1;33m                 \u001b[0mcreate_report\u001b[0m\u001b[1;33m(\u001b[0m\u001b[0moxi\u001b[0m\u001b[1;33m,\u001b[0m \u001b[0mfile\u001b[0m\u001b[1;33m=\u001b[0m\u001b[0mpath\u001b[0m \u001b[1;33m+\u001b[0m \u001b[0mnSub\u001b[0m \u001b[1;33m+\u001b[0m \u001b[1;34m'/'\u001b[0m \u001b[1;33m+\u001b[0m \u001b[0mnSub2\u001b[0m \u001b[1;33m+\u001b[0m \u001b[0mstr\u001b[0m\u001b[1;33m(\u001b[0m\u001b[0mint\u001b[0m\u001b[1;33m(\u001b[0m\u001b[0mbl\u001b[0m\u001b[1;33m)\u001b[0m\u001b[1;33m)\u001b[0m \u001b[1;33m+\u001b[0m \u001b[0mval\u001b[0m \u001b[1;33m+\u001b[0m \u001b[0maro\u001b[0m \u001b[1;33m+\u001b[0m \u001b[0mstr\u001b[0m\u001b[1;33m(\u001b[0m\u001b[0mlearningTime\u001b[0m\u001b[1;33m)\u001b[0m \u001b[1;33m+\u001b[0m \u001b[1;34m'.png'\u001b[0m\u001b[1;33m,\u001b[0m \u001b[0mdpi\u001b[0m\u001b[1;33m=\u001b[0m\u001b[1;36m300\u001b[0m\u001b[1;33m)\u001b[0m\u001b[1;33m\u001b[0m\u001b[1;33m\u001b[0m\u001b[0m\n\u001b[0m\u001b[0;32m     23\u001b[0m \u001b[1;33m\u001b[0m\u001b[0m\n\u001b[0;32m     24\u001b[0m                 \u001b[1;31m## Find peaks\u001b[0m\u001b[1;33m\u001b[0m\u001b[1;33m\u001b[0m\u001b[1;33m\u001b[0m\u001b[0m\n",
      "\u001b[1;32m<ipython-input-22-a55c12f09731>\u001b[0m in \u001b[0;36mcreate_report\u001b[1;34m(oxi, kind, file, dpi)\u001b[0m\n\u001b[0;32m     18\u001b[0m     \"\"\"\n\u001b[0;32m     19\u001b[0m     \u001b[1;31m# Find peaks\u001b[0m\u001b[1;33m\u001b[0m\u001b[1;33m\u001b[0m\u001b[1;33m\u001b[0m\u001b[0m\n\u001b[1;32m---> 20\u001b[1;33m     \u001b[0msignal\u001b[0m\u001b[1;33m,\u001b[0m \u001b[0mpeaks\u001b[0m \u001b[1;33m=\u001b[0m \u001b[0moxi_peaks\u001b[0m\u001b[1;33m(\u001b[0m\u001b[0moxi\u001b[0m\u001b[1;33m)\u001b[0m\u001b[1;33m\u001b[0m\u001b[1;33m\u001b[0m\u001b[0m\n\u001b[0m\u001b[0;32m     21\u001b[0m \u001b[1;33m\u001b[0m\u001b[0m\n\u001b[0;32m     22\u001b[0m     \u001b[1;31m# Artifacts removal\u001b[0m\u001b[1;33m\u001b[0m\u001b[1;33m\u001b[0m\u001b[1;33m\u001b[0m\u001b[0m\n",
      "\u001b[1;32mC:\\ProgramData\\Anaconda3\\lib\\site-packages\\systole-0.0.1-py3.7.egg\\systole\\detection.py\u001b[0m in \u001b[0;36moxi_peaks\u001b[1;34m(x, sfreq, win, new_sfreq, clipping, noise_removal, peak_enhancement)\u001b[0m\n\u001b[0;32m     72\u001b[0m     \u001b[1;31m# Remove clipping artefacts with cubic interpolation\u001b[0m\u001b[1;33m\u001b[0m\u001b[1;33m\u001b[0m\u001b[1;33m\u001b[0m\u001b[0m\n\u001b[0;32m     73\u001b[0m     \u001b[1;32mif\u001b[0m \u001b[0mclipping\u001b[0m \u001b[1;32mis\u001b[0m \u001b[1;32mTrue\u001b[0m\u001b[1;33m:\u001b[0m\u001b[1;33m\u001b[0m\u001b[1;33m\u001b[0m\u001b[0m\n\u001b[1;32m---> 74\u001b[1;33m         \u001b[0mx\u001b[0m \u001b[1;33m=\u001b[0m \u001b[0minterpolate_clipping\u001b[0m\u001b[1;33m(\u001b[0m\u001b[0mx\u001b[0m\u001b[1;33m)\u001b[0m\u001b[1;33m\u001b[0m\u001b[1;33m\u001b[0m\u001b[0m\n\u001b[0m\u001b[0;32m     75\u001b[0m \u001b[1;33m\u001b[0m\u001b[0m\n\u001b[0;32m     76\u001b[0m     \u001b[1;32mif\u001b[0m \u001b[0mnoise_removal\u001b[0m \u001b[1;32mis\u001b[0m \u001b[1;32mTrue\u001b[0m\u001b[1;33m:\u001b[0m\u001b[1;33m\u001b[0m\u001b[1;33m\u001b[0m\u001b[0m\n",
      "\u001b[1;32mC:\\ProgramData\\Anaconda3\\lib\\site-packages\\systole-0.0.1-py3.7.egg\\systole\\detection.py\u001b[0m in \u001b[0;36minterpolate_clipping\u001b[1;34m(signal, threshold)\u001b[0m\n\u001b[0;32m    405\u001b[0m \u001b[1;33m\u001b[0m\u001b[0m\n\u001b[0;32m    406\u001b[0m     \u001b[1;31m# Use the peaks vector as time input\u001b[0m\u001b[1;33m\u001b[0m\u001b[1;33m\u001b[0m\u001b[1;33m\u001b[0m\u001b[0m\n\u001b[1;32m--> 407\u001b[1;33m     \u001b[0mclean_signal\u001b[0m \u001b[1;33m=\u001b[0m \u001b[0mf\u001b[0m\u001b[1;33m(\u001b[0m\u001b[0mtime\u001b[0m\u001b[1;33m)\u001b[0m\u001b[1;33m\u001b[0m\u001b[1;33m\u001b[0m\u001b[0m\n\u001b[0m\u001b[0;32m    408\u001b[0m \u001b[1;33m\u001b[0m\u001b[0m\n\u001b[0;32m    409\u001b[0m     \u001b[1;32mreturn\u001b[0m \u001b[0mclean_signal\u001b[0m\u001b[1;33m\u001b[0m\u001b[1;33m\u001b[0m\u001b[0m\n",
      "\u001b[1;32mC:\\ProgramData\\Anaconda3\\lib\\site-packages\\scipy\\interpolate\\polyint.py\u001b[0m in \u001b[0;36m__call__\u001b[1;34m(self, x)\u001b[0m\n\u001b[0;32m     77\u001b[0m         \"\"\"\n\u001b[0;32m     78\u001b[0m         \u001b[0mx\u001b[0m\u001b[1;33m,\u001b[0m \u001b[0mx_shape\u001b[0m \u001b[1;33m=\u001b[0m \u001b[0mself\u001b[0m\u001b[1;33m.\u001b[0m\u001b[0m_prepare_x\u001b[0m\u001b[1;33m(\u001b[0m\u001b[0mx\u001b[0m\u001b[1;33m)\u001b[0m\u001b[1;33m\u001b[0m\u001b[1;33m\u001b[0m\u001b[0m\n\u001b[1;32m---> 79\u001b[1;33m         \u001b[0my\u001b[0m \u001b[1;33m=\u001b[0m \u001b[0mself\u001b[0m\u001b[1;33m.\u001b[0m\u001b[0m_evaluate\u001b[0m\u001b[1;33m(\u001b[0m\u001b[0mx\u001b[0m\u001b[1;33m)\u001b[0m\u001b[1;33m\u001b[0m\u001b[1;33m\u001b[0m\u001b[0m\n\u001b[0m\u001b[0;32m     80\u001b[0m         \u001b[1;32mreturn\u001b[0m \u001b[0mself\u001b[0m\u001b[1;33m.\u001b[0m\u001b[0m_finish_y\u001b[0m\u001b[1;33m(\u001b[0m\u001b[0my\u001b[0m\u001b[1;33m,\u001b[0m \u001b[0mx_shape\u001b[0m\u001b[1;33m)\u001b[0m\u001b[1;33m\u001b[0m\u001b[1;33m\u001b[0m\u001b[0m\n\u001b[0;32m     81\u001b[0m \u001b[1;33m\u001b[0m\u001b[0m\n",
      "\u001b[1;32mC:\\ProgramData\\Anaconda3\\lib\\site-packages\\scipy\\interpolate\\interpolate.py\u001b[0m in \u001b[0;36m_evaluate\u001b[1;34m(self, x_new)\u001b[0m\n\u001b[0;32m    661\u001b[0m         \u001b[0my_new\u001b[0m \u001b[1;33m=\u001b[0m \u001b[0mself\u001b[0m\u001b[1;33m.\u001b[0m\u001b[0m_call\u001b[0m\u001b[1;33m(\u001b[0m\u001b[0mself\u001b[0m\u001b[1;33m,\u001b[0m \u001b[0mx_new\u001b[0m\u001b[1;33m)\u001b[0m\u001b[1;33m\u001b[0m\u001b[1;33m\u001b[0m\u001b[0m\n\u001b[0;32m    662\u001b[0m         \u001b[1;32mif\u001b[0m \u001b[1;32mnot\u001b[0m \u001b[0mself\u001b[0m\u001b[1;33m.\u001b[0m\u001b[0m_extrapolate\u001b[0m\u001b[1;33m:\u001b[0m\u001b[1;33m\u001b[0m\u001b[1;33m\u001b[0m\u001b[0m\n\u001b[1;32m--> 663\u001b[1;33m             \u001b[0mbelow_bounds\u001b[0m\u001b[1;33m,\u001b[0m \u001b[0mabove_bounds\u001b[0m \u001b[1;33m=\u001b[0m \u001b[0mself\u001b[0m\u001b[1;33m.\u001b[0m\u001b[0m_check_bounds\u001b[0m\u001b[1;33m(\u001b[0m\u001b[0mx_new\u001b[0m\u001b[1;33m)\u001b[0m\u001b[1;33m\u001b[0m\u001b[1;33m\u001b[0m\u001b[0m\n\u001b[0m\u001b[0;32m    664\u001b[0m             \u001b[1;32mif\u001b[0m \u001b[0mlen\u001b[0m\u001b[1;33m(\u001b[0m\u001b[0my_new\u001b[0m\u001b[1;33m)\u001b[0m \u001b[1;33m>\u001b[0m \u001b[1;36m0\u001b[0m\u001b[1;33m:\u001b[0m\u001b[1;33m\u001b[0m\u001b[1;33m\u001b[0m\u001b[0m\n\u001b[0;32m    665\u001b[0m                 \u001b[1;31m# Note fill_value must be broadcast up to the proper size\u001b[0m\u001b[1;33m\u001b[0m\u001b[1;33m\u001b[0m\u001b[1;33m\u001b[0m\u001b[0m\n",
      "\u001b[1;32mC:\\ProgramData\\Anaconda3\\lib\\site-packages\\scipy\\interpolate\\interpolate.py\u001b[0m in \u001b[0;36m_check_bounds\u001b[1;34m(self, x_new)\u001b[0m\n\u001b[0;32m    690\u001b[0m         \u001b[1;31m# !! Could provide more information about which values are out of bounds\u001b[0m\u001b[1;33m\u001b[0m\u001b[1;33m\u001b[0m\u001b[1;33m\u001b[0m\u001b[0m\n\u001b[0;32m    691\u001b[0m         \u001b[1;32mif\u001b[0m \u001b[0mself\u001b[0m\u001b[1;33m.\u001b[0m\u001b[0mbounds_error\u001b[0m \u001b[1;32mand\u001b[0m \u001b[0mbelow_bounds\u001b[0m\u001b[1;33m.\u001b[0m\u001b[0many\u001b[0m\u001b[1;33m(\u001b[0m\u001b[1;33m)\u001b[0m\u001b[1;33m:\u001b[0m\u001b[1;33m\u001b[0m\u001b[1;33m\u001b[0m\u001b[0m\n\u001b[1;32m--> 692\u001b[1;33m             raise ValueError(\"A value in x_new is below the interpolation \"\n\u001b[0m\u001b[0;32m    693\u001b[0m                              \"range.\")\n\u001b[0;32m    694\u001b[0m         \u001b[1;32mif\u001b[0m \u001b[0mself\u001b[0m\u001b[1;33m.\u001b[0m\u001b[0mbounds_error\u001b[0m \u001b[1;32mand\u001b[0m \u001b[0mabove_bounds\u001b[0m\u001b[1;33m.\u001b[0m\u001b[0many\u001b[0m\u001b[1;33m(\u001b[0m\u001b[1;33m)\u001b[0m\u001b[1;33m:\u001b[0m\u001b[1;33m\u001b[0m\u001b[1;33m\u001b[0m\u001b[0m\n",
      "\u001b[1;31mValueError\u001b[0m: A value in x_new is below the interpolation range."
     ]
    }
   ],
   "source": [
    "subjects = [f for f in os.listdir(path) if len(f) == 5]\n",
    "for nSub in subjects:\n",
    "    print('Start extracting data from subject' + str(nSub))\n",
    "    # Find files name\n",
    "    for file in os.listdir(path + nSub):\n",
    "        if file.endswith(\".txt\") & file.startswith('Subject'):\n",
    "            df = pd.read_csv(os.path.join(path + nSub, file))\n",
    "        elif file.endswith('9.npy'):\n",
    "            nSub2 = file[:len(file) - 5]\n",
    "\n",
    "    # Start loop\n",
    "    for val in ['Low', 'High']:\n",
    "        for aro in ['Low', 'High']:\n",
    "            for learningTime in [30, 60, 90]:\n",
    "\n",
    "                # Get block numbers\n",
    "                this_df = df.copy()[(df.Arousal == aro) & (df.Valence == val) & (df.LearningTime == learningTime)]\n",
    "                bl = this_df.nBlock.iloc[0]\n",
    "                oxi = np.load(path + nSub + '/' + nSub2 + str(int(bl)) + '.npy', allow_pickle=True)[0]\n",
    "                triggers = np.load(path + nSub + '/' + nSub2 + str(int(bl)) + '.npy', allow_pickle=True)[1][:-1]\n",
    "\n",
    "                create_report(oxi, file=path + nSub + '/' + nSub2 + str(int(bl)) + val + aro + str(learningTime) + '.png', dpi=300)\n",
    "                \n",
    "                ## Find peaks\n",
    "                #signal, peaks = oxi_peaks(oxi)\n",
    "                #\n",
    "                ## Artifacts removal\n",
    "                ##peaks, per = artefact_correction(peaks)\n",
    "\n",
    "                ## Extract instantaneous heartrate\n",
    "                #hr, time = heart_rate(peaks, sfreq=1000, unit='bpm', kind='cubic')\n",
    "                #\n",
    "                ## Downsample to 75 Hz\n",
    "                #f = interpolate.interp1d(time, hr)\n",
    "                #hr = f(np.arange(0, time[-1], 1/75))\n",
    "                #\n",
    "                #create_report(oxi)\n",
    "                #\n",
    "                ## Downsample hr vector\n",
    "                #hr = np.asarray(hr)\n",
    "                #hr = hr[:len(triggers)]\n",
    "\n",
    "                ## Save to new array\n",
    "                #new = np.vstack([hr, np.asarray(triggers)])\n",
    "                #np.save(path + nSub + '/' + nSub2 + str(int(bl)) + '-raw.npy', new)"
   ]
  },
  {
   "cell_type": "code",
   "execution_count": 69,
   "metadata": {},
   "outputs": [],
   "source": [
    "#'Subject_11129.txt',    'Subject_11141.txt',  'Subject_43336.txt',\n",
    "subjectFinal = ['Subject_11114.txt', 'Subject_11115.txt', 'Subject_11116.txt', 'Subject_11117.txt', 'Subject_11118.txt', 'Subject_11119.txt',\n",
    "'Subject_11120.txt', 'Subject_11121.txt', 'Subject_11122.txt', 'Subject_11123.txt', 'Subject_11125.txt', 'Subject_11126.txt',\n",
    "'Subject_11127.txt', 'Subject_11130.txt', 'Subject_11132.txt', 'Subject_11133.txt', 'Subject_11134.txt',\n",
    "'Subject_11135.txt', 'Subject_11136.txt', 'Subject_11137.txt', 'Subject_11139.txt', 'Subject_11140.txt',\n",
    "'Subject_11142.txt', 'Subject_47203.txt', 'Subject_47284.txt', 'Subject_47617.txt',\n",
    "'Subject_11114.txt', 'Subject_11115.txt', 'Subject_11116.txt', 'Subject_11117.txt', 'Subject_47617.txt']"
   ]
  },
  {
   "cell_type": "code",
   "execution_count": 4,
   "metadata": {
    "collapsed": true,
    "jupyter": {
     "outputs_hidden": true
    }
   },
   "outputs": [
    {
     "name": "stdout",
     "output_type": "stream",
     "text": [
      "1 trial(s) droped due to inconsistent recording\n"
     ]
    },
    {
     "name": "stderr",
     "output_type": "stream",
     "text": [
      "C:\\ProgramData\\Anaconda3\\lib\\site-packages\\pingouin-0.2.9-py3.7.egg\\pingouin\\nonparametric.py:144: RuntimeWarning: invalid value encountered in true_divide\n",
      "  return (np.fabs(a - np.median(a)) / mad(a)) > k\n",
      "C:\\ProgramData\\Anaconda3\\lib\\site-packages\\pingouin-0.2.9-py3.7.egg\\pingouin\\nonparametric.py:144: RuntimeWarning: invalid value encountered in greater\n",
      "  return (np.fabs(a - np.median(a)) / mad(a)) > k\n"
     ]
    },
    {
     "name": "stdout",
     "output_type": "stream",
     "text": [
      "1 trial(s) droped due to inconsistent recording\n",
      "1 trial(s) droped due to inconsistent recording\n"
     ]
    },
    {
     "name": "stderr",
     "output_type": "stream",
     "text": [
      "C:\\ProgramData\\Anaconda3\\lib\\site-packages\\pingouin-0.2.9-py3.7.egg\\pingouin\\nonparametric.py:144: RuntimeWarning: invalid value encountered in true_divide\n",
      "  return (np.fabs(a - np.median(a)) / mad(a)) > k\n",
      "C:\\ProgramData\\Anaconda3\\lib\\site-packages\\pingouin-0.2.9-py3.7.egg\\pingouin\\nonparametric.py:144: RuntimeWarning: invalid value encountered in greater\n",
      "  return (np.fabs(a - np.median(a)) / mad(a)) > k\n",
      "C:\\ProgramData\\Anaconda3\\lib\\site-packages\\pingouin-0.2.9-py3.7.egg\\pingouin\\nonparametric.py:144: RuntimeWarning: invalid value encountered in true_divide\n",
      "  return (np.fabs(a - np.median(a)) / mad(a)) > k\n",
      "C:\\ProgramData\\Anaconda3\\lib\\site-packages\\pingouin-0.2.9-py3.7.egg\\pingouin\\nonparametric.py:144: RuntimeWarning: invalid value encountered in greater\n",
      "  return (np.fabs(a - np.median(a)) / mad(a)) > k\n"
     ]
    },
    {
     "name": "stdout",
     "output_type": "stream",
     "text": [
      "1 trial(s) droped due to inconsistent recording\n",
      "1 trial(s) droped due to inconsistent recording\n"
     ]
    },
    {
     "name": "stderr",
     "output_type": "stream",
     "text": [
      "C:\\ProgramData\\Anaconda3\\lib\\site-packages\\pingouin-0.2.9-py3.7.egg\\pingouin\\nonparametric.py:144: RuntimeWarning: invalid value encountered in true_divide\n",
      "  return (np.fabs(a - np.median(a)) / mad(a)) > k\n",
      "C:\\ProgramData\\Anaconda3\\lib\\site-packages\\pingouin-0.2.9-py3.7.egg\\pingouin\\nonparametric.py:144: RuntimeWarning: invalid value encountered in greater\n",
      "  return (np.fabs(a - np.median(a)) / mad(a)) > k\n",
      "C:\\ProgramData\\Anaconda3\\lib\\site-packages\\pingouin-0.2.9-py3.7.egg\\pingouin\\nonparametric.py:144: RuntimeWarning: invalid value encountered in true_divide\n",
      "  return (np.fabs(a - np.median(a)) / mad(a)) > k\n",
      "C:\\ProgramData\\Anaconda3\\lib\\site-packages\\pingouin-0.2.9-py3.7.egg\\pingouin\\nonparametric.py:144: RuntimeWarning: invalid value encountered in greater\n",
      "  return (np.fabs(a - np.median(a)) / mad(a)) > k\n"
     ]
    },
    {
     "name": "stdout",
     "output_type": "stream",
     "text": [
      "1 trial(s) droped due to inconsistent recording\n",
      "1 trial(s) droped due to inconsistent recording\n"
     ]
    },
    {
     "name": "stderr",
     "output_type": "stream",
     "text": [
      "C:\\ProgramData\\Anaconda3\\lib\\site-packages\\pingouin-0.2.9-py3.7.egg\\pingouin\\nonparametric.py:144: RuntimeWarning: invalid value encountered in true_divide\n",
      "  return (np.fabs(a - np.median(a)) / mad(a)) > k\n",
      "C:\\ProgramData\\Anaconda3\\lib\\site-packages\\pingouin-0.2.9-py3.7.egg\\pingouin\\nonparametric.py:144: RuntimeWarning: invalid value encountered in greater\n",
      "  return (np.fabs(a - np.median(a)) / mad(a)) > k\n",
      "C:\\ProgramData\\Anaconda3\\lib\\site-packages\\pingouin-0.2.9-py3.7.egg\\pingouin\\nonparametric.py:144: RuntimeWarning: invalid value encountered in true_divide\n",
      "  return (np.fabs(a - np.median(a)) / mad(a)) > k\n",
      "C:\\ProgramData\\Anaconda3\\lib\\site-packages\\pingouin-0.2.9-py3.7.egg\\pingouin\\nonparametric.py:144: RuntimeWarning: invalid value encountered in greater\n",
      "  return (np.fabs(a - np.median(a)) / mad(a)) > k\n"
     ]
    },
    {
     "name": "stdout",
     "output_type": "stream",
     "text": [
      "1 trial(s) droped due to inconsistent recording\n",
      "1 trial(s) droped due to inconsistent recording\n"
     ]
    },
    {
     "name": "stderr",
     "output_type": "stream",
     "text": [
      "C:\\ProgramData\\Anaconda3\\lib\\site-packages\\pingouin-0.2.9-py3.7.egg\\pingouin\\nonparametric.py:144: RuntimeWarning: invalid value encountered in true_divide\n",
      "  return (np.fabs(a - np.median(a)) / mad(a)) > k\n",
      "C:\\ProgramData\\Anaconda3\\lib\\site-packages\\pingouin-0.2.9-py3.7.egg\\pingouin\\nonparametric.py:144: RuntimeWarning: invalid value encountered in greater\n",
      "  return (np.fabs(a - np.median(a)) / mad(a)) > k\n",
      "C:\\ProgramData\\Anaconda3\\lib\\site-packages\\pingouin-0.2.9-py3.7.egg\\pingouin\\nonparametric.py:144: RuntimeWarning: invalid value encountered in true_divide\n",
      "  return (np.fabs(a - np.median(a)) / mad(a)) > k\n",
      "C:\\ProgramData\\Anaconda3\\lib\\site-packages\\pingouin-0.2.9-py3.7.egg\\pingouin\\nonparametric.py:144: RuntimeWarning: invalid value encountered in greater\n",
      "  return (np.fabs(a - np.median(a)) / mad(a)) > k\n"
     ]
    },
    {
     "name": "stdout",
     "output_type": "stream",
     "text": [
      "1 trial(s) droped due to inconsistent recording\n",
      "1 trial(s) droped due to inconsistent recording\n"
     ]
    },
    {
     "name": "stderr",
     "output_type": "stream",
     "text": [
      "C:\\ProgramData\\Anaconda3\\lib\\site-packages\\pingouin-0.2.9-py3.7.egg\\pingouin\\nonparametric.py:144: RuntimeWarning: invalid value encountered in true_divide\n",
      "  return (np.fabs(a - np.median(a)) / mad(a)) > k\n",
      "C:\\ProgramData\\Anaconda3\\lib\\site-packages\\pingouin-0.2.9-py3.7.egg\\pingouin\\nonparametric.py:144: RuntimeWarning: invalid value encountered in greater\n",
      "  return (np.fabs(a - np.median(a)) / mad(a)) > k\n",
      "C:\\ProgramData\\Anaconda3\\lib\\site-packages\\pingouin-0.2.9-py3.7.egg\\pingouin\\nonparametric.py:144: RuntimeWarning: invalid value encountered in true_divide\n",
      "  return (np.fabs(a - np.median(a)) / mad(a)) > k\n",
      "C:\\ProgramData\\Anaconda3\\lib\\site-packages\\pingouin-0.2.9-py3.7.egg\\pingouin\\nonparametric.py:144: RuntimeWarning: invalid value encountered in greater\n",
      "  return (np.fabs(a - np.median(a)) / mad(a)) > k\n"
     ]
    },
    {
     "name": "stdout",
     "output_type": "stream",
     "text": [
      "1 trial(s) droped due to inconsistent recording\n"
     ]
    },
    {
     "name": "stderr",
     "output_type": "stream",
     "text": [
      "C:\\ProgramData\\Anaconda3\\lib\\site-packages\\pingouin-0.2.9-py3.7.egg\\pingouin\\nonparametric.py:144: RuntimeWarning: invalid value encountered in true_divide\n",
      "  return (np.fabs(a - np.median(a)) / mad(a)) > k\n",
      "C:\\ProgramData\\Anaconda3\\lib\\site-packages\\pingouin-0.2.9-py3.7.egg\\pingouin\\nonparametric.py:144: RuntimeWarning: invalid value encountered in greater\n",
      "  return (np.fabs(a - np.median(a)) / mad(a)) > k\n"
     ]
    },
    {
     "name": "stdout",
     "output_type": "stream",
     "text": [
      "1 trial(s) droped due to inconsistent recording\n",
      "1 trial(s) droped due to inconsistent recording\n"
     ]
    },
    {
     "name": "stderr",
     "output_type": "stream",
     "text": [
      "C:\\ProgramData\\Anaconda3\\lib\\site-packages\\pingouin-0.2.9-py3.7.egg\\pingouin\\nonparametric.py:144: RuntimeWarning: invalid value encountered in true_divide\n",
      "  return (np.fabs(a - np.median(a)) / mad(a)) > k\n",
      "C:\\ProgramData\\Anaconda3\\lib\\site-packages\\pingouin-0.2.9-py3.7.egg\\pingouin\\nonparametric.py:144: RuntimeWarning: invalid value encountered in greater\n",
      "  return (np.fabs(a - np.median(a)) / mad(a)) > k\n",
      "C:\\ProgramData\\Anaconda3\\lib\\site-packages\\pingouin-0.2.9-py3.7.egg\\pingouin\\nonparametric.py:144: RuntimeWarning: invalid value encountered in true_divide\n",
      "  return (np.fabs(a - np.median(a)) / mad(a)) > k\n",
      "C:\\ProgramData\\Anaconda3\\lib\\site-packages\\pingouin-0.2.9-py3.7.egg\\pingouin\\nonparametric.py:144: RuntimeWarning: invalid value encountered in greater\n",
      "  return (np.fabs(a - np.median(a)) / mad(a)) > k\n"
     ]
    },
    {
     "name": "stdout",
     "output_type": "stream",
     "text": [
      "1 trial(s) droped due to inconsistent recording\n",
      "1 trial(s) droped due to inconsistent recording\n"
     ]
    },
    {
     "name": "stderr",
     "output_type": "stream",
     "text": [
      "C:\\ProgramData\\Anaconda3\\lib\\site-packages\\pingouin-0.2.9-py3.7.egg\\pingouin\\nonparametric.py:144: RuntimeWarning: invalid value encountered in true_divide\n",
      "  return (np.fabs(a - np.median(a)) / mad(a)) > k\n",
      "C:\\ProgramData\\Anaconda3\\lib\\site-packages\\pingouin-0.2.9-py3.7.egg\\pingouin\\nonparametric.py:144: RuntimeWarning: invalid value encountered in greater\n",
      "  return (np.fabs(a - np.median(a)) / mad(a)) > k\n",
      "C:\\ProgramData\\Anaconda3\\lib\\site-packages\\pingouin-0.2.9-py3.7.egg\\pingouin\\nonparametric.py:144: RuntimeWarning: invalid value encountered in true_divide\n",
      "  return (np.fabs(a - np.median(a)) / mad(a)) > k\n",
      "C:\\ProgramData\\Anaconda3\\lib\\site-packages\\pingouin-0.2.9-py3.7.egg\\pingouin\\nonparametric.py:144: RuntimeWarning: invalid value encountered in greater\n",
      "  return (np.fabs(a - np.median(a)) / mad(a)) > k\n"
     ]
    },
    {
     "name": "stdout",
     "output_type": "stream",
     "text": [
      "1 trial(s) droped due to inconsistent recording\n",
      "1 trial(s) droped due to inconsistent recording\n"
     ]
    },
    {
     "name": "stderr",
     "output_type": "stream",
     "text": [
      "C:\\ProgramData\\Anaconda3\\lib\\site-packages\\pingouin-0.2.9-py3.7.egg\\pingouin\\nonparametric.py:144: RuntimeWarning: invalid value encountered in true_divide\n",
      "  return (np.fabs(a - np.median(a)) / mad(a)) > k\n",
      "C:\\ProgramData\\Anaconda3\\lib\\site-packages\\pingouin-0.2.9-py3.7.egg\\pingouin\\nonparametric.py:144: RuntimeWarning: invalid value encountered in greater\n",
      "  return (np.fabs(a - np.median(a)) / mad(a)) > k\n",
      "C:\\ProgramData\\Anaconda3\\lib\\site-packages\\pingouin-0.2.9-py3.7.egg\\pingouin\\nonparametric.py:144: RuntimeWarning: invalid value encountered in true_divide\n",
      "  return (np.fabs(a - np.median(a)) / mad(a)) > k\n",
      "C:\\ProgramData\\Anaconda3\\lib\\site-packages\\pingouin-0.2.9-py3.7.egg\\pingouin\\nonparametric.py:144: RuntimeWarning: invalid value encountered in greater\n",
      "  return (np.fabs(a - np.median(a)) / mad(a)) > k\n"
     ]
    },
    {
     "name": "stdout",
     "output_type": "stream",
     "text": [
      "1 trial(s) droped due to inconsistent recording\n",
      "1 trial(s) droped due to inconsistent recording\n"
     ]
    },
    {
     "name": "stderr",
     "output_type": "stream",
     "text": [
      "C:\\ProgramData\\Anaconda3\\lib\\site-packages\\pingouin-0.2.9-py3.7.egg\\pingouin\\nonparametric.py:144: RuntimeWarning: invalid value encountered in true_divide\n",
      "  return (np.fabs(a - np.median(a)) / mad(a)) > k\n",
      "C:\\ProgramData\\Anaconda3\\lib\\site-packages\\pingouin-0.2.9-py3.7.egg\\pingouin\\nonparametric.py:144: RuntimeWarning: invalid value encountered in greater\n",
      "  return (np.fabs(a - np.median(a)) / mad(a)) > k\n",
      "C:\\ProgramData\\Anaconda3\\lib\\site-packages\\pingouin-0.2.9-py3.7.egg\\pingouin\\nonparametric.py:144: RuntimeWarning: invalid value encountered in true_divide\n",
      "  return (np.fabs(a - np.median(a)) / mad(a)) > k\n",
      "C:\\ProgramData\\Anaconda3\\lib\\site-packages\\pingouin-0.2.9-py3.7.egg\\pingouin\\nonparametric.py:144: RuntimeWarning: invalid value encountered in greater\n",
      "  return (np.fabs(a - np.median(a)) / mad(a)) > k\n"
     ]
    },
    {
     "name": "stdout",
     "output_type": "stream",
     "text": [
      "1 trial(s) droped due to inconsistent recording\n",
      "1 trial(s) droped due to inconsistent recording\n"
     ]
    },
    {
     "name": "stderr",
     "output_type": "stream",
     "text": [
      "C:\\ProgramData\\Anaconda3\\lib\\site-packages\\pingouin-0.2.9-py3.7.egg\\pingouin\\nonparametric.py:144: RuntimeWarning: invalid value encountered in true_divide\n",
      "  return (np.fabs(a - np.median(a)) / mad(a)) > k\n",
      "C:\\ProgramData\\Anaconda3\\lib\\site-packages\\pingouin-0.2.9-py3.7.egg\\pingouin\\nonparametric.py:144: RuntimeWarning: invalid value encountered in greater\n",
      "  return (np.fabs(a - np.median(a)) / mad(a)) > k\n",
      "C:\\ProgramData\\Anaconda3\\lib\\site-packages\\pingouin-0.2.9-py3.7.egg\\pingouin\\nonparametric.py:144: RuntimeWarning: invalid value encountered in true_divide\n",
      "  return (np.fabs(a - np.median(a)) / mad(a)) > k\n",
      "C:\\ProgramData\\Anaconda3\\lib\\site-packages\\pingouin-0.2.9-py3.7.egg\\pingouin\\nonparametric.py:144: RuntimeWarning: invalid value encountered in greater\n",
      "  return (np.fabs(a - np.median(a)) / mad(a)) > k\n"
     ]
    },
    {
     "name": "stdout",
     "output_type": "stream",
     "text": [
      "1 trial(s) droped due to inconsistent recording\n",
      "1 trial(s) droped due to inconsistent recording\n"
     ]
    },
    {
     "name": "stderr",
     "output_type": "stream",
     "text": [
      "C:\\ProgramData\\Anaconda3\\lib\\site-packages\\pingouin-0.2.9-py3.7.egg\\pingouin\\nonparametric.py:144: RuntimeWarning: invalid value encountered in true_divide\n",
      "  return (np.fabs(a - np.median(a)) / mad(a)) > k\n",
      "C:\\ProgramData\\Anaconda3\\lib\\site-packages\\pingouin-0.2.9-py3.7.egg\\pingouin\\nonparametric.py:144: RuntimeWarning: invalid value encountered in greater\n",
      "  return (np.fabs(a - np.median(a)) / mad(a)) > k\n",
      "C:\\ProgramData\\Anaconda3\\lib\\site-packages\\pingouin-0.2.9-py3.7.egg\\pingouin\\nonparametric.py:144: RuntimeWarning: invalid value encountered in true_divide\n",
      "  return (np.fabs(a - np.median(a)) / mad(a)) > k\n",
      "C:\\ProgramData\\Anaconda3\\lib\\site-packages\\pingouin-0.2.9-py3.7.egg\\pingouin\\nonparametric.py:144: RuntimeWarning: invalid value encountered in greater\n",
      "  return (np.fabs(a - np.median(a)) / mad(a)) > k\n"
     ]
    },
    {
     "name": "stdout",
     "output_type": "stream",
     "text": [
      "1 trial(s) droped due to inconsistent recording\n",
      "1 trial(s) droped due to inconsistent recording\n"
     ]
    },
    {
     "name": "stderr",
     "output_type": "stream",
     "text": [
      "C:\\ProgramData\\Anaconda3\\lib\\site-packages\\pingouin-0.2.9-py3.7.egg\\pingouin\\nonparametric.py:144: RuntimeWarning: invalid value encountered in true_divide\n",
      "  return (np.fabs(a - np.median(a)) / mad(a)) > k\n",
      "C:\\ProgramData\\Anaconda3\\lib\\site-packages\\pingouin-0.2.9-py3.7.egg\\pingouin\\nonparametric.py:144: RuntimeWarning: invalid value encountered in greater\n",
      "  return (np.fabs(a - np.median(a)) / mad(a)) > k\n",
      "C:\\ProgramData\\Anaconda3\\lib\\site-packages\\pingouin-0.2.9-py3.7.egg\\pingouin\\nonparametric.py:144: RuntimeWarning: invalid value encountered in true_divide\n",
      "  return (np.fabs(a - np.median(a)) / mad(a)) > k\n",
      "C:\\ProgramData\\Anaconda3\\lib\\site-packages\\pingouin-0.2.9-py3.7.egg\\pingouin\\nonparametric.py:144: RuntimeWarning: invalid value encountered in greater\n",
      "  return (np.fabs(a - np.median(a)) / mad(a)) > k\n"
     ]
    },
    {
     "name": "stdout",
     "output_type": "stream",
     "text": [
      "1 trial(s) droped due to inconsistent recording\n",
      "1 trial(s) droped due to inconsistent recording\n"
     ]
    },
    {
     "name": "stderr",
     "output_type": "stream",
     "text": [
      "C:\\ProgramData\\Anaconda3\\lib\\site-packages\\pingouin-0.2.9-py3.7.egg\\pingouin\\nonparametric.py:144: RuntimeWarning: invalid value encountered in true_divide\n",
      "  return (np.fabs(a - np.median(a)) / mad(a)) > k\n",
      "C:\\ProgramData\\Anaconda3\\lib\\site-packages\\pingouin-0.2.9-py3.7.egg\\pingouin\\nonparametric.py:144: RuntimeWarning: invalid value encountered in greater\n",
      "  return (np.fabs(a - np.median(a)) / mad(a)) > k\n",
      "C:\\ProgramData\\Anaconda3\\lib\\site-packages\\pingouin-0.2.9-py3.7.egg\\pingouin\\nonparametric.py:144: RuntimeWarning: invalid value encountered in true_divide\n",
      "  return (np.fabs(a - np.median(a)) / mad(a)) > k\n",
      "C:\\ProgramData\\Anaconda3\\lib\\site-packages\\pingouin-0.2.9-py3.7.egg\\pingouin\\nonparametric.py:144: RuntimeWarning: invalid value encountered in greater\n",
      "  return (np.fabs(a - np.median(a)) / mad(a)) > k\n"
     ]
    },
    {
     "name": "stdout",
     "output_type": "stream",
     "text": [
      "1 trial(s) droped due to inconsistent recording\n"
     ]
    },
    {
     "name": "stderr",
     "output_type": "stream",
     "text": [
      "C:\\ProgramData\\Anaconda3\\lib\\site-packages\\pingouin-0.2.9-py3.7.egg\\pingouin\\nonparametric.py:144: RuntimeWarning: invalid value encountered in true_divide\n",
      "  return (np.fabs(a - np.median(a)) / mad(a)) > k\n",
      "C:\\ProgramData\\Anaconda3\\lib\\site-packages\\pingouin-0.2.9-py3.7.egg\\pingouin\\nonparametric.py:144: RuntimeWarning: invalid value encountered in greater\n",
      "  return (np.fabs(a - np.median(a)) / mad(a)) > k\n"
     ]
    },
    {
     "name": "stdout",
     "output_type": "stream",
     "text": [
      "1 trial(s) droped due to inconsistent recording\n",
      "1 trial(s) droped due to inconsistent recording\n"
     ]
    },
    {
     "name": "stderr",
     "output_type": "stream",
     "text": [
      "C:\\ProgramData\\Anaconda3\\lib\\site-packages\\pingouin-0.2.9-py3.7.egg\\pingouin\\nonparametric.py:144: RuntimeWarning: invalid value encountered in true_divide\n",
      "  return (np.fabs(a - np.median(a)) / mad(a)) > k\n",
      "C:\\ProgramData\\Anaconda3\\lib\\site-packages\\pingouin-0.2.9-py3.7.egg\\pingouin\\nonparametric.py:144: RuntimeWarning: invalid value encountered in greater\n",
      "  return (np.fabs(a - np.median(a)) / mad(a)) > k\n",
      "C:\\ProgramData\\Anaconda3\\lib\\site-packages\\pingouin-0.2.9-py3.7.egg\\pingouin\\nonparametric.py:144: RuntimeWarning: invalid value encountered in true_divide\n",
      "  return (np.fabs(a - np.median(a)) / mad(a)) > k\n",
      "C:\\ProgramData\\Anaconda3\\lib\\site-packages\\pingouin-0.2.9-py3.7.egg\\pingouin\\nonparametric.py:144: RuntimeWarning: invalid value encountered in greater\n",
      "  return (np.fabs(a - np.median(a)) / mad(a)) > k\n"
     ]
    },
    {
     "name": "stdout",
     "output_type": "stream",
     "text": [
      "1 trial(s) droped due to inconsistent recording\n",
      "1 trial(s) droped due to inconsistent recording\n"
     ]
    },
    {
     "name": "stderr",
     "output_type": "stream",
     "text": [
      "C:\\ProgramData\\Anaconda3\\lib\\site-packages\\pingouin-0.2.9-py3.7.egg\\pingouin\\nonparametric.py:144: RuntimeWarning: invalid value encountered in true_divide\n",
      "  return (np.fabs(a - np.median(a)) / mad(a)) > k\n",
      "C:\\ProgramData\\Anaconda3\\lib\\site-packages\\pingouin-0.2.9-py3.7.egg\\pingouin\\nonparametric.py:144: RuntimeWarning: invalid value encountered in greater\n",
      "  return (np.fabs(a - np.median(a)) / mad(a)) > k\n",
      "C:\\ProgramData\\Anaconda3\\lib\\site-packages\\pingouin-0.2.9-py3.7.egg\\pingouin\\nonparametric.py:144: RuntimeWarning: invalid value encountered in true_divide\n",
      "  return (np.fabs(a - np.median(a)) / mad(a)) > k\n",
      "C:\\ProgramData\\Anaconda3\\lib\\site-packages\\pingouin-0.2.9-py3.7.egg\\pingouin\\nonparametric.py:144: RuntimeWarning: invalid value encountered in greater\n",
      "  return (np.fabs(a - np.median(a)) / mad(a)) > k\n"
     ]
    },
    {
     "name": "stdout",
     "output_type": "stream",
     "text": [
      "1 trial(s) droped due to inconsistent recording\n",
      "1 trial(s) droped due to inconsistent recording\n"
     ]
    },
    {
     "name": "stderr",
     "output_type": "stream",
     "text": [
      "C:\\ProgramData\\Anaconda3\\lib\\site-packages\\pingouin-0.2.9-py3.7.egg\\pingouin\\nonparametric.py:144: RuntimeWarning: invalid value encountered in true_divide\n",
      "  return (np.fabs(a - np.median(a)) / mad(a)) > k\n",
      "C:\\ProgramData\\Anaconda3\\lib\\site-packages\\pingouin-0.2.9-py3.7.egg\\pingouin\\nonparametric.py:144: RuntimeWarning: invalid value encountered in greater\n",
      "  return (np.fabs(a - np.median(a)) / mad(a)) > k\n",
      "C:\\ProgramData\\Anaconda3\\lib\\site-packages\\pingouin-0.2.9-py3.7.egg\\pingouin\\nonparametric.py:144: RuntimeWarning: invalid value encountered in true_divide\n",
      "  return (np.fabs(a - np.median(a)) / mad(a)) > k\n",
      "C:\\ProgramData\\Anaconda3\\lib\\site-packages\\pingouin-0.2.9-py3.7.egg\\pingouin\\nonparametric.py:144: RuntimeWarning: invalid value encountered in greater\n",
      "  return (np.fabs(a - np.median(a)) / mad(a)) > k\n"
     ]
    },
    {
     "name": "stdout",
     "output_type": "stream",
     "text": [
      "1 trial(s) droped due to inconsistent recording\n"
     ]
    },
    {
     "name": "stderr",
     "output_type": "stream",
     "text": [
      "C:\\ProgramData\\Anaconda3\\lib\\site-packages\\pingouin-0.2.9-py3.7.egg\\pingouin\\nonparametric.py:144: RuntimeWarning: invalid value encountered in true_divide\n",
      "  return (np.fabs(a - np.median(a)) / mad(a)) > k\n",
      "C:\\ProgramData\\Anaconda3\\lib\\site-packages\\pingouin-0.2.9-py3.7.egg\\pingouin\\nonparametric.py:144: RuntimeWarning: invalid value encountered in greater\n",
      "  return (np.fabs(a - np.median(a)) / mad(a)) > k\n"
     ]
    },
    {
     "name": "stdout",
     "output_type": "stream",
     "text": [
      "1 trial(s) droped due to inconsistent recording\n",
      "1 trial(s) droped due to inconsistent recording\n"
     ]
    },
    {
     "name": "stderr",
     "output_type": "stream",
     "text": [
      "C:\\ProgramData\\Anaconda3\\lib\\site-packages\\pingouin-0.2.9-py3.7.egg\\pingouin\\nonparametric.py:144: RuntimeWarning: invalid value encountered in true_divide\n",
      "  return (np.fabs(a - np.median(a)) / mad(a)) > k\n",
      "C:\\ProgramData\\Anaconda3\\lib\\site-packages\\pingouin-0.2.9-py3.7.egg\\pingouin\\nonparametric.py:144: RuntimeWarning: invalid value encountered in greater\n",
      "  return (np.fabs(a - np.median(a)) / mad(a)) > k\n",
      "C:\\ProgramData\\Anaconda3\\lib\\site-packages\\pingouin-0.2.9-py3.7.egg\\pingouin\\nonparametric.py:144: RuntimeWarning: invalid value encountered in true_divide\n",
      "  return (np.fabs(a - np.median(a)) / mad(a)) > k\n",
      "C:\\ProgramData\\Anaconda3\\lib\\site-packages\\pingouin-0.2.9-py3.7.egg\\pingouin\\nonparametric.py:144: RuntimeWarning: invalid value encountered in greater\n",
      "  return (np.fabs(a - np.median(a)) / mad(a)) > k\n"
     ]
    },
    {
     "name": "stdout",
     "output_type": "stream",
     "text": [
      "1 trial(s) droped due to inconsistent recording\n",
      "1 trial(s) droped due to inconsistent recording\n"
     ]
    },
    {
     "name": "stderr",
     "output_type": "stream",
     "text": [
      "C:\\ProgramData\\Anaconda3\\lib\\site-packages\\pingouin-0.2.9-py3.7.egg\\pingouin\\nonparametric.py:144: RuntimeWarning: invalid value encountered in true_divide\n",
      "  return (np.fabs(a - np.median(a)) / mad(a)) > k\n",
      "C:\\ProgramData\\Anaconda3\\lib\\site-packages\\pingouin-0.2.9-py3.7.egg\\pingouin\\nonparametric.py:144: RuntimeWarning: invalid value encountered in greater\n",
      "  return (np.fabs(a - np.median(a)) / mad(a)) > k\n",
      "C:\\ProgramData\\Anaconda3\\lib\\site-packages\\pingouin-0.2.9-py3.7.egg\\pingouin\\nonparametric.py:144: RuntimeWarning: invalid value encountered in true_divide\n",
      "  return (np.fabs(a - np.median(a)) / mad(a)) > k\n",
      "C:\\ProgramData\\Anaconda3\\lib\\site-packages\\pingouin-0.2.9-py3.7.egg\\pingouin\\nonparametric.py:144: RuntimeWarning: invalid value encountered in greater\n",
      "  return (np.fabs(a - np.median(a)) / mad(a)) > k\n"
     ]
    },
    {
     "name": "stdout",
     "output_type": "stream",
     "text": [
      "1 trial(s) droped due to inconsistent recording\n",
      "1 trial(s) droped due to inconsistent recording\n"
     ]
    },
    {
     "name": "stderr",
     "output_type": "stream",
     "text": [
      "C:\\ProgramData\\Anaconda3\\lib\\site-packages\\pingouin-0.2.9-py3.7.egg\\pingouin\\nonparametric.py:144: RuntimeWarning: invalid value encountered in true_divide\n",
      "  return (np.fabs(a - np.median(a)) / mad(a)) > k\n",
      "C:\\ProgramData\\Anaconda3\\lib\\site-packages\\pingouin-0.2.9-py3.7.egg\\pingouin\\nonparametric.py:144: RuntimeWarning: invalid value encountered in greater\n",
      "  return (np.fabs(a - np.median(a)) / mad(a)) > k\n",
      "C:\\ProgramData\\Anaconda3\\lib\\site-packages\\pingouin-0.2.9-py3.7.egg\\pingouin\\nonparametric.py:144: RuntimeWarning: invalid value encountered in true_divide\n",
      "  return (np.fabs(a - np.median(a)) / mad(a)) > k\n",
      "C:\\ProgramData\\Anaconda3\\lib\\site-packages\\pingouin-0.2.9-py3.7.egg\\pingouin\\nonparametric.py:144: RuntimeWarning: invalid value encountered in greater\n",
      "  return (np.fabs(a - np.median(a)) / mad(a)) > k\n",
      "C:\\ProgramData\\Anaconda3\\lib\\site-packages\\pingouin-0.2.9-py3.7.egg\\pingouin\\nonparametric.py:144: RuntimeWarning: invalid value encountered in true_divide\n",
      "  return (np.fabs(a - np.median(a)) / mad(a)) > k\n",
      "C:\\ProgramData\\Anaconda3\\lib\\site-packages\\pingouin-0.2.9-py3.7.egg\\pingouin\\nonparametric.py:144: RuntimeWarning: invalid value encountered in greater\n",
      "  return (np.fabs(a - np.median(a)) / mad(a)) > k\n"
     ]
    },
    {
     "name": "stdout",
     "output_type": "stream",
     "text": [
      "1 trial(s) droped due to inconsistent recording\n",
      "1 trial(s) droped due to inconsistent recording\n",
      "1 trial(s) droped due to inconsistent recording"
     ]
    },
    {
     "name": "stderr",
     "output_type": "stream",
     "text": [
      "C:\\ProgramData\\Anaconda3\\lib\\site-packages\\pingouin-0.2.9-py3.7.egg\\pingouin\\nonparametric.py:144: RuntimeWarning: invalid value encountered in true_divide\n",
      "  return (np.fabs(a - np.median(a)) / mad(a)) > k\n",
      "C:\\ProgramData\\Anaconda3\\lib\\site-packages\\pingouin-0.2.9-py3.7.egg\\pingouin\\nonparametric.py:144: RuntimeWarning: invalid value encountered in greater\n",
      "  return (np.fabs(a - np.median(a)) / mad(a)) > k\n",
      "C:\\ProgramData\\Anaconda3\\lib\\site-packages\\pingouin-0.2.9-py3.7.egg\\pingouin\\nonparametric.py:144: RuntimeWarning: invalid value encountered in true_divide\n",
      "  return (np.fabs(a - np.median(a)) / mad(a)) > k\n",
      "C:\\ProgramData\\Anaconda3\\lib\\site-packages\\pingouin-0.2.9-py3.7.egg\\pingouin\\nonparametric.py:144: RuntimeWarning: invalid value encountered in greater\n",
      "  return (np.fabs(a - np.median(a)) / mad(a)) > k\n"
     ]
    },
    {
     "name": "stdout",
     "output_type": "stream",
     "text": [
      "\n",
      "1 trial(s) droped due to inconsistent recording\n"
     ]
    },
    {
     "name": "stderr",
     "output_type": "stream",
     "text": [
      "C:\\ProgramData\\Anaconda3\\lib\\site-packages\\pingouin-0.2.9-py3.7.egg\\pingouin\\nonparametric.py:144: RuntimeWarning: invalid value encountered in true_divide\n",
      "  return (np.fabs(a - np.median(a)) / mad(a)) > k\n",
      "C:\\ProgramData\\Anaconda3\\lib\\site-packages\\pingouin-0.2.9-py3.7.egg\\pingouin\\nonparametric.py:144: RuntimeWarning: invalid value encountered in greater\n",
      "  return (np.fabs(a - np.median(a)) / mad(a)) > k\n",
      "C:\\ProgramData\\Anaconda3\\lib\\site-packages\\pingouin-0.2.9-py3.7.egg\\pingouin\\nonparametric.py:144: RuntimeWarning: invalid value encountered in true_divide\n",
      "  return (np.fabs(a - np.median(a)) / mad(a)) > k\n",
      "C:\\ProgramData\\Anaconda3\\lib\\site-packages\\pingouin-0.2.9-py3.7.egg\\pingouin\\nonparametric.py:144: RuntimeWarning: invalid value encountered in greater\n",
      "  return (np.fabs(a - np.median(a)) / mad(a)) > k\n"
     ]
    },
    {
     "name": "stdout",
     "output_type": "stream",
     "text": [
      "1 trial(s) droped due to inconsistent recording\n",
      "1 trial(s) droped due to inconsistent recording\n"
     ]
    },
    {
     "name": "stderr",
     "output_type": "stream",
     "text": [
      "C:\\ProgramData\\Anaconda3\\lib\\site-packages\\pingouin-0.2.9-py3.7.egg\\pingouin\\nonparametric.py:144: RuntimeWarning: invalid value encountered in true_divide\n",
      "  return (np.fabs(a - np.median(a)) / mad(a)) > k\n",
      "C:\\ProgramData\\Anaconda3\\lib\\site-packages\\pingouin-0.2.9-py3.7.egg\\pingouin\\nonparametric.py:144: RuntimeWarning: invalid value encountered in greater\n",
      "  return (np.fabs(a - np.median(a)) / mad(a)) > k\n"
     ]
    },
    {
     "name": "stdout",
     "output_type": "stream",
     "text": [
      "1 trial(s) droped due to inconsistent recording\n",
      "1 trial(s) droped due to inconsistent recording\n"
     ]
    },
    {
     "name": "stderr",
     "output_type": "stream",
     "text": [
      "C:\\ProgramData\\Anaconda3\\lib\\site-packages\\pingouin-0.2.9-py3.7.egg\\pingouin\\nonparametric.py:144: RuntimeWarning: invalid value encountered in true_divide\n",
      "  return (np.fabs(a - np.median(a)) / mad(a)) > k\n",
      "C:\\ProgramData\\Anaconda3\\lib\\site-packages\\pingouin-0.2.9-py3.7.egg\\pingouin\\nonparametric.py:144: RuntimeWarning: invalid value encountered in greater\n",
      "  return (np.fabs(a - np.median(a)) / mad(a)) > k\n",
      "C:\\ProgramData\\Anaconda3\\lib\\site-packages\\pingouin-0.2.9-py3.7.egg\\pingouin\\nonparametric.py:144: RuntimeWarning: invalid value encountered in true_divide\n",
      "  return (np.fabs(a - np.median(a)) / mad(a)) > k\n",
      "C:\\ProgramData\\Anaconda3\\lib\\site-packages\\pingouin-0.2.9-py3.7.egg\\pingouin\\nonparametric.py:144: RuntimeWarning: invalid value encountered in greater\n",
      "  return (np.fabs(a - np.median(a)) / mad(a)) > k\n"
     ]
    },
    {
     "name": "stdout",
     "output_type": "stream",
     "text": [
      "1 trial(s) droped due to inconsistent recording\n",
      "1 trial(s) droped due to inconsistent recording\n"
     ]
    },
    {
     "name": "stderr",
     "output_type": "stream",
     "text": [
      "C:\\ProgramData\\Anaconda3\\lib\\site-packages\\pingouin-0.2.9-py3.7.egg\\pingouin\\nonparametric.py:144: RuntimeWarning: invalid value encountered in true_divide\n",
      "  return (np.fabs(a - np.median(a)) / mad(a)) > k\n",
      "C:\\ProgramData\\Anaconda3\\lib\\site-packages\\pingouin-0.2.9-py3.7.egg\\pingouin\\nonparametric.py:144: RuntimeWarning: invalid value encountered in greater\n",
      "  return (np.fabs(a - np.median(a)) / mad(a)) > k\n",
      "C:\\ProgramData\\Anaconda3\\lib\\site-packages\\pingouin-0.2.9-py3.7.egg\\pingouin\\nonparametric.py:144: RuntimeWarning: invalid value encountered in true_divide\n",
      "  return (np.fabs(a - np.median(a)) / mad(a)) > k\n",
      "C:\\ProgramData\\Anaconda3\\lib\\site-packages\\pingouin-0.2.9-py3.7.egg\\pingouin\\nonparametric.py:144: RuntimeWarning: invalid value encountered in greater\n",
      "  return (np.fabs(a - np.median(a)) / mad(a)) > k\n"
     ]
    },
    {
     "name": "stdout",
     "output_type": "stream",
     "text": [
      "1 trial(s) droped due to inconsistent recording\n",
      "1 trial(s) droped due to inconsistent recording\n"
     ]
    },
    {
     "name": "stderr",
     "output_type": "stream",
     "text": [
      "C:\\ProgramData\\Anaconda3\\lib\\site-packages\\pingouin-0.2.9-py3.7.egg\\pingouin\\nonparametric.py:144: RuntimeWarning: invalid value encountered in true_divide\n",
      "  return (np.fabs(a - np.median(a)) / mad(a)) > k\n",
      "C:\\ProgramData\\Anaconda3\\lib\\site-packages\\pingouin-0.2.9-py3.7.egg\\pingouin\\nonparametric.py:144: RuntimeWarning: invalid value encountered in greater\n",
      "  return (np.fabs(a - np.median(a)) / mad(a)) > k\n",
      "C:\\ProgramData\\Anaconda3\\lib\\site-packages\\pingouin-0.2.9-py3.7.egg\\pingouin\\nonparametric.py:144: RuntimeWarning: invalid value encountered in true_divide\n",
      "  return (np.fabs(a - np.median(a)) / mad(a)) > k\n",
      "C:\\ProgramData\\Anaconda3\\lib\\site-packages\\pingouin-0.2.9-py3.7.egg\\pingouin\\nonparametric.py:144: RuntimeWarning: invalid value encountered in greater\n",
      "  return (np.fabs(a - np.median(a)) / mad(a)) > k\n"
     ]
    },
    {
     "name": "stdout",
     "output_type": "stream",
     "text": [
      "1 trial(s) droped due to inconsistent recording\n",
      "1 trial(s) droped due to inconsistent recording"
     ]
    },
    {
     "name": "stderr",
     "output_type": "stream",
     "text": [
      "C:\\ProgramData\\Anaconda3\\lib\\site-packages\\pingouin-0.2.9-py3.7.egg\\pingouin\\nonparametric.py:144: RuntimeWarning: invalid value encountered in true_divide\n",
      "  return (np.fabs(a - np.median(a)) / mad(a)) > k\n",
      "C:\\ProgramData\\Anaconda3\\lib\\site-packages\\pingouin-0.2.9-py3.7.egg\\pingouin\\nonparametric.py:144: RuntimeWarning: invalid value encountered in greater\n",
      "  return (np.fabs(a - np.median(a)) / mad(a)) > k\n"
     ]
    },
    {
     "name": "stdout",
     "output_type": "stream",
     "text": [
      "\n",
      "1 trial(s) droped due to inconsistent recording\n"
     ]
    },
    {
     "name": "stderr",
     "output_type": "stream",
     "text": [
      "C:\\ProgramData\\Anaconda3\\lib\\site-packages\\pingouin-0.2.9-py3.7.egg\\pingouin\\nonparametric.py:144: RuntimeWarning: invalid value encountered in true_divide\n",
      "  return (np.fabs(a - np.median(a)) / mad(a)) > k\n",
      "C:\\ProgramData\\Anaconda3\\lib\\site-packages\\pingouin-0.2.9-py3.7.egg\\pingouin\\nonparametric.py:144: RuntimeWarning: invalid value encountered in greater\n",
      "  return (np.fabs(a - np.median(a)) / mad(a)) > k\n",
      "C:\\ProgramData\\Anaconda3\\lib\\site-packages\\pingouin-0.2.9-py3.7.egg\\pingouin\\nonparametric.py:144: RuntimeWarning: invalid value encountered in true_divide\n",
      "  return (np.fabs(a - np.median(a)) / mad(a)) > k\n",
      "C:\\ProgramData\\Anaconda3\\lib\\site-packages\\pingouin-0.2.9-py3.7.egg\\pingouin\\nonparametric.py:144: RuntimeWarning: invalid value encountered in greater\n",
      "  return (np.fabs(a - np.median(a)) / mad(a)) > k\n"
     ]
    },
    {
     "name": "stdout",
     "output_type": "stream",
     "text": [
      "1 trial(s) droped due to inconsistent recording\n"
     ]
    },
    {
     "name": "stderr",
     "output_type": "stream",
     "text": [
      "C:\\ProgramData\\Anaconda3\\lib\\site-packages\\pingouin-0.2.9-py3.7.egg\\pingouin\\nonparametric.py:144: RuntimeWarning: invalid value encountered in true_divide\n",
      "  return (np.fabs(a - np.median(a)) / mad(a)) > k\n",
      "C:\\ProgramData\\Anaconda3\\lib\\site-packages\\pingouin-0.2.9-py3.7.egg\\pingouin\\nonparametric.py:144: RuntimeWarning: invalid value encountered in greater\n",
      "  return (np.fabs(a - np.median(a)) / mad(a)) > k\n"
     ]
    },
    {
     "name": "stdout",
     "output_type": "stream",
     "text": [
      "1 trial(s) droped due to inconsistent recording\n"
     ]
    },
    {
     "name": "stderr",
     "output_type": "stream",
     "text": [
      "C:\\ProgramData\\Anaconda3\\lib\\site-packages\\pingouin-0.2.9-py3.7.egg\\pingouin\\nonparametric.py:144: RuntimeWarning: invalid value encountered in true_divide\n",
      "  return (np.fabs(a - np.median(a)) / mad(a)) > k\n",
      "C:\\ProgramData\\Anaconda3\\lib\\site-packages\\pingouin-0.2.9-py3.7.egg\\pingouin\\nonparametric.py:144: RuntimeWarning: invalid value encountered in greater\n",
      "  return (np.fabs(a - np.median(a)) / mad(a)) > k\n"
     ]
    },
    {
     "name": "stdout",
     "output_type": "stream",
     "text": [
      "1 trial(s) droped due to inconsistent recording\n"
     ]
    },
    {
     "name": "stderr",
     "output_type": "stream",
     "text": [
      "C:\\ProgramData\\Anaconda3\\lib\\site-packages\\pingouin-0.2.9-py3.7.egg\\pingouin\\nonparametric.py:144: RuntimeWarning: invalid value encountered in true_divide\n",
      "  return (np.fabs(a - np.median(a)) / mad(a)) > k\n",
      "C:\\ProgramData\\Anaconda3\\lib\\site-packages\\pingouin-0.2.9-py3.7.egg\\pingouin\\nonparametric.py:144: RuntimeWarning: invalid value encountered in greater\n",
      "  return (np.fabs(a - np.median(a)) / mad(a)) > k\n"
     ]
    },
    {
     "name": "stdout",
     "output_type": "stream",
     "text": [
      "1 trial(s) droped due to inconsistent recording\n",
      "1 trial(s) droped due to inconsistent recording\n"
     ]
    },
    {
     "name": "stderr",
     "output_type": "stream",
     "text": [
      "C:\\ProgramData\\Anaconda3\\lib\\site-packages\\pingouin-0.2.9-py3.7.egg\\pingouin\\nonparametric.py:144: RuntimeWarning: invalid value encountered in true_divide\n",
      "  return (np.fabs(a - np.median(a)) / mad(a)) > k\n",
      "C:\\ProgramData\\Anaconda3\\lib\\site-packages\\pingouin-0.2.9-py3.7.egg\\pingouin\\nonparametric.py:144: RuntimeWarning: invalid value encountered in greater\n",
      "  return (np.fabs(a - np.median(a)) / mad(a)) > k\n",
      "C:\\ProgramData\\Anaconda3\\lib\\site-packages\\pingouin-0.2.9-py3.7.egg\\pingouin\\nonparametric.py:144: RuntimeWarning: invalid value encountered in true_divide\n",
      "  return (np.fabs(a - np.median(a)) / mad(a)) > k\n",
      "C:\\ProgramData\\Anaconda3\\lib\\site-packages\\pingouin-0.2.9-py3.7.egg\\pingouin\\nonparametric.py:144: RuntimeWarning: invalid value encountered in greater\n",
      "  return (np.fabs(a - np.median(a)) / mad(a)) > k\n"
     ]
    },
    {
     "name": "stdout",
     "output_type": "stream",
     "text": [
      "1 trial(s) droped due to inconsistent recording\n",
      "1 trial(s) droped due to inconsistent recording\n"
     ]
    },
    {
     "name": "stderr",
     "output_type": "stream",
     "text": [
      "C:\\ProgramData\\Anaconda3\\lib\\site-packages\\pingouin-0.2.9-py3.7.egg\\pingouin\\nonparametric.py:144: RuntimeWarning: invalid value encountered in true_divide\n",
      "  return (np.fabs(a - np.median(a)) / mad(a)) > k\n",
      "C:\\ProgramData\\Anaconda3\\lib\\site-packages\\pingouin-0.2.9-py3.7.egg\\pingouin\\nonparametric.py:144: RuntimeWarning: invalid value encountered in greater\n",
      "  return (np.fabs(a - np.median(a)) / mad(a)) > k\n",
      "C:\\ProgramData\\Anaconda3\\lib\\site-packages\\pingouin-0.2.9-py3.7.egg\\pingouin\\nonparametric.py:144: RuntimeWarning: invalid value encountered in true_divide\n",
      "  return (np.fabs(a - np.median(a)) / mad(a)) > k\n",
      "C:\\ProgramData\\Anaconda3\\lib\\site-packages\\pingouin-0.2.9-py3.7.egg\\pingouin\\nonparametric.py:144: RuntimeWarning: invalid value encountered in greater\n",
      "  return (np.fabs(a - np.median(a)) / mad(a)) > k\n"
     ]
    },
    {
     "name": "stdout",
     "output_type": "stream",
     "text": [
      "1 trial(s) droped due to inconsistent recording\n",
      "1 trial(s) droped due to inconsistent recording\n"
     ]
    },
    {
     "name": "stderr",
     "output_type": "stream",
     "text": [
      "C:\\ProgramData\\Anaconda3\\lib\\site-packages\\pingouin-0.2.9-py3.7.egg\\pingouin\\nonparametric.py:144: RuntimeWarning: invalid value encountered in true_divide\n",
      "  return (np.fabs(a - np.median(a)) / mad(a)) > k\n",
      "C:\\ProgramData\\Anaconda3\\lib\\site-packages\\pingouin-0.2.9-py3.7.egg\\pingouin\\nonparametric.py:144: RuntimeWarning: invalid value encountered in greater\n",
      "  return (np.fabs(a - np.median(a)) / mad(a)) > k\n",
      "C:\\ProgramData\\Anaconda3\\lib\\site-packages\\pingouin-0.2.9-py3.7.egg\\pingouin\\nonparametric.py:144: RuntimeWarning: invalid value encountered in true_divide\n",
      "  return (np.fabs(a - np.median(a)) / mad(a)) > k\n",
      "C:\\ProgramData\\Anaconda3\\lib\\site-packages\\pingouin-0.2.9-py3.7.egg\\pingouin\\nonparametric.py:144: RuntimeWarning: invalid value encountered in greater\n",
      "  return (np.fabs(a - np.median(a)) / mad(a)) > k\n"
     ]
    },
    {
     "name": "stdout",
     "output_type": "stream",
     "text": [
      "1 trial(s) droped due to inconsistent recording\n",
      "1 trial(s) droped due to inconsistent recording\n"
     ]
    },
    {
     "name": "stderr",
     "output_type": "stream",
     "text": [
      "C:\\ProgramData\\Anaconda3\\lib\\site-packages\\pingouin-0.2.9-py3.7.egg\\pingouin\\nonparametric.py:144: RuntimeWarning: invalid value encountered in true_divide\n",
      "  return (np.fabs(a - np.median(a)) / mad(a)) > k\n",
      "C:\\ProgramData\\Anaconda3\\lib\\site-packages\\pingouin-0.2.9-py3.7.egg\\pingouin\\nonparametric.py:144: RuntimeWarning: invalid value encountered in greater\n",
      "  return (np.fabs(a - np.median(a)) / mad(a)) > k\n",
      "C:\\ProgramData\\Anaconda3\\lib\\site-packages\\pingouin-0.2.9-py3.7.egg\\pingouin\\nonparametric.py:144: RuntimeWarning: invalid value encountered in true_divide\n",
      "  return (np.fabs(a - np.median(a)) / mad(a)) > k\n",
      "C:\\ProgramData\\Anaconda3\\lib\\site-packages\\pingouin-0.2.9-py3.7.egg\\pingouin\\nonparametric.py:144: RuntimeWarning: invalid value encountered in greater\n",
      "  return (np.fabs(a - np.median(a)) / mad(a)) > k\n"
     ]
    },
    {
     "name": "stdout",
     "output_type": "stream",
     "text": [
      "1 trial(s) droped due to inconsistent recording\n",
      "1 trial(s) droped due to inconsistent recording\n"
     ]
    },
    {
     "name": "stderr",
     "output_type": "stream",
     "text": [
      "C:\\ProgramData\\Anaconda3\\lib\\site-packages\\pingouin-0.2.9-py3.7.egg\\pingouin\\nonparametric.py:144: RuntimeWarning: invalid value encountered in true_divide\n",
      "  return (np.fabs(a - np.median(a)) / mad(a)) > k\n",
      "C:\\ProgramData\\Anaconda3\\lib\\site-packages\\pingouin-0.2.9-py3.7.egg\\pingouin\\nonparametric.py:144: RuntimeWarning: invalid value encountered in greater\n",
      "  return (np.fabs(a - np.median(a)) / mad(a)) > k\n",
      "C:\\ProgramData\\Anaconda3\\lib\\site-packages\\pingouin-0.2.9-py3.7.egg\\pingouin\\nonparametric.py:144: RuntimeWarning: invalid value encountered in true_divide\n",
      "  return (np.fabs(a - np.median(a)) / mad(a)) > k\n",
      "C:\\ProgramData\\Anaconda3\\lib\\site-packages\\pingouin-0.2.9-py3.7.egg\\pingouin\\nonparametric.py:144: RuntimeWarning: invalid value encountered in greater\n",
      "  return (np.fabs(a - np.median(a)) / mad(a)) > k\n"
     ]
    },
    {
     "name": "stdout",
     "output_type": "stream",
     "text": [
      "1 trial(s) droped due to inconsistent recording\n",
      "1 trial(s) droped due to inconsistent recording\n"
     ]
    },
    {
     "name": "stderr",
     "output_type": "stream",
     "text": [
      "C:\\ProgramData\\Anaconda3\\lib\\site-packages\\pingouin-0.2.9-py3.7.egg\\pingouin\\nonparametric.py:144: RuntimeWarning: invalid value encountered in true_divide\n",
      "  return (np.fabs(a - np.median(a)) / mad(a)) > k\n",
      "C:\\ProgramData\\Anaconda3\\lib\\site-packages\\pingouin-0.2.9-py3.7.egg\\pingouin\\nonparametric.py:144: RuntimeWarning: invalid value encountered in greater\n",
      "  return (np.fabs(a - np.median(a)) / mad(a)) > k\n",
      "C:\\ProgramData\\Anaconda3\\lib\\site-packages\\pingouin-0.2.9-py3.7.egg\\pingouin\\nonparametric.py:144: RuntimeWarning: invalid value encountered in true_divide\n",
      "  return (np.fabs(a - np.median(a)) / mad(a)) > k\n",
      "C:\\ProgramData\\Anaconda3\\lib\\site-packages\\pingouin-0.2.9-py3.7.egg\\pingouin\\nonparametric.py:144: RuntimeWarning: invalid value encountered in greater\n",
      "  return (np.fabs(a - np.median(a)) / mad(a)) > k\n"
     ]
    },
    {
     "name": "stdout",
     "output_type": "stream",
     "text": [
      "1 trial(s) droped due to inconsistent recording\n",
      "1 trial(s) droped due to inconsistent recording\n"
     ]
    },
    {
     "name": "stderr",
     "output_type": "stream",
     "text": [
      "C:\\ProgramData\\Anaconda3\\lib\\site-packages\\pingouin-0.2.9-py3.7.egg\\pingouin\\nonparametric.py:144: RuntimeWarning: invalid value encountered in true_divide\n",
      "  return (np.fabs(a - np.median(a)) / mad(a)) > k\n",
      "C:\\ProgramData\\Anaconda3\\lib\\site-packages\\pingouin-0.2.9-py3.7.egg\\pingouin\\nonparametric.py:144: RuntimeWarning: invalid value encountered in greater\n",
      "  return (np.fabs(a - np.median(a)) / mad(a)) > k\n",
      "C:\\ProgramData\\Anaconda3\\lib\\site-packages\\pingouin-0.2.9-py3.7.egg\\pingouin\\nonparametric.py:144: RuntimeWarning: invalid value encountered in true_divide\n",
      "  return (np.fabs(a - np.median(a)) / mad(a)) > k\n",
      "C:\\ProgramData\\Anaconda3\\lib\\site-packages\\pingouin-0.2.9-py3.7.egg\\pingouin\\nonparametric.py:144: RuntimeWarning: invalid value encountered in greater\n",
      "  return (np.fabs(a - np.median(a)) / mad(a)) > k\n"
     ]
    },
    {
     "name": "stdout",
     "output_type": "stream",
     "text": [
      "1 trial(s) droped due to inconsistent recording\n",
      "1 trial(s) droped due to inconsistent recording\n"
     ]
    },
    {
     "name": "stderr",
     "output_type": "stream",
     "text": [
      "C:\\ProgramData\\Anaconda3\\lib\\site-packages\\pingouin-0.2.9-py3.7.egg\\pingouin\\nonparametric.py:144: RuntimeWarning: invalid value encountered in true_divide\n",
      "  return (np.fabs(a - np.median(a)) / mad(a)) > k\n",
      "C:\\ProgramData\\Anaconda3\\lib\\site-packages\\pingouin-0.2.9-py3.7.egg\\pingouin\\nonparametric.py:144: RuntimeWarning: invalid value encountered in greater\n",
      "  return (np.fabs(a - np.median(a)) / mad(a)) > k\n",
      "C:\\ProgramData\\Anaconda3\\lib\\site-packages\\pingouin-0.2.9-py3.7.egg\\pingouin\\nonparametric.py:144: RuntimeWarning: invalid value encountered in true_divide\n",
      "  return (np.fabs(a - np.median(a)) / mad(a)) > k\n",
      "C:\\ProgramData\\Anaconda3\\lib\\site-packages\\pingouin-0.2.9-py3.7.egg\\pingouin\\nonparametric.py:144: RuntimeWarning: invalid value encountered in greater\n",
      "  return (np.fabs(a - np.median(a)) / mad(a)) > k\n"
     ]
    },
    {
     "name": "stdout",
     "output_type": "stream",
     "text": [
      "1 trial(s) droped due to inconsistent recording\n",
      "1 trial(s) droped due to inconsistent recording\n"
     ]
    },
    {
     "name": "stderr",
     "output_type": "stream",
     "text": [
      "C:\\ProgramData\\Anaconda3\\lib\\site-packages\\pingouin-0.2.9-py3.7.egg\\pingouin\\nonparametric.py:144: RuntimeWarning: invalid value encountered in true_divide\n",
      "  return (np.fabs(a - np.median(a)) / mad(a)) > k\n",
      "C:\\ProgramData\\Anaconda3\\lib\\site-packages\\pingouin-0.2.9-py3.7.egg\\pingouin\\nonparametric.py:144: RuntimeWarning: invalid value encountered in greater\n",
      "  return (np.fabs(a - np.median(a)) / mad(a)) > k\n",
      "C:\\ProgramData\\Anaconda3\\lib\\site-packages\\pingouin-0.2.9-py3.7.egg\\pingouin\\nonparametric.py:144: RuntimeWarning: invalid value encountered in true_divide\n",
      "  return (np.fabs(a - np.median(a)) / mad(a)) > k\n",
      "C:\\ProgramData\\Anaconda3\\lib\\site-packages\\pingouin-0.2.9-py3.7.egg\\pingouin\\nonparametric.py:144: RuntimeWarning: invalid value encountered in greater\n",
      "  return (np.fabs(a - np.median(a)) / mad(a)) > k\n"
     ]
    },
    {
     "name": "stdout",
     "output_type": "stream",
     "text": [
      "1 trial(s) droped due to inconsistent recording\n",
      "1 trial(s) droped due to inconsistent recording\n"
     ]
    },
    {
     "name": "stderr",
     "output_type": "stream",
     "text": [
      "C:\\ProgramData\\Anaconda3\\lib\\site-packages\\pingouin-0.2.9-py3.7.egg\\pingouin\\nonparametric.py:144: RuntimeWarning: invalid value encountered in true_divide\n",
      "  return (np.fabs(a - np.median(a)) / mad(a)) > k\n",
      "C:\\ProgramData\\Anaconda3\\lib\\site-packages\\pingouin-0.2.9-py3.7.egg\\pingouin\\nonparametric.py:144: RuntimeWarning: invalid value encountered in greater\n",
      "  return (np.fabs(a - np.median(a)) / mad(a)) > k\n",
      "C:\\ProgramData\\Anaconda3\\lib\\site-packages\\pingouin-0.2.9-py3.7.egg\\pingouin\\nonparametric.py:144: RuntimeWarning: invalid value encountered in true_divide\n",
      "  return (np.fabs(a - np.median(a)) / mad(a)) > k\n",
      "C:\\ProgramData\\Anaconda3\\lib\\site-packages\\pingouin-0.2.9-py3.7.egg\\pingouin\\nonparametric.py:144: RuntimeWarning: invalid value encountered in greater\n",
      "  return (np.fabs(a - np.median(a)) / mad(a)) > k\n"
     ]
    },
    {
     "name": "stdout",
     "output_type": "stream",
     "text": [
      "1 trial(s) droped due to inconsistent recording\n",
      "1 trial(s) droped due to inconsistent recording\n"
     ]
    },
    {
     "name": "stderr",
     "output_type": "stream",
     "text": [
      "C:\\ProgramData\\Anaconda3\\lib\\site-packages\\pingouin-0.2.9-py3.7.egg\\pingouin\\nonparametric.py:144: RuntimeWarning: invalid value encountered in true_divide\n",
      "  return (np.fabs(a - np.median(a)) / mad(a)) > k\n",
      "C:\\ProgramData\\Anaconda3\\lib\\site-packages\\pingouin-0.2.9-py3.7.egg\\pingouin\\nonparametric.py:144: RuntimeWarning: invalid value encountered in greater\n",
      "  return (np.fabs(a - np.median(a)) / mad(a)) > k\n",
      "C:\\ProgramData\\Anaconda3\\lib\\site-packages\\pingouin-0.2.9-py3.7.egg\\pingouin\\nonparametric.py:144: RuntimeWarning: invalid value encountered in true_divide\n",
      "  return (np.fabs(a - np.median(a)) / mad(a)) > k\n",
      "C:\\ProgramData\\Anaconda3\\lib\\site-packages\\pingouin-0.2.9-py3.7.egg\\pingouin\\nonparametric.py:144: RuntimeWarning: invalid value encountered in greater\n",
      "  return (np.fabs(a - np.median(a)) / mad(a)) > k\n"
     ]
    },
    {
     "name": "stdout",
     "output_type": "stream",
     "text": [
      "1 trial(s) droped due to inconsistent recording\n",
      "1 trial(s) droped due to inconsistent recording\n"
     ]
    },
    {
     "name": "stderr",
     "output_type": "stream",
     "text": [
      "C:\\ProgramData\\Anaconda3\\lib\\site-packages\\pingouin-0.2.9-py3.7.egg\\pingouin\\nonparametric.py:144: RuntimeWarning: invalid value encountered in true_divide\n",
      "  return (np.fabs(a - np.median(a)) / mad(a)) > k\n",
      "C:\\ProgramData\\Anaconda3\\lib\\site-packages\\pingouin-0.2.9-py3.7.egg\\pingouin\\nonparametric.py:144: RuntimeWarning: invalid value encountered in greater\n",
      "  return (np.fabs(a - np.median(a)) / mad(a)) > k\n",
      "C:\\ProgramData\\Anaconda3\\lib\\site-packages\\pingouin-0.2.9-py3.7.egg\\pingouin\\nonparametric.py:144: RuntimeWarning: invalid value encountered in true_divide\n",
      "  return (np.fabs(a - np.median(a)) / mad(a)) > k\n",
      "C:\\ProgramData\\Anaconda3\\lib\\site-packages\\pingouin-0.2.9-py3.7.egg\\pingouin\\nonparametric.py:144: RuntimeWarning: invalid value encountered in greater\n",
      "  return (np.fabs(a - np.median(a)) / mad(a)) > k\n"
     ]
    },
    {
     "name": "stdout",
     "output_type": "stream",
     "text": [
      "1 trial(s) droped due to inconsistent recording\n",
      "1 trial(s) droped due to inconsistent recording\n"
     ]
    },
    {
     "name": "stderr",
     "output_type": "stream",
     "text": [
      "C:\\ProgramData\\Anaconda3\\lib\\site-packages\\pingouin-0.2.9-py3.7.egg\\pingouin\\nonparametric.py:144: RuntimeWarning: invalid value encountered in true_divide\n",
      "  return (np.fabs(a - np.median(a)) / mad(a)) > k\n",
      "C:\\ProgramData\\Anaconda3\\lib\\site-packages\\pingouin-0.2.9-py3.7.egg\\pingouin\\nonparametric.py:144: RuntimeWarning: invalid value encountered in greater\n",
      "  return (np.fabs(a - np.median(a)) / mad(a)) > k\n",
      "C:\\ProgramData\\Anaconda3\\lib\\site-packages\\pingouin-0.2.9-py3.7.egg\\pingouin\\nonparametric.py:144: RuntimeWarning: invalid value encountered in true_divide\n",
      "  return (np.fabs(a - np.median(a)) / mad(a)) > k\n",
      "C:\\ProgramData\\Anaconda3\\lib\\site-packages\\pingouin-0.2.9-py3.7.egg\\pingouin\\nonparametric.py:144: RuntimeWarning: invalid value encountered in greater\n",
      "  return (np.fabs(a - np.median(a)) / mad(a)) > k\n"
     ]
    },
    {
     "name": "stdout",
     "output_type": "stream",
     "text": [
      "1 trial(s) droped due to inconsistent recording\n",
      "1 trial(s) droped due to inconsistent recording\n"
     ]
    },
    {
     "name": "stderr",
     "output_type": "stream",
     "text": [
      "C:\\ProgramData\\Anaconda3\\lib\\site-packages\\pingouin-0.2.9-py3.7.egg\\pingouin\\nonparametric.py:144: RuntimeWarning: invalid value encountered in true_divide\n",
      "  return (np.fabs(a - np.median(a)) / mad(a)) > k\n",
      "C:\\ProgramData\\Anaconda3\\lib\\site-packages\\pingouin-0.2.9-py3.7.egg\\pingouin\\nonparametric.py:144: RuntimeWarning: invalid value encountered in greater\n",
      "  return (np.fabs(a - np.median(a)) / mad(a)) > k\n",
      "C:\\ProgramData\\Anaconda3\\lib\\site-packages\\pingouin-0.2.9-py3.7.egg\\pingouin\\nonparametric.py:144: RuntimeWarning: invalid value encountered in true_divide\n",
      "  return (np.fabs(a - np.median(a)) / mad(a)) > k\n",
      "C:\\ProgramData\\Anaconda3\\lib\\site-packages\\pingouin-0.2.9-py3.7.egg\\pingouin\\nonparametric.py:144: RuntimeWarning: invalid value encountered in greater\n",
      "  return (np.fabs(a - np.median(a)) / mad(a)) > k\n"
     ]
    },
    {
     "name": "stdout",
     "output_type": "stream",
     "text": [
      "1 trial(s) droped due to inconsistent recording\n",
      "1 trial(s) droped due to inconsistent recording"
     ]
    },
    {
     "name": "stderr",
     "output_type": "stream",
     "text": [
      "C:\\ProgramData\\Anaconda3\\lib\\site-packages\\pingouin-0.2.9-py3.7.egg\\pingouin\\nonparametric.py:144: RuntimeWarning: invalid value encountered in true_divide\n",
      "  return (np.fabs(a - np.median(a)) / mad(a)) > k\n",
      "C:\\ProgramData\\Anaconda3\\lib\\site-packages\\pingouin-0.2.9-py3.7.egg\\pingouin\\nonparametric.py:144: RuntimeWarning: invalid value encountered in greater\n",
      "  return (np.fabs(a - np.median(a)) / mad(a)) > k\n",
      "C:\\ProgramData\\Anaconda3\\lib\\site-packages\\pingouin-0.2.9-py3.7.egg\\pingouin\\nonparametric.py:144: RuntimeWarning: invalid value encountered in true_divide\n",
      "  return (np.fabs(a - np.median(a)) / mad(a)) > k\n",
      "C:\\ProgramData\\Anaconda3\\lib\\site-packages\\pingouin-0.2.9-py3.7.egg\\pingouin\\nonparametric.py:144: RuntimeWarning: invalid value encountered in greater\n",
      "  return (np.fabs(a - np.median(a)) / mad(a)) > k\n"
     ]
    },
    {
     "name": "stdout",
     "output_type": "stream",
     "text": [
      "\n",
      "1 trial(s) droped due to inconsistent recording\n",
      "1 trial(s) droped due to inconsistent recording"
     ]
    },
    {
     "name": "stderr",
     "output_type": "stream",
     "text": [
      "C:\\ProgramData\\Anaconda3\\lib\\site-packages\\pingouin-0.2.9-py3.7.egg\\pingouin\\nonparametric.py:144: RuntimeWarning: invalid value encountered in true_divide\n",
      "  return (np.fabs(a - np.median(a)) / mad(a)) > k\n",
      "C:\\ProgramData\\Anaconda3\\lib\\site-packages\\pingouin-0.2.9-py3.7.egg\\pingouin\\nonparametric.py:144: RuntimeWarning: invalid value encountered in greater\n",
      "  return (np.fabs(a - np.median(a)) / mad(a)) > k\n"
     ]
    },
    {
     "name": "stdout",
     "output_type": "stream",
     "text": [
      "\n",
      "1 trial(s) droped due to inconsistent recording\n"
     ]
    },
    {
     "name": "stderr",
     "output_type": "stream",
     "text": [
      "C:\\ProgramData\\Anaconda3\\lib\\site-packages\\pingouin-0.2.9-py3.7.egg\\pingouin\\nonparametric.py:144: RuntimeWarning: invalid value encountered in true_divide\n",
      "  return (np.fabs(a - np.median(a)) / mad(a)) > k\n",
      "C:\\ProgramData\\Anaconda3\\lib\\site-packages\\pingouin-0.2.9-py3.7.egg\\pingouin\\nonparametric.py:144: RuntimeWarning: invalid value encountered in greater\n",
      "  return (np.fabs(a - np.median(a)) / mad(a)) > k\n",
      "C:\\ProgramData\\Anaconda3\\lib\\site-packages\\pingouin-0.2.9-py3.7.egg\\pingouin\\nonparametric.py:144: RuntimeWarning: invalid value encountered in true_divide\n",
      "  return (np.fabs(a - np.median(a)) / mad(a)) > k\n",
      "C:\\ProgramData\\Anaconda3\\lib\\site-packages\\pingouin-0.2.9-py3.7.egg\\pingouin\\nonparametric.py:144: RuntimeWarning: invalid value encountered in greater\n",
      "  return (np.fabs(a - np.median(a)) / mad(a)) > k\n"
     ]
    },
    {
     "name": "stdout",
     "output_type": "stream",
     "text": [
      "1 trial(s) droped due to inconsistent recording\n",
      "1 trial(s) droped due to inconsistent recording\n"
     ]
    },
    {
     "name": "stderr",
     "output_type": "stream",
     "text": [
      "C:\\ProgramData\\Anaconda3\\lib\\site-packages\\pingouin-0.2.9-py3.7.egg\\pingouin\\nonparametric.py:144: RuntimeWarning: invalid value encountered in true_divide\n",
      "  return (np.fabs(a - np.median(a)) / mad(a)) > k\n",
      "C:\\ProgramData\\Anaconda3\\lib\\site-packages\\pingouin-0.2.9-py3.7.egg\\pingouin\\nonparametric.py:144: RuntimeWarning: invalid value encountered in greater\n",
      "  return (np.fabs(a - np.median(a)) / mad(a)) > k\n",
      "C:\\ProgramData\\Anaconda3\\lib\\site-packages\\pingouin-0.2.9-py3.7.egg\\pingouin\\nonparametric.py:144: RuntimeWarning: invalid value encountered in true_divide\n",
      "  return (np.fabs(a - np.median(a)) / mad(a)) > k\n",
      "C:\\ProgramData\\Anaconda3\\lib\\site-packages\\pingouin-0.2.9-py3.7.egg\\pingouin\\nonparametric.py:144: RuntimeWarning: invalid value encountered in greater\n",
      "  return (np.fabs(a - np.median(a)) / mad(a)) > k\n"
     ]
    },
    {
     "name": "stdout",
     "output_type": "stream",
     "text": [
      "1 trial(s) droped due to inconsistent recording\n"
     ]
    },
    {
     "name": "stderr",
     "output_type": "stream",
     "text": [
      "C:\\ProgramData\\Anaconda3\\lib\\site-packages\\pingouin-0.2.9-py3.7.egg\\pingouin\\nonparametric.py:144: RuntimeWarning: invalid value encountered in true_divide\n",
      "  return (np.fabs(a - np.median(a)) / mad(a)) > k\n",
      "C:\\ProgramData\\Anaconda3\\lib\\site-packages\\pingouin-0.2.9-py3.7.egg\\pingouin\\nonparametric.py:144: RuntimeWarning: invalid value encountered in greater\n",
      "  return (np.fabs(a - np.median(a)) / mad(a)) > k\n"
     ]
    },
    {
     "name": "stdout",
     "output_type": "stream",
     "text": [
      "1 trial(s) droped due to inconsistent recording\n",
      "1 trial(s) droped due to inconsistent recording\n"
     ]
    },
    {
     "name": "stderr",
     "output_type": "stream",
     "text": [
      "C:\\ProgramData\\Anaconda3\\lib\\site-packages\\pingouin-0.2.9-py3.7.egg\\pingouin\\nonparametric.py:144: RuntimeWarning: invalid value encountered in true_divide\n",
      "  return (np.fabs(a - np.median(a)) / mad(a)) > k\n",
      "C:\\ProgramData\\Anaconda3\\lib\\site-packages\\pingouin-0.2.9-py3.7.egg\\pingouin\\nonparametric.py:144: RuntimeWarning: invalid value encountered in greater\n",
      "  return (np.fabs(a - np.median(a)) / mad(a)) > k\n",
      "C:\\ProgramData\\Anaconda3\\lib\\site-packages\\pingouin-0.2.9-py3.7.egg\\pingouin\\nonparametric.py:144: RuntimeWarning: invalid value encountered in true_divide\n",
      "  return (np.fabs(a - np.median(a)) / mad(a)) > k\n",
      "C:\\ProgramData\\Anaconda3\\lib\\site-packages\\pingouin-0.2.9-py3.7.egg\\pingouin\\nonparametric.py:144: RuntimeWarning: invalid value encountered in greater\n",
      "  return (np.fabs(a - np.median(a)) / mad(a)) > k\n"
     ]
    },
    {
     "name": "stdout",
     "output_type": "stream",
     "text": [
      "1 trial(s) droped due to inconsistent recording\n",
      "1 trial(s) droped due to inconsistent recording\n"
     ]
    },
    {
     "name": "stderr",
     "output_type": "stream",
     "text": [
      "C:\\ProgramData\\Anaconda3\\lib\\site-packages\\pingouin-0.2.9-py3.7.egg\\pingouin\\nonparametric.py:144: RuntimeWarning: invalid value encountered in true_divide\n",
      "  return (np.fabs(a - np.median(a)) / mad(a)) > k\n",
      "C:\\ProgramData\\Anaconda3\\lib\\site-packages\\pingouin-0.2.9-py3.7.egg\\pingouin\\nonparametric.py:144: RuntimeWarning: invalid value encountered in greater\n",
      "  return (np.fabs(a - np.median(a)) / mad(a)) > k\n",
      "C:\\ProgramData\\Anaconda3\\lib\\site-packages\\pingouin-0.2.9-py3.7.egg\\pingouin\\nonparametric.py:144: RuntimeWarning: invalid value encountered in true_divide\n",
      "  return (np.fabs(a - np.median(a)) / mad(a)) > k\n",
      "C:\\ProgramData\\Anaconda3\\lib\\site-packages\\pingouin-0.2.9-py3.7.egg\\pingouin\\nonparametric.py:144: RuntimeWarning: invalid value encountered in greater\n",
      "  return (np.fabs(a - np.median(a)) / mad(a)) > k\n"
     ]
    },
    {
     "name": "stdout",
     "output_type": "stream",
     "text": [
      "1 trial(s) droped due to inconsistent recording\n",
      "1 trial(s) droped due to inconsistent recording\n"
     ]
    },
    {
     "name": "stderr",
     "output_type": "stream",
     "text": [
      "C:\\ProgramData\\Anaconda3\\lib\\site-packages\\pingouin-0.2.9-py3.7.egg\\pingouin\\nonparametric.py:144: RuntimeWarning: invalid value encountered in true_divide\n",
      "  return (np.fabs(a - np.median(a)) / mad(a)) > k\n",
      "C:\\ProgramData\\Anaconda3\\lib\\site-packages\\pingouin-0.2.9-py3.7.egg\\pingouin\\nonparametric.py:144: RuntimeWarning: invalid value encountered in greater\n",
      "  return (np.fabs(a - np.median(a)) / mad(a)) > k\n",
      "C:\\ProgramData\\Anaconda3\\lib\\site-packages\\pingouin-0.2.9-py3.7.egg\\pingouin\\nonparametric.py:144: RuntimeWarning: invalid value encountered in true_divide\n",
      "  return (np.fabs(a - np.median(a)) / mad(a)) > k\n",
      "C:\\ProgramData\\Anaconda3\\lib\\site-packages\\pingouin-0.2.9-py3.7.egg\\pingouin\\nonparametric.py:144: RuntimeWarning: invalid value encountered in greater\n",
      "  return (np.fabs(a - np.median(a)) / mad(a)) > k\n"
     ]
    },
    {
     "name": "stdout",
     "output_type": "stream",
     "text": [
      "1 trial(s) droped due to inconsistent recording\n"
     ]
    },
    {
     "name": "stderr",
     "output_type": "stream",
     "text": [
      "C:\\ProgramData\\Anaconda3\\lib\\site-packages\\pingouin-0.2.9-py3.7.egg\\pingouin\\nonparametric.py:144: RuntimeWarning: invalid value encountered in true_divide\n",
      "  return (np.fabs(a - np.median(a)) / mad(a)) > k\n",
      "C:\\ProgramData\\Anaconda3\\lib\\site-packages\\pingouin-0.2.9-py3.7.egg\\pingouin\\nonparametric.py:144: RuntimeWarning: invalid value encountered in greater\n",
      "  return (np.fabs(a - np.median(a)) / mad(a)) > k\n"
     ]
    },
    {
     "name": "stdout",
     "output_type": "stream",
     "text": [
      "1 trial(s) droped due to inconsistent recording\n",
      "1 trial(s) droped due to inconsistent recording\n"
     ]
    },
    {
     "name": "stderr",
     "output_type": "stream",
     "text": [
      "C:\\ProgramData\\Anaconda3\\lib\\site-packages\\pingouin-0.2.9-py3.7.egg\\pingouin\\nonparametric.py:144: RuntimeWarning: invalid value encountered in true_divide\n",
      "  return (np.fabs(a - np.median(a)) / mad(a)) > k\n",
      "C:\\ProgramData\\Anaconda3\\lib\\site-packages\\pingouin-0.2.9-py3.7.egg\\pingouin\\nonparametric.py:144: RuntimeWarning: invalid value encountered in greater\n",
      "  return (np.fabs(a - np.median(a)) / mad(a)) > k\n",
      "C:\\ProgramData\\Anaconda3\\lib\\site-packages\\pingouin-0.2.9-py3.7.egg\\pingouin\\nonparametric.py:144: RuntimeWarning: invalid value encountered in true_divide\n",
      "  return (np.fabs(a - np.median(a)) / mad(a)) > k\n",
      "C:\\ProgramData\\Anaconda3\\lib\\site-packages\\pingouin-0.2.9-py3.7.egg\\pingouin\\nonparametric.py:144: RuntimeWarning: invalid value encountered in greater\n",
      "  return (np.fabs(a - np.median(a)) / mad(a)) > k\n"
     ]
    },
    {
     "name": "stdout",
     "output_type": "stream",
     "text": [
      "1 trial(s) droped due to inconsistent recording\n",
      "1 trial(s) droped due to inconsistent recording\n"
     ]
    },
    {
     "name": "stderr",
     "output_type": "stream",
     "text": [
      "C:\\ProgramData\\Anaconda3\\lib\\site-packages\\pingouin-0.2.9-py3.7.egg\\pingouin\\nonparametric.py:144: RuntimeWarning: invalid value encountered in true_divide\n",
      "  return (np.fabs(a - np.median(a)) / mad(a)) > k\n",
      "C:\\ProgramData\\Anaconda3\\lib\\site-packages\\pingouin-0.2.9-py3.7.egg\\pingouin\\nonparametric.py:144: RuntimeWarning: invalid value encountered in greater\n",
      "  return (np.fabs(a - np.median(a)) / mad(a)) > k\n",
      "C:\\ProgramData\\Anaconda3\\lib\\site-packages\\pingouin-0.2.9-py3.7.egg\\pingouin\\nonparametric.py:144: RuntimeWarning: invalid value encountered in true_divide\n",
      "  return (np.fabs(a - np.median(a)) / mad(a)) > k\n",
      "C:\\ProgramData\\Anaconda3\\lib\\site-packages\\pingouin-0.2.9-py3.7.egg\\pingouin\\nonparametric.py:144: RuntimeWarning: invalid value encountered in greater\n",
      "  return (np.fabs(a - np.median(a)) / mad(a)) > k\n"
     ]
    },
    {
     "name": "stdout",
     "output_type": "stream",
     "text": [
      "1 trial(s) droped due to inconsistent recording\n"
     ]
    },
    {
     "name": "stderr",
     "output_type": "stream",
     "text": [
      "C:\\ProgramData\\Anaconda3\\lib\\site-packages\\pingouin-0.2.9-py3.7.egg\\pingouin\\nonparametric.py:144: RuntimeWarning: invalid value encountered in true_divide\n",
      "  return (np.fabs(a - np.median(a)) / mad(a)) > k\n",
      "C:\\ProgramData\\Anaconda3\\lib\\site-packages\\pingouin-0.2.9-py3.7.egg\\pingouin\\nonparametric.py:144: RuntimeWarning: invalid value encountered in greater\n",
      "  return (np.fabs(a - np.median(a)) / mad(a)) > k\n"
     ]
    },
    {
     "name": "stdout",
     "output_type": "stream",
     "text": [
      "1 trial(s) droped due to inconsistent recording\n",
      "1 trial(s) droped due to inconsistent recording\n"
     ]
    },
    {
     "name": "stderr",
     "output_type": "stream",
     "text": [
      "C:\\ProgramData\\Anaconda3\\lib\\site-packages\\pingouin-0.2.9-py3.7.egg\\pingouin\\nonparametric.py:144: RuntimeWarning: invalid value encountered in true_divide\n",
      "  return (np.fabs(a - np.median(a)) / mad(a)) > k\n",
      "C:\\ProgramData\\Anaconda3\\lib\\site-packages\\pingouin-0.2.9-py3.7.egg\\pingouin\\nonparametric.py:144: RuntimeWarning: invalid value encountered in greater\n",
      "  return (np.fabs(a - np.median(a)) / mad(a)) > k\n",
      "C:\\ProgramData\\Anaconda3\\lib\\site-packages\\pingouin-0.2.9-py3.7.egg\\pingouin\\nonparametric.py:144: RuntimeWarning: invalid value encountered in true_divide\n",
      "  return (np.fabs(a - np.median(a)) / mad(a)) > k\n",
      "C:\\ProgramData\\Anaconda3\\lib\\site-packages\\pingouin-0.2.9-py3.7.egg\\pingouin\\nonparametric.py:144: RuntimeWarning: invalid value encountered in greater\n",
      "  return (np.fabs(a - np.median(a)) / mad(a)) > k\n"
     ]
    },
    {
     "name": "stdout",
     "output_type": "stream",
     "text": [
      "1 trial(s) droped due to inconsistent recording\n",
      "1 trial(s) droped due to inconsistent recording\n"
     ]
    },
    {
     "name": "stderr",
     "output_type": "stream",
     "text": [
      "C:\\ProgramData\\Anaconda3\\lib\\site-packages\\pingouin-0.2.9-py3.7.egg\\pingouin\\nonparametric.py:144: RuntimeWarning: invalid value encountered in true_divide\n",
      "  return (np.fabs(a - np.median(a)) / mad(a)) > k\n",
      "C:\\ProgramData\\Anaconda3\\lib\\site-packages\\pingouin-0.2.9-py3.7.egg\\pingouin\\nonparametric.py:144: RuntimeWarning: invalid value encountered in greater\n",
      "  return (np.fabs(a - np.median(a)) / mad(a)) > k\n",
      "C:\\ProgramData\\Anaconda3\\lib\\site-packages\\pingouin-0.2.9-py3.7.egg\\pingouin\\nonparametric.py:144: RuntimeWarning: invalid value encountered in true_divide\n",
      "  return (np.fabs(a - np.median(a)) / mad(a)) > k\n",
      "C:\\ProgramData\\Anaconda3\\lib\\site-packages\\pingouin-0.2.9-py3.7.egg\\pingouin\\nonparametric.py:144: RuntimeWarning: invalid value encountered in greater\n",
      "  return (np.fabs(a - np.median(a)) / mad(a)) > k\n"
     ]
    },
    {
     "name": "stdout",
     "output_type": "stream",
     "text": [
      "1 trial(s) droped due to inconsistent recording\n",
      "1 trial(s) droped due to inconsistent recording"
     ]
    },
    {
     "name": "stderr",
     "output_type": "stream",
     "text": [
      "C:\\ProgramData\\Anaconda3\\lib\\site-packages\\pingouin-0.2.9-py3.7.egg\\pingouin\\nonparametric.py:144: RuntimeWarning: invalid value encountered in true_divide\n",
      "  return (np.fabs(a - np.median(a)) / mad(a)) > k\n",
      "C:\\ProgramData\\Anaconda3\\lib\\site-packages\\pingouin-0.2.9-py3.7.egg\\pingouin\\nonparametric.py:144: RuntimeWarning: invalid value encountered in greater\n",
      "  return (np.fabs(a - np.median(a)) / mad(a)) > k\n"
     ]
    },
    {
     "name": "stdout",
     "output_type": "stream",
     "text": [
      "\n",
      "1 trial(s) droped due to inconsistent recording"
     ]
    },
    {
     "name": "stderr",
     "output_type": "stream",
     "text": [
      "C:\\ProgramData\\Anaconda3\\lib\\site-packages\\pingouin-0.2.9-py3.7.egg\\pingouin\\nonparametric.py:144: RuntimeWarning: invalid value encountered in true_divide\n",
      "  return (np.fabs(a - np.median(a)) / mad(a)) > k\n",
      "C:\\ProgramData\\Anaconda3\\lib\\site-packages\\pingouin-0.2.9-py3.7.egg\\pingouin\\nonparametric.py:144: RuntimeWarning: invalid value encountered in greater\n",
      "  return (np.fabs(a - np.median(a)) / mad(a)) > k\n"
     ]
    },
    {
     "name": "stdout",
     "output_type": "stream",
     "text": [
      "\n",
      "1 trial(s) droped due to inconsistent recording"
     ]
    },
    {
     "name": "stderr",
     "output_type": "stream",
     "text": [
      "C:\\ProgramData\\Anaconda3\\lib\\site-packages\\pingouin-0.2.9-py3.7.egg\\pingouin\\nonparametric.py:144: RuntimeWarning: invalid value encountered in true_divide\n",
      "  return (np.fabs(a - np.median(a)) / mad(a)) > k\n",
      "C:\\ProgramData\\Anaconda3\\lib\\site-packages\\pingouin-0.2.9-py3.7.egg\\pingouin\\nonparametric.py:144: RuntimeWarning: invalid value encountered in greater\n",
      "  return (np.fabs(a - np.median(a)) / mad(a)) > k\n"
     ]
    },
    {
     "name": "stdout",
     "output_type": "stream",
     "text": [
      "\n",
      "1 trial(s) droped due to inconsistent recording"
     ]
    },
    {
     "name": "stderr",
     "output_type": "stream",
     "text": [
      "C:\\ProgramData\\Anaconda3\\lib\\site-packages\\pingouin-0.2.9-py3.7.egg\\pingouin\\nonparametric.py:144: RuntimeWarning: invalid value encountered in true_divide\n",
      "  return (np.fabs(a - np.median(a)) / mad(a)) > k\n",
      "C:\\ProgramData\\Anaconda3\\lib\\site-packages\\pingouin-0.2.9-py3.7.egg\\pingouin\\nonparametric.py:144: RuntimeWarning: invalid value encountered in greater\n",
      "  return (np.fabs(a - np.median(a)) / mad(a)) > k\n"
     ]
    },
    {
     "name": "stdout",
     "output_type": "stream",
     "text": [
      "\n",
      "1 trial(s) droped due to inconsistent recording"
     ]
    },
    {
     "name": "stderr",
     "output_type": "stream",
     "text": [
      "C:\\ProgramData\\Anaconda3\\lib\\site-packages\\pingouin-0.2.9-py3.7.egg\\pingouin\\nonparametric.py:144: RuntimeWarning: invalid value encountered in true_divide\n",
      "  return (np.fabs(a - np.median(a)) / mad(a)) > k\n",
      "C:\\ProgramData\\Anaconda3\\lib\\site-packages\\pingouin-0.2.9-py3.7.egg\\pingouin\\nonparametric.py:144: RuntimeWarning: invalid value encountered in greater\n",
      "  return (np.fabs(a - np.median(a)) / mad(a)) > k\n"
     ]
    },
    {
     "name": "stdout",
     "output_type": "stream",
     "text": [
      "\n"
     ]
    },
    {
     "name": "stderr",
     "output_type": "stream",
     "text": [
      "C:\\ProgramData\\Anaconda3\\lib\\site-packages\\pingouin-0.2.9-py3.7.egg\\pingouin\\nonparametric.py:144: RuntimeWarning: invalid value encountered in true_divide\n",
      "  return (np.fabs(a - np.median(a)) / mad(a)) > k\n",
      "C:\\ProgramData\\Anaconda3\\lib\\site-packages\\pingouin-0.2.9-py3.7.egg\\pingouin\\nonparametric.py:144: RuntimeWarning: invalid value encountered in greater\n",
      "  return (np.fabs(a - np.median(a)) / mad(a)) > k\n"
     ]
    },
    {
     "name": "stdout",
     "output_type": "stream",
     "text": [
      "1 trial(s) droped due to inconsistent recording\n",
      "1 trial(s) droped due to inconsistent recording"
     ]
    },
    {
     "name": "stderr",
     "output_type": "stream",
     "text": [
      "C:\\ProgramData\\Anaconda3\\lib\\site-packages\\pingouin-0.2.9-py3.7.egg\\pingouin\\nonparametric.py:144: RuntimeWarning: invalid value encountered in true_divide\n",
      "  return (np.fabs(a - np.median(a)) / mad(a)) > k\n",
      "C:\\ProgramData\\Anaconda3\\lib\\site-packages\\pingouin-0.2.9-py3.7.egg\\pingouin\\nonparametric.py:144: RuntimeWarning: invalid value encountered in greater\n",
      "  return (np.fabs(a - np.median(a)) / mad(a)) > k\n"
     ]
    },
    {
     "name": "stdout",
     "output_type": "stream",
     "text": [
      "\n"
     ]
    },
    {
     "name": "stderr",
     "output_type": "stream",
     "text": [
      "C:\\ProgramData\\Anaconda3\\lib\\site-packages\\pingouin-0.2.9-py3.7.egg\\pingouin\\nonparametric.py:144: RuntimeWarning: invalid value encountered in true_divide\n",
      "  return (np.fabs(a - np.median(a)) / mad(a)) > k\n",
      "C:\\ProgramData\\Anaconda3\\lib\\site-packages\\pingouin-0.2.9-py3.7.egg\\pingouin\\nonparametric.py:144: RuntimeWarning: invalid value encountered in greater\n",
      "  return (np.fabs(a - np.median(a)) / mad(a)) > k\n"
     ]
    },
    {
     "name": "stdout",
     "output_type": "stream",
     "text": [
      "1 trial(s) droped due to inconsistent recording\n",
      "1 trial(s) droped due to inconsistent recording\n"
     ]
    },
    {
     "name": "stderr",
     "output_type": "stream",
     "text": [
      "C:\\ProgramData\\Anaconda3\\lib\\site-packages\\pingouin-0.2.9-py3.7.egg\\pingouin\\nonparametric.py:144: RuntimeWarning: invalid value encountered in true_divide\n",
      "  return (np.fabs(a - np.median(a)) / mad(a)) > k\n",
      "C:\\ProgramData\\Anaconda3\\lib\\site-packages\\pingouin-0.2.9-py3.7.egg\\pingouin\\nonparametric.py:144: RuntimeWarning: invalid value encountered in greater\n",
      "  return (np.fabs(a - np.median(a)) / mad(a)) > k\n",
      "C:\\ProgramData\\Anaconda3\\lib\\site-packages\\pingouin-0.2.9-py3.7.egg\\pingouin\\nonparametric.py:144: RuntimeWarning: invalid value encountered in true_divide\n",
      "  return (np.fabs(a - np.median(a)) / mad(a)) > k\n",
      "C:\\ProgramData\\Anaconda3\\lib\\site-packages\\pingouin-0.2.9-py3.7.egg\\pingouin\\nonparametric.py:144: RuntimeWarning: invalid value encountered in greater\n",
      "  return (np.fabs(a - np.median(a)) / mad(a)) > k\n"
     ]
    },
    {
     "name": "stdout",
     "output_type": "stream",
     "text": [
      "1 trial(s) droped due to inconsistent recording\n",
      "1 trial(s) droped due to inconsistent recording\n"
     ]
    },
    {
     "name": "stderr",
     "output_type": "stream",
     "text": [
      "C:\\ProgramData\\Anaconda3\\lib\\site-packages\\pingouin-0.2.9-py3.7.egg\\pingouin\\nonparametric.py:144: RuntimeWarning: invalid value encountered in true_divide\n",
      "  return (np.fabs(a - np.median(a)) / mad(a)) > k\n",
      "C:\\ProgramData\\Anaconda3\\lib\\site-packages\\pingouin-0.2.9-py3.7.egg\\pingouin\\nonparametric.py:144: RuntimeWarning: invalid value encountered in greater\n",
      "  return (np.fabs(a - np.median(a)) / mad(a)) > k\n",
      "C:\\ProgramData\\Anaconda3\\lib\\site-packages\\pingouin-0.2.9-py3.7.egg\\pingouin\\nonparametric.py:144: RuntimeWarning: invalid value encountered in true_divide\n",
      "  return (np.fabs(a - np.median(a)) / mad(a)) > k\n",
      "C:\\ProgramData\\Anaconda3\\lib\\site-packages\\pingouin-0.2.9-py3.7.egg\\pingouin\\nonparametric.py:144: RuntimeWarning: invalid value encountered in greater\n",
      "  return (np.fabs(a - np.median(a)) / mad(a)) > k\n"
     ]
    },
    {
     "name": "stdout",
     "output_type": "stream",
     "text": [
      "1 trial(s) droped due to inconsistent recording\n",
      "1 trial(s) droped due to inconsistent recording"
     ]
    },
    {
     "name": "stderr",
     "output_type": "stream",
     "text": [
      "C:\\ProgramData\\Anaconda3\\lib\\site-packages\\pingouin-0.2.9-py3.7.egg\\pingouin\\nonparametric.py:144: RuntimeWarning: invalid value encountered in true_divide\n",
      "  return (np.fabs(a - np.median(a)) / mad(a)) > k\n",
      "C:\\ProgramData\\Anaconda3\\lib\\site-packages\\pingouin-0.2.9-py3.7.egg\\pingouin\\nonparametric.py:144: RuntimeWarning: invalid value encountered in greater\n",
      "  return (np.fabs(a - np.median(a)) / mad(a)) > k\n"
     ]
    },
    {
     "name": "stdout",
     "output_type": "stream",
     "text": [
      "\n"
     ]
    },
    {
     "name": "stderr",
     "output_type": "stream",
     "text": [
      "C:\\ProgramData\\Anaconda3\\lib\\site-packages\\pingouin-0.2.9-py3.7.egg\\pingouin\\nonparametric.py:144: RuntimeWarning: invalid value encountered in true_divide\n",
      "  return (np.fabs(a - np.median(a)) / mad(a)) > k\n",
      "C:\\ProgramData\\Anaconda3\\lib\\site-packages\\pingouin-0.2.9-py3.7.egg\\pingouin\\nonparametric.py:144: RuntimeWarning: invalid value encountered in greater\n",
      "  return (np.fabs(a - np.median(a)) / mad(a)) > k\n"
     ]
    },
    {
     "name": "stdout",
     "output_type": "stream",
     "text": [
      "1 trial(s) droped due to inconsistent recording\n",
      "1 trial(s) droped due to inconsistent recording"
     ]
    },
    {
     "name": "stderr",
     "output_type": "stream",
     "text": [
      "C:\\ProgramData\\Anaconda3\\lib\\site-packages\\pingouin-0.2.9-py3.7.egg\\pingouin\\nonparametric.py:144: RuntimeWarning: invalid value encountered in true_divide\n",
      "  return (np.fabs(a - np.median(a)) / mad(a)) > k\n",
      "C:\\ProgramData\\Anaconda3\\lib\\site-packages\\pingouin-0.2.9-py3.7.egg\\pingouin\\nonparametric.py:144: RuntimeWarning: invalid value encountered in greater\n",
      "  return (np.fabs(a - np.median(a)) / mad(a)) > k\n"
     ]
    },
    {
     "name": "stdout",
     "output_type": "stream",
     "text": [
      "\n"
     ]
    },
    {
     "name": "stderr",
     "output_type": "stream",
     "text": [
      "C:\\ProgramData\\Anaconda3\\lib\\site-packages\\pingouin-0.2.9-py3.7.egg\\pingouin\\nonparametric.py:144: RuntimeWarning: invalid value encountered in true_divide\n",
      "  return (np.fabs(a - np.median(a)) / mad(a)) > k\n",
      "C:\\ProgramData\\Anaconda3\\lib\\site-packages\\pingouin-0.2.9-py3.7.egg\\pingouin\\nonparametric.py:144: RuntimeWarning: invalid value encountered in greater\n",
      "  return (np.fabs(a - np.median(a)) / mad(a)) > k\n"
     ]
    },
    {
     "name": "stdout",
     "output_type": "stream",
     "text": [
      "1 trial(s) droped due to inconsistent recording\n"
     ]
    },
    {
     "name": "stderr",
     "output_type": "stream",
     "text": [
      "C:\\ProgramData\\Anaconda3\\lib\\site-packages\\pingouin-0.2.9-py3.7.egg\\pingouin\\nonparametric.py:144: RuntimeWarning: invalid value encountered in true_divide\n",
      "  return (np.fabs(a - np.median(a)) / mad(a)) > k\n",
      "C:\\ProgramData\\Anaconda3\\lib\\site-packages\\pingouin-0.2.9-py3.7.egg\\pingouin\\nonparametric.py:144: RuntimeWarning: invalid value encountered in greater\n",
      "  return (np.fabs(a - np.median(a)) / mad(a)) > k\n"
     ]
    },
    {
     "name": "stdout",
     "output_type": "stream",
     "text": [
      "1 trial(s) droped due to inconsistent recording\n"
     ]
    },
    {
     "name": "stderr",
     "output_type": "stream",
     "text": [
      "C:\\ProgramData\\Anaconda3\\lib\\site-packages\\pingouin-0.2.9-py3.7.egg\\pingouin\\nonparametric.py:144: RuntimeWarning: invalid value encountered in true_divide\n",
      "  return (np.fabs(a - np.median(a)) / mad(a)) > k\n",
      "C:\\ProgramData\\Anaconda3\\lib\\site-packages\\pingouin-0.2.9-py3.7.egg\\pingouin\\nonparametric.py:144: RuntimeWarning: invalid value encountered in greater\n",
      "  return (np.fabs(a - np.median(a)) / mad(a)) > k\n"
     ]
    },
    {
     "name": "stdout",
     "output_type": "stream",
     "text": [
      "1 trial(s) droped due to inconsistent recording\n",
      "1 trial(s) droped due to inconsistent recording"
     ]
    },
    {
     "name": "stderr",
     "output_type": "stream",
     "text": [
      "C:\\ProgramData\\Anaconda3\\lib\\site-packages\\pingouin-0.2.9-py3.7.egg\\pingouin\\nonparametric.py:144: RuntimeWarning: invalid value encountered in true_divide\n",
      "  return (np.fabs(a - np.median(a)) / mad(a)) > k\n",
      "C:\\ProgramData\\Anaconda3\\lib\\site-packages\\pingouin-0.2.9-py3.7.egg\\pingouin\\nonparametric.py:144: RuntimeWarning: invalid value encountered in greater\n",
      "  return (np.fabs(a - np.median(a)) / mad(a)) > k\n"
     ]
    },
    {
     "name": "stdout",
     "output_type": "stream",
     "text": [
      "\n"
     ]
    },
    {
     "name": "stderr",
     "output_type": "stream",
     "text": [
      "C:\\ProgramData\\Anaconda3\\lib\\site-packages\\pingouin-0.2.9-py3.7.egg\\pingouin\\nonparametric.py:144: RuntimeWarning: invalid value encountered in true_divide\n",
      "  return (np.fabs(a - np.median(a)) / mad(a)) > k\n",
      "C:\\ProgramData\\Anaconda3\\lib\\site-packages\\pingouin-0.2.9-py3.7.egg\\pingouin\\nonparametric.py:144: RuntimeWarning: invalid value encountered in greater\n",
      "  return (np.fabs(a - np.median(a)) / mad(a)) > k\n"
     ]
    },
    {
     "name": "stdout",
     "output_type": "stream",
     "text": [
      "1 trial(s) droped due to inconsistent recording\n",
      "1 trial(s) droped due to inconsistent recording\n"
     ]
    },
    {
     "name": "stderr",
     "output_type": "stream",
     "text": [
      "C:\\ProgramData\\Anaconda3\\lib\\site-packages\\pingouin-0.2.9-py3.7.egg\\pingouin\\nonparametric.py:144: RuntimeWarning: invalid value encountered in true_divide\n",
      "  return (np.fabs(a - np.median(a)) / mad(a)) > k\n",
      "C:\\ProgramData\\Anaconda3\\lib\\site-packages\\pingouin-0.2.9-py3.7.egg\\pingouin\\nonparametric.py:144: RuntimeWarning: invalid value encountered in greater\n",
      "  return (np.fabs(a - np.median(a)) / mad(a)) > k\n",
      "C:\\ProgramData\\Anaconda3\\lib\\site-packages\\pingouin-0.2.9-py3.7.egg\\pingouin\\nonparametric.py:144: RuntimeWarning: invalid value encountered in true_divide\n",
      "  return (np.fabs(a - np.median(a)) / mad(a)) > k\n",
      "C:\\ProgramData\\Anaconda3\\lib\\site-packages\\pingouin-0.2.9-py3.7.egg\\pingouin\\nonparametric.py:144: RuntimeWarning: invalid value encountered in greater\n",
      "  return (np.fabs(a - np.median(a)) / mad(a)) > k\n"
     ]
    },
    {
     "name": "stdout",
     "output_type": "stream",
     "text": [
      "1 trial(s) droped due to inconsistent recording\n"
     ]
    },
    {
     "name": "stderr",
     "output_type": "stream",
     "text": [
      "C:\\ProgramData\\Anaconda3\\lib\\site-packages\\pingouin-0.2.9-py3.7.egg\\pingouin\\nonparametric.py:144: RuntimeWarning: invalid value encountered in true_divide\n",
      "  return (np.fabs(a - np.median(a)) / mad(a)) > k\n",
      "C:\\ProgramData\\Anaconda3\\lib\\site-packages\\pingouin-0.2.9-py3.7.egg\\pingouin\\nonparametric.py:144: RuntimeWarning: invalid value encountered in greater\n",
      "  return (np.fabs(a - np.median(a)) / mad(a)) > k\n"
     ]
    },
    {
     "name": "stdout",
     "output_type": "stream",
     "text": [
      "1 trial(s) droped due to inconsistent recording\n",
      "1 trial(s) droped due to inconsistent recording\n"
     ]
    },
    {
     "name": "stderr",
     "output_type": "stream",
     "text": [
      "C:\\ProgramData\\Anaconda3\\lib\\site-packages\\pingouin-0.2.9-py3.7.egg\\pingouin\\nonparametric.py:144: RuntimeWarning: invalid value encountered in true_divide\n",
      "  return (np.fabs(a - np.median(a)) / mad(a)) > k\n",
      "C:\\ProgramData\\Anaconda3\\lib\\site-packages\\pingouin-0.2.9-py3.7.egg\\pingouin\\nonparametric.py:144: RuntimeWarning: invalid value encountered in greater\n",
      "  return (np.fabs(a - np.median(a)) / mad(a)) > k\n",
      "C:\\ProgramData\\Anaconda3\\lib\\site-packages\\pingouin-0.2.9-py3.7.egg\\pingouin\\nonparametric.py:144: RuntimeWarning: invalid value encountered in true_divide\n",
      "  return (np.fabs(a - np.median(a)) / mad(a)) > k\n",
      "C:\\ProgramData\\Anaconda3\\lib\\site-packages\\pingouin-0.2.9-py3.7.egg\\pingouin\\nonparametric.py:144: RuntimeWarning: invalid value encountered in greater\n",
      "  return (np.fabs(a - np.median(a)) / mad(a)) > k\n"
     ]
    },
    {
     "name": "stdout",
     "output_type": "stream",
     "text": [
      "1 trial(s) droped due to inconsistent recording\n"
     ]
    },
    {
     "name": "stderr",
     "output_type": "stream",
     "text": [
      "C:\\ProgramData\\Anaconda3\\lib\\site-packages\\pingouin-0.2.9-py3.7.egg\\pingouin\\nonparametric.py:144: RuntimeWarning: invalid value encountered in true_divide\n",
      "  return (np.fabs(a - np.median(a)) / mad(a)) > k\n",
      "C:\\ProgramData\\Anaconda3\\lib\\site-packages\\pingouin-0.2.9-py3.7.egg\\pingouin\\nonparametric.py:144: RuntimeWarning: invalid value encountered in greater\n",
      "  return (np.fabs(a - np.median(a)) / mad(a)) > k\n"
     ]
    },
    {
     "name": "stdout",
     "output_type": "stream",
     "text": [
      "1 trial(s) droped due to inconsistent recording\n",
      "1 trial(s) droped due to inconsistent recording"
     ]
    },
    {
     "name": "stderr",
     "output_type": "stream",
     "text": [
      "C:\\ProgramData\\Anaconda3\\lib\\site-packages\\pingouin-0.2.9-py3.7.egg\\pingouin\\nonparametric.py:144: RuntimeWarning: invalid value encountered in true_divide\n",
      "  return (np.fabs(a - np.median(a)) / mad(a)) > k\n",
      "C:\\ProgramData\\Anaconda3\\lib\\site-packages\\pingouin-0.2.9-py3.7.egg\\pingouin\\nonparametric.py:144: RuntimeWarning: invalid value encountered in greater\n",
      "  return (np.fabs(a - np.median(a)) / mad(a)) > k\n"
     ]
    },
    {
     "name": "stdout",
     "output_type": "stream",
     "text": [
      "\n",
      "1 trial(s) droped due to inconsistent recording\n"
     ]
    },
    {
     "name": "stderr",
     "output_type": "stream",
     "text": [
      "C:\\ProgramData\\Anaconda3\\lib\\site-packages\\pingouin-0.2.9-py3.7.egg\\pingouin\\nonparametric.py:144: RuntimeWarning: invalid value encountered in true_divide\n",
      "  return (np.fabs(a - np.median(a)) / mad(a)) > k\n",
      "C:\\ProgramData\\Anaconda3\\lib\\site-packages\\pingouin-0.2.9-py3.7.egg\\pingouin\\nonparametric.py:144: RuntimeWarning: invalid value encountered in greater\n",
      "  return (np.fabs(a - np.median(a)) / mad(a)) > k\n",
      "C:\\ProgramData\\Anaconda3\\lib\\site-packages\\pingouin-0.2.9-py3.7.egg\\pingouin\\nonparametric.py:144: RuntimeWarning: invalid value encountered in true_divide\n",
      "  return (np.fabs(a - np.median(a)) / mad(a)) > k\n",
      "C:\\ProgramData\\Anaconda3\\lib\\site-packages\\pingouin-0.2.9-py3.7.egg\\pingouin\\nonparametric.py:144: RuntimeWarning: invalid value encountered in greater\n",
      "  return (np.fabs(a - np.median(a)) / mad(a)) > k\n"
     ]
    },
    {
     "name": "stdout",
     "output_type": "stream",
     "text": [
      "1 trial(s) droped due to inconsistent recording\n",
      "1 trial(s) droped due to inconsistent recording\n"
     ]
    },
    {
     "name": "stderr",
     "output_type": "stream",
     "text": [
      "C:\\ProgramData\\Anaconda3\\lib\\site-packages\\pingouin-0.2.9-py3.7.egg\\pingouin\\nonparametric.py:144: RuntimeWarning: invalid value encountered in true_divide\n",
      "  return (np.fabs(a - np.median(a)) / mad(a)) > k\n",
      "C:\\ProgramData\\Anaconda3\\lib\\site-packages\\pingouin-0.2.9-py3.7.egg\\pingouin\\nonparametric.py:144: RuntimeWarning: invalid value encountered in greater\n",
      "  return (np.fabs(a - np.median(a)) / mad(a)) > k\n",
      "C:\\ProgramData\\Anaconda3\\lib\\site-packages\\pingouin-0.2.9-py3.7.egg\\pingouin\\nonparametric.py:144: RuntimeWarning: invalid value encountered in true_divide\n",
      "  return (np.fabs(a - np.median(a)) / mad(a)) > k\n",
      "C:\\ProgramData\\Anaconda3\\lib\\site-packages\\pingouin-0.2.9-py3.7.egg\\pingouin\\nonparametric.py:144: RuntimeWarning: invalid value encountered in greater\n",
      "  return (np.fabs(a - np.median(a)) / mad(a)) > k\n"
     ]
    },
    {
     "name": "stdout",
     "output_type": "stream",
     "text": [
      "1 trial(s) droped due to inconsistent recording\n"
     ]
    },
    {
     "name": "stderr",
     "output_type": "stream",
     "text": [
      "C:\\ProgramData\\Anaconda3\\lib\\site-packages\\pingouin-0.2.9-py3.7.egg\\pingouin\\nonparametric.py:144: RuntimeWarning: invalid value encountered in true_divide\n",
      "  return (np.fabs(a - np.median(a)) / mad(a)) > k\n",
      "C:\\ProgramData\\Anaconda3\\lib\\site-packages\\pingouin-0.2.9-py3.7.egg\\pingouin\\nonparametric.py:144: RuntimeWarning: invalid value encountered in greater\n",
      "  return (np.fabs(a - np.median(a)) / mad(a)) > k\n"
     ]
    },
    {
     "name": "stdout",
     "output_type": "stream",
     "text": [
      "1 trial(s) droped due to inconsistent recording\n",
      "1 trial(s) droped due to inconsistent recording\n"
     ]
    },
    {
     "name": "stderr",
     "output_type": "stream",
     "text": [
      "C:\\ProgramData\\Anaconda3\\lib\\site-packages\\pingouin-0.2.9-py3.7.egg\\pingouin\\nonparametric.py:144: RuntimeWarning: invalid value encountered in true_divide\n",
      "  return (np.fabs(a - np.median(a)) / mad(a)) > k\n",
      "C:\\ProgramData\\Anaconda3\\lib\\site-packages\\pingouin-0.2.9-py3.7.egg\\pingouin\\nonparametric.py:144: RuntimeWarning: invalid value encountered in greater\n",
      "  return (np.fabs(a - np.median(a)) / mad(a)) > k\n",
      "C:\\ProgramData\\Anaconda3\\lib\\site-packages\\pingouin-0.2.9-py3.7.egg\\pingouin\\nonparametric.py:144: RuntimeWarning: invalid value encountered in true_divide\n",
      "  return (np.fabs(a - np.median(a)) / mad(a)) > k\n",
      "C:\\ProgramData\\Anaconda3\\lib\\site-packages\\pingouin-0.2.9-py3.7.egg\\pingouin\\nonparametric.py:144: RuntimeWarning: invalid value encountered in greater\n",
      "  return (np.fabs(a - np.median(a)) / mad(a)) > k\n"
     ]
    },
    {
     "name": "stdout",
     "output_type": "stream",
     "text": [
      "1 trial(s) droped due to inconsistent recording\n",
      "1 trial(s) droped due to inconsistent recording\n"
     ]
    },
    {
     "name": "stderr",
     "output_type": "stream",
     "text": [
      "C:\\ProgramData\\Anaconda3\\lib\\site-packages\\pingouin-0.2.9-py3.7.egg\\pingouin\\nonparametric.py:144: RuntimeWarning: invalid value encountered in true_divide\n",
      "  return (np.fabs(a - np.median(a)) / mad(a)) > k\n",
      "C:\\ProgramData\\Anaconda3\\lib\\site-packages\\pingouin-0.2.9-py3.7.egg\\pingouin\\nonparametric.py:144: RuntimeWarning: invalid value encountered in greater\n",
      "  return (np.fabs(a - np.median(a)) / mad(a)) > k\n",
      "C:\\ProgramData\\Anaconda3\\lib\\site-packages\\pingouin-0.2.9-py3.7.egg\\pingouin\\nonparametric.py:144: RuntimeWarning: invalid value encountered in true_divide\n",
      "  return (np.fabs(a - np.median(a)) / mad(a)) > k\n",
      "C:\\ProgramData\\Anaconda3\\lib\\site-packages\\pingouin-0.2.9-py3.7.egg\\pingouin\\nonparametric.py:144: RuntimeWarning: invalid value encountered in greater\n",
      "  return (np.fabs(a - np.median(a)) / mad(a)) > k\n"
     ]
    },
    {
     "name": "stdout",
     "output_type": "stream",
     "text": [
      "1 trial(s) droped due to inconsistent recording\n",
      "1 trial(s) droped due to inconsistent recording\n"
     ]
    },
    {
     "name": "stderr",
     "output_type": "stream",
     "text": [
      "C:\\ProgramData\\Anaconda3\\lib\\site-packages\\pingouin-0.2.9-py3.7.egg\\pingouin\\nonparametric.py:144: RuntimeWarning: invalid value encountered in true_divide\n",
      "  return (np.fabs(a - np.median(a)) / mad(a)) > k\n",
      "C:\\ProgramData\\Anaconda3\\lib\\site-packages\\pingouin-0.2.9-py3.7.egg\\pingouin\\nonparametric.py:144: RuntimeWarning: invalid value encountered in greater\n",
      "  return (np.fabs(a - np.median(a)) / mad(a)) > k\n",
      "C:\\ProgramData\\Anaconda3\\lib\\site-packages\\pingouin-0.2.9-py3.7.egg\\pingouin\\nonparametric.py:144: RuntimeWarning: invalid value encountered in true_divide\n",
      "  return (np.fabs(a - np.median(a)) / mad(a)) > k\n",
      "C:\\ProgramData\\Anaconda3\\lib\\site-packages\\pingouin-0.2.9-py3.7.egg\\pingouin\\nonparametric.py:144: RuntimeWarning: invalid value encountered in greater\n",
      "  return (np.fabs(a - np.median(a)) / mad(a)) > k\n"
     ]
    },
    {
     "name": "stdout",
     "output_type": "stream",
     "text": [
      "1 trial(s) droped due to inconsistent recording\n",
      "1 trial(s) droped due to inconsistent recording\n"
     ]
    },
    {
     "name": "stderr",
     "output_type": "stream",
     "text": [
      "C:\\ProgramData\\Anaconda3\\lib\\site-packages\\pingouin-0.2.9-py3.7.egg\\pingouin\\nonparametric.py:144: RuntimeWarning: invalid value encountered in true_divide\n",
      "  return (np.fabs(a - np.median(a)) / mad(a)) > k\n",
      "C:\\ProgramData\\Anaconda3\\lib\\site-packages\\pingouin-0.2.9-py3.7.egg\\pingouin\\nonparametric.py:144: RuntimeWarning: invalid value encountered in greater\n",
      "  return (np.fabs(a - np.median(a)) / mad(a)) > k\n",
      "C:\\ProgramData\\Anaconda3\\lib\\site-packages\\pingouin-0.2.9-py3.7.egg\\pingouin\\nonparametric.py:144: RuntimeWarning: invalid value encountered in true_divide\n",
      "  return (np.fabs(a - np.median(a)) / mad(a)) > k\n",
      "C:\\ProgramData\\Anaconda3\\lib\\site-packages\\pingouin-0.2.9-py3.7.egg\\pingouin\\nonparametric.py:144: RuntimeWarning: invalid value encountered in greater\n",
      "  return (np.fabs(a - np.median(a)) / mad(a)) > k\n"
     ]
    },
    {
     "name": "stdout",
     "output_type": "stream",
     "text": [
      "1 trial(s) droped due to inconsistent recording\n",
      "1 trial(s) droped due to inconsistent recording\n"
     ]
    },
    {
     "name": "stderr",
     "output_type": "stream",
     "text": [
      "C:\\ProgramData\\Anaconda3\\lib\\site-packages\\pingouin-0.2.9-py3.7.egg\\pingouin\\nonparametric.py:144: RuntimeWarning: invalid value encountered in true_divide\n",
      "  return (np.fabs(a - np.median(a)) / mad(a)) > k\n",
      "C:\\ProgramData\\Anaconda3\\lib\\site-packages\\pingouin-0.2.9-py3.7.egg\\pingouin\\nonparametric.py:144: RuntimeWarning: invalid value encountered in greater\n",
      "  return (np.fabs(a - np.median(a)) / mad(a)) > k\n",
      "C:\\ProgramData\\Anaconda3\\lib\\site-packages\\pingouin-0.2.9-py3.7.egg\\pingouin\\nonparametric.py:144: RuntimeWarning: invalid value encountered in true_divide\n",
      "  return (np.fabs(a - np.median(a)) / mad(a)) > k\n",
      "C:\\ProgramData\\Anaconda3\\lib\\site-packages\\pingouin-0.2.9-py3.7.egg\\pingouin\\nonparametric.py:144: RuntimeWarning: invalid value encountered in greater\n",
      "  return (np.fabs(a - np.median(a)) / mad(a)) > k\n"
     ]
    },
    {
     "name": "stdout",
     "output_type": "stream",
     "text": [
      "1 trial(s) droped due to inconsistent recording\n",
      "1 trial(s) droped due to inconsistent recording\n"
     ]
    },
    {
     "name": "stderr",
     "output_type": "stream",
     "text": [
      "C:\\ProgramData\\Anaconda3\\lib\\site-packages\\pingouin-0.2.9-py3.7.egg\\pingouin\\nonparametric.py:144: RuntimeWarning: invalid value encountered in true_divide\n",
      "  return (np.fabs(a - np.median(a)) / mad(a)) > k\n",
      "C:\\ProgramData\\Anaconda3\\lib\\site-packages\\pingouin-0.2.9-py3.7.egg\\pingouin\\nonparametric.py:144: RuntimeWarning: invalid value encountered in greater\n",
      "  return (np.fabs(a - np.median(a)) / mad(a)) > k\n",
      "C:\\ProgramData\\Anaconda3\\lib\\site-packages\\pingouin-0.2.9-py3.7.egg\\pingouin\\nonparametric.py:144: RuntimeWarning: invalid value encountered in true_divide\n",
      "  return (np.fabs(a - np.median(a)) / mad(a)) > k\n",
      "C:\\ProgramData\\Anaconda3\\lib\\site-packages\\pingouin-0.2.9-py3.7.egg\\pingouin\\nonparametric.py:144: RuntimeWarning: invalid value encountered in greater\n",
      "  return (np.fabs(a - np.median(a)) / mad(a)) > k\n"
     ]
    },
    {
     "name": "stdout",
     "output_type": "stream",
     "text": [
      "1 trial(s) droped due to inconsistent recording\n",
      "1 trial(s) droped due to inconsistent recording\n"
     ]
    },
    {
     "name": "stderr",
     "output_type": "stream",
     "text": [
      "C:\\ProgramData\\Anaconda3\\lib\\site-packages\\pingouin-0.2.9-py3.7.egg\\pingouin\\nonparametric.py:144: RuntimeWarning: invalid value encountered in true_divide\n",
      "  return (np.fabs(a - np.median(a)) / mad(a)) > k\n",
      "C:\\ProgramData\\Anaconda3\\lib\\site-packages\\pingouin-0.2.9-py3.7.egg\\pingouin\\nonparametric.py:144: RuntimeWarning: invalid value encountered in greater\n",
      "  return (np.fabs(a - np.median(a)) / mad(a)) > k\n",
      "C:\\ProgramData\\Anaconda3\\lib\\site-packages\\pingouin-0.2.9-py3.7.egg\\pingouin\\nonparametric.py:144: RuntimeWarning: invalid value encountered in true_divide\n",
      "  return (np.fabs(a - np.median(a)) / mad(a)) > k\n",
      "C:\\ProgramData\\Anaconda3\\lib\\site-packages\\pingouin-0.2.9-py3.7.egg\\pingouin\\nonparametric.py:144: RuntimeWarning: invalid value encountered in greater\n",
      "  return (np.fabs(a - np.median(a)) / mad(a)) > k\n"
     ]
    },
    {
     "name": "stdout",
     "output_type": "stream",
     "text": [
      "1 trial(s) droped due to inconsistent recording\n",
      "1 trial(s) droped due to inconsistent recording\n"
     ]
    },
    {
     "name": "stderr",
     "output_type": "stream",
     "text": [
      "C:\\ProgramData\\Anaconda3\\lib\\site-packages\\pingouin-0.2.9-py3.7.egg\\pingouin\\nonparametric.py:144: RuntimeWarning: invalid value encountered in true_divide\n",
      "  return (np.fabs(a - np.median(a)) / mad(a)) > k\n",
      "C:\\ProgramData\\Anaconda3\\lib\\site-packages\\pingouin-0.2.9-py3.7.egg\\pingouin\\nonparametric.py:144: RuntimeWarning: invalid value encountered in greater\n",
      "  return (np.fabs(a - np.median(a)) / mad(a)) > k\n",
      "C:\\ProgramData\\Anaconda3\\lib\\site-packages\\pingouin-0.2.9-py3.7.egg\\pingouin\\nonparametric.py:144: RuntimeWarning: invalid value encountered in true_divide\n",
      "  return (np.fabs(a - np.median(a)) / mad(a)) > k\n",
      "C:\\ProgramData\\Anaconda3\\lib\\site-packages\\pingouin-0.2.9-py3.7.egg\\pingouin\\nonparametric.py:144: RuntimeWarning: invalid value encountered in greater\n",
      "  return (np.fabs(a - np.median(a)) / mad(a)) > k\n"
     ]
    },
    {
     "name": "stdout",
     "output_type": "stream",
     "text": [
      "1 trial(s) droped due to inconsistent recording\n",
      "1 trial(s) droped due to inconsistent recording\n"
     ]
    },
    {
     "name": "stderr",
     "output_type": "stream",
     "text": [
      "C:\\ProgramData\\Anaconda3\\lib\\site-packages\\pingouin-0.2.9-py3.7.egg\\pingouin\\nonparametric.py:144: RuntimeWarning: invalid value encountered in true_divide\n",
      "  return (np.fabs(a - np.median(a)) / mad(a)) > k\n",
      "C:\\ProgramData\\Anaconda3\\lib\\site-packages\\pingouin-0.2.9-py3.7.egg\\pingouin\\nonparametric.py:144: RuntimeWarning: invalid value encountered in greater\n",
      "  return (np.fabs(a - np.median(a)) / mad(a)) > k\n",
      "C:\\ProgramData\\Anaconda3\\lib\\site-packages\\pingouin-0.2.9-py3.7.egg\\pingouin\\nonparametric.py:144: RuntimeWarning: invalid value encountered in true_divide\n",
      "  return (np.fabs(a - np.median(a)) / mad(a)) > k\n",
      "C:\\ProgramData\\Anaconda3\\lib\\site-packages\\pingouin-0.2.9-py3.7.egg\\pingouin\\nonparametric.py:144: RuntimeWarning: invalid value encountered in greater\n",
      "  return (np.fabs(a - np.median(a)) / mad(a)) > k\n"
     ]
    },
    {
     "name": "stdout",
     "output_type": "stream",
     "text": [
      "1 trial(s) droped due to inconsistent recording\n",
      "1 trial(s) droped due to inconsistent recording\n"
     ]
    },
    {
     "name": "stderr",
     "output_type": "stream",
     "text": [
      "C:\\ProgramData\\Anaconda3\\lib\\site-packages\\pingouin-0.2.9-py3.7.egg\\pingouin\\nonparametric.py:144: RuntimeWarning: invalid value encountered in true_divide\n",
      "  return (np.fabs(a - np.median(a)) / mad(a)) > k\n",
      "C:\\ProgramData\\Anaconda3\\lib\\site-packages\\pingouin-0.2.9-py3.7.egg\\pingouin\\nonparametric.py:144: RuntimeWarning: invalid value encountered in greater\n",
      "  return (np.fabs(a - np.median(a)) / mad(a)) > k\n",
      "C:\\ProgramData\\Anaconda3\\lib\\site-packages\\pingouin-0.2.9-py3.7.egg\\pingouin\\nonparametric.py:144: RuntimeWarning: invalid value encountered in true_divide\n",
      "  return (np.fabs(a - np.median(a)) / mad(a)) > k\n",
      "C:\\ProgramData\\Anaconda3\\lib\\site-packages\\pingouin-0.2.9-py3.7.egg\\pingouin\\nonparametric.py:144: RuntimeWarning: invalid value encountered in greater\n",
      "  return (np.fabs(a - np.median(a)) / mad(a)) > k\n"
     ]
    },
    {
     "name": "stdout",
     "output_type": "stream",
     "text": [
      "1 trial(s) droped due to inconsistent recording\n",
      "1 trial(s) droped due to inconsistent recording\n"
     ]
    },
    {
     "name": "stderr",
     "output_type": "stream",
     "text": [
      "C:\\ProgramData\\Anaconda3\\lib\\site-packages\\pingouin-0.2.9-py3.7.egg\\pingouin\\nonparametric.py:144: RuntimeWarning: invalid value encountered in true_divide\n",
      "  return (np.fabs(a - np.median(a)) / mad(a)) > k\n",
      "C:\\ProgramData\\Anaconda3\\lib\\site-packages\\pingouin-0.2.9-py3.7.egg\\pingouin\\nonparametric.py:144: RuntimeWarning: invalid value encountered in greater\n",
      "  return (np.fabs(a - np.median(a)) / mad(a)) > k\n",
      "C:\\ProgramData\\Anaconda3\\lib\\site-packages\\pingouin-0.2.9-py3.7.egg\\pingouin\\nonparametric.py:144: RuntimeWarning: invalid value encountered in true_divide\n",
      "  return (np.fabs(a - np.median(a)) / mad(a)) > k\n",
      "C:\\ProgramData\\Anaconda3\\lib\\site-packages\\pingouin-0.2.9-py3.7.egg\\pingouin\\nonparametric.py:144: RuntimeWarning: invalid value encountered in greater\n",
      "  return (np.fabs(a - np.median(a)) / mad(a)) > k\n"
     ]
    },
    {
     "name": "stdout",
     "output_type": "stream",
     "text": [
      "1 trial(s) droped due to inconsistent recording\n"
     ]
    },
    {
     "name": "stderr",
     "output_type": "stream",
     "text": [
      "C:\\ProgramData\\Anaconda3\\lib\\site-packages\\pingouin-0.2.9-py3.7.egg\\pingouin\\nonparametric.py:144: RuntimeWarning: invalid value encountered in true_divide\n",
      "  return (np.fabs(a - np.median(a)) / mad(a)) > k\n",
      "C:\\ProgramData\\Anaconda3\\lib\\site-packages\\pingouin-0.2.9-py3.7.egg\\pingouin\\nonparametric.py:144: RuntimeWarning: invalid value encountered in greater\n",
      "  return (np.fabs(a - np.median(a)) / mad(a)) > k\n"
     ]
    },
    {
     "name": "stdout",
     "output_type": "stream",
     "text": [
      "1 trial(s) droped due to inconsistent recording\n"
     ]
    },
    {
     "name": "stderr",
     "output_type": "stream",
     "text": [
      "C:\\ProgramData\\Anaconda3\\lib\\site-packages\\pingouin-0.2.9-py3.7.egg\\pingouin\\nonparametric.py:144: RuntimeWarning: invalid value encountered in true_divide\n",
      "  return (np.fabs(a - np.median(a)) / mad(a)) > k\n",
      "C:\\ProgramData\\Anaconda3\\lib\\site-packages\\pingouin-0.2.9-py3.7.egg\\pingouin\\nonparametric.py:144: RuntimeWarning: invalid value encountered in greater\n",
      "  return (np.fabs(a - np.median(a)) / mad(a)) > k\n"
     ]
    },
    {
     "name": "stdout",
     "output_type": "stream",
     "text": [
      "1 trial(s) droped due to inconsistent recording\n"
     ]
    },
    {
     "name": "stderr",
     "output_type": "stream",
     "text": [
      "C:\\ProgramData\\Anaconda3\\lib\\site-packages\\pingouin-0.2.9-py3.7.egg\\pingouin\\nonparametric.py:144: RuntimeWarning: invalid value encountered in true_divide\n",
      "  return (np.fabs(a - np.median(a)) / mad(a)) > k\n",
      "C:\\ProgramData\\Anaconda3\\lib\\site-packages\\pingouin-0.2.9-py3.7.egg\\pingouin\\nonparametric.py:144: RuntimeWarning: invalid value encountered in greater\n",
      "  return (np.fabs(a - np.median(a)) / mad(a)) > k\n"
     ]
    },
    {
     "name": "stdout",
     "output_type": "stream",
     "text": [
      "1 trial(s) droped due to inconsistent recording\n"
     ]
    },
    {
     "name": "stderr",
     "output_type": "stream",
     "text": [
      "C:\\ProgramData\\Anaconda3\\lib\\site-packages\\pingouin-0.2.9-py3.7.egg\\pingouin\\nonparametric.py:144: RuntimeWarning: invalid value encountered in true_divide\n",
      "  return (np.fabs(a - np.median(a)) / mad(a)) > k\n",
      "C:\\ProgramData\\Anaconda3\\lib\\site-packages\\pingouin-0.2.9-py3.7.egg\\pingouin\\nonparametric.py:144: RuntimeWarning: invalid value encountered in greater\n",
      "  return (np.fabs(a - np.median(a)) / mad(a)) > k\n"
     ]
    },
    {
     "name": "stdout",
     "output_type": "stream",
     "text": [
      "1 trial(s) droped due to inconsistent recording\n",
      "1 trial(s) droped due to inconsistent recording"
     ]
    },
    {
     "name": "stderr",
     "output_type": "stream",
     "text": [
      "C:\\ProgramData\\Anaconda3\\lib\\site-packages\\pingouin-0.2.9-py3.7.egg\\pingouin\\nonparametric.py:144: RuntimeWarning: invalid value encountered in true_divide\n",
      "  return (np.fabs(a - np.median(a)) / mad(a)) > k\n",
      "C:\\ProgramData\\Anaconda3\\lib\\site-packages\\pingouin-0.2.9-py3.7.egg\\pingouin\\nonparametric.py:144: RuntimeWarning: invalid value encountered in greater\n",
      "  return (np.fabs(a - np.median(a)) / mad(a)) > k\n"
     ]
    },
    {
     "name": "stdout",
     "output_type": "stream",
     "text": [
      "\n",
      "1 trial(s) droped due to inconsistent recording\n"
     ]
    },
    {
     "name": "stderr",
     "output_type": "stream",
     "text": [
      "C:\\ProgramData\\Anaconda3\\lib\\site-packages\\pingouin-0.2.9-py3.7.egg\\pingouin\\nonparametric.py:144: RuntimeWarning: invalid value encountered in true_divide\n",
      "  return (np.fabs(a - np.median(a)) / mad(a)) > k\n",
      "C:\\ProgramData\\Anaconda3\\lib\\site-packages\\pingouin-0.2.9-py3.7.egg\\pingouin\\nonparametric.py:144: RuntimeWarning: invalid value encountered in greater\n",
      "  return (np.fabs(a - np.median(a)) / mad(a)) > k\n",
      "C:\\ProgramData\\Anaconda3\\lib\\site-packages\\pingouin-0.2.9-py3.7.egg\\pingouin\\nonparametric.py:144: RuntimeWarning: invalid value encountered in true_divide\n",
      "  return (np.fabs(a - np.median(a)) / mad(a)) > k\n",
      "C:\\ProgramData\\Anaconda3\\lib\\site-packages\\pingouin-0.2.9-py3.7.egg\\pingouin\\nonparametric.py:144: RuntimeWarning: invalid value encountered in greater\n",
      "  return (np.fabs(a - np.median(a)) / mad(a)) > k\n"
     ]
    },
    {
     "name": "stdout",
     "output_type": "stream",
     "text": [
      "1 trial(s) droped due to inconsistent recording\n",
      "1 trial(s) droped due to inconsistent recording\n"
     ]
    },
    {
     "name": "stderr",
     "output_type": "stream",
     "text": [
      "C:\\ProgramData\\Anaconda3\\lib\\site-packages\\pingouin-0.2.9-py3.7.egg\\pingouin\\nonparametric.py:144: RuntimeWarning: invalid value encountered in true_divide\n",
      "  return (np.fabs(a - np.median(a)) / mad(a)) > k\n",
      "C:\\ProgramData\\Anaconda3\\lib\\site-packages\\pingouin-0.2.9-py3.7.egg\\pingouin\\nonparametric.py:144: RuntimeWarning: invalid value encountered in greater\n",
      "  return (np.fabs(a - np.median(a)) / mad(a)) > k\n",
      "C:\\ProgramData\\Anaconda3\\lib\\site-packages\\pingouin-0.2.9-py3.7.egg\\pingouin\\nonparametric.py:144: RuntimeWarning: invalid value encountered in true_divide\n",
      "  return (np.fabs(a - np.median(a)) / mad(a)) > k\n",
      "C:\\ProgramData\\Anaconda3\\lib\\site-packages\\pingouin-0.2.9-py3.7.egg\\pingouin\\nonparametric.py:144: RuntimeWarning: invalid value encountered in greater\n",
      "  return (np.fabs(a - np.median(a)) / mad(a)) > k\n"
     ]
    },
    {
     "name": "stdout",
     "output_type": "stream",
     "text": [
      "1 trial(s) droped due to inconsistent recording\n",
      "1 trial(s) droped due to inconsistent recording\n"
     ]
    },
    {
     "name": "stderr",
     "output_type": "stream",
     "text": [
      "C:\\ProgramData\\Anaconda3\\lib\\site-packages\\pingouin-0.2.9-py3.7.egg\\pingouin\\nonparametric.py:144: RuntimeWarning: invalid value encountered in true_divide\n",
      "  return (np.fabs(a - np.median(a)) / mad(a)) > k\n",
      "C:\\ProgramData\\Anaconda3\\lib\\site-packages\\pingouin-0.2.9-py3.7.egg\\pingouin\\nonparametric.py:144: RuntimeWarning: invalid value encountered in greater\n",
      "  return (np.fabs(a - np.median(a)) / mad(a)) > k\n",
      "C:\\ProgramData\\Anaconda3\\lib\\site-packages\\pingouin-0.2.9-py3.7.egg\\pingouin\\nonparametric.py:144: RuntimeWarning: invalid value encountered in true_divide\n",
      "  return (np.fabs(a - np.median(a)) / mad(a)) > k\n",
      "C:\\ProgramData\\Anaconda3\\lib\\site-packages\\pingouin-0.2.9-py3.7.egg\\pingouin\\nonparametric.py:144: RuntimeWarning: invalid value encountered in greater\n",
      "  return (np.fabs(a - np.median(a)) / mad(a)) > k\n"
     ]
    },
    {
     "name": "stdout",
     "output_type": "stream",
     "text": [
      "1 trial(s) droped due to inconsistent recording\n",
      "1 trial(s) droped due to inconsistent recording\n"
     ]
    },
    {
     "name": "stderr",
     "output_type": "stream",
     "text": [
      "C:\\ProgramData\\Anaconda3\\lib\\site-packages\\pingouin-0.2.9-py3.7.egg\\pingouin\\nonparametric.py:144: RuntimeWarning: invalid value encountered in true_divide\n",
      "  return (np.fabs(a - np.median(a)) / mad(a)) > k\n",
      "C:\\ProgramData\\Anaconda3\\lib\\site-packages\\pingouin-0.2.9-py3.7.egg\\pingouin\\nonparametric.py:144: RuntimeWarning: invalid value encountered in greater\n",
      "  return (np.fabs(a - np.median(a)) / mad(a)) > k\n",
      "C:\\ProgramData\\Anaconda3\\lib\\site-packages\\pingouin-0.2.9-py3.7.egg\\pingouin\\nonparametric.py:144: RuntimeWarning: invalid value encountered in true_divide\n",
      "  return (np.fabs(a - np.median(a)) / mad(a)) > k\n",
      "C:\\ProgramData\\Anaconda3\\lib\\site-packages\\pingouin-0.2.9-py3.7.egg\\pingouin\\nonparametric.py:144: RuntimeWarning: invalid value encountered in greater\n",
      "  return (np.fabs(a - np.median(a)) / mad(a)) > k\n"
     ]
    },
    {
     "name": "stdout",
     "output_type": "stream",
     "text": [
      "1 trial(s) droped due to inconsistent recording\n"
     ]
    },
    {
     "name": "stderr",
     "output_type": "stream",
     "text": [
      "C:\\ProgramData\\Anaconda3\\lib\\site-packages\\pingouin-0.2.9-py3.7.egg\\pingouin\\nonparametric.py:144: RuntimeWarning: invalid value encountered in true_divide\n",
      "  return (np.fabs(a - np.median(a)) / mad(a)) > k\n",
      "C:\\ProgramData\\Anaconda3\\lib\\site-packages\\pingouin-0.2.9-py3.7.egg\\pingouin\\nonparametric.py:144: RuntimeWarning: invalid value encountered in greater\n",
      "  return (np.fabs(a - np.median(a)) / mad(a)) > k\n"
     ]
    },
    {
     "name": "stdout",
     "output_type": "stream",
     "text": [
      "1 trial(s) droped due to inconsistent recording\n",
      "1 trial(s) droped due to inconsistent recording\n"
     ]
    },
    {
     "name": "stderr",
     "output_type": "stream",
     "text": [
      "C:\\ProgramData\\Anaconda3\\lib\\site-packages\\pingouin-0.2.9-py3.7.egg\\pingouin\\nonparametric.py:144: RuntimeWarning: invalid value encountered in true_divide\n",
      "  return (np.fabs(a - np.median(a)) / mad(a)) > k\n",
      "C:\\ProgramData\\Anaconda3\\lib\\site-packages\\pingouin-0.2.9-py3.7.egg\\pingouin\\nonparametric.py:144: RuntimeWarning: invalid value encountered in greater\n",
      "  return (np.fabs(a - np.median(a)) / mad(a)) > k\n",
      "C:\\ProgramData\\Anaconda3\\lib\\site-packages\\pingouin-0.2.9-py3.7.egg\\pingouin\\nonparametric.py:144: RuntimeWarning: invalid value encountered in true_divide\n",
      "  return (np.fabs(a - np.median(a)) / mad(a)) > k\n",
      "C:\\ProgramData\\Anaconda3\\lib\\site-packages\\pingouin-0.2.9-py3.7.egg\\pingouin\\nonparametric.py:144: RuntimeWarning: invalid value encountered in greater\n",
      "  return (np.fabs(a - np.median(a)) / mad(a)) > k\n"
     ]
    },
    {
     "name": "stdout",
     "output_type": "stream",
     "text": [
      "1 trial(s) droped due to inconsistent recording\n",
      "1 trial(s) droped due to inconsistent recording\n"
     ]
    },
    {
     "name": "stderr",
     "output_type": "stream",
     "text": [
      "C:\\ProgramData\\Anaconda3\\lib\\site-packages\\pingouin-0.2.9-py3.7.egg\\pingouin\\nonparametric.py:144: RuntimeWarning: invalid value encountered in true_divide\n",
      "  return (np.fabs(a - np.median(a)) / mad(a)) > k\n",
      "C:\\ProgramData\\Anaconda3\\lib\\site-packages\\pingouin-0.2.9-py3.7.egg\\pingouin\\nonparametric.py:144: RuntimeWarning: invalid value encountered in greater\n",
      "  return (np.fabs(a - np.median(a)) / mad(a)) > k\n",
      "C:\\ProgramData\\Anaconda3\\lib\\site-packages\\pingouin-0.2.9-py3.7.egg\\pingouin\\nonparametric.py:144: RuntimeWarning: invalid value encountered in true_divide\n",
      "  return (np.fabs(a - np.median(a)) / mad(a)) > k\n",
      "C:\\ProgramData\\Anaconda3\\lib\\site-packages\\pingouin-0.2.9-py3.7.egg\\pingouin\\nonparametric.py:144: RuntimeWarning: invalid value encountered in greater\n",
      "  return (np.fabs(a - np.median(a)) / mad(a)) > k\n"
     ]
    },
    {
     "name": "stdout",
     "output_type": "stream",
     "text": [
      "1 trial(s) droped due to inconsistent recording\n",
      "1 trial(s) droped due to inconsistent recording\n"
     ]
    },
    {
     "name": "stderr",
     "output_type": "stream",
     "text": [
      "C:\\ProgramData\\Anaconda3\\lib\\site-packages\\pingouin-0.2.9-py3.7.egg\\pingouin\\nonparametric.py:144: RuntimeWarning: invalid value encountered in true_divide\n",
      "  return (np.fabs(a - np.median(a)) / mad(a)) > k\n",
      "C:\\ProgramData\\Anaconda3\\lib\\site-packages\\pingouin-0.2.9-py3.7.egg\\pingouin\\nonparametric.py:144: RuntimeWarning: invalid value encountered in greater\n",
      "  return (np.fabs(a - np.median(a)) / mad(a)) > k\n",
      "C:\\ProgramData\\Anaconda3\\lib\\site-packages\\pingouin-0.2.9-py3.7.egg\\pingouin\\nonparametric.py:144: RuntimeWarning: invalid value encountered in true_divide\n",
      "  return (np.fabs(a - np.median(a)) / mad(a)) > k\n",
      "C:\\ProgramData\\Anaconda3\\lib\\site-packages\\pingouin-0.2.9-py3.7.egg\\pingouin\\nonparametric.py:144: RuntimeWarning: invalid value encountered in greater\n",
      "  return (np.fabs(a - np.median(a)) / mad(a)) > k\n"
     ]
    },
    {
     "name": "stdout",
     "output_type": "stream",
     "text": [
      "1 trial(s) droped due to inconsistent recording\n",
      "1 trial(s) droped due to inconsistent recording\n"
     ]
    },
    {
     "name": "stderr",
     "output_type": "stream",
     "text": [
      "C:\\ProgramData\\Anaconda3\\lib\\site-packages\\pingouin-0.2.9-py3.7.egg\\pingouin\\nonparametric.py:144: RuntimeWarning: invalid value encountered in true_divide\n",
      "  return (np.fabs(a - np.median(a)) / mad(a)) > k\n",
      "C:\\ProgramData\\Anaconda3\\lib\\site-packages\\pingouin-0.2.9-py3.7.egg\\pingouin\\nonparametric.py:144: RuntimeWarning: invalid value encountered in greater\n",
      "  return (np.fabs(a - np.median(a)) / mad(a)) > k\n",
      "C:\\ProgramData\\Anaconda3\\lib\\site-packages\\pingouin-0.2.9-py3.7.egg\\pingouin\\nonparametric.py:144: RuntimeWarning: invalid value encountered in true_divide\n",
      "  return (np.fabs(a - np.median(a)) / mad(a)) > k\n",
      "C:\\ProgramData\\Anaconda3\\lib\\site-packages\\pingouin-0.2.9-py3.7.egg\\pingouin\\nonparametric.py:144: RuntimeWarning: invalid value encountered in greater\n",
      "  return (np.fabs(a - np.median(a)) / mad(a)) > k\n"
     ]
    },
    {
     "name": "stdout",
     "output_type": "stream",
     "text": [
      "1 trial(s) droped due to inconsistent recording\n",
      "1 trial(s) droped due to inconsistent recording\n"
     ]
    },
    {
     "name": "stderr",
     "output_type": "stream",
     "text": [
      "C:\\ProgramData\\Anaconda3\\lib\\site-packages\\pingouin-0.2.9-py3.7.egg\\pingouin\\nonparametric.py:144: RuntimeWarning: invalid value encountered in true_divide\n",
      "  return (np.fabs(a - np.median(a)) / mad(a)) > k\n",
      "C:\\ProgramData\\Anaconda3\\lib\\site-packages\\pingouin-0.2.9-py3.7.egg\\pingouin\\nonparametric.py:144: RuntimeWarning: invalid value encountered in greater\n",
      "  return (np.fabs(a - np.median(a)) / mad(a)) > k\n",
      "C:\\ProgramData\\Anaconda3\\lib\\site-packages\\pingouin-0.2.9-py3.7.egg\\pingouin\\nonparametric.py:144: RuntimeWarning: invalid value encountered in true_divide\n",
      "  return (np.fabs(a - np.median(a)) / mad(a)) > k\n",
      "C:\\ProgramData\\Anaconda3\\lib\\site-packages\\pingouin-0.2.9-py3.7.egg\\pingouin\\nonparametric.py:144: RuntimeWarning: invalid value encountered in greater\n",
      "  return (np.fabs(a - np.median(a)) / mad(a)) > k\n"
     ]
    },
    {
     "name": "stdout",
     "output_type": "stream",
     "text": [
      "1 trial(s) droped due to inconsistent recording\n",
      "1 trial(s) droped due to inconsistent recording\n"
     ]
    },
    {
     "name": "stderr",
     "output_type": "stream",
     "text": [
      "C:\\ProgramData\\Anaconda3\\lib\\site-packages\\pingouin-0.2.9-py3.7.egg\\pingouin\\nonparametric.py:144: RuntimeWarning: invalid value encountered in true_divide\n",
      "  return (np.fabs(a - np.median(a)) / mad(a)) > k\n",
      "C:\\ProgramData\\Anaconda3\\lib\\site-packages\\pingouin-0.2.9-py3.7.egg\\pingouin\\nonparametric.py:144: RuntimeWarning: invalid value encountered in greater\n",
      "  return (np.fabs(a - np.median(a)) / mad(a)) > k\n",
      "C:\\ProgramData\\Anaconda3\\lib\\site-packages\\pingouin-0.2.9-py3.7.egg\\pingouin\\nonparametric.py:144: RuntimeWarning: invalid value encountered in true_divide\n",
      "  return (np.fabs(a - np.median(a)) / mad(a)) > k\n",
      "C:\\ProgramData\\Anaconda3\\lib\\site-packages\\pingouin-0.2.9-py3.7.egg\\pingouin\\nonparametric.py:144: RuntimeWarning: invalid value encountered in greater\n",
      "  return (np.fabs(a - np.median(a)) / mad(a)) > k\n"
     ]
    },
    {
     "name": "stdout",
     "output_type": "stream",
     "text": [
      "1 trial(s) droped due to inconsistent recording\n",
      "1 trial(s) droped due to inconsistent recording"
     ]
    },
    {
     "name": "stderr",
     "output_type": "stream",
     "text": [
      "C:\\ProgramData\\Anaconda3\\lib\\site-packages\\pingouin-0.2.9-py3.7.egg\\pingouin\\nonparametric.py:144: RuntimeWarning: invalid value encountered in true_divide\n",
      "  return (np.fabs(a - np.median(a)) / mad(a)) > k\n",
      "C:\\ProgramData\\Anaconda3\\lib\\site-packages\\pingouin-0.2.9-py3.7.egg\\pingouin\\nonparametric.py:144: RuntimeWarning: invalid value encountered in greater\n",
      "  return (np.fabs(a - np.median(a)) / mad(a)) > k\n"
     ]
    },
    {
     "name": "stdout",
     "output_type": "stream",
     "text": [
      "\n"
     ]
    },
    {
     "name": "stderr",
     "output_type": "stream",
     "text": [
      "C:\\ProgramData\\Anaconda3\\lib\\site-packages\\pingouin-0.2.9-py3.7.egg\\pingouin\\nonparametric.py:144: RuntimeWarning: invalid value encountered in true_divide\n",
      "  return (np.fabs(a - np.median(a)) / mad(a)) > k\n",
      "C:\\ProgramData\\Anaconda3\\lib\\site-packages\\pingouin-0.2.9-py3.7.egg\\pingouin\\nonparametric.py:144: RuntimeWarning: invalid value encountered in greater\n",
      "  return (np.fabs(a - np.median(a)) / mad(a)) > k\n"
     ]
    },
    {
     "name": "stdout",
     "output_type": "stream",
     "text": [
      "1 trial(s) droped due to inconsistent recording\n",
      "1 trial(s) droped due to inconsistent recording\n"
     ]
    },
    {
     "name": "stderr",
     "output_type": "stream",
     "text": [
      "C:\\ProgramData\\Anaconda3\\lib\\site-packages\\pingouin-0.2.9-py3.7.egg\\pingouin\\nonparametric.py:144: RuntimeWarning: invalid value encountered in true_divide\n",
      "  return (np.fabs(a - np.median(a)) / mad(a)) > k\n",
      "C:\\ProgramData\\Anaconda3\\lib\\site-packages\\pingouin-0.2.9-py3.7.egg\\pingouin\\nonparametric.py:144: RuntimeWarning: invalid value encountered in greater\n",
      "  return (np.fabs(a - np.median(a)) / mad(a)) > k\n",
      "C:\\ProgramData\\Anaconda3\\lib\\site-packages\\pingouin-0.2.9-py3.7.egg\\pingouin\\nonparametric.py:144: RuntimeWarning: invalid value encountered in true_divide\n",
      "  return (np.fabs(a - np.median(a)) / mad(a)) > k\n",
      "C:\\ProgramData\\Anaconda3\\lib\\site-packages\\pingouin-0.2.9-py3.7.egg\\pingouin\\nonparametric.py:144: RuntimeWarning: invalid value encountered in greater\n",
      "  return (np.fabs(a - np.median(a)) / mad(a)) > k\n"
     ]
    },
    {
     "name": "stdout",
     "output_type": "stream",
     "text": [
      "1 trial(s) droped due to inconsistent recording\n",
      "1 trial(s) droped due to inconsistent recording\n"
     ]
    },
    {
     "name": "stderr",
     "output_type": "stream",
     "text": [
      "C:\\ProgramData\\Anaconda3\\lib\\site-packages\\pingouin-0.2.9-py3.7.egg\\pingouin\\nonparametric.py:144: RuntimeWarning: invalid value encountered in true_divide\n",
      "  return (np.fabs(a - np.median(a)) / mad(a)) > k\n",
      "C:\\ProgramData\\Anaconda3\\lib\\site-packages\\pingouin-0.2.9-py3.7.egg\\pingouin\\nonparametric.py:144: RuntimeWarning: invalid value encountered in greater\n",
      "  return (np.fabs(a - np.median(a)) / mad(a)) > k\n",
      "C:\\ProgramData\\Anaconda3\\lib\\site-packages\\pingouin-0.2.9-py3.7.egg\\pingouin\\nonparametric.py:144: RuntimeWarning: invalid value encountered in true_divide\n",
      "  return (np.fabs(a - np.median(a)) / mad(a)) > k\n",
      "C:\\ProgramData\\Anaconda3\\lib\\site-packages\\pingouin-0.2.9-py3.7.egg\\pingouin\\nonparametric.py:144: RuntimeWarning: invalid value encountered in greater\n",
      "  return (np.fabs(a - np.median(a)) / mad(a)) > k\n"
     ]
    },
    {
     "name": "stdout",
     "output_type": "stream",
     "text": [
      "1 trial(s) droped due to inconsistent recording\n",
      "1 trial(s) droped due to inconsistent recording\n"
     ]
    },
    {
     "name": "stderr",
     "output_type": "stream",
     "text": [
      "C:\\ProgramData\\Anaconda3\\lib\\site-packages\\pingouin-0.2.9-py3.7.egg\\pingouin\\nonparametric.py:144: RuntimeWarning: invalid value encountered in true_divide\n",
      "  return (np.fabs(a - np.median(a)) / mad(a)) > k\n",
      "C:\\ProgramData\\Anaconda3\\lib\\site-packages\\pingouin-0.2.9-py3.7.egg\\pingouin\\nonparametric.py:144: RuntimeWarning: invalid value encountered in greater\n",
      "  return (np.fabs(a - np.median(a)) / mad(a)) > k\n",
      "C:\\ProgramData\\Anaconda3\\lib\\site-packages\\pingouin-0.2.9-py3.7.egg\\pingouin\\nonparametric.py:144: RuntimeWarning: invalid value encountered in true_divide\n",
      "  return (np.fabs(a - np.median(a)) / mad(a)) > k\n",
      "C:\\ProgramData\\Anaconda3\\lib\\site-packages\\pingouin-0.2.9-py3.7.egg\\pingouin\\nonparametric.py:144: RuntimeWarning: invalid value encountered in greater\n",
      "  return (np.fabs(a - np.median(a)) / mad(a)) > k\n"
     ]
    },
    {
     "name": "stdout",
     "output_type": "stream",
     "text": [
      "1 trial(s) droped due to inconsistent recording\n",
      "1 trial(s) droped due to inconsistent recording\n"
     ]
    },
    {
     "name": "stderr",
     "output_type": "stream",
     "text": [
      "C:\\ProgramData\\Anaconda3\\lib\\site-packages\\pingouin-0.2.9-py3.7.egg\\pingouin\\nonparametric.py:144: RuntimeWarning: invalid value encountered in true_divide\n",
      "  return (np.fabs(a - np.median(a)) / mad(a)) > k\n",
      "C:\\ProgramData\\Anaconda3\\lib\\site-packages\\pingouin-0.2.9-py3.7.egg\\pingouin\\nonparametric.py:144: RuntimeWarning: invalid value encountered in greater\n",
      "  return (np.fabs(a - np.median(a)) / mad(a)) > k\n",
      "C:\\ProgramData\\Anaconda3\\lib\\site-packages\\pingouin-0.2.9-py3.7.egg\\pingouin\\nonparametric.py:144: RuntimeWarning: invalid value encountered in true_divide\n",
      "  return (np.fabs(a - np.median(a)) / mad(a)) > k\n",
      "C:\\ProgramData\\Anaconda3\\lib\\site-packages\\pingouin-0.2.9-py3.7.egg\\pingouin\\nonparametric.py:144: RuntimeWarning: invalid value encountered in greater\n",
      "  return (np.fabs(a - np.median(a)) / mad(a)) > k\n"
     ]
    },
    {
     "name": "stdout",
     "output_type": "stream",
     "text": [
      "1 trial(s) droped due to inconsistent recording\n",
      "1 trial(s) droped due to inconsistent recording\n"
     ]
    },
    {
     "name": "stderr",
     "output_type": "stream",
     "text": [
      "C:\\ProgramData\\Anaconda3\\lib\\site-packages\\pingouin-0.2.9-py3.7.egg\\pingouin\\nonparametric.py:144: RuntimeWarning: invalid value encountered in true_divide\n",
      "  return (np.fabs(a - np.median(a)) / mad(a)) > k\n",
      "C:\\ProgramData\\Anaconda3\\lib\\site-packages\\pingouin-0.2.9-py3.7.egg\\pingouin\\nonparametric.py:144: RuntimeWarning: invalid value encountered in greater\n",
      "  return (np.fabs(a - np.median(a)) / mad(a)) > k\n",
      "C:\\ProgramData\\Anaconda3\\lib\\site-packages\\pingouin-0.2.9-py3.7.egg\\pingouin\\nonparametric.py:144: RuntimeWarning: invalid value encountered in true_divide\n",
      "  return (np.fabs(a - np.median(a)) / mad(a)) > k\n",
      "C:\\ProgramData\\Anaconda3\\lib\\site-packages\\pingouin-0.2.9-py3.7.egg\\pingouin\\nonparametric.py:144: RuntimeWarning: invalid value encountered in greater\n",
      "  return (np.fabs(a - np.median(a)) / mad(a)) > k\n"
     ]
    },
    {
     "name": "stdout",
     "output_type": "stream",
     "text": [
      "1 trial(s) droped due to inconsistent recording\n",
      "1 trial(s) droped due to inconsistent recording\n"
     ]
    },
    {
     "name": "stderr",
     "output_type": "stream",
     "text": [
      "C:\\ProgramData\\Anaconda3\\lib\\site-packages\\pingouin-0.2.9-py3.7.egg\\pingouin\\nonparametric.py:144: RuntimeWarning: invalid value encountered in true_divide\n",
      "  return (np.fabs(a - np.median(a)) / mad(a)) > k\n",
      "C:\\ProgramData\\Anaconda3\\lib\\site-packages\\pingouin-0.2.9-py3.7.egg\\pingouin\\nonparametric.py:144: RuntimeWarning: invalid value encountered in greater\n",
      "  return (np.fabs(a - np.median(a)) / mad(a)) > k\n",
      "C:\\ProgramData\\Anaconda3\\lib\\site-packages\\pingouin-0.2.9-py3.7.egg\\pingouin\\nonparametric.py:144: RuntimeWarning: invalid value encountered in true_divide\n",
      "  return (np.fabs(a - np.median(a)) / mad(a)) > k\n",
      "C:\\ProgramData\\Anaconda3\\lib\\site-packages\\pingouin-0.2.9-py3.7.egg\\pingouin\\nonparametric.py:144: RuntimeWarning: invalid value encountered in greater\n",
      "  return (np.fabs(a - np.median(a)) / mad(a)) > k\n"
     ]
    },
    {
     "name": "stdout",
     "output_type": "stream",
     "text": [
      "1 trial(s) droped due to inconsistent recording\n",
      "1 trial(s) droped due to inconsistent recording\n"
     ]
    },
    {
     "name": "stderr",
     "output_type": "stream",
     "text": [
      "C:\\ProgramData\\Anaconda3\\lib\\site-packages\\pingouin-0.2.9-py3.7.egg\\pingouin\\nonparametric.py:144: RuntimeWarning: invalid value encountered in true_divide\n",
      "  return (np.fabs(a - np.median(a)) / mad(a)) > k\n",
      "C:\\ProgramData\\Anaconda3\\lib\\site-packages\\pingouin-0.2.9-py3.7.egg\\pingouin\\nonparametric.py:144: RuntimeWarning: invalid value encountered in greater\n",
      "  return (np.fabs(a - np.median(a)) / mad(a)) > k\n",
      "C:\\ProgramData\\Anaconda3\\lib\\site-packages\\pingouin-0.2.9-py3.7.egg\\pingouin\\nonparametric.py:144: RuntimeWarning: invalid value encountered in true_divide\n",
      "  return (np.fabs(a - np.median(a)) / mad(a)) > k\n",
      "C:\\ProgramData\\Anaconda3\\lib\\site-packages\\pingouin-0.2.9-py3.7.egg\\pingouin\\nonparametric.py:144: RuntimeWarning: invalid value encountered in greater\n",
      "  return (np.fabs(a - np.median(a)) / mad(a)) > k\n"
     ]
    },
    {
     "name": "stdout",
     "output_type": "stream",
     "text": [
      "1 trial(s) droped due to inconsistent recording\n",
      "1 trial(s) droped due to inconsistent recording\n"
     ]
    },
    {
     "name": "stderr",
     "output_type": "stream",
     "text": [
      "C:\\ProgramData\\Anaconda3\\lib\\site-packages\\pingouin-0.2.9-py3.7.egg\\pingouin\\nonparametric.py:144: RuntimeWarning: invalid value encountered in true_divide\n",
      "  return (np.fabs(a - np.median(a)) / mad(a)) > k\n",
      "C:\\ProgramData\\Anaconda3\\lib\\site-packages\\pingouin-0.2.9-py3.7.egg\\pingouin\\nonparametric.py:144: RuntimeWarning: invalid value encountered in greater\n",
      "  return (np.fabs(a - np.median(a)) / mad(a)) > k\n",
      "C:\\ProgramData\\Anaconda3\\lib\\site-packages\\pingouin-0.2.9-py3.7.egg\\pingouin\\nonparametric.py:144: RuntimeWarning: invalid value encountered in true_divide\n",
      "  return (np.fabs(a - np.median(a)) / mad(a)) > k\n",
      "C:\\ProgramData\\Anaconda3\\lib\\site-packages\\pingouin-0.2.9-py3.7.egg\\pingouin\\nonparametric.py:144: RuntimeWarning: invalid value encountered in greater\n",
      "  return (np.fabs(a - np.median(a)) / mad(a)) > k\n"
     ]
    },
    {
     "name": "stdout",
     "output_type": "stream",
     "text": [
      "1 trial(s) droped due to inconsistent recording\n",
      "1 trial(s) droped due to inconsistent recording\n"
     ]
    },
    {
     "name": "stderr",
     "output_type": "stream",
     "text": [
      "C:\\ProgramData\\Anaconda3\\lib\\site-packages\\pingouin-0.2.9-py3.7.egg\\pingouin\\nonparametric.py:144: RuntimeWarning: invalid value encountered in true_divide\n",
      "  return (np.fabs(a - np.median(a)) / mad(a)) > k\n",
      "C:\\ProgramData\\Anaconda3\\lib\\site-packages\\pingouin-0.2.9-py3.7.egg\\pingouin\\nonparametric.py:144: RuntimeWarning: invalid value encountered in greater\n",
      "  return (np.fabs(a - np.median(a)) / mad(a)) > k\n",
      "C:\\ProgramData\\Anaconda3\\lib\\site-packages\\pingouin-0.2.9-py3.7.egg\\pingouin\\nonparametric.py:144: RuntimeWarning: invalid value encountered in true_divide\n",
      "  return (np.fabs(a - np.median(a)) / mad(a)) > k\n",
      "C:\\ProgramData\\Anaconda3\\lib\\site-packages\\pingouin-0.2.9-py3.7.egg\\pingouin\\nonparametric.py:144: RuntimeWarning: invalid value encountered in greater\n",
      "  return (np.fabs(a - np.median(a)) / mad(a)) > k\n"
     ]
    },
    {
     "name": "stdout",
     "output_type": "stream",
     "text": [
      "1 trial(s) droped due to inconsistent recording\n",
      "1 trial(s) droped due to inconsistent recording\n"
     ]
    },
    {
     "name": "stderr",
     "output_type": "stream",
     "text": [
      "C:\\ProgramData\\Anaconda3\\lib\\site-packages\\pingouin-0.2.9-py3.7.egg\\pingouin\\nonparametric.py:144: RuntimeWarning: invalid value encountered in true_divide\n",
      "  return (np.fabs(a - np.median(a)) / mad(a)) > k\n",
      "C:\\ProgramData\\Anaconda3\\lib\\site-packages\\pingouin-0.2.9-py3.7.egg\\pingouin\\nonparametric.py:144: RuntimeWarning: invalid value encountered in greater\n",
      "  return (np.fabs(a - np.median(a)) / mad(a)) > k\n",
      "C:\\ProgramData\\Anaconda3\\lib\\site-packages\\pingouin-0.2.9-py3.7.egg\\pingouin\\nonparametric.py:144: RuntimeWarning: invalid value encountered in true_divide\n",
      "  return (np.fabs(a - np.median(a)) / mad(a)) > k\n",
      "C:\\ProgramData\\Anaconda3\\lib\\site-packages\\pingouin-0.2.9-py3.7.egg\\pingouin\\nonparametric.py:144: RuntimeWarning: invalid value encountered in greater\n",
      "  return (np.fabs(a - np.median(a)) / mad(a)) > k\n"
     ]
    },
    {
     "name": "stdout",
     "output_type": "stream",
     "text": [
      "1 trial(s) droped due to inconsistent recording\n",
      "1 trial(s) droped due to inconsistent recording\n"
     ]
    },
    {
     "name": "stderr",
     "output_type": "stream",
     "text": [
      "C:\\ProgramData\\Anaconda3\\lib\\site-packages\\pingouin-0.2.9-py3.7.egg\\pingouin\\nonparametric.py:144: RuntimeWarning: invalid value encountered in true_divide\n",
      "  return (np.fabs(a - np.median(a)) / mad(a)) > k\n",
      "C:\\ProgramData\\Anaconda3\\lib\\site-packages\\pingouin-0.2.9-py3.7.egg\\pingouin\\nonparametric.py:144: RuntimeWarning: invalid value encountered in greater\n",
      "  return (np.fabs(a - np.median(a)) / mad(a)) > k\n",
      "C:\\ProgramData\\Anaconda3\\lib\\site-packages\\pingouin-0.2.9-py3.7.egg\\pingouin\\nonparametric.py:144: RuntimeWarning: invalid value encountered in true_divide\n",
      "  return (np.fabs(a - np.median(a)) / mad(a)) > k\n",
      "C:\\ProgramData\\Anaconda3\\lib\\site-packages\\pingouin-0.2.9-py3.7.egg\\pingouin\\nonparametric.py:144: RuntimeWarning: invalid value encountered in greater\n",
      "  return (np.fabs(a - np.median(a)) / mad(a)) > k\n"
     ]
    },
    {
     "name": "stdout",
     "output_type": "stream",
     "text": [
      "1 trial(s) droped due to inconsistent recording\n",
      "1 trial(s) droped due to inconsistent recording\n"
     ]
    },
    {
     "name": "stderr",
     "output_type": "stream",
     "text": [
      "C:\\ProgramData\\Anaconda3\\lib\\site-packages\\pingouin-0.2.9-py3.7.egg\\pingouin\\nonparametric.py:144: RuntimeWarning: invalid value encountered in true_divide\n",
      "  return (np.fabs(a - np.median(a)) / mad(a)) > k\n",
      "C:\\ProgramData\\Anaconda3\\lib\\site-packages\\pingouin-0.2.9-py3.7.egg\\pingouin\\nonparametric.py:144: RuntimeWarning: invalid value encountered in greater\n",
      "  return (np.fabs(a - np.median(a)) / mad(a)) > k\n",
      "C:\\ProgramData\\Anaconda3\\lib\\site-packages\\pingouin-0.2.9-py3.7.egg\\pingouin\\nonparametric.py:144: RuntimeWarning: invalid value encountered in true_divide\n",
      "  return (np.fabs(a - np.median(a)) / mad(a)) > k\n",
      "C:\\ProgramData\\Anaconda3\\lib\\site-packages\\pingouin-0.2.9-py3.7.egg\\pingouin\\nonparametric.py:144: RuntimeWarning: invalid value encountered in greater\n",
      "  return (np.fabs(a - np.median(a)) / mad(a)) > k\n"
     ]
    },
    {
     "name": "stdout",
     "output_type": "stream",
     "text": [
      "1 trial(s) droped due to inconsistent recording\n",
      "1 trial(s) droped due to inconsistent recording\n"
     ]
    },
    {
     "name": "stderr",
     "output_type": "stream",
     "text": [
      "C:\\ProgramData\\Anaconda3\\lib\\site-packages\\pingouin-0.2.9-py3.7.egg\\pingouin\\nonparametric.py:144: RuntimeWarning: invalid value encountered in true_divide\n",
      "  return (np.fabs(a - np.median(a)) / mad(a)) > k\n",
      "C:\\ProgramData\\Anaconda3\\lib\\site-packages\\pingouin-0.2.9-py3.7.egg\\pingouin\\nonparametric.py:144: RuntimeWarning: invalid value encountered in greater\n",
      "  return (np.fabs(a - np.median(a)) / mad(a)) > k\n",
      "C:\\ProgramData\\Anaconda3\\lib\\site-packages\\pingouin-0.2.9-py3.7.egg\\pingouin\\nonparametric.py:144: RuntimeWarning: invalid value encountered in true_divide\n",
      "  return (np.fabs(a - np.median(a)) / mad(a)) > k\n",
      "C:\\ProgramData\\Anaconda3\\lib\\site-packages\\pingouin-0.2.9-py3.7.egg\\pingouin\\nonparametric.py:144: RuntimeWarning: invalid value encountered in greater\n",
      "  return (np.fabs(a - np.median(a)) / mad(a)) > k\n"
     ]
    },
    {
     "name": "stdout",
     "output_type": "stream",
     "text": [
      "1 trial(s) droped due to inconsistent recording\n",
      "1 trial(s) droped due to inconsistent recording"
     ]
    },
    {
     "name": "stderr",
     "output_type": "stream",
     "text": [
      "C:\\ProgramData\\Anaconda3\\lib\\site-packages\\pingouin-0.2.9-py3.7.egg\\pingouin\\nonparametric.py:144: RuntimeWarning: invalid value encountered in true_divide\n",
      "  return (np.fabs(a - np.median(a)) / mad(a)) > k\n",
      "C:\\ProgramData\\Anaconda3\\lib\\site-packages\\pingouin-0.2.9-py3.7.egg\\pingouin\\nonparametric.py:144: RuntimeWarning: invalid value encountered in greater\n",
      "  return (np.fabs(a - np.median(a)) / mad(a)) > k\n"
     ]
    },
    {
     "name": "stdout",
     "output_type": "stream",
     "text": [
      "\n",
      "1 trial(s) droped due to inconsistent recording\n"
     ]
    },
    {
     "name": "stderr",
     "output_type": "stream",
     "text": [
      "C:\\ProgramData\\Anaconda3\\lib\\site-packages\\pingouin-0.2.9-py3.7.egg\\pingouin\\nonparametric.py:144: RuntimeWarning: invalid value encountered in true_divide\n",
      "  return (np.fabs(a - np.median(a)) / mad(a)) > k\n",
      "C:\\ProgramData\\Anaconda3\\lib\\site-packages\\pingouin-0.2.9-py3.7.egg\\pingouin\\nonparametric.py:144: RuntimeWarning: invalid value encountered in greater\n",
      "  return (np.fabs(a - np.median(a)) / mad(a)) > k\n",
      "C:\\ProgramData\\Anaconda3\\lib\\site-packages\\pingouin-0.2.9-py3.7.egg\\pingouin\\nonparametric.py:144: RuntimeWarning: invalid value encountered in true_divide\n",
      "  return (np.fabs(a - np.median(a)) / mad(a)) > k\n",
      "C:\\ProgramData\\Anaconda3\\lib\\site-packages\\pingouin-0.2.9-py3.7.egg\\pingouin\\nonparametric.py:144: RuntimeWarning: invalid value encountered in greater\n",
      "  return (np.fabs(a - np.median(a)) / mad(a)) > k\n"
     ]
    },
    {
     "name": "stdout",
     "output_type": "stream",
     "text": [
      "1 trial(s) droped due to inconsistent recording\n",
      "1 trial(s) droped due to inconsistent recording\n"
     ]
    },
    {
     "name": "stderr",
     "output_type": "stream",
     "text": [
      "C:\\ProgramData\\Anaconda3\\lib\\site-packages\\pingouin-0.2.9-py3.7.egg\\pingouin\\nonparametric.py:144: RuntimeWarning: invalid value encountered in true_divide\n",
      "  return (np.fabs(a - np.median(a)) / mad(a)) > k\n",
      "C:\\ProgramData\\Anaconda3\\lib\\site-packages\\pingouin-0.2.9-py3.7.egg\\pingouin\\nonparametric.py:144: RuntimeWarning: invalid value encountered in greater\n",
      "  return (np.fabs(a - np.median(a)) / mad(a)) > k\n",
      "C:\\ProgramData\\Anaconda3\\lib\\site-packages\\pingouin-0.2.9-py3.7.egg\\pingouin\\nonparametric.py:144: RuntimeWarning: invalid value encountered in true_divide\n",
      "  return (np.fabs(a - np.median(a)) / mad(a)) > k\n"
     ]
    },
    {
     "name": "stdout",
     "output_type": "stream",
     "text": [
      "1 trial(s) droped due to inconsistent recording\n",
      "1 trial(s) droped due to inconsistent recording\n"
     ]
    },
    {
     "name": "stderr",
     "output_type": "stream",
     "text": [
      "C:\\ProgramData\\Anaconda3\\lib\\site-packages\\pingouin-0.2.9-py3.7.egg\\pingouin\\nonparametric.py:144: RuntimeWarning: invalid value encountered in greater\n",
      "  return (np.fabs(a - np.median(a)) / mad(a)) > k\n",
      "C:\\ProgramData\\Anaconda3\\lib\\site-packages\\pingouin-0.2.9-py3.7.egg\\pingouin\\nonparametric.py:144: RuntimeWarning: invalid value encountered in true_divide\n",
      "  return (np.fabs(a - np.median(a)) / mad(a)) > k\n",
      "C:\\ProgramData\\Anaconda3\\lib\\site-packages\\pingouin-0.2.9-py3.7.egg\\pingouin\\nonparametric.py:144: RuntimeWarning: invalid value encountered in greater\n",
      "  return (np.fabs(a - np.median(a)) / mad(a)) > k\n",
      "C:\\ProgramData\\Anaconda3\\lib\\site-packages\\pingouin-0.2.9-py3.7.egg\\pingouin\\nonparametric.py:144: RuntimeWarning: invalid value encountered in true_divide\n",
      "  return (np.fabs(a - np.median(a)) / mad(a)) > k\n",
      "C:\\ProgramData\\Anaconda3\\lib\\site-packages\\pingouin-0.2.9-py3.7.egg\\pingouin\\nonparametric.py:144: RuntimeWarning: invalid value encountered in greater\n",
      "  return (np.fabs(a - np.median(a)) / mad(a)) > k\n"
     ]
    },
    {
     "name": "stdout",
     "output_type": "stream",
     "text": [
      "1 trial(s) droped due to inconsistent recording\n"
     ]
    },
    {
     "name": "stderr",
     "output_type": "stream",
     "text": [
      "C:\\ProgramData\\Anaconda3\\lib\\site-packages\\pingouin-0.2.9-py3.7.egg\\pingouin\\nonparametric.py:144: RuntimeWarning: invalid value encountered in true_divide\n",
      "  return (np.fabs(a - np.median(a)) / mad(a)) > k\n",
      "C:\\ProgramData\\Anaconda3\\lib\\site-packages\\pingouin-0.2.9-py3.7.egg\\pingouin\\nonparametric.py:144: RuntimeWarning: invalid value encountered in greater\n",
      "  return (np.fabs(a - np.median(a)) / mad(a)) > k\n"
     ]
    },
    {
     "name": "stdout",
     "output_type": "stream",
     "text": [
      "1 trial(s) droped due to inconsistent recording\n"
     ]
    },
    {
     "name": "stderr",
     "output_type": "stream",
     "text": [
      "C:\\ProgramData\\Anaconda3\\lib\\site-packages\\pingouin-0.2.9-py3.7.egg\\pingouin\\nonparametric.py:144: RuntimeWarning: invalid value encountered in true_divide\n",
      "  return (np.fabs(a - np.median(a)) / mad(a)) > k\n",
      "C:\\ProgramData\\Anaconda3\\lib\\site-packages\\pingouin-0.2.9-py3.7.egg\\pingouin\\nonparametric.py:144: RuntimeWarning: invalid value encountered in greater\n",
      "  return (np.fabs(a - np.median(a)) / mad(a)) > k\n"
     ]
    },
    {
     "name": "stdout",
     "output_type": "stream",
     "text": [
      "1 trial(s) droped due to inconsistent recording\n",
      "1 trial(s) droped due to inconsistent recording\n"
     ]
    },
    {
     "name": "stderr",
     "output_type": "stream",
     "text": [
      "C:\\ProgramData\\Anaconda3\\lib\\site-packages\\pingouin-0.2.9-py3.7.egg\\pingouin\\nonparametric.py:144: RuntimeWarning: invalid value encountered in true_divide\n",
      "  return (np.fabs(a - np.median(a)) / mad(a)) > k\n",
      "C:\\ProgramData\\Anaconda3\\lib\\site-packages\\pingouin-0.2.9-py3.7.egg\\pingouin\\nonparametric.py:144: RuntimeWarning: invalid value encountered in greater\n",
      "  return (np.fabs(a - np.median(a)) / mad(a)) > k\n",
      "C:\\ProgramData\\Anaconda3\\lib\\site-packages\\pingouin-0.2.9-py3.7.egg\\pingouin\\nonparametric.py:144: RuntimeWarning: invalid value encountered in true_divide\n",
      "  return (np.fabs(a - np.median(a)) / mad(a)) > k\n",
      "C:\\ProgramData\\Anaconda3\\lib\\site-packages\\pingouin-0.2.9-py3.7.egg\\pingouin\\nonparametric.py:144: RuntimeWarning: invalid value encountered in greater\n",
      "  return (np.fabs(a - np.median(a)) / mad(a)) > k\n"
     ]
    },
    {
     "name": "stdout",
     "output_type": "stream",
     "text": [
      "1 trial(s) droped due to inconsistent recording\n",
      "1 trial(s) droped due to inconsistent recording"
     ]
    },
    {
     "name": "stderr",
     "output_type": "stream",
     "text": [
      "C:\\ProgramData\\Anaconda3\\lib\\site-packages\\pingouin-0.2.9-py3.7.egg\\pingouin\\nonparametric.py:144: RuntimeWarning: invalid value encountered in true_divide\n",
      "  return (np.fabs(a - np.median(a)) / mad(a)) > k\n",
      "C:\\ProgramData\\Anaconda3\\lib\\site-packages\\pingouin-0.2.9-py3.7.egg\\pingouin\\nonparametric.py:144: RuntimeWarning: invalid value encountered in greater\n",
      "  return (np.fabs(a - np.median(a)) / mad(a)) > k\n",
      "C:\\ProgramData\\Anaconda3\\lib\\site-packages\\pingouin-0.2.9-py3.7.egg\\pingouin\\nonparametric.py:144: RuntimeWarning: invalid value encountered in true_divide\n",
      "  return (np.fabs(a - np.median(a)) / mad(a)) > k\n",
      "C:\\ProgramData\\Anaconda3\\lib\\site-packages\\pingouin-0.2.9-py3.7.egg\\pingouin\\nonparametric.py:144: RuntimeWarning: invalid value encountered in greater\n",
      "  return (np.fabs(a - np.median(a)) / mad(a)) > k\n"
     ]
    },
    {
     "name": "stdout",
     "output_type": "stream",
     "text": [
      "\n",
      "1 trial(s) droped due to inconsistent recording\n"
     ]
    },
    {
     "name": "stderr",
     "output_type": "stream",
     "text": [
      "C:\\ProgramData\\Anaconda3\\lib\\site-packages\\pingouin-0.2.9-py3.7.egg\\pingouin\\nonparametric.py:144: RuntimeWarning: invalid value encountered in true_divide\n",
      "  return (np.fabs(a - np.median(a)) / mad(a)) > k\n",
      "C:\\ProgramData\\Anaconda3\\lib\\site-packages\\pingouin-0.2.9-py3.7.egg\\pingouin\\nonparametric.py:144: RuntimeWarning: invalid value encountered in greater\n",
      "  return (np.fabs(a - np.median(a)) / mad(a)) > k\n"
     ]
    },
    {
     "name": "stdout",
     "output_type": "stream",
     "text": [
      "1 trial(s) droped due to inconsistent recording\n",
      "1 trial(s) droped due to inconsistent recording"
     ]
    },
    {
     "name": "stderr",
     "output_type": "stream",
     "text": [
      "C:\\ProgramData\\Anaconda3\\lib\\site-packages\\pingouin-0.2.9-py3.7.egg\\pingouin\\nonparametric.py:144: RuntimeWarning: invalid value encountered in true_divide\n",
      "  return (np.fabs(a - np.median(a)) / mad(a)) > k\n",
      "C:\\ProgramData\\Anaconda3\\lib\\site-packages\\pingouin-0.2.9-py3.7.egg\\pingouin\\nonparametric.py:144: RuntimeWarning: invalid value encountered in greater\n",
      "  return (np.fabs(a - np.median(a)) / mad(a)) > k\n",
      "C:\\ProgramData\\Anaconda3\\lib\\site-packages\\pingouin-0.2.9-py3.7.egg\\pingouin\\nonparametric.py:144: RuntimeWarning: invalid value encountered in true_divide\n",
      "  return (np.fabs(a - np.median(a)) / mad(a)) > k\n"
     ]
    },
    {
     "name": "stdout",
     "output_type": "stream",
     "text": [
      "\n",
      "1 trial(s) droped due to inconsistent recording\n"
     ]
    },
    {
     "name": "stderr",
     "output_type": "stream",
     "text": [
      "C:\\ProgramData\\Anaconda3\\lib\\site-packages\\pingouin-0.2.9-py3.7.egg\\pingouin\\nonparametric.py:144: RuntimeWarning: invalid value encountered in greater\n",
      "  return (np.fabs(a - np.median(a)) / mad(a)) > k\n",
      "C:\\ProgramData\\Anaconda3\\lib\\site-packages\\pingouin-0.2.9-py3.7.egg\\pingouin\\nonparametric.py:144: RuntimeWarning: invalid value encountered in true_divide\n",
      "  return (np.fabs(a - np.median(a)) / mad(a)) > k\n",
      "C:\\ProgramData\\Anaconda3\\lib\\site-packages\\pingouin-0.2.9-py3.7.egg\\pingouin\\nonparametric.py:144: RuntimeWarning: invalid value encountered in greater\n",
      "  return (np.fabs(a - np.median(a)) / mad(a)) > k\n"
     ]
    },
    {
     "name": "stdout",
     "output_type": "stream",
     "text": [
      "1 trial(s) droped due to inconsistent recording\n"
     ]
    },
    {
     "name": "stderr",
     "output_type": "stream",
     "text": [
      "C:\\ProgramData\\Anaconda3\\lib\\site-packages\\pingouin-0.2.9-py3.7.egg\\pingouin\\nonparametric.py:144: RuntimeWarning: invalid value encountered in true_divide\n",
      "  return (np.fabs(a - np.median(a)) / mad(a)) > k\n",
      "C:\\ProgramData\\Anaconda3\\lib\\site-packages\\pingouin-0.2.9-py3.7.egg\\pingouin\\nonparametric.py:144: RuntimeWarning: invalid value encountered in greater\n",
      "  return (np.fabs(a - np.median(a)) / mad(a)) > k\n"
     ]
    },
    {
     "name": "stdout",
     "output_type": "stream",
     "text": [
      "1 trial(s) droped due to inconsistent recording\n",
      "1 trial(s) droped due to inconsistent recording\n"
     ]
    },
    {
     "name": "stderr",
     "output_type": "stream",
     "text": [
      "C:\\ProgramData\\Anaconda3\\lib\\site-packages\\pingouin-0.2.9-py3.7.egg\\pingouin\\nonparametric.py:144: RuntimeWarning: invalid value encountered in true_divide\n",
      "  return (np.fabs(a - np.median(a)) / mad(a)) > k\n",
      "C:\\ProgramData\\Anaconda3\\lib\\site-packages\\pingouin-0.2.9-py3.7.egg\\pingouin\\nonparametric.py:144: RuntimeWarning: invalid value encountered in greater\n",
      "  return (np.fabs(a - np.median(a)) / mad(a)) > k\n",
      "C:\\ProgramData\\Anaconda3\\lib\\site-packages\\pingouin-0.2.9-py3.7.egg\\pingouin\\nonparametric.py:144: RuntimeWarning: invalid value encountered in true_divide\n",
      "  return (np.fabs(a - np.median(a)) / mad(a)) > k\n",
      "C:\\ProgramData\\Anaconda3\\lib\\site-packages\\pingouin-0.2.9-py3.7.egg\\pingouin\\nonparametric.py:144: RuntimeWarning: invalid value encountered in greater\n",
      "  return (np.fabs(a - np.median(a)) / mad(a)) > k\n",
      "C:\\ProgramData\\Anaconda3\\lib\\site-packages\\ipykernel_launcher.py:4: RuntimeWarning: More than 20 figures have been opened. Figures created through the pyplot interface (`matplotlib.pyplot.figure`) are retained until explicitly closed and may consume too much memory. (To control this warning, see the rcParam `figure.max_open_warning`).\n",
      "  after removing the cwd from sys.path.\n",
      "C:\\ProgramData\\Anaconda3\\lib\\site-packages\\pingouin-0.2.9-py3.7.egg\\pingouin\\nonparametric.py:144: RuntimeWarning: invalid value encountered in true_divide\n",
      "  return (np.fabs(a - np.median(a)) / mad(a)) > k\n",
      "C:\\ProgramData\\Anaconda3\\lib\\site-packages\\pingouin-0.2.9-py3.7.egg\\pingouin\\nonparametric.py:144: RuntimeWarning: invalid value encountered in greater\n",
      "  return (np.fabs(a - np.median(a)) / mad(a)) > k\n",
      "C:\\ProgramData\\Anaconda3\\lib\\site-packages\\pingouin-0.2.9-py3.7.egg\\pingouin\\nonparametric.py:144: RuntimeWarning: invalid value encountered in true_divide\n",
      "  return (np.fabs(a - np.median(a)) / mad(a)) > k\n",
      "C:\\ProgramData\\Anaconda3\\lib\\site-packages\\pingouin-0.2.9-py3.7.egg\\pingouin\\nonparametric.py:144: RuntimeWarning: invalid value encountered in greater\n",
      "  return (np.fabs(a - np.median(a)) / mad(a)) > k\n"
     ]
    },
    {
     "name": "stdout",
     "output_type": "stream",
     "text": [
      "1 trial(s) droped due to inconsistent recording\n",
      "1 trial(s) droped due to inconsistent recording\n",
      "1 trial(s) droped due to inconsistent recording\n",
      "1 trial(s) droped due to inconsistent recording\n"
     ]
    },
    {
     "name": "stderr",
     "output_type": "stream",
     "text": [
      "C:\\ProgramData\\Anaconda3\\lib\\site-packages\\pingouin-0.2.9-py3.7.egg\\pingouin\\nonparametric.py:144: RuntimeWarning: invalid value encountered in true_divide\n",
      "  return (np.fabs(a - np.median(a)) / mad(a)) > k\n",
      "C:\\ProgramData\\Anaconda3\\lib\\site-packages\\pingouin-0.2.9-py3.7.egg\\pingouin\\nonparametric.py:144: RuntimeWarning: invalid value encountered in greater\n",
      "  return (np.fabs(a - np.median(a)) / mad(a)) > k\n",
      "C:\\ProgramData\\Anaconda3\\lib\\site-packages\\pingouin-0.2.9-py3.7.egg\\pingouin\\nonparametric.py:144: RuntimeWarning: invalid value encountered in true_divide\n",
      "  return (np.fabs(a - np.median(a)) / mad(a)) > k\n",
      "C:\\ProgramData\\Anaconda3\\lib\\site-packages\\pingouin-0.2.9-py3.7.egg\\pingouin\\nonparametric.py:144: RuntimeWarning: invalid value encountered in greater\n",
      "  return (np.fabs(a - np.median(a)) / mad(a)) > k\n"
     ]
    },
    {
     "name": "stdout",
     "output_type": "stream",
     "text": [
      "1 trial(s) droped due to inconsistent recording\n",
      "1 trial(s) droped due to inconsistent recording\n"
     ]
    },
    {
     "name": "stderr",
     "output_type": "stream",
     "text": [
      "C:\\ProgramData\\Anaconda3\\lib\\site-packages\\pingouin-0.2.9-py3.7.egg\\pingouin\\nonparametric.py:144: RuntimeWarning: invalid value encountered in true_divide\n",
      "  return (np.fabs(a - np.median(a)) / mad(a)) > k\n",
      "C:\\ProgramData\\Anaconda3\\lib\\site-packages\\pingouin-0.2.9-py3.7.egg\\pingouin\\nonparametric.py:144: RuntimeWarning: invalid value encountered in greater\n",
      "  return (np.fabs(a - np.median(a)) / mad(a)) > k\n",
      "C:\\ProgramData\\Anaconda3\\lib\\site-packages\\pingouin-0.2.9-py3.7.egg\\pingouin\\nonparametric.py:144: RuntimeWarning: invalid value encountered in true_divide\n",
      "  return (np.fabs(a - np.median(a)) / mad(a)) > k\n",
      "C:\\ProgramData\\Anaconda3\\lib\\site-packages\\pingouin-0.2.9-py3.7.egg\\pingouin\\nonparametric.py:144: RuntimeWarning: invalid value encountered in greater\n",
      "  return (np.fabs(a - np.median(a)) / mad(a)) > k\n"
     ]
    },
    {
     "name": "stdout",
     "output_type": "stream",
     "text": [
      "1 trial(s) droped due to inconsistent recording\n",
      "1 trial(s) droped due to inconsistent recording\n"
     ]
    },
    {
     "name": "stderr",
     "output_type": "stream",
     "text": [
      "C:\\ProgramData\\Anaconda3\\lib\\site-packages\\pingouin-0.2.9-py3.7.egg\\pingouin\\nonparametric.py:144: RuntimeWarning: invalid value encountered in true_divide\n",
      "  return (np.fabs(a - np.median(a)) / mad(a)) > k\n",
      "C:\\ProgramData\\Anaconda3\\lib\\site-packages\\pingouin-0.2.9-py3.7.egg\\pingouin\\nonparametric.py:144: RuntimeWarning: invalid value encountered in greater\n",
      "  return (np.fabs(a - np.median(a)) / mad(a)) > k\n",
      "C:\\ProgramData\\Anaconda3\\lib\\site-packages\\pingouin-0.2.9-py3.7.egg\\pingouin\\nonparametric.py:144: RuntimeWarning: invalid value encountered in true_divide\n",
      "  return (np.fabs(a - np.median(a)) / mad(a)) > k\n",
      "C:\\ProgramData\\Anaconda3\\lib\\site-packages\\pingouin-0.2.9-py3.7.egg\\pingouin\\nonparametric.py:144: RuntimeWarning: invalid value encountered in greater\n",
      "  return (np.fabs(a - np.median(a)) / mad(a)) > k\n"
     ]
    },
    {
     "name": "stdout",
     "output_type": "stream",
     "text": [
      "1 trial(s) droped due to inconsistent recording\n",
      "1 trial(s) droped due to inconsistent recording\n"
     ]
    },
    {
     "name": "stderr",
     "output_type": "stream",
     "text": [
      "C:\\ProgramData\\Anaconda3\\lib\\site-packages\\pingouin-0.2.9-py3.7.egg\\pingouin\\nonparametric.py:144: RuntimeWarning: invalid value encountered in true_divide\n",
      "  return (np.fabs(a - np.median(a)) / mad(a)) > k\n",
      "C:\\ProgramData\\Anaconda3\\lib\\site-packages\\pingouin-0.2.9-py3.7.egg\\pingouin\\nonparametric.py:144: RuntimeWarning: invalid value encountered in greater\n",
      "  return (np.fabs(a - np.median(a)) / mad(a)) > k\n",
      "C:\\ProgramData\\Anaconda3\\lib\\site-packages\\pingouin-0.2.9-py3.7.egg\\pingouin\\nonparametric.py:144: RuntimeWarning: invalid value encountered in true_divide\n",
      "  return (np.fabs(a - np.median(a)) / mad(a)) > k\n",
      "C:\\ProgramData\\Anaconda3\\lib\\site-packages\\pingouin-0.2.9-py3.7.egg\\pingouin\\nonparametric.py:144: RuntimeWarning: invalid value encountered in greater\n",
      "  return (np.fabs(a - np.median(a)) / mad(a)) > k\n"
     ]
    },
    {
     "name": "stdout",
     "output_type": "stream",
     "text": [
      "1 trial(s) droped due to inconsistent recording\n",
      "1 trial(s) droped due to inconsistent recording\n"
     ]
    },
    {
     "name": "stderr",
     "output_type": "stream",
     "text": [
      "C:\\ProgramData\\Anaconda3\\lib\\site-packages\\pingouin-0.2.9-py3.7.egg\\pingouin\\nonparametric.py:144: RuntimeWarning: invalid value encountered in true_divide\n",
      "  return (np.fabs(a - np.median(a)) / mad(a)) > k\n",
      "C:\\ProgramData\\Anaconda3\\lib\\site-packages\\pingouin-0.2.9-py3.7.egg\\pingouin\\nonparametric.py:144: RuntimeWarning: invalid value encountered in greater\n",
      "  return (np.fabs(a - np.median(a)) / mad(a)) > k\n",
      "C:\\ProgramData\\Anaconda3\\lib\\site-packages\\pingouin-0.2.9-py3.7.egg\\pingouin\\nonparametric.py:144: RuntimeWarning: invalid value encountered in true_divide\n",
      "  return (np.fabs(a - np.median(a)) / mad(a)) > k\n",
      "C:\\ProgramData\\Anaconda3\\lib\\site-packages\\pingouin-0.2.9-py3.7.egg\\pingouin\\nonparametric.py:144: RuntimeWarning: invalid value encountered in greater\n",
      "  return (np.fabs(a - np.median(a)) / mad(a)) > k\n",
      "C:\\ProgramData\\Anaconda3\\lib\\site-packages\\ipykernel_launcher.py:4: RuntimeWarning: More than 20 figures have been opened. Figures created through the pyplot interface (`matplotlib.pyplot.figure`) are retained until explicitly closed and may consume too much memory. (To control this warning, see the rcParam `figure.max_open_warning`).\n",
      "  after removing the cwd from sys.path.\n",
      "C:\\ProgramData\\Anaconda3\\lib\\site-packages\\pingouin-0.2.9-py3.7.egg\\pingouin\\nonparametric.py:144: RuntimeWarning: invalid value encountered in true_divide\n",
      "  return (np.fabs(a - np.median(a)) / mad(a)) > k\n",
      "C:\\ProgramData\\Anaconda3\\lib\\site-packages\\pingouin-0.2.9-py3.7.egg\\pingouin\\nonparametric.py:144: RuntimeWarning: invalid value encountered in greater\n",
      "  return (np.fabs(a - np.median(a)) / mad(a)) > k\n"
     ]
    },
    {
     "name": "stdout",
     "output_type": "stream",
     "text": [
      "1 trial(s) droped due to inconsistent recording\n",
      "1 trial(s) droped due to inconsistent recording\n",
      "1 trial(s) droped due to inconsistent recording"
     ]
    },
    {
     "name": "stderr",
     "output_type": "stream",
     "text": [
      "C:\\ProgramData\\Anaconda3\\lib\\site-packages\\pingouin-0.2.9-py3.7.egg\\pingouin\\nonparametric.py:144: RuntimeWarning: invalid value encountered in true_divide\n",
      "  return (np.fabs(a - np.median(a)) / mad(a)) > k\n",
      "C:\\ProgramData\\Anaconda3\\lib\\site-packages\\pingouin-0.2.9-py3.7.egg\\pingouin\\nonparametric.py:144: RuntimeWarning: invalid value encountered in greater\n",
      "  return (np.fabs(a - np.median(a)) / mad(a)) > k\n"
     ]
    },
    {
     "name": "stdout",
     "output_type": "stream",
     "text": [
      "\n",
      "1 trial(s) droped due to inconsistent recording\n"
     ]
    },
    {
     "name": "stderr",
     "output_type": "stream",
     "text": [
      "C:\\ProgramData\\Anaconda3\\lib\\site-packages\\pingouin-0.2.9-py3.7.egg\\pingouin\\nonparametric.py:144: RuntimeWarning: invalid value encountered in true_divide\n",
      "  return (np.fabs(a - np.median(a)) / mad(a)) > k\n",
      "C:\\ProgramData\\Anaconda3\\lib\\site-packages\\pingouin-0.2.9-py3.7.egg\\pingouin\\nonparametric.py:144: RuntimeWarning: invalid value encountered in greater\n",
      "  return (np.fabs(a - np.median(a)) / mad(a)) > k\n",
      "C:\\ProgramData\\Anaconda3\\lib\\site-packages\\pingouin-0.2.9-py3.7.egg\\pingouin\\nonparametric.py:144: RuntimeWarning: invalid value encountered in true_divide\n",
      "  return (np.fabs(a - np.median(a)) / mad(a)) > k\n",
      "C:\\ProgramData\\Anaconda3\\lib\\site-packages\\pingouin-0.2.9-py3.7.egg\\pingouin\\nonparametric.py:144: RuntimeWarning: invalid value encountered in greater\n",
      "  return (np.fabs(a - np.median(a)) / mad(a)) > k\n"
     ]
    },
    {
     "name": "stdout",
     "output_type": "stream",
     "text": [
      "1 trial(s) droped due to inconsistent recording\n",
      "1 trial(s) droped due to inconsistent recording\n"
     ]
    },
    {
     "name": "stderr",
     "output_type": "stream",
     "text": [
      "C:\\ProgramData\\Anaconda3\\lib\\site-packages\\pingouin-0.2.9-py3.7.egg\\pingouin\\nonparametric.py:144: RuntimeWarning: invalid value encountered in true_divide\n",
      "  return (np.fabs(a - np.median(a)) / mad(a)) > k\n",
      "C:\\ProgramData\\Anaconda3\\lib\\site-packages\\pingouin-0.2.9-py3.7.egg\\pingouin\\nonparametric.py:144: RuntimeWarning: invalid value encountered in greater\n",
      "  return (np.fabs(a - np.median(a)) / mad(a)) > k\n",
      "C:\\ProgramData\\Anaconda3\\lib\\site-packages\\pingouin-0.2.9-py3.7.egg\\pingouin\\nonparametric.py:144: RuntimeWarning: invalid value encountered in true_divide\n",
      "  return (np.fabs(a - np.median(a)) / mad(a)) > k\n",
      "C:\\ProgramData\\Anaconda3\\lib\\site-packages\\pingouin-0.2.9-py3.7.egg\\pingouin\\nonparametric.py:144: RuntimeWarning: invalid value encountered in greater\n",
      "  return (np.fabs(a - np.median(a)) / mad(a)) > k\n",
      "C:\\ProgramData\\Anaconda3\\lib\\site-packages\\pingouin-0.2.9-py3.7.egg\\pingouin\\nonparametric.py:144: RuntimeWarning: invalid value encountered in true_divide\n",
      "  return (np.fabs(a - np.median(a)) / mad(a)) > k\n",
      "C:\\ProgramData\\Anaconda3\\lib\\site-packages\\pingouin-0.2.9-py3.7.egg\\pingouin\\nonparametric.py:144: RuntimeWarning: invalid value encountered in greater\n",
      "  return (np.fabs(a - np.median(a)) / mad(a)) > k\n"
     ]
    },
    {
     "name": "stdout",
     "output_type": "stream",
     "text": [
      "1 trial(s) droped due to inconsistent recording\n",
      "1 trial(s) droped due to inconsistent recording\n",
      "1 trial(s) droped due to inconsistent recording"
     ]
    },
    {
     "name": "stderr",
     "output_type": "stream",
     "text": [
      "C:\\ProgramData\\Anaconda3\\lib\\site-packages\\pingouin-0.2.9-py3.7.egg\\pingouin\\nonparametric.py:144: RuntimeWarning: invalid value encountered in true_divide\n",
      "  return (np.fabs(a - np.median(a)) / mad(a)) > k\n",
      "C:\\ProgramData\\Anaconda3\\lib\\site-packages\\pingouin-0.2.9-py3.7.egg\\pingouin\\nonparametric.py:144: RuntimeWarning: invalid value encountered in greater\n",
      "  return (np.fabs(a - np.median(a)) / mad(a)) > k\n"
     ]
    },
    {
     "name": "stdout",
     "output_type": "stream",
     "text": [
      "\n",
      "1 trial(s) droped due to inconsistent recording\n"
     ]
    },
    {
     "name": "stderr",
     "output_type": "stream",
     "text": [
      "C:\\ProgramData\\Anaconda3\\lib\\site-packages\\pingouin-0.2.9-py3.7.egg\\pingouin\\nonparametric.py:144: RuntimeWarning: invalid value encountered in true_divide\n",
      "  return (np.fabs(a - np.median(a)) / mad(a)) > k\n",
      "C:\\ProgramData\\Anaconda3\\lib\\site-packages\\pingouin-0.2.9-py3.7.egg\\pingouin\\nonparametric.py:144: RuntimeWarning: invalid value encountered in greater\n",
      "  return (np.fabs(a - np.median(a)) / mad(a)) > k\n",
      "C:\\ProgramData\\Anaconda3\\lib\\site-packages\\pingouin-0.2.9-py3.7.egg\\pingouin\\nonparametric.py:144: RuntimeWarning: invalid value encountered in true_divide\n",
      "  return (np.fabs(a - np.median(a)) / mad(a)) > k\n"
     ]
    },
    {
     "name": "stdout",
     "output_type": "stream",
     "text": [
      "1 trial(s) droped due to inconsistent recording\n",
      "1 trial(s) droped due to inconsistent recording\n"
     ]
    },
    {
     "name": "stderr",
     "output_type": "stream",
     "text": [
      "C:\\ProgramData\\Anaconda3\\lib\\site-packages\\pingouin-0.2.9-py3.7.egg\\pingouin\\nonparametric.py:144: RuntimeWarning: invalid value encountered in greater\n",
      "  return (np.fabs(a - np.median(a)) / mad(a)) > k\n",
      "C:\\ProgramData\\Anaconda3\\lib\\site-packages\\pingouin-0.2.9-py3.7.egg\\pingouin\\nonparametric.py:144: RuntimeWarning: invalid value encountered in true_divide\n",
      "  return (np.fabs(a - np.median(a)) / mad(a)) > k\n",
      "C:\\ProgramData\\Anaconda3\\lib\\site-packages\\pingouin-0.2.9-py3.7.egg\\pingouin\\nonparametric.py:144: RuntimeWarning: invalid value encountered in greater\n",
      "  return (np.fabs(a - np.median(a)) / mad(a)) > k\n",
      "C:\\ProgramData\\Anaconda3\\lib\\site-packages\\pingouin-0.2.9-py3.7.egg\\pingouin\\nonparametric.py:144: RuntimeWarning: invalid value encountered in true_divide\n",
      "  return (np.fabs(a - np.median(a)) / mad(a)) > k\n",
      "C:\\ProgramData\\Anaconda3\\lib\\site-packages\\pingouin-0.2.9-py3.7.egg\\pingouin\\nonparametric.py:144: RuntimeWarning: invalid value encountered in greater\n",
      "  return (np.fabs(a - np.median(a)) / mad(a)) > k\n",
      "C:\\ProgramData\\Anaconda3\\lib\\site-packages\\ipykernel_launcher.py:4: RuntimeWarning: More than 20 figures have been opened. Figures created through the pyplot interface (`matplotlib.pyplot.figure`) are retained until explicitly closed and may consume too much memory. (To control this warning, see the rcParam `figure.max_open_warning`).\n",
      "  after removing the cwd from sys.path.\n",
      "C:\\ProgramData\\Anaconda3\\lib\\site-packages\\pingouin-0.2.9-py3.7.egg\\pingouin\\nonparametric.py:144: RuntimeWarning: invalid value encountered in true_divide\n",
      "  return (np.fabs(a - np.median(a)) / mad(a)) > k\n",
      "C:\\ProgramData\\Anaconda3\\lib\\site-packages\\pingouin-0.2.9-py3.7.egg\\pingouin\\nonparametric.py:144: RuntimeWarning: invalid value encountered in greater\n",
      "  return (np.fabs(a - np.median(a)) / mad(a)) > k\n"
     ]
    },
    {
     "name": "stdout",
     "output_type": "stream",
     "text": [
      "1 trial(s) droped due to inconsistent recording\n",
      "1 trial(s) droped due to inconsistent recording\n",
      "1 trial(s) droped due to inconsistent recording"
     ]
    },
    {
     "name": "stderr",
     "output_type": "stream",
     "text": [
      "C:\\ProgramData\\Anaconda3\\lib\\site-packages\\pingouin-0.2.9-py3.7.egg\\pingouin\\nonparametric.py:144: RuntimeWarning: invalid value encountered in true_divide\n",
      "  return (np.fabs(a - np.median(a)) / mad(a)) > k\n",
      "C:\\ProgramData\\Anaconda3\\lib\\site-packages\\pingouin-0.2.9-py3.7.egg\\pingouin\\nonparametric.py:144: RuntimeWarning: invalid value encountered in greater\n",
      "  return (np.fabs(a - np.median(a)) / mad(a)) > k\n"
     ]
    },
    {
     "name": "stdout",
     "output_type": "stream",
     "text": [
      "\n",
      "1 trial(s) droped due to inconsistent recording"
     ]
    },
    {
     "name": "stderr",
     "output_type": "stream",
     "text": [
      "C:\\ProgramData\\Anaconda3\\lib\\site-packages\\pingouin-0.2.9-py3.7.egg\\pingouin\\nonparametric.py:144: RuntimeWarning: invalid value encountered in true_divide\n",
      "  return (np.fabs(a - np.median(a)) / mad(a)) > k\n",
      "C:\\ProgramData\\Anaconda3\\lib\\site-packages\\pingouin-0.2.9-py3.7.egg\\pingouin\\nonparametric.py:144: RuntimeWarning: invalid value encountered in greater\n",
      "  return (np.fabs(a - np.median(a)) / mad(a)) > k\n"
     ]
    },
    {
     "name": "stdout",
     "output_type": "stream",
     "text": [
      "\n",
      "1 trial(s) droped due to inconsistent recording"
     ]
    },
    {
     "name": "stderr",
     "output_type": "stream",
     "text": [
      "C:\\ProgramData\\Anaconda3\\lib\\site-packages\\pingouin-0.2.9-py3.7.egg\\pingouin\\nonparametric.py:144: RuntimeWarning: invalid value encountered in true_divide\n",
      "  return (np.fabs(a - np.median(a)) / mad(a)) > k\n",
      "C:\\ProgramData\\Anaconda3\\lib\\site-packages\\pingouin-0.2.9-py3.7.egg\\pingouin\\nonparametric.py:144: RuntimeWarning: invalid value encountered in greater\n",
      "  return (np.fabs(a - np.median(a)) / mad(a)) > k\n"
     ]
    },
    {
     "name": "stdout",
     "output_type": "stream",
     "text": [
      "\n",
      "1 trial(s) droped due to inconsistent recording\n"
     ]
    },
    {
     "name": "stderr",
     "output_type": "stream",
     "text": [
      "C:\\ProgramData\\Anaconda3\\lib\\site-packages\\pingouin-0.2.9-py3.7.egg\\pingouin\\nonparametric.py:144: RuntimeWarning: invalid value encountered in true_divide\n",
      "  return (np.fabs(a - np.median(a)) / mad(a)) > k\n",
      "C:\\ProgramData\\Anaconda3\\lib\\site-packages\\pingouin-0.2.9-py3.7.egg\\pingouin\\nonparametric.py:144: RuntimeWarning: invalid value encountered in greater\n",
      "  return (np.fabs(a - np.median(a)) / mad(a)) > k\n",
      "C:\\ProgramData\\Anaconda3\\lib\\site-packages\\pingouin-0.2.9-py3.7.egg\\pingouin\\nonparametric.py:144: RuntimeWarning: invalid value encountered in true_divide\n",
      "  return (np.fabs(a - np.median(a)) / mad(a)) > k\n",
      "C:\\ProgramData\\Anaconda3\\lib\\site-packages\\pingouin-0.2.9-py3.7.egg\\pingouin\\nonparametric.py:144: RuntimeWarning: invalid value encountered in greater\n",
      "  return (np.fabs(a - np.median(a)) / mad(a)) > k\n"
     ]
    },
    {
     "name": "stdout",
     "output_type": "stream",
     "text": [
      "1 trial(s) droped due to inconsistent recording\n",
      "1 trial(s) droped due to inconsistent recording\n"
     ]
    },
    {
     "name": "stderr",
     "output_type": "stream",
     "text": [
      "C:\\ProgramData\\Anaconda3\\lib\\site-packages\\pingouin-0.2.9-py3.7.egg\\pingouin\\nonparametric.py:144: RuntimeWarning: invalid value encountered in true_divide\n",
      "  return (np.fabs(a - np.median(a)) / mad(a)) > k\n",
      "C:\\ProgramData\\Anaconda3\\lib\\site-packages\\pingouin-0.2.9-py3.7.egg\\pingouin\\nonparametric.py:144: RuntimeWarning: invalid value encountered in greater\n",
      "  return (np.fabs(a - np.median(a)) / mad(a)) > k\n",
      "C:\\ProgramData\\Anaconda3\\lib\\site-packages\\pingouin-0.2.9-py3.7.egg\\pingouin\\nonparametric.py:144: RuntimeWarning: invalid value encountered in true_divide\n",
      "  return (np.fabs(a - np.median(a)) / mad(a)) > k\n",
      "C:\\ProgramData\\Anaconda3\\lib\\site-packages\\pingouin-0.2.9-py3.7.egg\\pingouin\\nonparametric.py:144: RuntimeWarning: invalid value encountered in greater\n",
      "  return (np.fabs(a - np.median(a)) / mad(a)) > k\n"
     ]
    },
    {
     "name": "stdout",
     "output_type": "stream",
     "text": [
      "1 trial(s) droped due to inconsistent recording\n",
      "1 trial(s) droped due to inconsistent recording\n"
     ]
    },
    {
     "name": "stderr",
     "output_type": "stream",
     "text": [
      "C:\\ProgramData\\Anaconda3\\lib\\site-packages\\pingouin-0.2.9-py3.7.egg\\pingouin\\nonparametric.py:144: RuntimeWarning: invalid value encountered in true_divide\n",
      "  return (np.fabs(a - np.median(a)) / mad(a)) > k\n",
      "C:\\ProgramData\\Anaconda3\\lib\\site-packages\\pingouin-0.2.9-py3.7.egg\\pingouin\\nonparametric.py:144: RuntimeWarning: invalid value encountered in greater\n",
      "  return (np.fabs(a - np.median(a)) / mad(a)) > k\n",
      "C:\\ProgramData\\Anaconda3\\lib\\site-packages\\pingouin-0.2.9-py3.7.egg\\pingouin\\nonparametric.py:144: RuntimeWarning: invalid value encountered in true_divide\n",
      "  return (np.fabs(a - np.median(a)) / mad(a)) > k\n"
     ]
    },
    {
     "name": "stdout",
     "output_type": "stream",
     "text": [
      "1 trial(s) droped due to inconsistent recording\n"
     ]
    },
    {
     "name": "stderr",
     "output_type": "stream",
     "text": [
      "C:\\ProgramData\\Anaconda3\\lib\\site-packages\\pingouin-0.2.9-py3.7.egg\\pingouin\\nonparametric.py:144: RuntimeWarning: invalid value encountered in greater\n",
      "  return (np.fabs(a - np.median(a)) / mad(a)) > k\n",
      "C:\\ProgramData\\Anaconda3\\lib\\site-packages\\pingouin-0.2.9-py3.7.egg\\pingouin\\nonparametric.py:144: RuntimeWarning: invalid value encountered in true_divide\n",
      "  return (np.fabs(a - np.median(a)) / mad(a)) > k\n",
      "C:\\ProgramData\\Anaconda3\\lib\\site-packages\\pingouin-0.2.9-py3.7.egg\\pingouin\\nonparametric.py:144: RuntimeWarning: invalid value encountered in greater\n",
      "  return (np.fabs(a - np.median(a)) / mad(a)) > k\n"
     ]
    },
    {
     "name": "stdout",
     "output_type": "stream",
     "text": [
      "1 trial(s) droped due to inconsistent recording\n"
     ]
    },
    {
     "name": "stderr",
     "output_type": "stream",
     "text": [
      "C:\\ProgramData\\Anaconda3\\lib\\site-packages\\pingouin-0.2.9-py3.7.egg\\pingouin\\nonparametric.py:144: RuntimeWarning: invalid value encountered in true_divide\n",
      "  return (np.fabs(a - np.median(a)) / mad(a)) > k\n",
      "C:\\ProgramData\\Anaconda3\\lib\\site-packages\\pingouin-0.2.9-py3.7.egg\\pingouin\\nonparametric.py:144: RuntimeWarning: invalid value encountered in greater\n",
      "  return (np.fabs(a - np.median(a)) / mad(a)) > k\n",
      "C:\\ProgramData\\Anaconda3\\lib\\site-packages\\ipykernel_launcher.py:4: RuntimeWarning: More than 20 figures have been opened. Figures created through the pyplot interface (`matplotlib.pyplot.figure`) are retained until explicitly closed and may consume too much memory. (To control this warning, see the rcParam `figure.max_open_warning`).\n",
      "  after removing the cwd from sys.path.\n",
      "C:\\ProgramData\\Anaconda3\\lib\\site-packages\\pingouin-0.2.9-py3.7.egg\\pingouin\\nonparametric.py:144: RuntimeWarning: invalid value encountered in true_divide\n",
      "  return (np.fabs(a - np.median(a)) / mad(a)) > k\n",
      "C:\\ProgramData\\Anaconda3\\lib\\site-packages\\pingouin-0.2.9-py3.7.egg\\pingouin\\nonparametric.py:144: RuntimeWarning: invalid value encountered in greater\n",
      "  return (np.fabs(a - np.median(a)) / mad(a)) > k\n"
     ]
    },
    {
     "name": "stdout",
     "output_type": "stream",
     "text": [
      "1 trial(s) droped due to inconsistent recording\n",
      "1 trial(s) droped due to inconsistent recording\n",
      "1 trial(s) droped due to inconsistent recording"
     ]
    },
    {
     "name": "stderr",
     "output_type": "stream",
     "text": [
      "C:\\ProgramData\\Anaconda3\\lib\\site-packages\\pingouin-0.2.9-py3.7.egg\\pingouin\\nonparametric.py:144: RuntimeWarning: invalid value encountered in true_divide\n",
      "  return (np.fabs(a - np.median(a)) / mad(a)) > k\n",
      "C:\\ProgramData\\Anaconda3\\lib\\site-packages\\pingouin-0.2.9-py3.7.egg\\pingouin\\nonparametric.py:144: RuntimeWarning: invalid value encountered in greater\n",
      "  return (np.fabs(a - np.median(a)) / mad(a)) > k\n"
     ]
    },
    {
     "name": "stdout",
     "output_type": "stream",
     "text": [
      "\n",
      "1 trial(s) droped due to inconsistent recording\n"
     ]
    },
    {
     "name": "stderr",
     "output_type": "stream",
     "text": [
      "C:\\ProgramData\\Anaconda3\\lib\\site-packages\\pingouin-0.2.9-py3.7.egg\\pingouin\\nonparametric.py:144: RuntimeWarning: invalid value encountered in true_divide\n",
      "  return (np.fabs(a - np.median(a)) / mad(a)) > k\n",
      "C:\\ProgramData\\Anaconda3\\lib\\site-packages\\pingouin-0.2.9-py3.7.egg\\pingouin\\nonparametric.py:144: RuntimeWarning: invalid value encountered in greater\n",
      "  return (np.fabs(a - np.median(a)) / mad(a)) > k\n",
      "C:\\ProgramData\\Anaconda3\\lib\\site-packages\\pingouin-0.2.9-py3.7.egg\\pingouin\\nonparametric.py:144: RuntimeWarning: invalid value encountered in true_divide\n",
      "  return (np.fabs(a - np.median(a)) / mad(a)) > k\n",
      "C:\\ProgramData\\Anaconda3\\lib\\site-packages\\pingouin-0.2.9-py3.7.egg\\pingouin\\nonparametric.py:144: RuntimeWarning: invalid value encountered in greater\n",
      "  return (np.fabs(a - np.median(a)) / mad(a)) > k\n"
     ]
    },
    {
     "name": "stdout",
     "output_type": "stream",
     "text": [
      "1 trial(s) droped due to inconsistent recording\n",
      "1 trial(s) droped due to inconsistent recording\n"
     ]
    },
    {
     "name": "stderr",
     "output_type": "stream",
     "text": [
      "C:\\ProgramData\\Anaconda3\\lib\\site-packages\\pingouin-0.2.9-py3.7.egg\\pingouin\\nonparametric.py:144: RuntimeWarning: invalid value encountered in true_divide\n",
      "  return (np.fabs(a - np.median(a)) / mad(a)) > k\n",
      "C:\\ProgramData\\Anaconda3\\lib\\site-packages\\pingouin-0.2.9-py3.7.egg\\pingouin\\nonparametric.py:144: RuntimeWarning: invalid value encountered in greater\n",
      "  return (np.fabs(a - np.median(a)) / mad(a)) > k\n",
      "C:\\ProgramData\\Anaconda3\\lib\\site-packages\\pingouin-0.2.9-py3.7.egg\\pingouin\\nonparametric.py:144: RuntimeWarning: invalid value encountered in true_divide\n",
      "  return (np.fabs(a - np.median(a)) / mad(a)) > k\n",
      "C:\\ProgramData\\Anaconda3\\lib\\site-packages\\pingouin-0.2.9-py3.7.egg\\pingouin\\nonparametric.py:144: RuntimeWarning: invalid value encountered in greater\n",
      "  return (np.fabs(a - np.median(a)) / mad(a)) > k\n"
     ]
    },
    {
     "name": "stdout",
     "output_type": "stream",
     "text": [
      "1 trial(s) droped due to inconsistent recording\n",
      "1 trial(s) droped due to inconsistent recording\n"
     ]
    },
    {
     "name": "stderr",
     "output_type": "stream",
     "text": [
      "C:\\ProgramData\\Anaconda3\\lib\\site-packages\\pingouin-0.2.9-py3.7.egg\\pingouin\\nonparametric.py:144: RuntimeWarning: invalid value encountered in true_divide\n",
      "  return (np.fabs(a - np.median(a)) / mad(a)) > k\n",
      "C:\\ProgramData\\Anaconda3\\lib\\site-packages\\pingouin-0.2.9-py3.7.egg\\pingouin\\nonparametric.py:144: RuntimeWarning: invalid value encountered in greater\n",
      "  return (np.fabs(a - np.median(a)) / mad(a)) > k\n",
      "C:\\ProgramData\\Anaconda3\\lib\\site-packages\\pingouin-0.2.9-py3.7.egg\\pingouin\\nonparametric.py:144: RuntimeWarning: invalid value encountered in true_divide\n",
      "  return (np.fabs(a - np.median(a)) / mad(a)) > k\n",
      "C:\\ProgramData\\Anaconda3\\lib\\site-packages\\pingouin-0.2.9-py3.7.egg\\pingouin\\nonparametric.py:144: RuntimeWarning: invalid value encountered in greater\n",
      "  return (np.fabs(a - np.median(a)) / mad(a)) > k\n"
     ]
    },
    {
     "name": "stdout",
     "output_type": "stream",
     "text": [
      "1 trial(s) droped due to inconsistent recording\n",
      "1 trial(s) droped due to inconsistent recording\n"
     ]
    },
    {
     "name": "stderr",
     "output_type": "stream",
     "text": [
      "C:\\ProgramData\\Anaconda3\\lib\\site-packages\\pingouin-0.2.9-py3.7.egg\\pingouin\\nonparametric.py:144: RuntimeWarning: invalid value encountered in true_divide\n",
      "  return (np.fabs(a - np.median(a)) / mad(a)) > k\n",
      "C:\\ProgramData\\Anaconda3\\lib\\site-packages\\pingouin-0.2.9-py3.7.egg\\pingouin\\nonparametric.py:144: RuntimeWarning: invalid value encountered in greater\n",
      "  return (np.fabs(a - np.median(a)) / mad(a)) > k\n",
      "C:\\ProgramData\\Anaconda3\\lib\\site-packages\\pingouin-0.2.9-py3.7.egg\\pingouin\\nonparametric.py:144: RuntimeWarning: invalid value encountered in true_divide\n",
      "  return (np.fabs(a - np.median(a)) / mad(a)) > k\n",
      "C:\\ProgramData\\Anaconda3\\lib\\site-packages\\pingouin-0.2.9-py3.7.egg\\pingouin\\nonparametric.py:144: RuntimeWarning: invalid value encountered in greater\n",
      "  return (np.fabs(a - np.median(a)) / mad(a)) > k\n"
     ]
    },
    {
     "name": "stdout",
     "output_type": "stream",
     "text": [
      "1 trial(s) droped due to inconsistent recording\n",
      "1 trial(s) droped due to inconsistent recording\n"
     ]
    },
    {
     "name": "stderr",
     "output_type": "stream",
     "text": [
      "C:\\ProgramData\\Anaconda3\\lib\\site-packages\\pingouin-0.2.9-py3.7.egg\\pingouin\\nonparametric.py:144: RuntimeWarning: invalid value encountered in true_divide\n",
      "  return (np.fabs(a - np.median(a)) / mad(a)) > k\n",
      "C:\\ProgramData\\Anaconda3\\lib\\site-packages\\pingouin-0.2.9-py3.7.egg\\pingouin\\nonparametric.py:144: RuntimeWarning: invalid value encountered in greater\n",
      "  return (np.fabs(a - np.median(a)) / mad(a)) > k\n",
      "C:\\ProgramData\\Anaconda3\\lib\\site-packages\\pingouin-0.2.9-py3.7.egg\\pingouin\\nonparametric.py:144: RuntimeWarning: invalid value encountered in true_divide\n",
      "  return (np.fabs(a - np.median(a)) / mad(a)) > k\n",
      "C:\\ProgramData\\Anaconda3\\lib\\site-packages\\pingouin-0.2.9-py3.7.egg\\pingouin\\nonparametric.py:144: RuntimeWarning: invalid value encountered in greater\n",
      "  return (np.fabs(a - np.median(a)) / mad(a)) > k\n",
      "C:\\ProgramData\\Anaconda3\\lib\\site-packages\\ipykernel_launcher.py:4: RuntimeWarning: More than 20 figures have been opened. Figures created through the pyplot interface (`matplotlib.pyplot.figure`) are retained until explicitly closed and may consume too much memory. (To control this warning, see the rcParam `figure.max_open_warning`).\n",
      "  after removing the cwd from sys.path.\n",
      "C:\\ProgramData\\Anaconda3\\lib\\site-packages\\pingouin-0.2.9-py3.7.egg\\pingouin\\nonparametric.py:144: RuntimeWarning: invalid value encountered in true_divide\n",
      "  return (np.fabs(a - np.median(a)) / mad(a)) > k\n",
      "C:\\ProgramData\\Anaconda3\\lib\\site-packages\\pingouin-0.2.9-py3.7.egg\\pingouin\\nonparametric.py:144: RuntimeWarning: invalid value encountered in greater\n",
      "  return (np.fabs(a - np.median(a)) / mad(a)) > k\n"
     ]
    },
    {
     "name": "stdout",
     "output_type": "stream",
     "text": [
      "1 trial(s) droped due to inconsistent recording\n",
      "1 trial(s) droped due to inconsistent recording\n"
     ]
    },
    {
     "name": "stderr",
     "output_type": "stream",
     "text": [
      "C:\\ProgramData\\Anaconda3\\lib\\site-packages\\pingouin-0.2.9-py3.7.egg\\pingouin\\nonparametric.py:144: RuntimeWarning: invalid value encountered in true_divide\n",
      "  return (np.fabs(a - np.median(a)) / mad(a)) > k\n",
      "C:\\ProgramData\\Anaconda3\\lib\\site-packages\\pingouin-0.2.9-py3.7.egg\\pingouin\\nonparametric.py:144: RuntimeWarning: invalid value encountered in greater\n",
      "  return (np.fabs(a - np.median(a)) / mad(a)) > k\n"
     ]
    },
    {
     "name": "stdout",
     "output_type": "stream",
     "text": [
      "1 trial(s) droped due to inconsistent recording\n",
      "1 trial(s) droped due to inconsistent recording\n"
     ]
    },
    {
     "name": "stderr",
     "output_type": "stream",
     "text": [
      "C:\\ProgramData\\Anaconda3\\lib\\site-packages\\pingouin-0.2.9-py3.7.egg\\pingouin\\nonparametric.py:144: RuntimeWarning: invalid value encountered in true_divide\n",
      "  return (np.fabs(a - np.median(a)) / mad(a)) > k\n",
      "C:\\ProgramData\\Anaconda3\\lib\\site-packages\\pingouin-0.2.9-py3.7.egg\\pingouin\\nonparametric.py:144: RuntimeWarning: invalid value encountered in greater\n",
      "  return (np.fabs(a - np.median(a)) / mad(a)) > k\n",
      "C:\\ProgramData\\Anaconda3\\lib\\site-packages\\pingouin-0.2.9-py3.7.egg\\pingouin\\nonparametric.py:144: RuntimeWarning: invalid value encountered in true_divide\n",
      "  return (np.fabs(a - np.median(a)) / mad(a)) > k\n",
      "C:\\ProgramData\\Anaconda3\\lib\\site-packages\\pingouin-0.2.9-py3.7.egg\\pingouin\\nonparametric.py:144: RuntimeWarning: invalid value encountered in greater\n",
      "  return (np.fabs(a - np.median(a)) / mad(a)) > k\n"
     ]
    },
    {
     "name": "stdout",
     "output_type": "stream",
     "text": [
      "1 trial(s) droped due to inconsistent recording\n",
      "1 trial(s) droped due to inconsistent recording"
     ]
    },
    {
     "name": "stderr",
     "output_type": "stream",
     "text": [
      "C:\\ProgramData\\Anaconda3\\lib\\site-packages\\pingouin-0.2.9-py3.7.egg\\pingouin\\nonparametric.py:144: RuntimeWarning: invalid value encountered in true_divide\n",
      "  return (np.fabs(a - np.median(a)) / mad(a)) > k\n",
      "C:\\ProgramData\\Anaconda3\\lib\\site-packages\\pingouin-0.2.9-py3.7.egg\\pingouin\\nonparametric.py:144: RuntimeWarning: invalid value encountered in greater\n",
      "  return (np.fabs(a - np.median(a)) / mad(a)) > k\n"
     ]
    },
    {
     "name": "stdout",
     "output_type": "stream",
     "text": [
      "\n",
      "1 trial(s) droped due to inconsistent recording"
     ]
    },
    {
     "name": "stderr",
     "output_type": "stream",
     "text": [
      "C:\\ProgramData\\Anaconda3\\lib\\site-packages\\pingouin-0.2.9-py3.7.egg\\pingouin\\nonparametric.py:144: RuntimeWarning: invalid value encountered in true_divide\n",
      "  return (np.fabs(a - np.median(a)) / mad(a)) > k\n",
      "C:\\ProgramData\\Anaconda3\\lib\\site-packages\\pingouin-0.2.9-py3.7.egg\\pingouin\\nonparametric.py:144: RuntimeWarning: invalid value encountered in greater\n",
      "  return (np.fabs(a - np.median(a)) / mad(a)) > k\n"
     ]
    },
    {
     "name": "stdout",
     "output_type": "stream",
     "text": [
      "\n",
      "1 trial(s) droped due to inconsistent recording\n"
     ]
    },
    {
     "name": "stderr",
     "output_type": "stream",
     "text": [
      "C:\\ProgramData\\Anaconda3\\lib\\site-packages\\pingouin-0.2.9-py3.7.egg\\pingouin\\nonparametric.py:144: RuntimeWarning: invalid value encountered in true_divide\n",
      "  return (np.fabs(a - np.median(a)) / mad(a)) > k\n",
      "C:\\ProgramData\\Anaconda3\\lib\\site-packages\\pingouin-0.2.9-py3.7.egg\\pingouin\\nonparametric.py:144: RuntimeWarning: invalid value encountered in greater\n",
      "  return (np.fabs(a - np.median(a)) / mad(a)) > k\n",
      "C:\\ProgramData\\Anaconda3\\lib\\site-packages\\pingouin-0.2.9-py3.7.egg\\pingouin\\nonparametric.py:144: RuntimeWarning: invalid value encountered in true_divide\n",
      "  return (np.fabs(a - np.median(a)) / mad(a)) > k\n",
      "C:\\ProgramData\\Anaconda3\\lib\\site-packages\\pingouin-0.2.9-py3.7.egg\\pingouin\\nonparametric.py:144: RuntimeWarning: invalid value encountered in greater\n",
      "  return (np.fabs(a - np.median(a)) / mad(a)) > k\n"
     ]
    },
    {
     "name": "stdout",
     "output_type": "stream",
     "text": [
      "1 trial(s) droped due to inconsistent recording\n",
      "1 trial(s) droped due to inconsistent recording\n"
     ]
    },
    {
     "name": "stderr",
     "output_type": "stream",
     "text": [
      "C:\\ProgramData\\Anaconda3\\lib\\site-packages\\pingouin-0.2.9-py3.7.egg\\pingouin\\nonparametric.py:144: RuntimeWarning: invalid value encountered in true_divide\n",
      "  return (np.fabs(a - np.median(a)) / mad(a)) > k\n",
      "C:\\ProgramData\\Anaconda3\\lib\\site-packages\\pingouin-0.2.9-py3.7.egg\\pingouin\\nonparametric.py:144: RuntimeWarning: invalid value encountered in greater\n",
      "  return (np.fabs(a - np.median(a)) / mad(a)) > k\n",
      "C:\\ProgramData\\Anaconda3\\lib\\site-packages\\pingouin-0.2.9-py3.7.egg\\pingouin\\nonparametric.py:144: RuntimeWarning: invalid value encountered in true_divide\n",
      "  return (np.fabs(a - np.median(a)) / mad(a)) > k\n",
      "C:\\ProgramData\\Anaconda3\\lib\\site-packages\\pingouin-0.2.9-py3.7.egg\\pingouin\\nonparametric.py:144: RuntimeWarning: invalid value encountered in greater\n",
      "  return (np.fabs(a - np.median(a)) / mad(a)) > k\n"
     ]
    },
    {
     "name": "stdout",
     "output_type": "stream",
     "text": [
      "1 trial(s) droped due to inconsistent recording\n",
      "1 trial(s) droped due to inconsistent recording\n"
     ]
    },
    {
     "name": "stderr",
     "output_type": "stream",
     "text": [
      "C:\\ProgramData\\Anaconda3\\lib\\site-packages\\pingouin-0.2.9-py3.7.egg\\pingouin\\nonparametric.py:144: RuntimeWarning: invalid value encountered in true_divide\n",
      "  return (np.fabs(a - np.median(a)) / mad(a)) > k\n",
      "C:\\ProgramData\\Anaconda3\\lib\\site-packages\\pingouin-0.2.9-py3.7.egg\\pingouin\\nonparametric.py:144: RuntimeWarning: invalid value encountered in greater\n",
      "  return (np.fabs(a - np.median(a)) / mad(a)) > k\n",
      "C:\\ProgramData\\Anaconda3\\lib\\site-packages\\pingouin-0.2.9-py3.7.egg\\pingouin\\nonparametric.py:144: RuntimeWarning: invalid value encountered in true_divide\n",
      "  return (np.fabs(a - np.median(a)) / mad(a)) > k\n",
      "C:\\ProgramData\\Anaconda3\\lib\\site-packages\\pingouin-0.2.9-py3.7.egg\\pingouin\\nonparametric.py:144: RuntimeWarning: invalid value encountered in greater\n",
      "  return (np.fabs(a - np.median(a)) / mad(a)) > k\n",
      "C:\\ProgramData\\Anaconda3\\lib\\site-packages\\ipykernel_launcher.py:4: RuntimeWarning: More than 20 figures have been opened. Figures created through the pyplot interface (`matplotlib.pyplot.figure`) are retained until explicitly closed and may consume too much memory. (To control this warning, see the rcParam `figure.max_open_warning`).\n",
      "  after removing the cwd from sys.path.\n",
      "C:\\ProgramData\\Anaconda3\\lib\\site-packages\\pingouin-0.2.9-py3.7.egg\\pingouin\\nonparametric.py:144: RuntimeWarning: invalid value encountered in true_divide\n",
      "  return (np.fabs(a - np.median(a)) / mad(a)) > k\n",
      "C:\\ProgramData\\Anaconda3\\lib\\site-packages\\pingouin-0.2.9-py3.7.egg\\pingouin\\nonparametric.py:144: RuntimeWarning: invalid value encountered in greater\n",
      "  return (np.fabs(a - np.median(a)) / mad(a)) > k\n"
     ]
    },
    {
     "name": "stdout",
     "output_type": "stream",
     "text": [
      "1 trial(s) droped due to inconsistent recording\n",
      "1 trial(s) droped due to inconsistent recording\n"
     ]
    },
    {
     "name": "stderr",
     "output_type": "stream",
     "text": [
      "C:\\ProgramData\\Anaconda3\\lib\\site-packages\\pingouin-0.2.9-py3.7.egg\\pingouin\\nonparametric.py:144: RuntimeWarning: invalid value encountered in true_divide\n",
      "  return (np.fabs(a - np.median(a)) / mad(a)) > k\n",
      "C:\\ProgramData\\Anaconda3\\lib\\site-packages\\pingouin-0.2.9-py3.7.egg\\pingouin\\nonparametric.py:144: RuntimeWarning: invalid value encountered in greater\n",
      "  return (np.fabs(a - np.median(a)) / mad(a)) > k\n"
     ]
    },
    {
     "name": "stdout",
     "output_type": "stream",
     "text": [
      "1 trial(s) droped due to inconsistent recording\n"
     ]
    },
    {
     "name": "stderr",
     "output_type": "stream",
     "text": [
      "C:\\ProgramData\\Anaconda3\\lib\\site-packages\\pingouin-0.2.9-py3.7.egg\\pingouin\\nonparametric.py:144: RuntimeWarning: invalid value encountered in true_divide\n",
      "  return (np.fabs(a - np.median(a)) / mad(a)) > k\n",
      "C:\\ProgramData\\Anaconda3\\lib\\site-packages\\pingouin-0.2.9-py3.7.egg\\pingouin\\nonparametric.py:144: RuntimeWarning: invalid value encountered in greater\n",
      "  return (np.fabs(a - np.median(a)) / mad(a)) > k\n"
     ]
    },
    {
     "name": "stdout",
     "output_type": "stream",
     "text": [
      "1 trial(s) droped due to inconsistent recording\n",
      "1 trial(s) droped due to inconsistent recording\n"
     ]
    },
    {
     "name": "stderr",
     "output_type": "stream",
     "text": [
      "C:\\ProgramData\\Anaconda3\\lib\\site-packages\\pingouin-0.2.9-py3.7.egg\\pingouin\\nonparametric.py:144: RuntimeWarning: invalid value encountered in true_divide\n",
      "  return (np.fabs(a - np.median(a)) / mad(a)) > k\n",
      "C:\\ProgramData\\Anaconda3\\lib\\site-packages\\pingouin-0.2.9-py3.7.egg\\pingouin\\nonparametric.py:144: RuntimeWarning: invalid value encountered in greater\n",
      "  return (np.fabs(a - np.median(a)) / mad(a)) > k\n",
      "C:\\ProgramData\\Anaconda3\\lib\\site-packages\\pingouin-0.2.9-py3.7.egg\\pingouin\\nonparametric.py:144: RuntimeWarning: invalid value encountered in true_divide\n",
      "  return (np.fabs(a - np.median(a)) / mad(a)) > k\n"
     ]
    },
    {
     "name": "stdout",
     "output_type": "stream",
     "text": [
      "1 trial(s) droped due to inconsistent recording\n",
      "1 trial(s) droped due to inconsistent recording\n"
     ]
    },
    {
     "name": "stderr",
     "output_type": "stream",
     "text": [
      "C:\\ProgramData\\Anaconda3\\lib\\site-packages\\pingouin-0.2.9-py3.7.egg\\pingouin\\nonparametric.py:144: RuntimeWarning: invalid value encountered in greater\n",
      "  return (np.fabs(a - np.median(a)) / mad(a)) > k\n",
      "C:\\ProgramData\\Anaconda3\\lib\\site-packages\\pingouin-0.2.9-py3.7.egg\\pingouin\\nonparametric.py:144: RuntimeWarning: invalid value encountered in true_divide\n",
      "  return (np.fabs(a - np.median(a)) / mad(a)) > k\n",
      "C:\\ProgramData\\Anaconda3\\lib\\site-packages\\pingouin-0.2.9-py3.7.egg\\pingouin\\nonparametric.py:144: RuntimeWarning: invalid value encountered in greater\n",
      "  return (np.fabs(a - np.median(a)) / mad(a)) > k\n",
      "C:\\ProgramData\\Anaconda3\\lib\\site-packages\\pingouin-0.2.9-py3.7.egg\\pingouin\\nonparametric.py:144: RuntimeWarning: invalid value encountered in true_divide\n",
      "  return (np.fabs(a - np.median(a)) / mad(a)) > k\n",
      "C:\\ProgramData\\Anaconda3\\lib\\site-packages\\pingouin-0.2.9-py3.7.egg\\pingouin\\nonparametric.py:144: RuntimeWarning: invalid value encountered in greater\n",
      "  return (np.fabs(a - np.median(a)) / mad(a)) > k\n"
     ]
    },
    {
     "name": "stdout",
     "output_type": "stream",
     "text": [
      "1 trial(s) droped due to inconsistent recording\n",
      "1 trial(s) droped due to inconsistent recording\n"
     ]
    },
    {
     "name": "stderr",
     "output_type": "stream",
     "text": [
      "C:\\ProgramData\\Anaconda3\\lib\\site-packages\\pingouin-0.2.9-py3.7.egg\\pingouin\\nonparametric.py:144: RuntimeWarning: invalid value encountered in true_divide\n",
      "  return (np.fabs(a - np.median(a)) / mad(a)) > k\n",
      "C:\\ProgramData\\Anaconda3\\lib\\site-packages\\pingouin-0.2.9-py3.7.egg\\pingouin\\nonparametric.py:144: RuntimeWarning: invalid value encountered in greater\n",
      "  return (np.fabs(a - np.median(a)) / mad(a)) > k\n",
      "C:\\ProgramData\\Anaconda3\\lib\\site-packages\\pingouin-0.2.9-py3.7.egg\\pingouin\\nonparametric.py:144: RuntimeWarning: invalid value encountered in true_divide\n",
      "  return (np.fabs(a - np.median(a)) / mad(a)) > k\n",
      "C:\\ProgramData\\Anaconda3\\lib\\site-packages\\pingouin-0.2.9-py3.7.egg\\pingouin\\nonparametric.py:144: RuntimeWarning: invalid value encountered in greater\n",
      "  return (np.fabs(a - np.median(a)) / mad(a)) > k\n"
     ]
    },
    {
     "name": "stdout",
     "output_type": "stream",
     "text": [
      "1 trial(s) droped due to inconsistent recording\n",
      "1 trial(s) droped due to inconsistent recording\n"
     ]
    },
    {
     "name": "stderr",
     "output_type": "stream",
     "text": [
      "C:\\ProgramData\\Anaconda3\\lib\\site-packages\\pingouin-0.2.9-py3.7.egg\\pingouin\\nonparametric.py:144: RuntimeWarning: invalid value encountered in true_divide\n",
      "  return (np.fabs(a - np.median(a)) / mad(a)) > k\n",
      "C:\\ProgramData\\Anaconda3\\lib\\site-packages\\pingouin-0.2.9-py3.7.egg\\pingouin\\nonparametric.py:144: RuntimeWarning: invalid value encountered in greater\n",
      "  return (np.fabs(a - np.median(a)) / mad(a)) > k\n",
      "C:\\ProgramData\\Anaconda3\\lib\\site-packages\\pingouin-0.2.9-py3.7.egg\\pingouin\\nonparametric.py:144: RuntimeWarning: invalid value encountered in true_divide\n",
      "  return (np.fabs(a - np.median(a)) / mad(a)) > k\n",
      "C:\\ProgramData\\Anaconda3\\lib\\site-packages\\pingouin-0.2.9-py3.7.egg\\pingouin\\nonparametric.py:144: RuntimeWarning: invalid value encountered in greater\n",
      "  return (np.fabs(a - np.median(a)) / mad(a)) > k\n"
     ]
    },
    {
     "name": "stdout",
     "output_type": "stream",
     "text": [
      "1 trial(s) droped due to inconsistent recording\n"
     ]
    },
    {
     "name": "stderr",
     "output_type": "stream",
     "text": [
      "C:\\ProgramData\\Anaconda3\\lib\\site-packages\\pingouin-0.2.9-py3.7.egg\\pingouin\\nonparametric.py:144: RuntimeWarning: invalid value encountered in true_divide\n",
      "  return (np.fabs(a - np.median(a)) / mad(a)) > k\n",
      "C:\\ProgramData\\Anaconda3\\lib\\site-packages\\pingouin-0.2.9-py3.7.egg\\pingouin\\nonparametric.py:144: RuntimeWarning: invalid value encountered in greater\n",
      "  return (np.fabs(a - np.median(a)) / mad(a)) > k\n",
      "C:\\ProgramData\\Anaconda3\\lib\\site-packages\\ipykernel_launcher.py:4: RuntimeWarning: More than 20 figures have been opened. Figures created through the pyplot interface (`matplotlib.pyplot.figure`) are retained until explicitly closed and may consume too much memory. (To control this warning, see the rcParam `figure.max_open_warning`).\n",
      "  after removing the cwd from sys.path.\n",
      "C:\\ProgramData\\Anaconda3\\lib\\site-packages\\pingouin-0.2.9-py3.7.egg\\pingouin\\nonparametric.py:144: RuntimeWarning: invalid value encountered in true_divide\n",
      "  return (np.fabs(a - np.median(a)) / mad(a)) > k\n",
      "C:\\ProgramData\\Anaconda3\\lib\\site-packages\\pingouin-0.2.9-py3.7.egg\\pingouin\\nonparametric.py:144: RuntimeWarning: invalid value encountered in greater\n",
      "  return (np.fabs(a - np.median(a)) / mad(a)) > k\n"
     ]
    },
    {
     "name": "stdout",
     "output_type": "stream",
     "text": [
      "1 trial(s) droped due to inconsistent recording\n",
      "1 trial(s) droped due to inconsistent recording\n",
      "1 trial(s) droped due to inconsistent recording"
     ]
    },
    {
     "name": "stderr",
     "output_type": "stream",
     "text": [
      "C:\\ProgramData\\Anaconda3\\lib\\site-packages\\pingouin-0.2.9-py3.7.egg\\pingouin\\nonparametric.py:144: RuntimeWarning: invalid value encountered in true_divide\n",
      "  return (np.fabs(a - np.median(a)) / mad(a)) > k\n",
      "C:\\ProgramData\\Anaconda3\\lib\\site-packages\\pingouin-0.2.9-py3.7.egg\\pingouin\\nonparametric.py:144: RuntimeWarning: invalid value encountered in greater\n",
      "  return (np.fabs(a - np.median(a)) / mad(a)) > k\n"
     ]
    },
    {
     "name": "stdout",
     "output_type": "stream",
     "text": [
      "\n",
      "1 trial(s) droped due to inconsistent recording\n"
     ]
    },
    {
     "name": "stderr",
     "output_type": "stream",
     "text": [
      "C:\\ProgramData\\Anaconda3\\lib\\site-packages\\pingouin-0.2.9-py3.7.egg\\pingouin\\nonparametric.py:144: RuntimeWarning: invalid value encountered in true_divide\n",
      "  return (np.fabs(a - np.median(a)) / mad(a)) > k\n",
      "C:\\ProgramData\\Anaconda3\\lib\\site-packages\\pingouin-0.2.9-py3.7.egg\\pingouin\\nonparametric.py:144: RuntimeWarning: invalid value encountered in greater\n",
      "  return (np.fabs(a - np.median(a)) / mad(a)) > k\n",
      "C:\\ProgramData\\Anaconda3\\lib\\site-packages\\pingouin-0.2.9-py3.7.egg\\pingouin\\nonparametric.py:144: RuntimeWarning: invalid value encountered in true_divide\n",
      "  return (np.fabs(a - np.median(a)) / mad(a)) > k\n",
      "C:\\ProgramData\\Anaconda3\\lib\\site-packages\\pingouin-0.2.9-py3.7.egg\\pingouin\\nonparametric.py:144: RuntimeWarning: invalid value encountered in greater\n",
      "  return (np.fabs(a - np.median(a)) / mad(a)) > k\n"
     ]
    },
    {
     "name": "stdout",
     "output_type": "stream",
     "text": [
      "1 trial(s) droped due to inconsistent recording\n",
      "1 trial(s) droped due to inconsistent recording\n"
     ]
    },
    {
     "name": "stderr",
     "output_type": "stream",
     "text": [
      "C:\\ProgramData\\Anaconda3\\lib\\site-packages\\pingouin-0.2.9-py3.7.egg\\pingouin\\nonparametric.py:144: RuntimeWarning: invalid value encountered in true_divide\n",
      "  return (np.fabs(a - np.median(a)) / mad(a)) > k\n",
      "C:\\ProgramData\\Anaconda3\\lib\\site-packages\\pingouin-0.2.9-py3.7.egg\\pingouin\\nonparametric.py:144: RuntimeWarning: invalid value encountered in greater\n",
      "  return (np.fabs(a - np.median(a)) / mad(a)) > k\n",
      "C:\\ProgramData\\Anaconda3\\lib\\site-packages\\pingouin-0.2.9-py3.7.egg\\pingouin\\nonparametric.py:144: RuntimeWarning: invalid value encountered in true_divide\n",
      "  return (np.fabs(a - np.median(a)) / mad(a)) > k\n",
      "C:\\ProgramData\\Anaconda3\\lib\\site-packages\\pingouin-0.2.9-py3.7.egg\\pingouin\\nonparametric.py:144: RuntimeWarning: invalid value encountered in greater\n",
      "  return (np.fabs(a - np.median(a)) / mad(a)) > k\n"
     ]
    },
    {
     "name": "stdout",
     "output_type": "stream",
     "text": [
      "1 trial(s) droped due to inconsistent recording\n",
      "1 trial(s) droped due to inconsistent recording\n"
     ]
    },
    {
     "name": "stderr",
     "output_type": "stream",
     "text": [
      "C:\\ProgramData\\Anaconda3\\lib\\site-packages\\pingouin-0.2.9-py3.7.egg\\pingouin\\nonparametric.py:144: RuntimeWarning: invalid value encountered in true_divide\n",
      "  return (np.fabs(a - np.median(a)) / mad(a)) > k\n",
      "C:\\ProgramData\\Anaconda3\\lib\\site-packages\\pingouin-0.2.9-py3.7.egg\\pingouin\\nonparametric.py:144: RuntimeWarning: invalid value encountered in greater\n",
      "  return (np.fabs(a - np.median(a)) / mad(a)) > k\n",
      "C:\\ProgramData\\Anaconda3\\lib\\site-packages\\pingouin-0.2.9-py3.7.egg\\pingouin\\nonparametric.py:144: RuntimeWarning: invalid value encountered in true_divide\n",
      "  return (np.fabs(a - np.median(a)) / mad(a)) > k\n",
      "C:\\ProgramData\\Anaconda3\\lib\\site-packages\\pingouin-0.2.9-py3.7.egg\\pingouin\\nonparametric.py:144: RuntimeWarning: invalid value encountered in greater\n",
      "  return (np.fabs(a - np.median(a)) / mad(a)) > k\n"
     ]
    },
    {
     "name": "stdout",
     "output_type": "stream",
     "text": [
      "1 trial(s) droped due to inconsistent recording\n",
      "1 trial(s) droped due to inconsistent recording\n"
     ]
    },
    {
     "name": "stderr",
     "output_type": "stream",
     "text": [
      "C:\\ProgramData\\Anaconda3\\lib\\site-packages\\pingouin-0.2.9-py3.7.egg\\pingouin\\nonparametric.py:144: RuntimeWarning: invalid value encountered in true_divide\n",
      "  return (np.fabs(a - np.median(a)) / mad(a)) > k\n",
      "C:\\ProgramData\\Anaconda3\\lib\\site-packages\\pingouin-0.2.9-py3.7.egg\\pingouin\\nonparametric.py:144: RuntimeWarning: invalid value encountered in greater\n",
      "  return (np.fabs(a - np.median(a)) / mad(a)) > k\n",
      "C:\\ProgramData\\Anaconda3\\lib\\site-packages\\pingouin-0.2.9-py3.7.egg\\pingouin\\nonparametric.py:144: RuntimeWarning: invalid value encountered in true_divide\n",
      "  return (np.fabs(a - np.median(a)) / mad(a)) > k\n",
      "C:\\ProgramData\\Anaconda3\\lib\\site-packages\\pingouin-0.2.9-py3.7.egg\\pingouin\\nonparametric.py:144: RuntimeWarning: invalid value encountered in greater\n",
      "  return (np.fabs(a - np.median(a)) / mad(a)) > k\n"
     ]
    },
    {
     "name": "stdout",
     "output_type": "stream",
     "text": [
      "1 trial(s) droped due to inconsistent recording\n",
      "1 trial(s) droped due to inconsistent recording\n"
     ]
    },
    {
     "name": "stderr",
     "output_type": "stream",
     "text": [
      "C:\\ProgramData\\Anaconda3\\lib\\site-packages\\pingouin-0.2.9-py3.7.egg\\pingouin\\nonparametric.py:144: RuntimeWarning: invalid value encountered in true_divide\n",
      "  return (np.fabs(a - np.median(a)) / mad(a)) > k\n",
      "C:\\ProgramData\\Anaconda3\\lib\\site-packages\\pingouin-0.2.9-py3.7.egg\\pingouin\\nonparametric.py:144: RuntimeWarning: invalid value encountered in greater\n",
      "  return (np.fabs(a - np.median(a)) / mad(a)) > k\n",
      "C:\\ProgramData\\Anaconda3\\lib\\site-packages\\pingouin-0.2.9-py3.7.egg\\pingouin\\nonparametric.py:144: RuntimeWarning: invalid value encountered in true_divide\n",
      "  return (np.fabs(a - np.median(a)) / mad(a)) > k\n",
      "C:\\ProgramData\\Anaconda3\\lib\\site-packages\\pingouin-0.2.9-py3.7.egg\\pingouin\\nonparametric.py:144: RuntimeWarning: invalid value encountered in greater\n",
      "  return (np.fabs(a - np.median(a)) / mad(a)) > k\n",
      "C:\\ProgramData\\Anaconda3\\lib\\site-packages\\ipykernel_launcher.py:4: RuntimeWarning: More than 20 figures have been opened. Figures created through the pyplot interface (`matplotlib.pyplot.figure`) are retained until explicitly closed and may consume too much memory. (To control this warning, see the rcParam `figure.max_open_warning`).\n",
      "  after removing the cwd from sys.path.\n",
      "C:\\ProgramData\\Anaconda3\\lib\\site-packages\\pingouin-0.2.9-py3.7.egg\\pingouin\\nonparametric.py:144: RuntimeWarning: invalid value encountered in true_divide\n",
      "  return (np.fabs(a - np.median(a)) / mad(a)) > k\n",
      "C:\\ProgramData\\Anaconda3\\lib\\site-packages\\pingouin-0.2.9-py3.7.egg\\pingouin\\nonparametric.py:144: RuntimeWarning: invalid value encountered in greater\n",
      "  return (np.fabs(a - np.median(a)) / mad(a)) > k\n",
      "C:\\ProgramData\\Anaconda3\\lib\\site-packages\\pingouin-0.2.9-py3.7.egg\\pingouin\\nonparametric.py:144: RuntimeWarning: invalid value encountered in true_divide\n",
      "  return (np.fabs(a - np.median(a)) / mad(a)) > k\n",
      "C:\\ProgramData\\Anaconda3\\lib\\site-packages\\pingouin-0.2.9-py3.7.egg\\pingouin\\nonparametric.py:144: RuntimeWarning: invalid value encountered in greater\n",
      "  return (np.fabs(a - np.median(a)) / mad(a)) > k\n"
     ]
    },
    {
     "name": "stdout",
     "output_type": "stream",
     "text": [
      "1 trial(s) droped due to inconsistent recording\n",
      "1 trial(s) droped due to inconsistent recording\n",
      "1 trial(s) droped due to inconsistent recording\n",
      "1 trial(s) droped due to inconsistent recording\n"
     ]
    },
    {
     "name": "stderr",
     "output_type": "stream",
     "text": [
      "C:\\ProgramData\\Anaconda3\\lib\\site-packages\\pingouin-0.2.9-py3.7.egg\\pingouin\\nonparametric.py:144: RuntimeWarning: invalid value encountered in true_divide\n",
      "  return (np.fabs(a - np.median(a)) / mad(a)) > k\n",
      "C:\\ProgramData\\Anaconda3\\lib\\site-packages\\pingouin-0.2.9-py3.7.egg\\pingouin\\nonparametric.py:144: RuntimeWarning: invalid value encountered in greater\n",
      "  return (np.fabs(a - np.median(a)) / mad(a)) > k\n",
      "C:\\ProgramData\\Anaconda3\\lib\\site-packages\\pingouin-0.2.9-py3.7.egg\\pingouin\\nonparametric.py:144: RuntimeWarning: invalid value encountered in true_divide\n",
      "  return (np.fabs(a - np.median(a)) / mad(a)) > k\n",
      "C:\\ProgramData\\Anaconda3\\lib\\site-packages\\pingouin-0.2.9-py3.7.egg\\pingouin\\nonparametric.py:144: RuntimeWarning: invalid value encountered in greater\n",
      "  return (np.fabs(a - np.median(a)) / mad(a)) > k\n"
     ]
    },
    {
     "name": "stdout",
     "output_type": "stream",
     "text": [
      "1 trial(s) droped due to inconsistent recording\n",
      "1 trial(s) droped due to inconsistent recording"
     ]
    },
    {
     "name": "stderr",
     "output_type": "stream",
     "text": [
      "C:\\ProgramData\\Anaconda3\\lib\\site-packages\\pingouin-0.2.9-py3.7.egg\\pingouin\\nonparametric.py:144: RuntimeWarning: invalid value encountered in true_divide\n",
      "  return (np.fabs(a - np.median(a)) / mad(a)) > k\n",
      "C:\\ProgramData\\Anaconda3\\lib\\site-packages\\pingouin-0.2.9-py3.7.egg\\pingouin\\nonparametric.py:144: RuntimeWarning: invalid value encountered in greater\n",
      "  return (np.fabs(a - np.median(a)) / mad(a)) > k\n"
     ]
    },
    {
     "name": "stdout",
     "output_type": "stream",
     "text": [
      "\n",
      "1 trial(s) droped due to inconsistent recording\n"
     ]
    },
    {
     "name": "stderr",
     "output_type": "stream",
     "text": [
      "C:\\ProgramData\\Anaconda3\\lib\\site-packages\\pingouin-0.2.9-py3.7.egg\\pingouin\\nonparametric.py:144: RuntimeWarning: invalid value encountered in true_divide\n",
      "  return (np.fabs(a - np.median(a)) / mad(a)) > k\n",
      "C:\\ProgramData\\Anaconda3\\lib\\site-packages\\pingouin-0.2.9-py3.7.egg\\pingouin\\nonparametric.py:144: RuntimeWarning: invalid value encountered in greater\n",
      "  return (np.fabs(a - np.median(a)) / mad(a)) > k\n",
      "C:\\ProgramData\\Anaconda3\\lib\\site-packages\\pingouin-0.2.9-py3.7.egg\\pingouin\\nonparametric.py:144: RuntimeWarning: invalid value encountered in true_divide\n",
      "  return (np.fabs(a - np.median(a)) / mad(a)) > k\n",
      "C:\\ProgramData\\Anaconda3\\lib\\site-packages\\pingouin-0.2.9-py3.7.egg\\pingouin\\nonparametric.py:144: RuntimeWarning: invalid value encountered in greater\n",
      "  return (np.fabs(a - np.median(a)) / mad(a)) > k\n"
     ]
    },
    {
     "name": "stdout",
     "output_type": "stream",
     "text": [
      "1 trial(s) droped due to inconsistent recording\n",
      "1 trial(s) droped due to inconsistent recording\n"
     ]
    },
    {
     "name": "stderr",
     "output_type": "stream",
     "text": [
      "C:\\ProgramData\\Anaconda3\\lib\\site-packages\\pingouin-0.2.9-py3.7.egg\\pingouin\\nonparametric.py:144: RuntimeWarning: invalid value encountered in true_divide\n",
      "  return (np.fabs(a - np.median(a)) / mad(a)) > k\n",
      "C:\\ProgramData\\Anaconda3\\lib\\site-packages\\pingouin-0.2.9-py3.7.egg\\pingouin\\nonparametric.py:144: RuntimeWarning: invalid value encountered in greater\n",
      "  return (np.fabs(a - np.median(a)) / mad(a)) > k\n",
      "C:\\ProgramData\\Anaconda3\\lib\\site-packages\\pingouin-0.2.9-py3.7.egg\\pingouin\\nonparametric.py:144: RuntimeWarning: invalid value encountered in true_divide\n",
      "  return (np.fabs(a - np.median(a)) / mad(a)) > k\n",
      "C:\\ProgramData\\Anaconda3\\lib\\site-packages\\pingouin-0.2.9-py3.7.egg\\pingouin\\nonparametric.py:144: RuntimeWarning: invalid value encountered in greater\n",
      "  return (np.fabs(a - np.median(a)) / mad(a)) > k\n"
     ]
    },
    {
     "name": "stdout",
     "output_type": "stream",
     "text": [
      "1 trial(s) droped due to inconsistent recording\n",
      "1 trial(s) droped due to inconsistent recording\n"
     ]
    },
    {
     "name": "stderr",
     "output_type": "stream",
     "text": [
      "C:\\ProgramData\\Anaconda3\\lib\\site-packages\\pingouin-0.2.9-py3.7.egg\\pingouin\\nonparametric.py:144: RuntimeWarning: invalid value encountered in true_divide\n",
      "  return (np.fabs(a - np.median(a)) / mad(a)) > k\n",
      "C:\\ProgramData\\Anaconda3\\lib\\site-packages\\pingouin-0.2.9-py3.7.egg\\pingouin\\nonparametric.py:144: RuntimeWarning: invalid value encountered in greater\n",
      "  return (np.fabs(a - np.median(a)) / mad(a)) > k\n",
      "C:\\ProgramData\\Anaconda3\\lib\\site-packages\\pingouin-0.2.9-py3.7.egg\\pingouin\\nonparametric.py:144: RuntimeWarning: invalid value encountered in true_divide\n",
      "  return (np.fabs(a - np.median(a)) / mad(a)) > k\n",
      "C:\\ProgramData\\Anaconda3\\lib\\site-packages\\pingouin-0.2.9-py3.7.egg\\pingouin\\nonparametric.py:144: RuntimeWarning: invalid value encountered in greater\n",
      "  return (np.fabs(a - np.median(a)) / mad(a)) > k\n"
     ]
    },
    {
     "name": "stdout",
     "output_type": "stream",
     "text": [
      "1 trial(s) droped due to inconsistent recording\n"
     ]
    },
    {
     "name": "stderr",
     "output_type": "stream",
     "text": [
      "C:\\ProgramData\\Anaconda3\\lib\\site-packages\\pingouin-0.2.9-py3.7.egg\\pingouin\\nonparametric.py:144: RuntimeWarning: invalid value encountered in true_divide\n",
      "  return (np.fabs(a - np.median(a)) / mad(a)) > k\n",
      "C:\\ProgramData\\Anaconda3\\lib\\site-packages\\pingouin-0.2.9-py3.7.egg\\pingouin\\nonparametric.py:144: RuntimeWarning: invalid value encountered in greater\n",
      "  return (np.fabs(a - np.median(a)) / mad(a)) > k\n",
      "C:\\ProgramData\\Anaconda3\\lib\\site-packages\\ipykernel_launcher.py:4: RuntimeWarning: More than 20 figures have been opened. Figures created through the pyplot interface (`matplotlib.pyplot.figure`) are retained until explicitly closed and may consume too much memory. (To control this warning, see the rcParam `figure.max_open_warning`).\n",
      "  after removing the cwd from sys.path.\n",
      "C:\\ProgramData\\Anaconda3\\lib\\site-packages\\pingouin-0.2.9-py3.7.egg\\pingouin\\nonparametric.py:144: RuntimeWarning: invalid value encountered in true_divide\n",
      "  return (np.fabs(a - np.median(a)) / mad(a)) > k\n",
      "C:\\ProgramData\\Anaconda3\\lib\\site-packages\\pingouin-0.2.9-py3.7.egg\\pingouin\\nonparametric.py:144: RuntimeWarning: invalid value encountered in greater\n",
      "  return (np.fabs(a - np.median(a)) / mad(a)) > k\n"
     ]
    },
    {
     "name": "stdout",
     "output_type": "stream",
     "text": [
      "1 trial(s) droped due to inconsistent recording\n",
      "1 trial(s) droped due to inconsistent recording\n"
     ]
    },
    {
     "name": "stderr",
     "output_type": "stream",
     "text": [
      "C:\\ProgramData\\Anaconda3\\lib\\site-packages\\pingouin-0.2.9-py3.7.egg\\pingouin\\nonparametric.py:144: RuntimeWarning: invalid value encountered in true_divide\n",
      "  return (np.fabs(a - np.median(a)) / mad(a)) > k\n",
      "C:\\ProgramData\\Anaconda3\\lib\\site-packages\\pingouin-0.2.9-py3.7.egg\\pingouin\\nonparametric.py:144: RuntimeWarning: invalid value encountered in greater\n",
      "  return (np.fabs(a - np.median(a)) / mad(a)) > k\n"
     ]
    },
    {
     "name": "stdout",
     "output_type": "stream",
     "text": [
      "1 trial(s) droped due to inconsistent recording\n",
      "1 trial(s) droped due to inconsistent recording\n"
     ]
    },
    {
     "name": "stderr",
     "output_type": "stream",
     "text": [
      "C:\\ProgramData\\Anaconda3\\lib\\site-packages\\pingouin-0.2.9-py3.7.egg\\pingouin\\nonparametric.py:144: RuntimeWarning: invalid value encountered in true_divide\n",
      "  return (np.fabs(a - np.median(a)) / mad(a)) > k\n",
      "C:\\ProgramData\\Anaconda3\\lib\\site-packages\\pingouin-0.2.9-py3.7.egg\\pingouin\\nonparametric.py:144: RuntimeWarning: invalid value encountered in greater\n",
      "  return (np.fabs(a - np.median(a)) / mad(a)) > k\n",
      "C:\\ProgramData\\Anaconda3\\lib\\site-packages\\pingouin-0.2.9-py3.7.egg\\pingouin\\nonparametric.py:144: RuntimeWarning: invalid value encountered in true_divide\n",
      "  return (np.fabs(a - np.median(a)) / mad(a)) > k\n",
      "C:\\ProgramData\\Anaconda3\\lib\\site-packages\\pingouin-0.2.9-py3.7.egg\\pingouin\\nonparametric.py:144: RuntimeWarning: invalid value encountered in greater\n",
      "  return (np.fabs(a - np.median(a)) / mad(a)) > k\n"
     ]
    },
    {
     "name": "stdout",
     "output_type": "stream",
     "text": [
      "1 trial(s) droped due to inconsistent recording\n"
     ]
    },
    {
     "name": "stderr",
     "output_type": "stream",
     "text": [
      "C:\\ProgramData\\Anaconda3\\lib\\site-packages\\pingouin-0.2.9-py3.7.egg\\pingouin\\nonparametric.py:144: RuntimeWarning: invalid value encountered in true_divide\n",
      "  return (np.fabs(a - np.median(a)) / mad(a)) > k\n",
      "C:\\ProgramData\\Anaconda3\\lib\\site-packages\\pingouin-0.2.9-py3.7.egg\\pingouin\\nonparametric.py:144: RuntimeWarning: invalid value encountered in greater\n",
      "  return (np.fabs(a - np.median(a)) / mad(a)) > k\n"
     ]
    },
    {
     "name": "stdout",
     "output_type": "stream",
     "text": [
      "1 trial(s) droped due to inconsistent recording\n"
     ]
    },
    {
     "name": "stderr",
     "output_type": "stream",
     "text": [
      "C:\\ProgramData\\Anaconda3\\lib\\site-packages\\pingouin-0.2.9-py3.7.egg\\pingouin\\nonparametric.py:144: RuntimeWarning: invalid value encountered in true_divide\n",
      "  return (np.fabs(a - np.median(a)) / mad(a)) > k\n",
      "C:\\ProgramData\\Anaconda3\\lib\\site-packages\\pingouin-0.2.9-py3.7.egg\\pingouin\\nonparametric.py:144: RuntimeWarning: invalid value encountered in greater\n",
      "  return (np.fabs(a - np.median(a)) / mad(a)) > k\n"
     ]
    },
    {
     "name": "stdout",
     "output_type": "stream",
     "text": [
      "1 trial(s) droped due to inconsistent recording\n",
      "1 trial(s) droped due to inconsistent recording\n"
     ]
    },
    {
     "name": "stderr",
     "output_type": "stream",
     "text": [
      "C:\\ProgramData\\Anaconda3\\lib\\site-packages\\pingouin-0.2.9-py3.7.egg\\pingouin\\nonparametric.py:144: RuntimeWarning: invalid value encountered in true_divide\n",
      "  return (np.fabs(a - np.median(a)) / mad(a)) > k\n",
      "C:\\ProgramData\\Anaconda3\\lib\\site-packages\\pingouin-0.2.9-py3.7.egg\\pingouin\\nonparametric.py:144: RuntimeWarning: invalid value encountered in greater\n",
      "  return (np.fabs(a - np.median(a)) / mad(a)) > k\n",
      "C:\\ProgramData\\Anaconda3\\lib\\site-packages\\pingouin-0.2.9-py3.7.egg\\pingouin\\nonparametric.py:144: RuntimeWarning: invalid value encountered in true_divide\n",
      "  return (np.fabs(a - np.median(a)) / mad(a)) > k\n",
      "C:\\ProgramData\\Anaconda3\\lib\\site-packages\\pingouin-0.2.9-py3.7.egg\\pingouin\\nonparametric.py:144: RuntimeWarning: invalid value encountered in greater\n",
      "  return (np.fabs(a - np.median(a)) / mad(a)) > k\n"
     ]
    },
    {
     "name": "stdout",
     "output_type": "stream",
     "text": [
      "1 trial(s) droped due to inconsistent recording\n",
      "1 trial(s) droped due to inconsistent recording"
     ]
    },
    {
     "name": "stderr",
     "output_type": "stream",
     "text": [
      "C:\\ProgramData\\Anaconda3\\lib\\site-packages\\pingouin-0.2.9-py3.7.egg\\pingouin\\nonparametric.py:144: RuntimeWarning: invalid value encountered in true_divide\n",
      "  return (np.fabs(a - np.median(a)) / mad(a)) > k\n",
      "C:\\ProgramData\\Anaconda3\\lib\\site-packages\\pingouin-0.2.9-py3.7.egg\\pingouin\\nonparametric.py:144: RuntimeWarning: invalid value encountered in greater\n",
      "  return (np.fabs(a - np.median(a)) / mad(a)) > k\n"
     ]
    },
    {
     "name": "stdout",
     "output_type": "stream",
     "text": [
      "\n",
      "1 trial(s) droped due to inconsistent recording\n"
     ]
    },
    {
     "name": "stderr",
     "output_type": "stream",
     "text": [
      "C:\\ProgramData\\Anaconda3\\lib\\site-packages\\pingouin-0.2.9-py3.7.egg\\pingouin\\nonparametric.py:144: RuntimeWarning: invalid value encountered in true_divide\n",
      "  return (np.fabs(a - np.median(a)) / mad(a)) > k\n",
      "C:\\ProgramData\\Anaconda3\\lib\\site-packages\\pingouin-0.2.9-py3.7.egg\\pingouin\\nonparametric.py:144: RuntimeWarning: invalid value encountered in greater\n",
      "  return (np.fabs(a - np.median(a)) / mad(a)) > k\n",
      "C:\\ProgramData\\Anaconda3\\lib\\site-packages\\pingouin-0.2.9-py3.7.egg\\pingouin\\nonparametric.py:144: RuntimeWarning: invalid value encountered in true_divide\n",
      "  return (np.fabs(a - np.median(a)) / mad(a)) > k\n",
      "C:\\ProgramData\\Anaconda3\\lib\\site-packages\\pingouin-0.2.9-py3.7.egg\\pingouin\\nonparametric.py:144: RuntimeWarning: invalid value encountered in greater\n",
      "  return (np.fabs(a - np.median(a)) / mad(a)) > k\n"
     ]
    },
    {
     "name": "stdout",
     "output_type": "stream",
     "text": [
      "1 trial(s) droped due to inconsistent recording\n"
     ]
    },
    {
     "name": "stderr",
     "output_type": "stream",
     "text": [
      "C:\\ProgramData\\Anaconda3\\lib\\site-packages\\pingouin-0.2.9-py3.7.egg\\pingouin\\nonparametric.py:144: RuntimeWarning: invalid value encountered in true_divide\n",
      "  return (np.fabs(a - np.median(a)) / mad(a)) > k\n",
      "C:\\ProgramData\\Anaconda3\\lib\\site-packages\\pingouin-0.2.9-py3.7.egg\\pingouin\\nonparametric.py:144: RuntimeWarning: invalid value encountered in greater\n",
      "  return (np.fabs(a - np.median(a)) / mad(a)) > k\n",
      "C:\\ProgramData\\Anaconda3\\lib\\site-packages\\ipykernel_launcher.py:4: RuntimeWarning: More than 20 figures have been opened. Figures created through the pyplot interface (`matplotlib.pyplot.figure`) are retained until explicitly closed and may consume too much memory. (To control this warning, see the rcParam `figure.max_open_warning`).\n",
      "  after removing the cwd from sys.path.\n",
      "C:\\ProgramData\\Anaconda3\\lib\\site-packages\\pingouin-0.2.9-py3.7.egg\\pingouin\\nonparametric.py:144: RuntimeWarning: invalid value encountered in true_divide\n",
      "  return (np.fabs(a - np.median(a)) / mad(a)) > k\n",
      "C:\\ProgramData\\Anaconda3\\lib\\site-packages\\pingouin-0.2.9-py3.7.egg\\pingouin\\nonparametric.py:144: RuntimeWarning: invalid value encountered in greater\n",
      "  return (np.fabs(a - np.median(a)) / mad(a)) > k\n"
     ]
    },
    {
     "name": "stdout",
     "output_type": "stream",
     "text": [
      "1 trial(s) droped due to inconsistent recording\n",
      "1 trial(s) droped due to inconsistent recording\n",
      "1 trial(s) droped due to inconsistent recording\n"
     ]
    },
    {
     "name": "stderr",
     "output_type": "stream",
     "text": [
      "C:\\ProgramData\\Anaconda3\\lib\\site-packages\\pingouin-0.2.9-py3.7.egg\\pingouin\\nonparametric.py:144: RuntimeWarning: invalid value encountered in true_divide\n",
      "  return (np.fabs(a - np.median(a)) / mad(a)) > k\n",
      "C:\\ProgramData\\Anaconda3\\lib\\site-packages\\pingouin-0.2.9-py3.7.egg\\pingouin\\nonparametric.py:144: RuntimeWarning: invalid value encountered in greater\n",
      "  return (np.fabs(a - np.median(a)) / mad(a)) > k\n",
      "C:\\ProgramData\\Anaconda3\\lib\\site-packages\\pingouin-0.2.9-py3.7.egg\\pingouin\\nonparametric.py:144: RuntimeWarning: invalid value encountered in true_divide\n",
      "  return (np.fabs(a - np.median(a)) / mad(a)) > k\n",
      "C:\\ProgramData\\Anaconda3\\lib\\site-packages\\pingouin-0.2.9-py3.7.egg\\pingouin\\nonparametric.py:144: RuntimeWarning: invalid value encountered in greater\n",
      "  return (np.fabs(a - np.median(a)) / mad(a)) > k\n"
     ]
    },
    {
     "name": "stdout",
     "output_type": "stream",
     "text": [
      "1 trial(s) droped due to inconsistent recording\n",
      "1 trial(s) droped due to inconsistent recording\n"
     ]
    },
    {
     "name": "stderr",
     "output_type": "stream",
     "text": [
      "C:\\ProgramData\\Anaconda3\\lib\\site-packages\\pingouin-0.2.9-py3.7.egg\\pingouin\\nonparametric.py:144: RuntimeWarning: invalid value encountered in true_divide\n",
      "  return (np.fabs(a - np.median(a)) / mad(a)) > k\n",
      "C:\\ProgramData\\Anaconda3\\lib\\site-packages\\pingouin-0.2.9-py3.7.egg\\pingouin\\nonparametric.py:144: RuntimeWarning: invalid value encountered in greater\n",
      "  return (np.fabs(a - np.median(a)) / mad(a)) > k\n",
      "C:\\ProgramData\\Anaconda3\\lib\\site-packages\\pingouin-0.2.9-py3.7.egg\\pingouin\\nonparametric.py:144: RuntimeWarning: invalid value encountered in true_divide\n",
      "  return (np.fabs(a - np.median(a)) / mad(a)) > k\n",
      "C:\\ProgramData\\Anaconda3\\lib\\site-packages\\pingouin-0.2.9-py3.7.egg\\pingouin\\nonparametric.py:144: RuntimeWarning: invalid value encountered in greater\n",
      "  return (np.fabs(a - np.median(a)) / mad(a)) > k\n"
     ]
    },
    {
     "name": "stdout",
     "output_type": "stream",
     "text": [
      "1 trial(s) droped due to inconsistent recording\n",
      "1 trial(s) droped due to inconsistent recording\n"
     ]
    },
    {
     "name": "stderr",
     "output_type": "stream",
     "text": [
      "C:\\ProgramData\\Anaconda3\\lib\\site-packages\\pingouin-0.2.9-py3.7.egg\\pingouin\\nonparametric.py:144: RuntimeWarning: invalid value encountered in true_divide\n",
      "  return (np.fabs(a - np.median(a)) / mad(a)) > k\n",
      "C:\\ProgramData\\Anaconda3\\lib\\site-packages\\pingouin-0.2.9-py3.7.egg\\pingouin\\nonparametric.py:144: RuntimeWarning: invalid value encountered in greater\n",
      "  return (np.fabs(a - np.median(a)) / mad(a)) > k\n",
      "C:\\ProgramData\\Anaconda3\\lib\\site-packages\\pingouin-0.2.9-py3.7.egg\\pingouin\\nonparametric.py:144: RuntimeWarning: invalid value encountered in true_divide\n",
      "  return (np.fabs(a - np.median(a)) / mad(a)) > k\n",
      "C:\\ProgramData\\Anaconda3\\lib\\site-packages\\pingouin-0.2.9-py3.7.egg\\pingouin\\nonparametric.py:144: RuntimeWarning: invalid value encountered in greater\n",
      "  return (np.fabs(a - np.median(a)) / mad(a)) > k\n"
     ]
    },
    {
     "name": "stdout",
     "output_type": "stream",
     "text": [
      "1 trial(s) droped due to inconsistent recording\n",
      "1 trial(s) droped due to inconsistent recording\n"
     ]
    },
    {
     "name": "stderr",
     "output_type": "stream",
     "text": [
      "C:\\ProgramData\\Anaconda3\\lib\\site-packages\\pingouin-0.2.9-py3.7.egg\\pingouin\\nonparametric.py:144: RuntimeWarning: invalid value encountered in true_divide\n",
      "  return (np.fabs(a - np.median(a)) / mad(a)) > k\n",
      "C:\\ProgramData\\Anaconda3\\lib\\site-packages\\pingouin-0.2.9-py3.7.egg\\pingouin\\nonparametric.py:144: RuntimeWarning: invalid value encountered in greater\n",
      "  return (np.fabs(a - np.median(a)) / mad(a)) > k\n",
      "C:\\ProgramData\\Anaconda3\\lib\\site-packages\\pingouin-0.2.9-py3.7.egg\\pingouin\\nonparametric.py:144: RuntimeWarning: invalid value encountered in true_divide\n",
      "  return (np.fabs(a - np.median(a)) / mad(a)) > k\n",
      "C:\\ProgramData\\Anaconda3\\lib\\site-packages\\pingouin-0.2.9-py3.7.egg\\pingouin\\nonparametric.py:144: RuntimeWarning: invalid value encountered in greater\n",
      "  return (np.fabs(a - np.median(a)) / mad(a)) > k\n"
     ]
    },
    {
     "name": "stdout",
     "output_type": "stream",
     "text": [
      "1 trial(s) droped due to inconsistent recording\n",
      "1 trial(s) droped due to inconsistent recording\n"
     ]
    },
    {
     "name": "stderr",
     "output_type": "stream",
     "text": [
      "C:\\ProgramData\\Anaconda3\\lib\\site-packages\\pingouin-0.2.9-py3.7.egg\\pingouin\\nonparametric.py:144: RuntimeWarning: invalid value encountered in true_divide\n",
      "  return (np.fabs(a - np.median(a)) / mad(a)) > k\n",
      "C:\\ProgramData\\Anaconda3\\lib\\site-packages\\pingouin-0.2.9-py3.7.egg\\pingouin\\nonparametric.py:144: RuntimeWarning: invalid value encountered in greater\n",
      "  return (np.fabs(a - np.median(a)) / mad(a)) > k\n",
      "C:\\ProgramData\\Anaconda3\\lib\\site-packages\\pingouin-0.2.9-py3.7.egg\\pingouin\\nonparametric.py:144: RuntimeWarning: invalid value encountered in true_divide\n",
      "  return (np.fabs(a - np.median(a)) / mad(a)) > k\n",
      "C:\\ProgramData\\Anaconda3\\lib\\site-packages\\pingouin-0.2.9-py3.7.egg\\pingouin\\nonparametric.py:144: RuntimeWarning: invalid value encountered in greater\n",
      "  return (np.fabs(a - np.median(a)) / mad(a)) > k\n"
     ]
    },
    {
     "name": "stdout",
     "output_type": "stream",
     "text": [
      "1 trial(s) droped due to inconsistent recording\n"
     ]
    },
    {
     "name": "stderr",
     "output_type": "stream",
     "text": [
      "C:\\ProgramData\\Anaconda3\\lib\\site-packages\\pingouin-0.2.9-py3.7.egg\\pingouin\\nonparametric.py:144: RuntimeWarning: invalid value encountered in true_divide\n",
      "  return (np.fabs(a - np.median(a)) / mad(a)) > k\n",
      "C:\\ProgramData\\Anaconda3\\lib\\site-packages\\pingouin-0.2.9-py3.7.egg\\pingouin\\nonparametric.py:144: RuntimeWarning: invalid value encountered in greater\n",
      "  return (np.fabs(a - np.median(a)) / mad(a)) > k\n",
      "C:\\ProgramData\\Anaconda3\\lib\\site-packages\\ipykernel_launcher.py:4: RuntimeWarning: More than 20 figures have been opened. Figures created through the pyplot interface (`matplotlib.pyplot.figure`) are retained until explicitly closed and may consume too much memory. (To control this warning, see the rcParam `figure.max_open_warning`).\n",
      "  after removing the cwd from sys.path.\n",
      "C:\\ProgramData\\Anaconda3\\lib\\site-packages\\pingouin-0.2.9-py3.7.egg\\pingouin\\nonparametric.py:144: RuntimeWarning: invalid value encountered in true_divide\n",
      "  return (np.fabs(a - np.median(a)) / mad(a)) > k\n",
      "C:\\ProgramData\\Anaconda3\\lib\\site-packages\\pingouin-0.2.9-py3.7.egg\\pingouin\\nonparametric.py:144: RuntimeWarning: invalid value encountered in greater\n",
      "  return (np.fabs(a - np.median(a)) / mad(a)) > k\n"
     ]
    },
    {
     "name": "stdout",
     "output_type": "stream",
     "text": [
      "1 trial(s) droped due to inconsistent recording\n",
      "1 trial(s) droped due to inconsistent recording\n",
      "1 trial(s) droped due to inconsistent recording"
     ]
    },
    {
     "name": "stderr",
     "output_type": "stream",
     "text": [
      "C:\\ProgramData\\Anaconda3\\lib\\site-packages\\pingouin-0.2.9-py3.7.egg\\pingouin\\nonparametric.py:144: RuntimeWarning: invalid value encountered in true_divide\n",
      "  return (np.fabs(a - np.median(a)) / mad(a)) > k\n",
      "C:\\ProgramData\\Anaconda3\\lib\\site-packages\\pingouin-0.2.9-py3.7.egg\\pingouin\\nonparametric.py:144: RuntimeWarning: invalid value encountered in greater\n",
      "  return (np.fabs(a - np.median(a)) / mad(a)) > k\n",
      "C:\\ProgramData\\Anaconda3\\lib\\site-packages\\pingouin-0.2.9-py3.7.egg\\pingouin\\nonparametric.py:144: RuntimeWarning: invalid value encountered in true_divide\n",
      "  return (np.fabs(a - np.median(a)) / mad(a)) > k\n",
      "C:\\ProgramData\\Anaconda3\\lib\\site-packages\\pingouin-0.2.9-py3.7.egg\\pingouin\\nonparametric.py:144: RuntimeWarning: invalid value encountered in greater\n",
      "  return (np.fabs(a - np.median(a)) / mad(a)) > k\n"
     ]
    },
    {
     "name": "stdout",
     "output_type": "stream",
     "text": [
      "\n",
      "1 trial(s) droped due to inconsistent recording\n"
     ]
    },
    {
     "name": "stderr",
     "output_type": "stream",
     "text": [
      "C:\\ProgramData\\Anaconda3\\lib\\site-packages\\pingouin-0.2.9-py3.7.egg\\pingouin\\nonparametric.py:144: RuntimeWarning: invalid value encountered in true_divide\n",
      "  return (np.fabs(a - np.median(a)) / mad(a)) > k\n",
      "C:\\ProgramData\\Anaconda3\\lib\\site-packages\\pingouin-0.2.9-py3.7.egg\\pingouin\\nonparametric.py:144: RuntimeWarning: invalid value encountered in greater\n",
      "  return (np.fabs(a - np.median(a)) / mad(a)) > k\n",
      "C:\\ProgramData\\Anaconda3\\lib\\site-packages\\pingouin-0.2.9-py3.7.egg\\pingouin\\nonparametric.py:144: RuntimeWarning: invalid value encountered in true_divide\n",
      "  return (np.fabs(a - np.median(a)) / mad(a)) > k\n",
      "C:\\ProgramData\\Anaconda3\\lib\\site-packages\\pingouin-0.2.9-py3.7.egg\\pingouin\\nonparametric.py:144: RuntimeWarning: invalid value encountered in greater\n",
      "  return (np.fabs(a - np.median(a)) / mad(a)) > k\n"
     ]
    },
    {
     "name": "stdout",
     "output_type": "stream",
     "text": [
      "1 trial(s) droped due to inconsistent recording\n",
      "1 trial(s) droped due to inconsistent recording\n"
     ]
    },
    {
     "name": "stderr",
     "output_type": "stream",
     "text": [
      "C:\\ProgramData\\Anaconda3\\lib\\site-packages\\pingouin-0.2.9-py3.7.egg\\pingouin\\nonparametric.py:144: RuntimeWarning: invalid value encountered in true_divide\n",
      "  return (np.fabs(a - np.median(a)) / mad(a)) > k\n",
      "C:\\ProgramData\\Anaconda3\\lib\\site-packages\\pingouin-0.2.9-py3.7.egg\\pingouin\\nonparametric.py:144: RuntimeWarning: invalid value encountered in greater\n",
      "  return (np.fabs(a - np.median(a)) / mad(a)) > k\n",
      "C:\\ProgramData\\Anaconda3\\lib\\site-packages\\pingouin-0.2.9-py3.7.egg\\pingouin\\nonparametric.py:144: RuntimeWarning: invalid value encountered in true_divide\n",
      "  return (np.fabs(a - np.median(a)) / mad(a)) > k\n",
      "C:\\ProgramData\\Anaconda3\\lib\\site-packages\\pingouin-0.2.9-py3.7.egg\\pingouin\\nonparametric.py:144: RuntimeWarning: invalid value encountered in greater\n",
      "  return (np.fabs(a - np.median(a)) / mad(a)) > k\n"
     ]
    },
    {
     "name": "stdout",
     "output_type": "stream",
     "text": [
      "1 trial(s) droped due to inconsistent recording\n",
      "1 trial(s) droped due to inconsistent recording\n"
     ]
    },
    {
     "name": "stderr",
     "output_type": "stream",
     "text": [
      "C:\\ProgramData\\Anaconda3\\lib\\site-packages\\pingouin-0.2.9-py3.7.egg\\pingouin\\nonparametric.py:144: RuntimeWarning: invalid value encountered in true_divide\n",
      "  return (np.fabs(a - np.median(a)) / mad(a)) > k\n",
      "C:\\ProgramData\\Anaconda3\\lib\\site-packages\\pingouin-0.2.9-py3.7.egg\\pingouin\\nonparametric.py:144: RuntimeWarning: invalid value encountered in greater\n",
      "  return (np.fabs(a - np.median(a)) / mad(a)) > k\n"
     ]
    },
    {
     "name": "stdout",
     "output_type": "stream",
     "text": [
      "1 trial(s) droped due to inconsistent recording\n"
     ]
    },
    {
     "name": "stderr",
     "output_type": "stream",
     "text": [
      "C:\\ProgramData\\Anaconda3\\lib\\site-packages\\pingouin-0.2.9-py3.7.egg\\pingouin\\nonparametric.py:144: RuntimeWarning: invalid value encountered in true_divide\n",
      "  return (np.fabs(a - np.median(a)) / mad(a)) > k\n",
      "C:\\ProgramData\\Anaconda3\\lib\\site-packages\\pingouin-0.2.9-py3.7.egg\\pingouin\\nonparametric.py:144: RuntimeWarning: invalid value encountered in greater\n",
      "  return (np.fabs(a - np.median(a)) / mad(a)) > k\n"
     ]
    },
    {
     "name": "stdout",
     "output_type": "stream",
     "text": [
      "1 trial(s) droped due to inconsistent recording\n",
      "1 trial(s) droped due to inconsistent recording\n"
     ]
    },
    {
     "name": "stderr",
     "output_type": "stream",
     "text": [
      "C:\\ProgramData\\Anaconda3\\lib\\site-packages\\pingouin-0.2.9-py3.7.egg\\pingouin\\nonparametric.py:144: RuntimeWarning: invalid value encountered in true_divide\n",
      "  return (np.fabs(a - np.median(a)) / mad(a)) > k\n",
      "C:\\ProgramData\\Anaconda3\\lib\\site-packages\\pingouin-0.2.9-py3.7.egg\\pingouin\\nonparametric.py:144: RuntimeWarning: invalid value encountered in greater\n",
      "  return (np.fabs(a - np.median(a)) / mad(a)) > k\n",
      "C:\\ProgramData\\Anaconda3\\lib\\site-packages\\pingouin-0.2.9-py3.7.egg\\pingouin\\nonparametric.py:144: RuntimeWarning: invalid value encountered in true_divide\n",
      "  return (np.fabs(a - np.median(a)) / mad(a)) > k\n",
      "C:\\ProgramData\\Anaconda3\\lib\\site-packages\\pingouin-0.2.9-py3.7.egg\\pingouin\\nonparametric.py:144: RuntimeWarning: invalid value encountered in greater\n",
      "  return (np.fabs(a - np.median(a)) / mad(a)) > k\n"
     ]
    },
    {
     "name": "stdout",
     "output_type": "stream",
     "text": [
      "1 trial(s) droped due to inconsistent recording\n"
     ]
    },
    {
     "name": "stderr",
     "output_type": "stream",
     "text": [
      "C:\\ProgramData\\Anaconda3\\lib\\site-packages\\pingouin-0.2.9-py3.7.egg\\pingouin\\nonparametric.py:144: RuntimeWarning: invalid value encountered in true_divide\n",
      "  return (np.fabs(a - np.median(a)) / mad(a)) > k\n",
      "C:\\ProgramData\\Anaconda3\\lib\\site-packages\\pingouin-0.2.9-py3.7.egg\\pingouin\\nonparametric.py:144: RuntimeWarning: invalid value encountered in greater\n",
      "  return (np.fabs(a - np.median(a)) / mad(a)) > k\n",
      "C:\\ProgramData\\Anaconda3\\lib\\site-packages\\ipykernel_launcher.py:4: RuntimeWarning: More than 20 figures have been opened. Figures created through the pyplot interface (`matplotlib.pyplot.figure`) are retained until explicitly closed and may consume too much memory. (To control this warning, see the rcParam `figure.max_open_warning`).\n",
      "  after removing the cwd from sys.path.\n",
      "C:\\ProgramData\\Anaconda3\\lib\\site-packages\\pandas\\core\\ops\\__init__.py:1115: FutureWarning: elementwise comparison failed; returning scalar instead, but in the future will perform elementwise comparison\n",
      "  result = method(y)\n",
      "C:\\ProgramData\\Anaconda3\\lib\\site-packages\\pingouin-0.2.9-py3.7.egg\\pingouin\\nonparametric.py:144: RuntimeWarning: invalid value encountered in true_divide\n",
      "  return (np.fabs(a - np.median(a)) / mad(a)) > k\n",
      "C:\\ProgramData\\Anaconda3\\lib\\site-packages\\pingouin-0.2.9-py3.7.egg\\pingouin\\nonparametric.py:144: RuntimeWarning: invalid value encountered in greater\n",
      "  return (np.fabs(a - np.median(a)) / mad(a)) > k\n"
     ]
    },
    {
     "name": "stdout",
     "output_type": "stream",
     "text": [
      "1 trial(s) droped due to inconsistent recording\n",
      "1 trial(s) droped due to inconsistent recording\n"
     ]
    },
    {
     "name": "stderr",
     "output_type": "stream",
     "text": [
      "C:\\ProgramData\\Anaconda3\\lib\\site-packages\\pandas\\core\\ops\\__init__.py:1115: FutureWarning: elementwise comparison failed; returning scalar instead, but in the future will perform elementwise comparison\n",
      "  result = method(y)\n",
      "C:\\ProgramData\\Anaconda3\\lib\\site-packages\\pingouin-0.2.9-py3.7.egg\\pingouin\\nonparametric.py:144: RuntimeWarning: invalid value encountered in true_divide\n",
      "  return (np.fabs(a - np.median(a)) / mad(a)) > k\n",
      "C:\\ProgramData\\Anaconda3\\lib\\site-packages\\pingouin-0.2.9-py3.7.egg\\pingouin\\nonparametric.py:144: RuntimeWarning: invalid value encountered in greater\n",
      "  return (np.fabs(a - np.median(a)) / mad(a)) > k\n",
      "C:\\ProgramData\\Anaconda3\\lib\\site-packages\\pandas\\core\\ops\\__init__.py:1115: FutureWarning: elementwise comparison failed; returning scalar instead, but in the future will perform elementwise comparison\n",
      "  result = method(y)\n",
      "C:\\ProgramData\\Anaconda3\\lib\\site-packages\\pingouin-0.2.9-py3.7.egg\\pingouin\\nonparametric.py:144: RuntimeWarning: invalid value encountered in true_divide\n",
      "  return (np.fabs(a - np.median(a)) / mad(a)) > k\n",
      "C:\\ProgramData\\Anaconda3\\lib\\site-packages\\pingouin-0.2.9-py3.7.egg\\pingouin\\nonparametric.py:144: RuntimeWarning: invalid value encountered in greater\n",
      "  return (np.fabs(a - np.median(a)) / mad(a)) > k\n"
     ]
    },
    {
     "name": "stdout",
     "output_type": "stream",
     "text": [
      "1 trial(s) droped due to inconsistent recording\n",
      "1 trial(s) droped due to inconsistent recording\n"
     ]
    },
    {
     "name": "stderr",
     "output_type": "stream",
     "text": [
      "C:\\ProgramData\\Anaconda3\\lib\\site-packages\\pandas\\core\\ops\\__init__.py:1115: FutureWarning: elementwise comparison failed; returning scalar instead, but in the future will perform elementwise comparison\n",
      "  result = method(y)\n",
      "C:\\ProgramData\\Anaconda3\\lib\\site-packages\\pingouin-0.2.9-py3.7.egg\\pingouin\\nonparametric.py:144: RuntimeWarning: invalid value encountered in true_divide\n",
      "  return (np.fabs(a - np.median(a)) / mad(a)) > k\n",
      "C:\\ProgramData\\Anaconda3\\lib\\site-packages\\pingouin-0.2.9-py3.7.egg\\pingouin\\nonparametric.py:144: RuntimeWarning: invalid value encountered in greater\n",
      "  return (np.fabs(a - np.median(a)) / mad(a)) > k\n",
      "C:\\ProgramData\\Anaconda3\\lib\\site-packages\\pandas\\core\\ops\\__init__.py:1115: FutureWarning: elementwise comparison failed; returning scalar instead, but in the future will perform elementwise comparison\n",
      "  result = method(y)\n",
      "C:\\ProgramData\\Anaconda3\\lib\\site-packages\\pingouin-0.2.9-py3.7.egg\\pingouin\\nonparametric.py:144: RuntimeWarning: invalid value encountered in true_divide\n",
      "  return (np.fabs(a - np.median(a)) / mad(a)) > k\n",
      "C:\\ProgramData\\Anaconda3\\lib\\site-packages\\pingouin-0.2.9-py3.7.egg\\pingouin\\nonparametric.py:144: RuntimeWarning: invalid value encountered in greater\n",
      "  return (np.fabs(a - np.median(a)) / mad(a)) > k\n"
     ]
    },
    {
     "name": "stdout",
     "output_type": "stream",
     "text": [
      "1 trial(s) droped due to inconsistent recording\n",
      "1 trial(s) droped due to inconsistent recording\n"
     ]
    },
    {
     "name": "stderr",
     "output_type": "stream",
     "text": [
      "C:\\ProgramData\\Anaconda3\\lib\\site-packages\\pandas\\core\\ops\\__init__.py:1115: FutureWarning: elementwise comparison failed; returning scalar instead, but in the future will perform elementwise comparison\n",
      "  result = method(y)\n",
      "C:\\ProgramData\\Anaconda3\\lib\\site-packages\\pingouin-0.2.9-py3.7.egg\\pingouin\\nonparametric.py:144: RuntimeWarning: invalid value encountered in true_divide\n",
      "  return (np.fabs(a - np.median(a)) / mad(a)) > k\n",
      "C:\\ProgramData\\Anaconda3\\lib\\site-packages\\pingouin-0.2.9-py3.7.egg\\pingouin\\nonparametric.py:144: RuntimeWarning: invalid value encountered in greater\n",
      "  return (np.fabs(a - np.median(a)) / mad(a)) > k\n"
     ]
    },
    {
     "name": "stdout",
     "output_type": "stream",
     "text": [
      "1 trial(s) droped due to inconsistent recording\n"
     ]
    },
    {
     "name": "stderr",
     "output_type": "stream",
     "text": [
      "C:\\ProgramData\\Anaconda3\\lib\\site-packages\\pandas\\core\\ops\\__init__.py:1115: FutureWarning: elementwise comparison failed; returning scalar instead, but in the future will perform elementwise comparison\n",
      "  result = method(y)\n",
      "C:\\ProgramData\\Anaconda3\\lib\\site-packages\\pingouin-0.2.9-py3.7.egg\\pingouin\\nonparametric.py:144: RuntimeWarning: invalid value encountered in true_divide\n",
      "  return (np.fabs(a - np.median(a)) / mad(a)) > k\n",
      "C:\\ProgramData\\Anaconda3\\lib\\site-packages\\pingouin-0.2.9-py3.7.egg\\pingouin\\nonparametric.py:144: RuntimeWarning: invalid value encountered in greater\n",
      "  return (np.fabs(a - np.median(a)) / mad(a)) > k\n"
     ]
    },
    {
     "name": "stdout",
     "output_type": "stream",
     "text": [
      "1 trial(s) droped due to inconsistent recording\n",
      "1 trial(s) droped due to inconsistent recording\n"
     ]
    },
    {
     "name": "stderr",
     "output_type": "stream",
     "text": [
      "C:\\ProgramData\\Anaconda3\\lib\\site-packages\\pandas\\core\\ops\\__init__.py:1115: FutureWarning: elementwise comparison failed; returning scalar instead, but in the future will perform elementwise comparison\n",
      "  result = method(y)\n",
      "C:\\ProgramData\\Anaconda3\\lib\\site-packages\\pingouin-0.2.9-py3.7.egg\\pingouin\\nonparametric.py:144: RuntimeWarning: invalid value encountered in true_divide\n",
      "  return (np.fabs(a - np.median(a)) / mad(a)) > k\n",
      "C:\\ProgramData\\Anaconda3\\lib\\site-packages\\pingouin-0.2.9-py3.7.egg\\pingouin\\nonparametric.py:144: RuntimeWarning: invalid value encountered in greater\n",
      "  return (np.fabs(a - np.median(a)) / mad(a)) > k\n",
      "C:\\ProgramData\\Anaconda3\\lib\\site-packages\\pandas\\core\\ops\\__init__.py:1115: FutureWarning: elementwise comparison failed; returning scalar instead, but in the future will perform elementwise comparison\n",
      "  result = method(y)\n",
      "C:\\ProgramData\\Anaconda3\\lib\\site-packages\\pingouin-0.2.9-py3.7.egg\\pingouin\\nonparametric.py:144: RuntimeWarning: invalid value encountered in true_divide\n",
      "  return (np.fabs(a - np.median(a)) / mad(a)) > k\n",
      "C:\\ProgramData\\Anaconda3\\lib\\site-packages\\pingouin-0.2.9-py3.7.egg\\pingouin\\nonparametric.py:144: RuntimeWarning: invalid value encountered in greater\n",
      "  return (np.fabs(a - np.median(a)) / mad(a)) > k\n"
     ]
    },
    {
     "name": "stdout",
     "output_type": "stream",
     "text": [
      "1 trial(s) droped due to inconsistent recording\n",
      "1 trial(s) droped due to inconsistent recording"
     ]
    },
    {
     "name": "stderr",
     "output_type": "stream",
     "text": [
      "C:\\ProgramData\\Anaconda3\\lib\\site-packages\\pandas\\core\\ops\\__init__.py:1115: FutureWarning: elementwise comparison failed; returning scalar instead, but in the future will perform elementwise comparison\n",
      "  result = method(y)\n",
      "C:\\ProgramData\\Anaconda3\\lib\\site-packages\\pingouin-0.2.9-py3.7.egg\\pingouin\\nonparametric.py:144: RuntimeWarning: invalid value encountered in true_divide\n",
      "  return (np.fabs(a - np.median(a)) / mad(a)) > k\n",
      "C:\\ProgramData\\Anaconda3\\lib\\site-packages\\pingouin-0.2.9-py3.7.egg\\pingouin\\nonparametric.py:144: RuntimeWarning: invalid value encountered in greater\n",
      "  return (np.fabs(a - np.median(a)) / mad(a)) > k\n"
     ]
    },
    {
     "name": "stdout",
     "output_type": "stream",
     "text": [
      "\n"
     ]
    },
    {
     "name": "stderr",
     "output_type": "stream",
     "text": [
      "C:\\ProgramData\\Anaconda3\\lib\\site-packages\\pandas\\core\\ops\\__init__.py:1115: FutureWarning: elementwise comparison failed; returning scalar instead, but in the future will perform elementwise comparison\n",
      "  result = method(y)\n",
      "C:\\ProgramData\\Anaconda3\\lib\\site-packages\\pingouin-0.2.9-py3.7.egg\\pingouin\\nonparametric.py:144: RuntimeWarning: invalid value encountered in true_divide\n",
      "  return (np.fabs(a - np.median(a)) / mad(a)) > k\n",
      "C:\\ProgramData\\Anaconda3\\lib\\site-packages\\pingouin-0.2.9-py3.7.egg\\pingouin\\nonparametric.py:144: RuntimeWarning: invalid value encountered in greater\n",
      "  return (np.fabs(a - np.median(a)) / mad(a)) > k\n"
     ]
    },
    {
     "name": "stdout",
     "output_type": "stream",
     "text": [
      "1 trial(s) droped due to inconsistent recording\n"
     ]
    },
    {
     "name": "stderr",
     "output_type": "stream",
     "text": [
      "C:\\ProgramData\\Anaconda3\\lib\\site-packages\\pandas\\core\\ops\\__init__.py:1115: FutureWarning: elementwise comparison failed; returning scalar instead, but in the future will perform elementwise comparison\n",
      "  result = method(y)\n",
      "C:\\ProgramData\\Anaconda3\\lib\\site-packages\\pingouin-0.2.9-py3.7.egg\\pingouin\\nonparametric.py:144: RuntimeWarning: invalid value encountered in true_divide\n",
      "  return (np.fabs(a - np.median(a)) / mad(a)) > k\n",
      "C:\\ProgramData\\Anaconda3\\lib\\site-packages\\pingouin-0.2.9-py3.7.egg\\pingouin\\nonparametric.py:144: RuntimeWarning: invalid value encountered in greater\n",
      "  return (np.fabs(a - np.median(a)) / mad(a)) > k\n",
      "C:\\ProgramData\\Anaconda3\\lib\\site-packages\\ipykernel_launcher.py:4: RuntimeWarning: More than 20 figures have been opened. Figures created through the pyplot interface (`matplotlib.pyplot.figure`) are retained until explicitly closed and may consume too much memory. (To control this warning, see the rcParam `figure.max_open_warning`).\n",
      "  after removing the cwd from sys.path.\n",
      "C:\\ProgramData\\Anaconda3\\lib\\site-packages\\pingouin-0.2.9-py3.7.egg\\pingouin\\nonparametric.py:144: RuntimeWarning: invalid value encountered in true_divide\n",
      "  return (np.fabs(a - np.median(a)) / mad(a)) > k\n",
      "C:\\ProgramData\\Anaconda3\\lib\\site-packages\\pingouin-0.2.9-py3.7.egg\\pingouin\\nonparametric.py:144: RuntimeWarning: invalid value encountered in greater\n",
      "  return (np.fabs(a - np.median(a)) / mad(a)) > k\n"
     ]
    },
    {
     "name": "stdout",
     "output_type": "stream",
     "text": [
      "1 trial(s) droped due to inconsistent recording\n",
      "1 trial(s) droped due to inconsistent recording\n"
     ]
    },
    {
     "name": "stderr",
     "output_type": "stream",
     "text": [
      "C:\\ProgramData\\Anaconda3\\lib\\site-packages\\pingouin-0.2.9-py3.7.egg\\pingouin\\nonparametric.py:144: RuntimeWarning: invalid value encountered in true_divide\n",
      "  return (np.fabs(a - np.median(a)) / mad(a)) > k\n",
      "C:\\ProgramData\\Anaconda3\\lib\\site-packages\\pingouin-0.2.9-py3.7.egg\\pingouin\\nonparametric.py:144: RuntimeWarning: invalid value encountered in greater\n",
      "  return (np.fabs(a - np.median(a)) / mad(a)) > k\n",
      "C:\\ProgramData\\Anaconda3\\lib\\site-packages\\pingouin-0.2.9-py3.7.egg\\pingouin\\nonparametric.py:144: RuntimeWarning: invalid value encountered in true_divide\n",
      "  return (np.fabs(a - np.median(a)) / mad(a)) > k\n",
      "C:\\ProgramData\\Anaconda3\\lib\\site-packages\\pingouin-0.2.9-py3.7.egg\\pingouin\\nonparametric.py:144: RuntimeWarning: invalid value encountered in greater\n",
      "  return (np.fabs(a - np.median(a)) / mad(a)) > k\n"
     ]
    },
    {
     "name": "stdout",
     "output_type": "stream",
     "text": [
      "1 trial(s) droped due to inconsistent recording\n",
      "1 trial(s) droped due to inconsistent recording\n"
     ]
    },
    {
     "name": "stderr",
     "output_type": "stream",
     "text": [
      "C:\\ProgramData\\Anaconda3\\lib\\site-packages\\pingouin-0.2.9-py3.7.egg\\pingouin\\nonparametric.py:144: RuntimeWarning: invalid value encountered in true_divide\n",
      "  return (np.fabs(a - np.median(a)) / mad(a)) > k\n",
      "C:\\ProgramData\\Anaconda3\\lib\\site-packages\\pingouin-0.2.9-py3.7.egg\\pingouin\\nonparametric.py:144: RuntimeWarning: invalid value encountered in greater\n",
      "  return (np.fabs(a - np.median(a)) / mad(a)) > k\n",
      "C:\\ProgramData\\Anaconda3\\lib\\site-packages\\pingouin-0.2.9-py3.7.egg\\pingouin\\nonparametric.py:144: RuntimeWarning: invalid value encountered in true_divide\n",
      "  return (np.fabs(a - np.median(a)) / mad(a)) > k\n",
      "C:\\ProgramData\\Anaconda3\\lib\\site-packages\\pingouin-0.2.9-py3.7.egg\\pingouin\\nonparametric.py:144: RuntimeWarning: invalid value encountered in greater\n",
      "  return (np.fabs(a - np.median(a)) / mad(a)) > k\n"
     ]
    },
    {
     "name": "stdout",
     "output_type": "stream",
     "text": [
      "1 trial(s) droped due to inconsistent recording\n",
      "1 trial(s) droped due to inconsistent recording\n"
     ]
    },
    {
     "name": "stderr",
     "output_type": "stream",
     "text": [
      "C:\\ProgramData\\Anaconda3\\lib\\site-packages\\pingouin-0.2.9-py3.7.egg\\pingouin\\nonparametric.py:144: RuntimeWarning: invalid value encountered in true_divide\n",
      "  return (np.fabs(a - np.median(a)) / mad(a)) > k\n",
      "C:\\ProgramData\\Anaconda3\\lib\\site-packages\\pingouin-0.2.9-py3.7.egg\\pingouin\\nonparametric.py:144: RuntimeWarning: invalid value encountered in greater\n",
      "  return (np.fabs(a - np.median(a)) / mad(a)) > k\n",
      "C:\\ProgramData\\Anaconda3\\lib\\site-packages\\pingouin-0.2.9-py3.7.egg\\pingouin\\nonparametric.py:144: RuntimeWarning: invalid value encountered in true_divide\n",
      "  return (np.fabs(a - np.median(a)) / mad(a)) > k\n",
      "C:\\ProgramData\\Anaconda3\\lib\\site-packages\\pingouin-0.2.9-py3.7.egg\\pingouin\\nonparametric.py:144: RuntimeWarning: invalid value encountered in greater\n",
      "  return (np.fabs(a - np.median(a)) / mad(a)) > k\n"
     ]
    },
    {
     "name": "stdout",
     "output_type": "stream",
     "text": [
      "1 trial(s) droped due to inconsistent recording\n",
      "1 trial(s) droped due to inconsistent recording\n"
     ]
    },
    {
     "name": "stderr",
     "output_type": "stream",
     "text": [
      "C:\\ProgramData\\Anaconda3\\lib\\site-packages\\pingouin-0.2.9-py3.7.egg\\pingouin\\nonparametric.py:144: RuntimeWarning: invalid value encountered in true_divide\n",
      "  return (np.fabs(a - np.median(a)) / mad(a)) > k\n",
      "C:\\ProgramData\\Anaconda3\\lib\\site-packages\\pingouin-0.2.9-py3.7.egg\\pingouin\\nonparametric.py:144: RuntimeWarning: invalid value encountered in greater\n",
      "  return (np.fabs(a - np.median(a)) / mad(a)) > k\n",
      "C:\\ProgramData\\Anaconda3\\lib\\site-packages\\pingouin-0.2.9-py3.7.egg\\pingouin\\nonparametric.py:144: RuntimeWarning: invalid value encountered in true_divide\n",
      "  return (np.fabs(a - np.median(a)) / mad(a)) > k\n",
      "C:\\ProgramData\\Anaconda3\\lib\\site-packages\\pingouin-0.2.9-py3.7.egg\\pingouin\\nonparametric.py:144: RuntimeWarning: invalid value encountered in greater\n",
      "  return (np.fabs(a - np.median(a)) / mad(a)) > k\n"
     ]
    },
    {
     "name": "stdout",
     "output_type": "stream",
     "text": [
      "1 trial(s) droped due to inconsistent recording\n",
      "1 trial(s) droped due to inconsistent recording\n",
      "1 trial(s) droped due to inconsistent recording\n"
     ]
    },
    {
     "name": "stderr",
     "output_type": "stream",
     "text": [
      "C:\\ProgramData\\Anaconda3\\lib\\site-packages\\pingouin-0.2.9-py3.7.egg\\pingouin\\nonparametric.py:144: RuntimeWarning: invalid value encountered in true_divide\n",
      "  return (np.fabs(a - np.median(a)) / mad(a)) > k\n",
      "C:\\ProgramData\\Anaconda3\\lib\\site-packages\\pingouin-0.2.9-py3.7.egg\\pingouin\\nonparametric.py:144: RuntimeWarning: invalid value encountered in greater\n",
      "  return (np.fabs(a - np.median(a)) / mad(a)) > k\n",
      "C:\\ProgramData\\Anaconda3\\lib\\site-packages\\pingouin-0.2.9-py3.7.egg\\pingouin\\nonparametric.py:144: RuntimeWarning: invalid value encountered in true_divide\n",
      "  return (np.fabs(a - np.median(a)) / mad(a)) > k\n",
      "C:\\ProgramData\\Anaconda3\\lib\\site-packages\\pingouin-0.2.9-py3.7.egg\\pingouin\\nonparametric.py:144: RuntimeWarning: invalid value encountered in greater\n",
      "  return (np.fabs(a - np.median(a)) / mad(a)) > k\n"
     ]
    },
    {
     "name": "stdout",
     "output_type": "stream",
     "text": [
      "1 trial(s) droped due to inconsistent recording\n"
     ]
    },
    {
     "name": "stderr",
     "output_type": "stream",
     "text": [
      "C:\\ProgramData\\Anaconda3\\lib\\site-packages\\pingouin-0.2.9-py3.7.egg\\pingouin\\nonparametric.py:144: RuntimeWarning: invalid value encountered in true_divide\n",
      "  return (np.fabs(a - np.median(a)) / mad(a)) > k\n",
      "C:\\ProgramData\\Anaconda3\\lib\\site-packages\\pingouin-0.2.9-py3.7.egg\\pingouin\\nonparametric.py:144: RuntimeWarning: invalid value encountered in greater\n",
      "  return (np.fabs(a - np.median(a)) / mad(a)) > k\n",
      "C:\\ProgramData\\Anaconda3\\lib\\site-packages\\ipykernel_launcher.py:4: RuntimeWarning: More than 20 figures have been opened. Figures created through the pyplot interface (`matplotlib.pyplot.figure`) are retained until explicitly closed and may consume too much memory. (To control this warning, see the rcParam `figure.max_open_warning`).\n",
      "  after removing the cwd from sys.path.\n",
      "C:\\ProgramData\\Anaconda3\\lib\\site-packages\\pingouin-0.2.9-py3.7.egg\\pingouin\\nonparametric.py:144: RuntimeWarning: invalid value encountered in true_divide\n",
      "  return (np.fabs(a - np.median(a)) / mad(a)) > k\n",
      "C:\\ProgramData\\Anaconda3\\lib\\site-packages\\pingouin-0.2.9-py3.7.egg\\pingouin\\nonparametric.py:144: RuntimeWarning: invalid value encountered in greater\n",
      "  return (np.fabs(a - np.median(a)) / mad(a)) > k\n"
     ]
    },
    {
     "name": "stdout",
     "output_type": "stream",
     "text": [
      "1 trial(s) droped due to inconsistent recording\n",
      "1 trial(s) droped due to inconsistent recording\n",
      "1 trial(s) droped due to inconsistent recording\n"
     ]
    },
    {
     "name": "stderr",
     "output_type": "stream",
     "text": [
      "C:\\ProgramData\\Anaconda3\\lib\\site-packages\\pingouin-0.2.9-py3.7.egg\\pingouin\\nonparametric.py:144: RuntimeWarning: invalid value encountered in true_divide\n",
      "  return (np.fabs(a - np.median(a)) / mad(a)) > k\n",
      "C:\\ProgramData\\Anaconda3\\lib\\site-packages\\pingouin-0.2.9-py3.7.egg\\pingouin\\nonparametric.py:144: RuntimeWarning: invalid value encountered in greater\n",
      "  return (np.fabs(a - np.median(a)) / mad(a)) > k\n",
      "C:\\ProgramData\\Anaconda3\\lib\\site-packages\\pingouin-0.2.9-py3.7.egg\\pingouin\\nonparametric.py:144: RuntimeWarning: invalid value encountered in true_divide\n",
      "  return (np.fabs(a - np.median(a)) / mad(a)) > k\n",
      "C:\\ProgramData\\Anaconda3\\lib\\site-packages\\pingouin-0.2.9-py3.7.egg\\pingouin\\nonparametric.py:144: RuntimeWarning: invalid value encountered in greater\n",
      "  return (np.fabs(a - np.median(a)) / mad(a)) > k\n"
     ]
    },
    {
     "name": "stdout",
     "output_type": "stream",
     "text": [
      "1 trial(s) droped due to inconsistent recording\n",
      "1 trial(s) droped due to inconsistent recording\n"
     ]
    },
    {
     "name": "stderr",
     "output_type": "stream",
     "text": [
      "C:\\ProgramData\\Anaconda3\\lib\\site-packages\\pingouin-0.2.9-py3.7.egg\\pingouin\\nonparametric.py:144: RuntimeWarning: invalid value encountered in true_divide\n",
      "  return (np.fabs(a - np.median(a)) / mad(a)) > k\n",
      "C:\\ProgramData\\Anaconda3\\lib\\site-packages\\pingouin-0.2.9-py3.7.egg\\pingouin\\nonparametric.py:144: RuntimeWarning: invalid value encountered in greater\n",
      "  return (np.fabs(a - np.median(a)) / mad(a)) > k\n",
      "C:\\ProgramData\\Anaconda3\\lib\\site-packages\\pingouin-0.2.9-py3.7.egg\\pingouin\\nonparametric.py:144: RuntimeWarning: invalid value encountered in true_divide\n",
      "  return (np.fabs(a - np.median(a)) / mad(a)) > k\n",
      "C:\\ProgramData\\Anaconda3\\lib\\site-packages\\pingouin-0.2.9-py3.7.egg\\pingouin\\nonparametric.py:144: RuntimeWarning: invalid value encountered in greater\n",
      "  return (np.fabs(a - np.median(a)) / mad(a)) > k\n"
     ]
    },
    {
     "name": "stdout",
     "output_type": "stream",
     "text": [
      "1 trial(s) droped due to inconsistent recording\n",
      "1 trial(s) droped due to inconsistent recording\n"
     ]
    },
    {
     "name": "stderr",
     "output_type": "stream",
     "text": [
      "C:\\ProgramData\\Anaconda3\\lib\\site-packages\\pingouin-0.2.9-py3.7.egg\\pingouin\\nonparametric.py:144: RuntimeWarning: invalid value encountered in true_divide\n",
      "  return (np.fabs(a - np.median(a)) / mad(a)) > k\n",
      "C:\\ProgramData\\Anaconda3\\lib\\site-packages\\pingouin-0.2.9-py3.7.egg\\pingouin\\nonparametric.py:144: RuntimeWarning: invalid value encountered in greater\n",
      "  return (np.fabs(a - np.median(a)) / mad(a)) > k\n",
      "C:\\ProgramData\\Anaconda3\\lib\\site-packages\\pingouin-0.2.9-py3.7.egg\\pingouin\\nonparametric.py:144: RuntimeWarning: invalid value encountered in true_divide\n",
      "  return (np.fabs(a - np.median(a)) / mad(a)) > k\n",
      "C:\\ProgramData\\Anaconda3\\lib\\site-packages\\pingouin-0.2.9-py3.7.egg\\pingouin\\nonparametric.py:144: RuntimeWarning: invalid value encountered in greater\n",
      "  return (np.fabs(a - np.median(a)) / mad(a)) > k\n"
     ]
    },
    {
     "name": "stdout",
     "output_type": "stream",
     "text": [
      "1 trial(s) droped due to inconsistent recording\n"
     ]
    },
    {
     "name": "stderr",
     "output_type": "stream",
     "text": [
      "C:\\ProgramData\\Anaconda3\\lib\\site-packages\\pingouin-0.2.9-py3.7.egg\\pingouin\\nonparametric.py:144: RuntimeWarning: invalid value encountered in true_divide\n",
      "  return (np.fabs(a - np.median(a)) / mad(a)) > k\n",
      "C:\\ProgramData\\Anaconda3\\lib\\site-packages\\pingouin-0.2.9-py3.7.egg\\pingouin\\nonparametric.py:144: RuntimeWarning: invalid value encountered in greater\n",
      "  return (np.fabs(a - np.median(a)) / mad(a)) > k\n",
      "C:\\ProgramData\\Anaconda3\\lib\\site-packages\\pingouin-0.2.9-py3.7.egg\\pingouin\\nonparametric.py:144: RuntimeWarning: invalid value encountered in true_divide\n",
      "  return (np.fabs(a - np.median(a)) / mad(a)) > k\n",
      "C:\\ProgramData\\Anaconda3\\lib\\site-packages\\pingouin-0.2.9-py3.7.egg\\pingouin\\nonparametric.py:144: RuntimeWarning: invalid value encountered in greater\n",
      "  return (np.fabs(a - np.median(a)) / mad(a)) > k\n"
     ]
    },
    {
     "name": "stdout",
     "output_type": "stream",
     "text": [
      "1 trial(s) droped due to inconsistent recording\n",
      "1 trial(s) droped due to inconsistent recording"
     ]
    },
    {
     "name": "stderr",
     "output_type": "stream",
     "text": [
      "C:\\ProgramData\\Anaconda3\\lib\\site-packages\\pingouin-0.2.9-py3.7.egg\\pingouin\\nonparametric.py:144: RuntimeWarning: invalid value encountered in true_divide\n",
      "  return (np.fabs(a - np.median(a)) / mad(a)) > k\n",
      "C:\\ProgramData\\Anaconda3\\lib\\site-packages\\pingouin-0.2.9-py3.7.egg\\pingouin\\nonparametric.py:144: RuntimeWarning: invalid value encountered in greater\n",
      "  return (np.fabs(a - np.median(a)) / mad(a)) > k\n"
     ]
    },
    {
     "name": "stdout",
     "output_type": "stream",
     "text": [
      "\n",
      "1 trial(s) droped due to inconsistent recording"
     ]
    },
    {
     "name": "stderr",
     "output_type": "stream",
     "text": [
      "C:\\ProgramData\\Anaconda3\\lib\\site-packages\\pingouin-0.2.9-py3.7.egg\\pingouin\\nonparametric.py:144: RuntimeWarning: invalid value encountered in true_divide\n",
      "  return (np.fabs(a - np.median(a)) / mad(a)) > k\n",
      "C:\\ProgramData\\Anaconda3\\lib\\site-packages\\pingouin-0.2.9-py3.7.egg\\pingouin\\nonparametric.py:144: RuntimeWarning: invalid value encountered in greater\n",
      "  return (np.fabs(a - np.median(a)) / mad(a)) > k\n"
     ]
    },
    {
     "name": "stdout",
     "output_type": "stream",
     "text": [
      "\n"
     ]
    },
    {
     "name": "stderr",
     "output_type": "stream",
     "text": [
      "C:\\ProgramData\\Anaconda3\\lib\\site-packages\\pingouin-0.2.9-py3.7.egg\\pingouin\\nonparametric.py:144: RuntimeWarning: invalid value encountered in true_divide\n",
      "  return (np.fabs(a - np.median(a)) / mad(a)) > k\n",
      "C:\\ProgramData\\Anaconda3\\lib\\site-packages\\pingouin-0.2.9-py3.7.egg\\pingouin\\nonparametric.py:144: RuntimeWarning: invalid value encountered in greater\n",
      "  return (np.fabs(a - np.median(a)) / mad(a)) > k\n",
      "C:\\ProgramData\\Anaconda3\\lib\\site-packages\\ipykernel_launcher.py:4: RuntimeWarning: More than 20 figures have been opened. Figures created through the pyplot interface (`matplotlib.pyplot.figure`) are retained until explicitly closed and may consume too much memory. (To control this warning, see the rcParam `figure.max_open_warning`).\n",
      "  after removing the cwd from sys.path.\n",
      "C:\\ProgramData\\Anaconda3\\lib\\site-packages\\pingouin-0.2.9-py3.7.egg\\pingouin\\nonparametric.py:144: RuntimeWarning: invalid value encountered in true_divide\n",
      "  return (np.fabs(a - np.median(a)) / mad(a)) > k\n",
      "C:\\ProgramData\\Anaconda3\\lib\\site-packages\\pingouin-0.2.9-py3.7.egg\\pingouin\\nonparametric.py:144: RuntimeWarning: invalid value encountered in greater\n",
      "  return (np.fabs(a - np.median(a)) / mad(a)) > k\n"
     ]
    },
    {
     "name": "stdout",
     "output_type": "stream",
     "text": [
      "1 trial(s) droped due to inconsistent recording\n",
      "1 trial(s) droped due to inconsistent recording\n"
     ]
    },
    {
     "name": "stderr",
     "output_type": "stream",
     "text": [
      "C:\\ProgramData\\Anaconda3\\lib\\site-packages\\pingouin-0.2.9-py3.7.egg\\pingouin\\nonparametric.py:144: RuntimeWarning: invalid value encountered in true_divide\n",
      "  return (np.fabs(a - np.median(a)) / mad(a)) > k\n",
      "C:\\ProgramData\\Anaconda3\\lib\\site-packages\\pingouin-0.2.9-py3.7.egg\\pingouin\\nonparametric.py:144: RuntimeWarning: invalid value encountered in greater\n",
      "  return (np.fabs(a - np.median(a)) / mad(a)) > k\n"
     ]
    },
    {
     "name": "stdout",
     "output_type": "stream",
     "text": [
      "1 trial(s) droped due to inconsistent recording\n",
      "1 trial(s) droped due to inconsistent recording\n"
     ]
    },
    {
     "name": "stderr",
     "output_type": "stream",
     "text": [
      "C:\\ProgramData\\Anaconda3\\lib\\site-packages\\pingouin-0.2.9-py3.7.egg\\pingouin\\nonparametric.py:144: RuntimeWarning: invalid value encountered in true_divide\n",
      "  return (np.fabs(a - np.median(a)) / mad(a)) > k\n",
      "C:\\ProgramData\\Anaconda3\\lib\\site-packages\\pingouin-0.2.9-py3.7.egg\\pingouin\\nonparametric.py:144: RuntimeWarning: invalid value encountered in greater\n",
      "  return (np.fabs(a - np.median(a)) / mad(a)) > k\n",
      "C:\\ProgramData\\Anaconda3\\lib\\site-packages\\pingouin-0.2.9-py3.7.egg\\pingouin\\nonparametric.py:144: RuntimeWarning: invalid value encountered in true_divide\n",
      "  return (np.fabs(a - np.median(a)) / mad(a)) > k\n",
      "C:\\ProgramData\\Anaconda3\\lib\\site-packages\\pingouin-0.2.9-py3.7.egg\\pingouin\\nonparametric.py:144: RuntimeWarning: invalid value encountered in greater\n",
      "  return (np.fabs(a - np.median(a)) / mad(a)) > k\n",
      "C:\\ProgramData\\Anaconda3\\lib\\site-packages\\pingouin-0.2.9-py3.7.egg\\pingouin\\nonparametric.py:144: RuntimeWarning: invalid value encountered in true_divide\n",
      "  return (np.fabs(a - np.median(a)) / mad(a)) > k\n",
      "C:\\ProgramData\\Anaconda3\\lib\\site-packages\\pingouin-0.2.9-py3.7.egg\\pingouin\\nonparametric.py:144: RuntimeWarning: invalid value encountered in greater\n",
      "  return (np.fabs(a - np.median(a)) / mad(a)) > k\n"
     ]
    },
    {
     "name": "stdout",
     "output_type": "stream",
     "text": [
      "1 trial(s) droped due to inconsistent recording\n",
      "1 trial(s) droped due to inconsistent recording\n"
     ]
    },
    {
     "name": "stderr",
     "output_type": "stream",
     "text": [
      "C:\\ProgramData\\Anaconda3\\lib\\site-packages\\pingouin-0.2.9-py3.7.egg\\pingouin\\nonparametric.py:144: RuntimeWarning: invalid value encountered in true_divide\n",
      "  return (np.fabs(a - np.median(a)) / mad(a)) > k\n",
      "C:\\ProgramData\\Anaconda3\\lib\\site-packages\\pingouin-0.2.9-py3.7.egg\\pingouin\\nonparametric.py:144: RuntimeWarning: invalid value encountered in greater\n",
      "  return (np.fabs(a - np.median(a)) / mad(a)) > k\n",
      "C:\\ProgramData\\Anaconda3\\lib\\site-packages\\pingouin-0.2.9-py3.7.egg\\pingouin\\nonparametric.py:144: RuntimeWarning: invalid value encountered in true_divide\n",
      "  return (np.fabs(a - np.median(a)) / mad(a)) > k\n",
      "C:\\ProgramData\\Anaconda3\\lib\\site-packages\\pingouin-0.2.9-py3.7.egg\\pingouin\\nonparametric.py:144: RuntimeWarning: invalid value encountered in greater\n",
      "  return (np.fabs(a - np.median(a)) / mad(a)) > k\n"
     ]
    },
    {
     "name": "stdout",
     "output_type": "stream",
     "text": [
      "1 trial(s) droped due to inconsistent recording\n",
      "1 trial(s) droped due to inconsistent recording\n"
     ]
    },
    {
     "name": "stderr",
     "output_type": "stream",
     "text": [
      "C:\\ProgramData\\Anaconda3\\lib\\site-packages\\pingouin-0.2.9-py3.7.egg\\pingouin\\nonparametric.py:144: RuntimeWarning: invalid value encountered in true_divide\n",
      "  return (np.fabs(a - np.median(a)) / mad(a)) > k\n",
      "C:\\ProgramData\\Anaconda3\\lib\\site-packages\\pingouin-0.2.9-py3.7.egg\\pingouin\\nonparametric.py:144: RuntimeWarning: invalid value encountered in greater\n",
      "  return (np.fabs(a - np.median(a)) / mad(a)) > k\n",
      "C:\\ProgramData\\Anaconda3\\lib\\site-packages\\pingouin-0.2.9-py3.7.egg\\pingouin\\nonparametric.py:144: RuntimeWarning: invalid value encountered in true_divide\n",
      "  return (np.fabs(a - np.median(a)) / mad(a)) > k\n",
      "C:\\ProgramData\\Anaconda3\\lib\\site-packages\\pingouin-0.2.9-py3.7.egg\\pingouin\\nonparametric.py:144: RuntimeWarning: invalid value encountered in greater\n",
      "  return (np.fabs(a - np.median(a)) / mad(a)) > k\n"
     ]
    },
    {
     "name": "stdout",
     "output_type": "stream",
     "text": [
      "1 trial(s) droped due to inconsistent recording\n",
      "1 trial(s) droped due to inconsistent recording\n"
     ]
    },
    {
     "name": "stderr",
     "output_type": "stream",
     "text": [
      "C:\\ProgramData\\Anaconda3\\lib\\site-packages\\pingouin-0.2.9-py3.7.egg\\pingouin\\nonparametric.py:144: RuntimeWarning: invalid value encountered in true_divide\n",
      "  return (np.fabs(a - np.median(a)) / mad(a)) > k\n",
      "C:\\ProgramData\\Anaconda3\\lib\\site-packages\\pingouin-0.2.9-py3.7.egg\\pingouin\\nonparametric.py:144: RuntimeWarning: invalid value encountered in greater\n",
      "  return (np.fabs(a - np.median(a)) / mad(a)) > k\n",
      "C:\\ProgramData\\Anaconda3\\lib\\site-packages\\pingouin-0.2.9-py3.7.egg\\pingouin\\nonparametric.py:144: RuntimeWarning: invalid value encountered in true_divide\n",
      "  return (np.fabs(a - np.median(a)) / mad(a)) > k\n",
      "C:\\ProgramData\\Anaconda3\\lib\\site-packages\\pingouin-0.2.9-py3.7.egg\\pingouin\\nonparametric.py:144: RuntimeWarning: invalid value encountered in greater\n",
      "  return (np.fabs(a - np.median(a)) / mad(a)) > k\n"
     ]
    },
    {
     "name": "stdout",
     "output_type": "stream",
     "text": [
      "1 trial(s) droped due to inconsistent recording\n",
      "1 trial(s) droped due to inconsistent recording\n"
     ]
    },
    {
     "name": "stderr",
     "output_type": "stream",
     "text": [
      "C:\\ProgramData\\Anaconda3\\lib\\site-packages\\pingouin-0.2.9-py3.7.egg\\pingouin\\nonparametric.py:144: RuntimeWarning: invalid value encountered in true_divide\n",
      "  return (np.fabs(a - np.median(a)) / mad(a)) > k\n",
      "C:\\ProgramData\\Anaconda3\\lib\\site-packages\\pingouin-0.2.9-py3.7.egg\\pingouin\\nonparametric.py:144: RuntimeWarning: invalid value encountered in greater\n",
      "  return (np.fabs(a - np.median(a)) / mad(a)) > k\n"
     ]
    },
    {
     "data": {
      "image/png": "[encoded data removed]",
      "text/plain": [
       "<Figure size 432x288 with 1 Axes>"
      ]
     },
     "metadata": {
      "needs_background": "light"
     },
     "output_type": "display_data"
    },
    {
     "data": {
      "image/png": "[encoded data removed]",
      "text/plain": [
       "<Figure size 432x288 with 1 Axes>"
      ]
     },
     "metadata": {
      "needs_background": "light"
     },
     "output_type": "display_data"
    },
    {
     "data": {
      "image/png": "[encoded data removed]",
      "text/plain": [
       "<Figure size 432x288 with 1 Axes>"
      ]
     },
     "metadata": {
      "needs_background": "light"
     },
     "output_type": "display_data"
    },
    {
     "data": {
      "image/png": "[encoded data removed]",
      "text/plain": [
       "<Figure size 432x288 with 1 Axes>"
      ]
     },
     "metadata": {
      "needs_background": "light"
     },
     "output_type": "display_data"
    },
    {
     "data": {
      "image/png": "[encoded data removed]",
      "text/plain": [
       "<Figure size 432x288 with 1 Axes>"
      ]
     },
     "metadata": {
      "needs_background": "light"
     },
     "output_type": "display_data"
    },
    {
     "data": {
      "image/png": "[encoded data removed]",
      "text/plain": [
       "<Figure size 432x288 with 1 Axes>"
      ]
     },
     "metadata": {
      "needs_background": "light"
     },
     "output_type": "display_data"
    },
    {
     "data": {
      "image/png": "[encoded data removed]",
      "text/plain": [
       "<Figure size 432x288 with 1 Axes>"
      ]
     },
     "metadata": {
      "needs_background": "light"
     },
     "output_type": "display_data"
    },
    {
     "data": {
      "image/png": "[encoded data removed]",
      "text/plain": [
       "<Figure size 432x288 with 1 Axes>"
      ]
     },
     "metadata": {
      "needs_background": "light"
     },
     "output_type": "display_data"
    },
    {
     "data": {
      "image/png": "[encoded data removed]",
      "text/plain": [
       "<Figure size 432x288 with 1 Axes>"
      ]
     },
     "metadata": {
      "needs_background": "light"
     },
     "output_type": "display_data"
    },
    {
     "data": {
      "image/png": "[encoded data removed]",
      "text/plain": [
       "<Figure size 432x288 with 1 Axes>"
      ]
     },
     "metadata": {
      "needs_background": "light"
     },
     "output_type": "display_data"
    },
    {
     "data": {
      "image/png": "[encoded data removed]",
      "text/plain": [
       "<Figure size 432x288 with 1 Axes>"
      ]
     },
     "metadata": {
      "needs_background": "light"
     },
     "output_type": "display_data"
    },
    {
     "data": {
      "image/png": "[encoded data removed]",
      "text/plain": [
       "<Figure size 432x288 with 1 Axes>"
      ]
     },
     "metadata": {
      "needs_background": "light"
     },
     "output_type": "display_data"
    },
    {
     "data": {
      "image/png": "[encoded data removed]",
      "text/plain": [
       "<Figure size 432x288 with 1 Axes>"
      ]
     },
     "metadata": {
      "needs_background": "light"
     },
     "output_type": "display_data"
    },
    {
     "data": {
      "image/png": "[encoded data removed]",
      "text/plain": [
       "<Figure size 432x288 with 1 Axes>"
      ]
     },
     "metadata": {
      "needs_background": "light"
     },
     "output_type": "display_data"
    },
    {
     "data": {
      "image/png": "[encoded data removed]",
      "text/plain": [
       "<Figure size 432x288 with 1 Axes>"
      ]
     },
     "metadata": {
      "needs_background": "light"
     },
     "output_type": "display_data"
    },
    {
     "data": {
      "image/png": "[encoded data removed]",
      "text/plain": [
       "<Figure size 432x288 with 1 Axes>"
      ]
     },
     "metadata": {
      "needs_background": "light"
     },
     "output_type": "display_data"
    },
    {
     "data": {
      "image/png": "[encoded data removed]",
      "text/plain": [
       "<Figure size 432x288 with 1 Axes>"
      ]
     },
     "metadata": {
      "needs_background": "light"
     },
     "output_type": "display_data"
    },
    {
     "data": {
      "image/png": "[encoded data removed]",
      "text/plain": [
       "<Figure size 432x288 with 1 Axes>"
      ]
     },
     "metadata": {
      "needs_background": "light"
     },
     "output_type": "display_data"
    },
    {
     "data": {
      "image/png": "[encoded data removed]",
      "text/plain": [
       "<Figure size 432x288 with 1 Axes>"
      ]
     },
     "metadata": {
      "needs_background": "light"
     },
     "output_type": "display_data"
    },
    {
     "data": {
      "image/png": "[encoded data removed]",
      "text/plain": [
       "<Figure size 432x288 with 1 Axes>"
      ]
     },
     "metadata": {
      "needs_background": "light"
     },
     "output_type": "display_data"
    },
    {
     "data": {
      "image/png": "[encoded data removed]",
      "text/plain": [
       "<Figure size 432x288 with 1 Axes>"
      ]
     },
     "metadata": {
      "needs_background": "light"
     },
     "output_type": "display_data"
    },
    {
     "data": {
      "image/png": "[encoded data removed]",
      "text/plain": [
       "<Figure size 432x288 with 1 Axes>"
      ]
     },
     "metadata": {
      "needs_background": "light"
     },
     "output_type": "display_data"
    },
    {
     "data": {
      "image/png": "[encoded data removed]",
      "text/plain": [
       "<Figure size 432x288 with 1 Axes>"
      ]
     },
     "metadata": {
      "needs_background": "light"
     },
     "output_type": "display_data"
    },
    {
     "data": {
      "image/png": "[encoded data removed]",
      "text/plain": [
       "<Figure size 432x288 with 1 Axes>"
      ]
     },
     "metadata": {
      "needs_background": "light"
     },
     "output_type": "display_data"
    },
    {
     "data": {
      "image/png": "[encoded data removed]",
      "text/plain": [
       "<Figure size 432x288 with 1 Axes>"
      ]
     },
     "metadata": {
      "needs_background": "light"
     },
     "output_type": "display_data"
    },
    {
     "data": {
      "image/png": "[encoded data removed]",
      "text/plain": [
       "<Figure size 432x288 with 1 Axes>"
      ]
     },
     "metadata": {
      "needs_background": "light"
     },
     "output_type": "display_data"
    },
    {
     "data": {
      "image/png": "[encoded data removed]",
      "text/plain": [
       "<Figure size 432x288 with 1 Axes>"
      ]
     },
     "metadata": {
      "needs_background": "light"
     },
     "output_type": "display_data"
    },
    {
     "data": {
      "image/png": "[encoded data removed]",
      "text/plain": [
       "<Figure size 432x288 with 1 Axes>"
      ]
     },
     "metadata": {
      "needs_background": "light"
     },
     "output_type": "display_data"
    },
    {
     "data": {
      "image/png": "[encoded data removed]",
      "text/plain": [
       "<Figure size 432x288 with 1 Axes>"
      ]
     },
     "metadata": {
      "needs_background": "light"
     },
     "output_type": "display_data"
    },
    {
     "data": {
      "image/png": "[encoded data removed]",
      "text/plain": [
       "<Figure size 432x288 with 1 Axes>"
      ]
     },
     "metadata": {
      "needs_background": "light"
     },
     "output_type": "display_data"
    },
    {
     "data": {
      "image/png": "[encoded data removed]",
      "text/plain": [
       "<Figure size 432x288 with 1 Axes>"
      ]
     },
     "metadata": {
      "needs_background": "light"
     },
     "output_type": "display_data"
    },
    {
     "data": {
      "image/png": "[encoded data removed]",
      "text/plain": [
       "<Figure size 432x288 with 1 Axes>"
      ]
     },
     "metadata": {
      "needs_background": "light"
     },
     "output_type": "display_data"
    },
    {
     "data": {
      "image/png": "[encoded data removed]",
      "text/plain": [
       "<Figure size 432x288 with 1 Axes>"
      ]
     },
     "metadata": {
      "needs_background": "light"
     },
     "output_type": "display_data"
    },
    {
     "data": {
      "image/png": "[encoded data removed]",
      "text/plain": [
       "<Figure size 432x288 with 1 Axes>"
      ]
     },
     "metadata": {
      "needs_background": "light"
     },
     "output_type": "display_data"
    },
    {
     "data": {
      "image/png": "[encoded data removed]",
      "text/plain": [
       "<Figure size 432x288 with 1 Axes>"
      ]
     },
     "metadata": {
      "needs_background": "light"
     },
     "output_type": "display_data"
    }
   ],
   "source": [
    "subjects = [f for f in os.listdir(path) if len(f) == 5]\n",
    "final_df = pd.DataFrame([])\n",
    "for nSub in subjects:\n",
    "    plt.figure()\n",
    "    # Find files name\n",
    "    for file in os.listdir(path + nSub):\n",
    "        if file.endswith(\".txt\") & file.startswith('Subject'):\n",
    "            df = pd.read_csv(os.path.join(path + nSub, file))\n",
    "        elif file.endswith('9.npy'):\n",
    "            nSub2 = file[:len(file) - 5]\n",
    "\n",
    "    # Start loop \n",
    "    results_df, total_corr = pd.DataFrame([]), pd.DataFrame([])\n",
    "    for val in ['Low', 'High']:\n",
    "        for aro in ['Low', 'High']:\n",
    "            for learningTime in [30, 60, 90]:\n",
    "                \n",
    "                # Get block numbers\n",
    "                this_df = df.copy()[(df.Arousal == aro) & (df.Valence == val) & (df.LearningTime == learningTime)]\n",
    "                bl = this_df.nBlock.iloc[0]\n",
    "                recording = np.load(path + nSub + '/' + nSub2 + str(int(bl)) + '-raw.npy')\n",
    "\n",
    "                # Epoch recording\n",
    "                epoch = to_epochs(recording[0], recording[1], sfreq=75, event_idx=2, tmin=0, tmax=6, sigma=5)\n",
    "\n",
    "                # Artefact rejection\n",
    "                drop_outliers = np.max(np.abs(epoch), axis=1) < 30\n",
    "                drop = (this_df.Confidence != 'Nan') & drop_outliers\n",
    "\n",
    "                # Outliers rejection\n",
    "                drop_out = ~pg.madmedianrule(np.max(np.abs(epoch), axis=1))\n",
    "                \n",
    "                # Decimate\n",
    "                epoch = epoch[:, ::5]\n",
    "\n",
    "                epochs_df = pd.DataFrame(epoch[drop_out]).melt()\n",
    "                epochs_df['Arousal'] = aro\n",
    "                epochs_df['Valence'] = val\n",
    "                epochs_df['LearningTime'] = learningTime\n",
    "                epochs_df['LearningTime'] = epochs_df['LearningTime'].astype('category')\n",
    "                epochs_df['Time'] = (epochs_df['variable']/15)\n",
    "                epochs_df['Subject'] = nSub\n",
    "\n",
    "                # Correlations\n",
    "                drop = (this_df.Confidence != 'Nan') & drop_out\n",
    "                l = []\n",
    "                for i in range(epoch.shape[1]):\n",
    "                    reg = LinearRegression().fit(np.asarray(this_df.Confidence[drop]).reshape(-1, 1), np.asarray(epoch[drop, i]).reshape(-1, 1))\n",
    "                    l.append(reg.coef_[0][0])\n",
    "                \n",
    "                correlation_df = pd.DataFrame([])\n",
    "                correlation_df['Correlation'] = l\n",
    "                correlation_df['Time'] = np.arange(0, len(l))/15\n",
    "                correlation_df['Arousal'] = aro\n",
    "                correlation_df['Valence'] = val\n",
    "                correlation_df['LearningTime'] = learningTime\n",
    "                correlation_df['Subject'] = nSub\n",
    "\n",
    "                total_corr = total_corr.append(correlation_df)\n",
    "                results_df = results_df.append(epochs_df)\n",
    "                plt.plot(epoch[drop_out].mean(0))\n",
    "                final_df = final_df.append(pd.DataFrame({'Arousal':aro,\n",
    "                                                         'Valence': val,\n",
    "                                                         'LearningTime': learningTime,\n",
    "                                                         'Time': np.arange(0, len(l))/15,\n",
    "                                                         'Subject': nSub,\n",
    "                                                         'BPM': epoch[drop_out].mean(0),\n",
    "                                                         'Beta': l}))\n",
    "    plt.savefig(results_path + str(nSub) + '.png', dpi=600)\n",
    "\n",
    "    ## Plot results\n",
    "    #plt.figure(figsize=(18, 8))\n",
    "#\n",
    "    ## Arousal * Valence\n",
    "    #plt.subplot(131)\n",
    "    #sns.lineplot(data=results_df, x='Time', y='value', hue='Valence', style='Arousal', units=\"Subject\", estimator=None)\n",
    "    #plt.axhline(y=0, linestyle='--', color='gray')\n",
    "    #plt.axvline(x=0, linestyle='--', color='k')\n",
    "    #plt.ylim(-10, 4)\n",
    "#\n",
    "    ## Learning time\n",
    "    #plt.subplot(132)\n",
    "    #sns.lineplot(data=results_df, x='Time', y='value', hue='LearningTime', units=\"Subject\", estimator=None, palette=sns.cubehelix_palette(3))\n",
    "    #plt.axhline(y=0, linestyle='--', color='gray')\n",
    "    #plt.axvline(x=0, linestyle='--', color='k')\n",
    "    #plt.ylim(-10, 4)\n",
    "#\n",
    "    ## Model fits\n",
    "    #plt.subplot(133)\n",
    "    #sns.lineplot(data=total_corr, x='Time', y='Correlation', hue='Valence', style='Arousal', units='LearningTime', estimator=None)\n",
    "    #plt.axhline(y=0, linestyle='--', color='gray')\n",
    "    #plt.axvline(x=0, linestyle='--', color='k')\n",
    "    #plt.ylim(-5, 5)\n",
    "#\n",
    "    #plt.savefig(results_path + str(nSub) + '.png', dpi=600)\n",
    "    #plt.close()"
   ]
  },
  {
   "cell_type": "code",
   "execution_count": 7,
   "metadata": {},
   "outputs": [
    {
     "data": {
      "text/plain": [
       "array([0., 0., 0., 0., 0., 0., 0., 0., 0., 0., 0., 0., 0., 0., 0., 0., 0.,\n",
       "       0., 0., 0., 0., 0., 0., 0., 0., 0., 0., 0., 0., 0., 0., 0., 0., 0.,\n",
       "       0., 0., 0., 0., 0., 0., 0., 0., 0., 0., 0., 0., 0., 0., 0., 0., 0.,\n",
       "       0., 0., 0., 0., 0., 0., 0., 0., 0., 0., 0., 0., 0., 0., 0., 0., 0.,\n",
       "       0., 0., 0., 0., 0., 0., 0., 0., 0., 0., 0., 0., 0., 0., 0., 0., 0.,\n",
       "       0., 0., 0., 0., 0.])"
      ]
     },
     "execution_count": 7,
     "metadata": {},
     "output_type": "execute_result"
    }
   ],
   "source": [
    "epoch[drop_out].mean(0)"
   ]
  },
  {
   "cell_type": "code",
   "execution_count": 5,
   "metadata": {},
   "outputs": [
    {
     "data": {
      "image/png": "[encoded data removed]",
      "text/plain": [
       "<Figure size 1296x576 with 3 Axes>"
      ]
     },
     "metadata": {
      "needs_background": "light"
     },
     "output_type": "display_data"
    }
   ],
   "source": [
    "sns.set_context('talk')\n",
    "\n",
    "# Plot results\n",
    "plt.figure(figsize=(18, 8))\n",
    "\n",
    "# Arousal\n",
    "plt.subplot(131)\n",
    "sns.lineplot(data=final_df, x='Time', y='BPM', hue='Arousal', ci=68, palette=['thistle', 'blueviolet'])\n",
    "plt.axhline(y=0, linestyle='--', color='gray')\n",
    "plt.axvline(x=0, linestyle='--', color='k')\n",
    "plt.ylim(-4, 1)\n",
    "plt.ylabel('delta BPM')\n",
    "plt.title('Arousal')\n",
    "\n",
    "# Valence\n",
    "plt.subplot(132)\n",
    "sns.lineplot(data=final_df, x='Time', y='BPM', hue='Valence', ci=68, palette=['steelblue', 'firebrick'])\n",
    "plt.axhline(y=0, linestyle='--', color='gray')\n",
    "plt.axvline(x=0, linestyle='--', color='k')\n",
    "plt.ylim(-4, 1)\n",
    "plt.ylabel('delta BPM')\n",
    "plt.title('Valence')\n",
    "\n",
    "# Learning time\n",
    "plt.subplot(133)\n",
    "sns.lineplot(data=final_df, x='Time', y='BPM', hue='LearningTime', ci=68, palette=sns.cubehelix_palette(3))\n",
    "plt.axhline(y=0, linestyle='--', color='gray')\n",
    "plt.axvline(x=0, linestyle='--', color='k')\n",
    "plt.ylim(-4, 1)\n",
    "plt.ylabel('delta BPM')\n",
    "plt.title('Learning Time')\n",
    "\n",
    "plt.tight_layout()\n",
    "\n",
    "plt.savefig(results_path + 'bpm.png', dpi=600)"
   ]
  },
  {
   "cell_type": "markdown",
   "metadata": {},
   "source": [
    "# Linear models"
   ]
  },
  {
   "cell_type": "code",
   "execution_count": 6,
   "metadata": {
    "collapsed": true,
    "jupyter": {
     "outputs_hidden": true
    }
   },
   "outputs": [
    {
     "name": "stdout",
     "output_type": "stream",
     "text": [
      "1 trial(s) droped due to inconsistent recording\n",
      "1 trial(s) droped due to inconsistent recording\n",
      "1 trial(s) droped due to inconsistent recording\n"
     ]
    },
    {
     "name": "stderr",
     "output_type": "stream",
     "text": [
      "C:\\ProgramData\\Anaconda3\\lib\\site-packages\\pingouin-0.2.9-py3.7.egg\\pingouin\\nonparametric.py:144: RuntimeWarning: invalid value encountered in true_divide\n",
      "  return (np.fabs(a - np.median(a)) / mad(a)) > k\n",
      "C:\\ProgramData\\Anaconda3\\lib\\site-packages\\pingouin-0.2.9-py3.7.egg\\pingouin\\nonparametric.py:144: RuntimeWarning: invalid value encountered in greater\n",
      "  return (np.fabs(a - np.median(a)) / mad(a)) > k\n"
     ]
    },
    {
     "name": "stdout",
     "output_type": "stream",
     "text": [
      "1 trial(s) droped due to inconsistent recording\n",
      "1 trial(s) droped due to inconsistent recording\n",
      "1 trial(s) droped due to inconsistent recording\n"
     ]
    },
    {
     "name": "stderr",
     "output_type": "stream",
     "text": [
      "C:\\ProgramData\\Anaconda3\\lib\\site-packages\\pingouin-0.2.9-py3.7.egg\\pingouin\\nonparametric.py:144: RuntimeWarning: invalid value encountered in true_divide\n",
      "  return (np.fabs(a - np.median(a)) / mad(a)) > k\n",
      "C:\\ProgramData\\Anaconda3\\lib\\site-packages\\pingouin-0.2.9-py3.7.egg\\pingouin\\nonparametric.py:144: RuntimeWarning: invalid value encountered in greater\n",
      "  return (np.fabs(a - np.median(a)) / mad(a)) > k\n",
      "C:\\ProgramData\\Anaconda3\\lib\\site-packages\\pingouin-0.2.9-py3.7.egg\\pingouin\\nonparametric.py:144: RuntimeWarning: invalid value encountered in true_divide\n",
      "  return (np.fabs(a - np.median(a)) / mad(a)) > k\n",
      "C:\\ProgramData\\Anaconda3\\lib\\site-packages\\pingouin-0.2.9-py3.7.egg\\pingouin\\nonparametric.py:144: RuntimeWarning: invalid value encountered in greater\n",
      "  return (np.fabs(a - np.median(a)) / mad(a)) > k\n"
     ]
    },
    {
     "name": "stdout",
     "output_type": "stream",
     "text": [
      "1 trial(s) droped due to inconsistent recording\n",
      "1 trial(s) droped due to inconsistent recording\n",
      "1 trial(s) droped due to inconsistent recording\n",
      "1 trial(s) droped due to inconsistent recording\n",
      "1 trial(s) droped due to inconsistent recording\n",
      "1 trial(s) droped due to inconsistent recording\n",
      "1 trial(s) droped due to inconsistent recording\n"
     ]
    },
    {
     "name": "stderr",
     "output_type": "stream",
     "text": [
      "C:\\ProgramData\\Anaconda3\\lib\\site-packages\\pingouin-0.2.9-py3.7.egg\\pingouin\\nonparametric.py:144: RuntimeWarning: invalid value encountered in true_divide\n",
      "  return (np.fabs(a - np.median(a)) / mad(a)) > k\n",
      "C:\\ProgramData\\Anaconda3\\lib\\site-packages\\pingouin-0.2.9-py3.7.egg\\pingouin\\nonparametric.py:144: RuntimeWarning: invalid value encountered in greater\n",
      "  return (np.fabs(a - np.median(a)) / mad(a)) > k\n"
     ]
    },
    {
     "name": "stdout",
     "output_type": "stream",
     "text": [
      "1 trial(s) droped due to inconsistent recording\n",
      "1 trial(s) droped due to inconsistent recording\n",
      "1 trial(s) droped due to inconsistent recording\n"
     ]
    },
    {
     "name": "stderr",
     "output_type": "stream",
     "text": [
      "C:\\ProgramData\\Anaconda3\\lib\\site-packages\\pingouin-0.2.9-py3.7.egg\\pingouin\\nonparametric.py:144: RuntimeWarning: invalid value encountered in true_divide\n",
      "  return (np.fabs(a - np.median(a)) / mad(a)) > k\n",
      "C:\\ProgramData\\Anaconda3\\lib\\site-packages\\pingouin-0.2.9-py3.7.egg\\pingouin\\nonparametric.py:144: RuntimeWarning: invalid value encountered in greater\n",
      "  return (np.fabs(a - np.median(a)) / mad(a)) > k\n"
     ]
    },
    {
     "name": "stdout",
     "output_type": "stream",
     "text": [
      "1 trial(s) droped due to inconsistent recording\n",
      "1 trial(s) droped due to inconsistent recording\n",
      "1 trial(s) droped due to inconsistent recording\n",
      "1 trial(s) droped due to inconsistent recording\n"
     ]
    },
    {
     "name": "stderr",
     "output_type": "stream",
     "text": [
      "C:\\ProgramData\\Anaconda3\\lib\\site-packages\\pingouin-0.2.9-py3.7.egg\\pingouin\\nonparametric.py:144: RuntimeWarning: invalid value encountered in true_divide\n",
      "  return (np.fabs(a - np.median(a)) / mad(a)) > k\n",
      "C:\\ProgramData\\Anaconda3\\lib\\site-packages\\pingouin-0.2.9-py3.7.egg\\pingouin\\nonparametric.py:144: RuntimeWarning: invalid value encountered in greater\n",
      "  return (np.fabs(a - np.median(a)) / mad(a)) > k\n"
     ]
    },
    {
     "name": "stdout",
     "output_type": "stream",
     "text": [
      "1 trial(s) droped due to inconsistent recording\n",
      "1 trial(s) droped due to inconsistent recording\n",
      "1 trial(s) droped due to inconsistent recording\n"
     ]
    },
    {
     "name": "stderr",
     "output_type": "stream",
     "text": [
      "C:\\ProgramData\\Anaconda3\\lib\\site-packages\\pingouin-0.2.9-py3.7.egg\\pingouin\\nonparametric.py:144: RuntimeWarning: invalid value encountered in true_divide\n",
      "  return (np.fabs(a - np.median(a)) / mad(a)) > k\n",
      "C:\\ProgramData\\Anaconda3\\lib\\site-packages\\pingouin-0.2.9-py3.7.egg\\pingouin\\nonparametric.py:144: RuntimeWarning: invalid value encountered in greater\n",
      "  return (np.fabs(a - np.median(a)) / mad(a)) > k\n"
     ]
    },
    {
     "name": "stdout",
     "output_type": "stream",
     "text": [
      "1 trial(s) droped due to inconsistent recording\n",
      "1 trial(s) droped due to inconsistent recording\n",
      "1 trial(s) droped due to inconsistent recording\n",
      "1 trial(s) droped due to inconsistent recording\n"
     ]
    },
    {
     "name": "stderr",
     "output_type": "stream",
     "text": [
      "C:\\ProgramData\\Anaconda3\\lib\\site-packages\\pingouin-0.2.9-py3.7.egg\\pingouin\\nonparametric.py:144: RuntimeWarning: invalid value encountered in true_divide\n",
      "  return (np.fabs(a - np.median(a)) / mad(a)) > k\n",
      "C:\\ProgramData\\Anaconda3\\lib\\site-packages\\pingouin-0.2.9-py3.7.egg\\pingouin\\nonparametric.py:144: RuntimeWarning: invalid value encountered in greater\n",
      "  return (np.fabs(a - np.median(a)) / mad(a)) > k\n",
      "C:\\ProgramData\\Anaconda3\\lib\\site-packages\\pingouin-0.2.9-py3.7.egg\\pingouin\\nonparametric.py:144: RuntimeWarning: invalid value encountered in true_divide\n",
      "  return (np.fabs(a - np.median(a)) / mad(a)) > k\n",
      "C:\\ProgramData\\Anaconda3\\lib\\site-packages\\pingouin-0.2.9-py3.7.egg\\pingouin\\nonparametric.py:144: RuntimeWarning: invalid value encountered in greater\n",
      "  return (np.fabs(a - np.median(a)) / mad(a)) > k\n"
     ]
    },
    {
     "name": "stdout",
     "output_type": "stream",
     "text": [
      "1 trial(s) droped due to inconsistent recording\n",
      "1 trial(s) droped due to inconsistent recording\n",
      "1 trial(s) droped due to inconsistent recording\n"
     ]
    },
    {
     "name": "stderr",
     "output_type": "stream",
     "text": [
      "C:\\ProgramData\\Anaconda3\\lib\\site-packages\\pingouin-0.2.9-py3.7.egg\\pingouin\\nonparametric.py:144: RuntimeWarning: invalid value encountered in true_divide\n",
      "  return (np.fabs(a - np.median(a)) / mad(a)) > k\n",
      "C:\\ProgramData\\Anaconda3\\lib\\site-packages\\pingouin-0.2.9-py3.7.egg\\pingouin\\nonparametric.py:144: RuntimeWarning: invalid value encountered in greater\n",
      "  return (np.fabs(a - np.median(a)) / mad(a)) > k\n"
     ]
    },
    {
     "name": "stdout",
     "output_type": "stream",
     "text": [
      "1 trial(s) droped due to inconsistent recording\n",
      "1 trial(s) droped due to inconsistent recording\n",
      "1 trial(s) droped due to inconsistent recording\n",
      "1 trial(s) droped due to inconsistent recording"
     ]
    },
    {
     "name": "stderr",
     "output_type": "stream",
     "text": [
      "C:\\ProgramData\\Anaconda3\\lib\\site-packages\\pingouin-0.2.9-py3.7.egg\\pingouin\\nonparametric.py:144: RuntimeWarning: invalid value encountered in true_divide\n",
      "  return (np.fabs(a - np.median(a)) / mad(a)) > k\n",
      "C:\\ProgramData\\Anaconda3\\lib\\site-packages\\pingouin-0.2.9-py3.7.egg\\pingouin\\nonparametric.py:144: RuntimeWarning: invalid value encountered in greater\n",
      "  return (np.fabs(a - np.median(a)) / mad(a)) > k\n"
     ]
    },
    {
     "name": "stdout",
     "output_type": "stream",
     "text": [
      "\n",
      "1 trial(s) droped due to inconsistent recording\n",
      "1 trial(s) droped due to inconsistent recording\n"
     ]
    },
    {
     "name": "stderr",
     "output_type": "stream",
     "text": [
      "C:\\ProgramData\\Anaconda3\\lib\\site-packages\\pingouin-0.2.9-py3.7.egg\\pingouin\\nonparametric.py:144: RuntimeWarning: invalid value encountered in true_divide\n",
      "  return (np.fabs(a - np.median(a)) / mad(a)) > k\n",
      "C:\\ProgramData\\Anaconda3\\lib\\site-packages\\pingouin-0.2.9-py3.7.egg\\pingouin\\nonparametric.py:144: RuntimeWarning: invalid value encountered in greater\n",
      "  return (np.fabs(a - np.median(a)) / mad(a)) > k\n"
     ]
    },
    {
     "name": "stdout",
     "output_type": "stream",
     "text": [
      "1 trial(s) droped due to inconsistent recording\n",
      "1 trial(s) droped due to inconsistent recording\n",
      "1 trial(s) droped due to inconsistent recording\n"
     ]
    },
    {
     "name": "stderr",
     "output_type": "stream",
     "text": [
      "C:\\ProgramData\\Anaconda3\\lib\\site-packages\\pingouin-0.2.9-py3.7.egg\\pingouin\\nonparametric.py:144: RuntimeWarning: invalid value encountered in true_divide\n",
      "  return (np.fabs(a - np.median(a)) / mad(a)) > k\n",
      "C:\\ProgramData\\Anaconda3\\lib\\site-packages\\pingouin-0.2.9-py3.7.egg\\pingouin\\nonparametric.py:144: RuntimeWarning: invalid value encountered in greater\n",
      "  return (np.fabs(a - np.median(a)) / mad(a)) > k\n"
     ]
    },
    {
     "name": "stdout",
     "output_type": "stream",
     "text": [
      "1 trial(s) droped due to inconsistent recording\n",
      "1 trial(s) droped due to inconsistent recording\n",
      "1 trial(s) droped due to inconsistent recording\n",
      "1 trial(s) droped due to inconsistent recording\n"
     ]
    },
    {
     "name": "stderr",
     "output_type": "stream",
     "text": [
      "C:\\ProgramData\\Anaconda3\\lib\\site-packages\\pingouin-0.2.9-py3.7.egg\\pingouin\\nonparametric.py:144: RuntimeWarning: invalid value encountered in true_divide\n",
      "  return (np.fabs(a - np.median(a)) / mad(a)) > k\n",
      "C:\\ProgramData\\Anaconda3\\lib\\site-packages\\pingouin-0.2.9-py3.7.egg\\pingouin\\nonparametric.py:144: RuntimeWarning: invalid value encountered in greater\n",
      "  return (np.fabs(a - np.median(a)) / mad(a)) > k\n"
     ]
    },
    {
     "name": "stdout",
     "output_type": "stream",
     "text": [
      "1 trial(s) droped due to inconsistent recording\n",
      "1 trial(s) droped due to inconsistent recording\n",
      "1 trial(s) droped due to inconsistent recording\n"
     ]
    },
    {
     "name": "stderr",
     "output_type": "stream",
     "text": [
      "C:\\ProgramData\\Anaconda3\\lib\\site-packages\\pingouin-0.2.9-py3.7.egg\\pingouin\\nonparametric.py:144: RuntimeWarning: invalid value encountered in true_divide\n",
      "  return (np.fabs(a - np.median(a)) / mad(a)) > k\n",
      "C:\\ProgramData\\Anaconda3\\lib\\site-packages\\pingouin-0.2.9-py3.7.egg\\pingouin\\nonparametric.py:144: RuntimeWarning: invalid value encountered in greater\n",
      "  return (np.fabs(a - np.median(a)) / mad(a)) > k\n"
     ]
    },
    {
     "name": "stdout",
     "output_type": "stream",
     "text": [
      "1 trial(s) droped due to inconsistent recording\n",
      "1 trial(s) droped due to inconsistent recording\n",
      "1 trial(s) droped due to inconsistent recording\n"
     ]
    },
    {
     "name": "stderr",
     "output_type": "stream",
     "text": [
      "C:\\ProgramData\\Anaconda3\\lib\\site-packages\\pingouin-0.2.9-py3.7.egg\\pingouin\\nonparametric.py:144: RuntimeWarning: invalid value encountered in true_divide\n",
      "  return (np.fabs(a - np.median(a)) / mad(a)) > k\n",
      "C:\\ProgramData\\Anaconda3\\lib\\site-packages\\pingouin-0.2.9-py3.7.egg\\pingouin\\nonparametric.py:144: RuntimeWarning: invalid value encountered in greater\n",
      "  return (np.fabs(a - np.median(a)) / mad(a)) > k\n"
     ]
    },
    {
     "name": "stdout",
     "output_type": "stream",
     "text": [
      "1 trial(s) droped due to inconsistent recording\n",
      "1 trial(s) droped due to inconsistent recording\n",
      "1 trial(s) droped due to inconsistent recording\n",
      "1 trial(s) droped due to inconsistent recording\n"
     ]
    },
    {
     "name": "stderr",
     "output_type": "stream",
     "text": [
      "C:\\ProgramData\\Anaconda3\\lib\\site-packages\\pingouin-0.2.9-py3.7.egg\\pingouin\\nonparametric.py:144: RuntimeWarning: invalid value encountered in true_divide\n",
      "  return (np.fabs(a - np.median(a)) / mad(a)) > k\n",
      "C:\\ProgramData\\Anaconda3\\lib\\site-packages\\pingouin-0.2.9-py3.7.egg\\pingouin\\nonparametric.py:144: RuntimeWarning: invalid value encountered in greater\n",
      "  return (np.fabs(a - np.median(a)) / mad(a)) > k\n"
     ]
    },
    {
     "name": "stdout",
     "output_type": "stream",
     "text": [
      "1 trial(s) droped due to inconsistent recording\n",
      "1 trial(s) droped due to inconsistent recording\n",
      "1 trial(s) droped due to inconsistent recording\n"
     ]
    },
    {
     "name": "stderr",
     "output_type": "stream",
     "text": [
      "C:\\ProgramData\\Anaconda3\\lib\\site-packages\\pingouin-0.2.9-py3.7.egg\\pingouin\\nonparametric.py:144: RuntimeWarning: invalid value encountered in true_divide\n",
      "  return (np.fabs(a - np.median(a)) / mad(a)) > k\n",
      "C:\\ProgramData\\Anaconda3\\lib\\site-packages\\pingouin-0.2.9-py3.7.egg\\pingouin\\nonparametric.py:144: RuntimeWarning: invalid value encountered in greater\n",
      "  return (np.fabs(a - np.median(a)) / mad(a)) > k\n"
     ]
    },
    {
     "name": "stdout",
     "output_type": "stream",
     "text": [
      "1 trial(s) droped due to inconsistent recording\n",
      "1 trial(s) droped due to inconsistent recording\n",
      "1 trial(s) droped due to inconsistent recording\n",
      "1 trial(s) droped due to inconsistent recording"
     ]
    },
    {
     "name": "stderr",
     "output_type": "stream",
     "text": [
      "C:\\ProgramData\\Anaconda3\\lib\\site-packages\\pingouin-0.2.9-py3.7.egg\\pingouin\\nonparametric.py:144: RuntimeWarning: invalid value encountered in true_divide\n",
      "  return (np.fabs(a - np.median(a)) / mad(a)) > k\n",
      "C:\\ProgramData\\Anaconda3\\lib\\site-packages\\pingouin-0.2.9-py3.7.egg\\pingouin\\nonparametric.py:144: RuntimeWarning: invalid value encountered in greater\n",
      "  return (np.fabs(a - np.median(a)) / mad(a)) > k\n"
     ]
    },
    {
     "name": "stdout",
     "output_type": "stream",
     "text": [
      "\n",
      "1 trial(s) droped due to inconsistent recording\n",
      "1 trial(s) droped due to inconsistent recording\n"
     ]
    },
    {
     "name": "stderr",
     "output_type": "stream",
     "text": [
      "C:\\ProgramData\\Anaconda3\\lib\\site-packages\\pingouin-0.2.9-py3.7.egg\\pingouin\\nonparametric.py:144: RuntimeWarning: invalid value encountered in true_divide\n",
      "  return (np.fabs(a - np.median(a)) / mad(a)) > k\n",
      "C:\\ProgramData\\Anaconda3\\lib\\site-packages\\pingouin-0.2.9-py3.7.egg\\pingouin\\nonparametric.py:144: RuntimeWarning: invalid value encountered in greater\n",
      "  return (np.fabs(a - np.median(a)) / mad(a)) > k\n"
     ]
    },
    {
     "name": "stdout",
     "output_type": "stream",
     "text": [
      "1 trial(s) droped due to inconsistent recording\n",
      "1 trial(s) droped due to inconsistent recording\n",
      "1 trial(s) droped due to inconsistent recording\n",
      "1 trial(s) droped due to inconsistent recording\n"
     ]
    },
    {
     "name": "stderr",
     "output_type": "stream",
     "text": [
      "C:\\ProgramData\\Anaconda3\\lib\\site-packages\\pingouin-0.2.9-py3.7.egg\\pingouin\\nonparametric.py:144: RuntimeWarning: invalid value encountered in true_divide\n",
      "  return (np.fabs(a - np.median(a)) / mad(a)) > k\n",
      "C:\\ProgramData\\Anaconda3\\lib\\site-packages\\pingouin-0.2.9-py3.7.egg\\pingouin\\nonparametric.py:144: RuntimeWarning: invalid value encountered in greater\n",
      "  return (np.fabs(a - np.median(a)) / mad(a)) > k\n",
      "C:\\ProgramData\\Anaconda3\\lib\\site-packages\\pingouin-0.2.9-py3.7.egg\\pingouin\\nonparametric.py:144: RuntimeWarning: invalid value encountered in true_divide\n",
      "  return (np.fabs(a - np.median(a)) / mad(a)) > k\n",
      "C:\\ProgramData\\Anaconda3\\lib\\site-packages\\pingouin-0.2.9-py3.7.egg\\pingouin\\nonparametric.py:144: RuntimeWarning: invalid value encountered in greater\n",
      "  return (np.fabs(a - np.median(a)) / mad(a)) > k\n"
     ]
    },
    {
     "name": "stdout",
     "output_type": "stream",
     "text": [
      "1 trial(s) droped due to inconsistent recording\n",
      "1 trial(s) droped due to inconsistent recording\n",
      "1 trial(s) droped due to inconsistent recording\n",
      "1 trial(s) droped due to inconsistent recording\n",
      "1 trial(s) droped due to inconsistent recording\n"
     ]
    },
    {
     "name": "stderr",
     "output_type": "stream",
     "text": [
      "C:\\ProgramData\\Anaconda3\\lib\\site-packages\\pingouin-0.2.9-py3.7.egg\\pingouin\\nonparametric.py:144: RuntimeWarning: invalid value encountered in true_divide\n",
      "  return (np.fabs(a - np.median(a)) / mad(a)) > k\n",
      "C:\\ProgramData\\Anaconda3\\lib\\site-packages\\pingouin-0.2.9-py3.7.egg\\pingouin\\nonparametric.py:144: RuntimeWarning: invalid value encountered in greater\n",
      "  return (np.fabs(a - np.median(a)) / mad(a)) > k\n"
     ]
    },
    {
     "name": "stdout",
     "output_type": "stream",
     "text": [
      "1 trial(s) droped due to inconsistent recording\n",
      "1 trial(s) droped due to inconsistent recording\n",
      "1 trial(s) droped due to inconsistent recording\n"
     ]
    },
    {
     "name": "stderr",
     "output_type": "stream",
     "text": [
      "C:\\ProgramData\\Anaconda3\\lib\\site-packages\\pingouin-0.2.9-py3.7.egg\\pingouin\\nonparametric.py:144: RuntimeWarning: invalid value encountered in true_divide\n",
      "  return (np.fabs(a - np.median(a)) / mad(a)) > k\n",
      "C:\\ProgramData\\Anaconda3\\lib\\site-packages\\pingouin-0.2.9-py3.7.egg\\pingouin\\nonparametric.py:144: RuntimeWarning: invalid value encountered in greater\n",
      "  return (np.fabs(a - np.median(a)) / mad(a)) > k\n"
     ]
    },
    {
     "name": "stdout",
     "output_type": "stream",
     "text": [
      "1 trial(s) droped due to inconsistent recording\n",
      "1 trial(s) droped due to inconsistent recording\n",
      "1 trial(s) droped due to inconsistent recording\n"
     ]
    },
    {
     "name": "stderr",
     "output_type": "stream",
     "text": [
      "C:\\ProgramData\\Anaconda3\\lib\\site-packages\\pingouin-0.2.9-py3.7.egg\\pingouin\\nonparametric.py:144: RuntimeWarning: invalid value encountered in true_divide\n",
      "  return (np.fabs(a - np.median(a)) / mad(a)) > k\n",
      "C:\\ProgramData\\Anaconda3\\lib\\site-packages\\pingouin-0.2.9-py3.7.egg\\pingouin\\nonparametric.py:144: RuntimeWarning: invalid value encountered in greater\n",
      "  return (np.fabs(a - np.median(a)) / mad(a)) > k\n"
     ]
    },
    {
     "name": "stdout",
     "output_type": "stream",
     "text": [
      "1 trial(s) droped due to inconsistent recording\n",
      "1 trial(s) droped due to inconsistent recording\n",
      "1 trial(s) droped due to inconsistent recording\n",
      "1 trial(s) droped due to inconsistent recording"
     ]
    },
    {
     "name": "stderr",
     "output_type": "stream",
     "text": [
      "C:\\ProgramData\\Anaconda3\\lib\\site-packages\\pingouin-0.2.9-py3.7.egg\\pingouin\\nonparametric.py:144: RuntimeWarning: invalid value encountered in true_divide\n",
      "  return (np.fabs(a - np.median(a)) / mad(a)) > k\n",
      "C:\\ProgramData\\Anaconda3\\lib\\site-packages\\pingouin-0.2.9-py3.7.egg\\pingouin\\nonparametric.py:144: RuntimeWarning: invalid value encountered in greater\n",
      "  return (np.fabs(a - np.median(a)) / mad(a)) > k\n",
      "C:\\ProgramData\\Anaconda3\\lib\\site-packages\\pingouin-0.2.9-py3.7.egg\\pingouin\\nonparametric.py:144: RuntimeWarning: invalid value encountered in true_divide\n",
      "  return (np.fabs(a - np.median(a)) / mad(a)) > k\n",
      "C:\\ProgramData\\Anaconda3\\lib\\site-packages\\pingouin-0.2.9-py3.7.egg\\pingouin\\nonparametric.py:144: RuntimeWarning: invalid value encountered in greater\n",
      "  return (np.fabs(a - np.median(a)) / mad(a)) > k\n"
     ]
    },
    {
     "name": "stdout",
     "output_type": "stream",
     "text": [
      "\n",
      "1 trial(s) droped due to inconsistent recording\n",
      "1 trial(s) droped due to inconsistent recording\n",
      "1 trial(s) droped due to inconsistent recording\n"
     ]
    },
    {
     "name": "stderr",
     "output_type": "stream",
     "text": [
      "C:\\ProgramData\\Anaconda3\\lib\\site-packages\\pingouin-0.2.9-py3.7.egg\\pingouin\\nonparametric.py:144: RuntimeWarning: invalid value encountered in true_divide\n",
      "  return (np.fabs(a - np.median(a)) / mad(a)) > k\n",
      "C:\\ProgramData\\Anaconda3\\lib\\site-packages\\pingouin-0.2.9-py3.7.egg\\pingouin\\nonparametric.py:144: RuntimeWarning: invalid value encountered in greater\n",
      "  return (np.fabs(a - np.median(a)) / mad(a)) > k\n"
     ]
    },
    {
     "name": "stdout",
     "output_type": "stream",
     "text": [
      "1 trial(s) droped due to inconsistent recording\n",
      "1 trial(s) droped due to inconsistent recording\n",
      "1 trial(s) droped due to inconsistent recording\n",
      "1 trial(s) droped due to inconsistent recording\n"
     ]
    },
    {
     "name": "stderr",
     "output_type": "stream",
     "text": [
      "C:\\ProgramData\\Anaconda3\\lib\\site-packages\\pingouin-0.2.9-py3.7.egg\\pingouin\\nonparametric.py:144: RuntimeWarning: invalid value encountered in true_divide\n",
      "  return (np.fabs(a - np.median(a)) / mad(a)) > k\n",
      "C:\\ProgramData\\Anaconda3\\lib\\site-packages\\pingouin-0.2.9-py3.7.egg\\pingouin\\nonparametric.py:144: RuntimeWarning: invalid value encountered in greater\n",
      "  return (np.fabs(a - np.median(a)) / mad(a)) > k\n"
     ]
    },
    {
     "name": "stdout",
     "output_type": "stream",
     "text": [
      "1 trial(s) droped due to inconsistent recording\n",
      "1 trial(s) droped due to inconsistent recording\n",
      "1 trial(s) droped due to inconsistent recording"
     ]
    },
    {
     "name": "stderr",
     "output_type": "stream",
     "text": [
      "C:\\ProgramData\\Anaconda3\\lib\\site-packages\\pingouin-0.2.9-py3.7.egg\\pingouin\\nonparametric.py:144: RuntimeWarning: invalid value encountered in true_divide\n",
      "  return (np.fabs(a - np.median(a)) / mad(a)) > k\n",
      "C:\\ProgramData\\Anaconda3\\lib\\site-packages\\pingouin-0.2.9-py3.7.egg\\pingouin\\nonparametric.py:144: RuntimeWarning: invalid value encountered in greater\n",
      "  return (np.fabs(a - np.median(a)) / mad(a)) > k\n"
     ]
    },
    {
     "name": "stdout",
     "output_type": "stream",
     "text": [
      "\n",
      "1 trial(s) droped due to inconsistent recording\n",
      "1 trial(s) droped due to inconsistent recording\n",
      "1 trial(s) droped due to inconsistent recording\n"
     ]
    },
    {
     "name": "stderr",
     "output_type": "stream",
     "text": [
      "C:\\ProgramData\\Anaconda3\\lib\\site-packages\\pingouin-0.2.9-py3.7.egg\\pingouin\\nonparametric.py:144: RuntimeWarning: invalid value encountered in true_divide\n",
      "  return (np.fabs(a - np.median(a)) / mad(a)) > k\n",
      "C:\\ProgramData\\Anaconda3\\lib\\site-packages\\pingouin-0.2.9-py3.7.egg\\pingouin\\nonparametric.py:144: RuntimeWarning: invalid value encountered in greater\n",
      "  return (np.fabs(a - np.median(a)) / mad(a)) > k\n",
      "C:\\ProgramData\\Anaconda3\\lib\\site-packages\\pingouin-0.2.9-py3.7.egg\\pingouin\\nonparametric.py:144: RuntimeWarning: invalid value encountered in true_divide\n",
      "  return (np.fabs(a - np.median(a)) / mad(a)) > k\n"
     ]
    },
    {
     "name": "stdout",
     "output_type": "stream",
     "text": [
      "1 trial(s) droped due to inconsistent recording\n",
      "1 trial(s) droped due to inconsistent recording\n",
      "1 trial(s) droped due to inconsistent recording\n"
     ]
    },
    {
     "name": "stderr",
     "output_type": "stream",
     "text": [
      "C:\\ProgramData\\Anaconda3\\lib\\site-packages\\pingouin-0.2.9-py3.7.egg\\pingouin\\nonparametric.py:144: RuntimeWarning: invalid value encountered in greater\n",
      "  return (np.fabs(a - np.median(a)) / mad(a)) > k\n"
     ]
    },
    {
     "name": "stdout",
     "output_type": "stream",
     "text": [
      "1 trial(s) droped due to inconsistent recording\n",
      "1 trial(s) droped due to inconsistent recording\n",
      "1 trial(s) droped due to inconsistent recording\n"
     ]
    },
    {
     "name": "stderr",
     "output_type": "stream",
     "text": [
      "C:\\ProgramData\\Anaconda3\\lib\\site-packages\\pingouin-0.2.9-py3.7.egg\\pingouin\\nonparametric.py:144: RuntimeWarning: invalid value encountered in true_divide\n",
      "  return (np.fabs(a - np.median(a)) / mad(a)) > k\n",
      "C:\\ProgramData\\Anaconda3\\lib\\site-packages\\pingouin-0.2.9-py3.7.egg\\pingouin\\nonparametric.py:144: RuntimeWarning: invalid value encountered in greater\n",
      "  return (np.fabs(a - np.median(a)) / mad(a)) > k\n"
     ]
    },
    {
     "name": "stdout",
     "output_type": "stream",
     "text": [
      "1 trial(s) droped due to inconsistent recording\n",
      "1 trial(s) droped due to inconsistent recording\n",
      "1 trial(s) droped due to inconsistent recording\n",
      "1 trial(s) droped due to inconsistent recording\n",
      "1 trial(s) droped due to inconsistent recording\n"
     ]
    },
    {
     "name": "stderr",
     "output_type": "stream",
     "text": [
      "C:\\ProgramData\\Anaconda3\\lib\\site-packages\\pingouin-0.2.9-py3.7.egg\\pingouin\\nonparametric.py:144: RuntimeWarning: invalid value encountered in true_divide\n",
      "  return (np.fabs(a - np.median(a)) / mad(a)) > k\n",
      "C:\\ProgramData\\Anaconda3\\lib\\site-packages\\pingouin-0.2.9-py3.7.egg\\pingouin\\nonparametric.py:144: RuntimeWarning: invalid value encountered in greater\n",
      "  return (np.fabs(a - np.median(a)) / mad(a)) > k\n",
      "C:\\ProgramData\\Anaconda3\\lib\\site-packages\\pingouin-0.2.9-py3.7.egg\\pingouin\\nonparametric.py:144: RuntimeWarning: invalid value encountered in true_divide\n",
      "  return (np.fabs(a - np.median(a)) / mad(a)) > k\n",
      "C:\\ProgramData\\Anaconda3\\lib\\site-packages\\pingouin-0.2.9-py3.7.egg\\pingouin\\nonparametric.py:144: RuntimeWarning: invalid value encountered in greater\n",
      "  return (np.fabs(a - np.median(a)) / mad(a)) > k\n"
     ]
    },
    {
     "name": "stdout",
     "output_type": "stream",
     "text": [
      "1 trial(s) droped due to inconsistent recording\n",
      "1 trial(s) droped due to inconsistent recording\n",
      "1 trial(s) droped due to inconsistent recording\n"
     ]
    },
    {
     "name": "stderr",
     "output_type": "stream",
     "text": [
      "C:\\ProgramData\\Anaconda3\\lib\\site-packages\\pingouin-0.2.9-py3.7.egg\\pingouin\\nonparametric.py:144: RuntimeWarning: invalid value encountered in true_divide\n",
      "  return (np.fabs(a - np.median(a)) / mad(a)) > k\n",
      "C:\\ProgramData\\Anaconda3\\lib\\site-packages\\pingouin-0.2.9-py3.7.egg\\pingouin\\nonparametric.py:144: RuntimeWarning: invalid value encountered in greater\n",
      "  return (np.fabs(a - np.median(a)) / mad(a)) > k\n"
     ]
    },
    {
     "name": "stdout",
     "output_type": "stream",
     "text": [
      "1 trial(s) droped due to inconsistent recording\n",
      "1 trial(s) droped due to inconsistent recording\n",
      "1 trial(s) droped due to inconsistent recording\n"
     ]
    },
    {
     "name": "stderr",
     "output_type": "stream",
     "text": [
      "C:\\ProgramData\\Anaconda3\\lib\\site-packages\\pingouin-0.2.9-py3.7.egg\\pingouin\\nonparametric.py:144: RuntimeWarning: invalid value encountered in true_divide\n",
      "  return (np.fabs(a - np.median(a)) / mad(a)) > k\n",
      "C:\\ProgramData\\Anaconda3\\lib\\site-packages\\pingouin-0.2.9-py3.7.egg\\pingouin\\nonparametric.py:144: RuntimeWarning: invalid value encountered in greater\n",
      "  return (np.fabs(a - np.median(a)) / mad(a)) > k\n"
     ]
    },
    {
     "name": "stdout",
     "output_type": "stream",
     "text": [
      "1 trial(s) droped due to inconsistent recording\n",
      "1 trial(s) droped due to inconsistent recording\n",
      "1 trial(s) droped due to inconsistent recording\n",
      "1 trial(s) droped due to inconsistent recording"
     ]
    },
    {
     "name": "stderr",
     "output_type": "stream",
     "text": [
      "C:\\ProgramData\\Anaconda3\\lib\\site-packages\\pingouin-0.2.9-py3.7.egg\\pingouin\\nonparametric.py:144: RuntimeWarning: invalid value encountered in true_divide\n",
      "  return (np.fabs(a - np.median(a)) / mad(a)) > k\n",
      "C:\\ProgramData\\Anaconda3\\lib\\site-packages\\pingouin-0.2.9-py3.7.egg\\pingouin\\nonparametric.py:144: RuntimeWarning: invalid value encountered in greater\n",
      "  return (np.fabs(a - np.median(a)) / mad(a)) > k\n"
     ]
    },
    {
     "name": "stdout",
     "output_type": "stream",
     "text": [
      "\n",
      "1 trial(s) droped due to inconsistent recording\n",
      "1 trial(s) droped due to inconsistent recording\n",
      "1 trial(s) droped due to inconsistent recording\n"
     ]
    },
    {
     "name": "stderr",
     "output_type": "stream",
     "text": [
      "C:\\ProgramData\\Anaconda3\\lib\\site-packages\\pingouin-0.2.9-py3.7.egg\\pingouin\\nonparametric.py:144: RuntimeWarning: invalid value encountered in true_divide\n",
      "  return (np.fabs(a - np.median(a)) / mad(a)) > k\n",
      "C:\\ProgramData\\Anaconda3\\lib\\site-packages\\pingouin-0.2.9-py3.7.egg\\pingouin\\nonparametric.py:144: RuntimeWarning: invalid value encountered in greater\n",
      "  return (np.fabs(a - np.median(a)) / mad(a)) > k\n"
     ]
    },
    {
     "name": "stdout",
     "output_type": "stream",
     "text": [
      "1 trial(s) droped due to inconsistent recording\n",
      "1 trial(s) droped due to inconsistent recording\n",
      "1 trial(s) droped due to inconsistent recording\n"
     ]
    },
    {
     "name": "stderr",
     "output_type": "stream",
     "text": [
      "C:\\ProgramData\\Anaconda3\\lib\\site-packages\\pingouin-0.2.9-py3.7.egg\\pingouin\\nonparametric.py:144: RuntimeWarning: invalid value encountered in true_divide\n",
      "  return (np.fabs(a - np.median(a)) / mad(a)) > k\n",
      "C:\\ProgramData\\Anaconda3\\lib\\site-packages\\pingouin-0.2.9-py3.7.egg\\pingouin\\nonparametric.py:144: RuntimeWarning: invalid value encountered in greater\n",
      "  return (np.fabs(a - np.median(a)) / mad(a)) > k\n"
     ]
    },
    {
     "name": "stdout",
     "output_type": "stream",
     "text": [
      "1 trial(s) droped due to inconsistent recording\n",
      "1 trial(s) droped due to inconsistent recording\n",
      "1 trial(s) droped due to inconsistent recording\n",
      "1 trial(s) droped due to inconsistent recording"
     ]
    },
    {
     "name": "stderr",
     "output_type": "stream",
     "text": [
      "C:\\ProgramData\\Anaconda3\\lib\\site-packages\\pingouin-0.2.9-py3.7.egg\\pingouin\\nonparametric.py:144: RuntimeWarning: invalid value encountered in true_divide\n",
      "  return (np.fabs(a - np.median(a)) / mad(a)) > k\n",
      "C:\\ProgramData\\Anaconda3\\lib\\site-packages\\pingouin-0.2.9-py3.7.egg\\pingouin\\nonparametric.py:144: RuntimeWarning: invalid value encountered in greater\n",
      "  return (np.fabs(a - np.median(a)) / mad(a)) > k\n"
     ]
    },
    {
     "name": "stdout",
     "output_type": "stream",
     "text": [
      "\n",
      "1 trial(s) droped due to inconsistent recording\n",
      "1 trial(s) droped due to inconsistent recording\n",
      "1 trial(s) droped due to inconsistent recording"
     ]
    },
    {
     "name": "stderr",
     "output_type": "stream",
     "text": [
      "C:\\ProgramData\\Anaconda3\\lib\\site-packages\\pingouin-0.2.9-py3.7.egg\\pingouin\\nonparametric.py:144: RuntimeWarning: invalid value encountered in true_divide\n",
      "  return (np.fabs(a - np.median(a)) / mad(a)) > k\n",
      "C:\\ProgramData\\Anaconda3\\lib\\site-packages\\pingouin-0.2.9-py3.7.egg\\pingouin\\nonparametric.py:144: RuntimeWarning: invalid value encountered in greater\n",
      "  return (np.fabs(a - np.median(a)) / mad(a)) > k\n",
      "C:\\ProgramData\\Anaconda3\\lib\\site-packages\\pingouin-0.2.9-py3.7.egg\\pingouin\\nonparametric.py:144: RuntimeWarning: invalid value encountered in true_divide\n",
      "  return (np.fabs(a - np.median(a)) / mad(a)) > k\n"
     ]
    },
    {
     "name": "stdout",
     "output_type": "stream",
     "text": [
      "\n",
      "1 trial(s) droped due to inconsistent recording\n",
      "1 trial(s) droped due to inconsistent recording\n",
      "1 trial(s) droped due to inconsistent recording\n"
     ]
    },
    {
     "name": "stderr",
     "output_type": "stream",
     "text": [
      "C:\\ProgramData\\Anaconda3\\lib\\site-packages\\pingouin-0.2.9-py3.7.egg\\pingouin\\nonparametric.py:144: RuntimeWarning: invalid value encountered in greater\n",
      "  return (np.fabs(a - np.median(a)) / mad(a)) > k\n",
      "C:\\ProgramData\\Anaconda3\\lib\\site-packages\\pingouin-0.2.9-py3.7.egg\\pingouin\\nonparametric.py:144: RuntimeWarning: invalid value encountered in true_divide\n",
      "  return (np.fabs(a - np.median(a)) / mad(a)) > k\n",
      "C:\\ProgramData\\Anaconda3\\lib\\site-packages\\pingouin-0.2.9-py3.7.egg\\pingouin\\nonparametric.py:144: RuntimeWarning: invalid value encountered in greater\n",
      "  return (np.fabs(a - np.median(a)) / mad(a)) > k\n"
     ]
    },
    {
     "name": "stdout",
     "output_type": "stream",
     "text": [
      "1 trial(s) droped due to inconsistent recording\n",
      "1 trial(s) droped due to inconsistent recording\n",
      "1 trial(s) droped due to inconsistent recording\n",
      "1 trial(s) droped due to inconsistent recording\n"
     ]
    },
    {
     "name": "stderr",
     "output_type": "stream",
     "text": [
      "C:\\ProgramData\\Anaconda3\\lib\\site-packages\\pingouin-0.2.9-py3.7.egg\\pingouin\\nonparametric.py:144: RuntimeWarning: divide by zero encountered in true_divide\n",
      "  return (np.fabs(a - np.median(a)) / mad(a)) > k\n",
      "C:\\ProgramData\\Anaconda3\\lib\\site-packages\\pingouin-0.2.9-py3.7.egg\\pingouin\\nonparametric.py:144: RuntimeWarning: invalid value encountered in true_divide\n",
      "  return (np.fabs(a - np.median(a)) / mad(a)) > k\n",
      "C:\\ProgramData\\Anaconda3\\lib\\site-packages\\pingouin-0.2.9-py3.7.egg\\pingouin\\nonparametric.py:144: RuntimeWarning: invalid value encountered in greater\n",
      "  return (np.fabs(a - np.median(a)) / mad(a)) > k\n"
     ]
    },
    {
     "name": "stdout",
     "output_type": "stream",
     "text": [
      "1 trial(s) droped due to inconsistent recording\n",
      "1 trial(s) droped due to inconsistent recording\n",
      "1 trial(s) droped due to inconsistent recording\n",
      "1 trial(s) droped due to inconsistent recording\n",
      "1 trial(s) droped due to inconsistent recording\n",
      "1 trial(s) droped due to inconsistent recording\n",
      "1 trial(s) droped due to inconsistent recording\n",
      "1 trial(s) droped due to inconsistent recording\n",
      "1 trial(s) droped due to inconsistent recording\n",
      "1 trial(s) droped due to inconsistent recording\n",
      "1 trial(s) droped due to inconsistent recording\n",
      "1 trial(s) droped due to inconsistent recording\n",
      "1 trial(s) droped due to inconsistent recording\n",
      "1 trial(s) droped due to inconsistent recording\n",
      "1 trial(s) droped due to inconsistent recording\n",
      "1 trial(s) droped due to inconsistent recording\n",
      "1 trial(s) droped due to inconsistent recording\n",
      "1 trial(s) droped due to inconsistent recording\n",
      "1 trial(s) droped due to inconsistent recording\n",
      "1 trial(s) droped due to inconsistent recording\n",
      "1 trial(s) droped due to inconsistent recording\n",
      "1 trial(s) droped due to inconsistent recording\n",
      "1 trial(s) droped due to inconsistent recording\n",
      "1 trial(s) droped due to inconsistent recording\n",
      "1 trial(s) droped due to inconsistent recording\n",
      "1 trial(s) droped due to inconsistent recording\n",
      "1 trial(s) droped due to inconsistent recording\n",
      "1 trial(s) droped due to inconsistent recording\n",
      "1 trial(s) droped due to inconsistent recording\n",
      "1 trial(s) droped due to inconsistent recording\n",
      "1 trial(s) droped due to inconsistent recording\n",
      "1 trial(s) droped due to inconsistent recording\n",
      "1 trial(s) droped due to inconsistent recording\n",
      "1 trial(s) droped due to inconsistent recording\n",
      "1 trial(s) droped due to inconsistent recording\n",
      "1 trial(s) droped due to inconsistent recording\n",
      "1 trial(s) droped due to inconsistent recording\n",
      "1 trial(s) droped due to inconsistent recording\n",
      "1 trial(s) droped due to inconsistent recording\n",
      "1 trial(s) droped due to inconsistent recording\n",
      "1 trial(s) droped due to inconsistent recording\n",
      "1 trial(s) droped due to inconsistent recording\n",
      "1 trial(s) droped due to inconsistent recording\n",
      "1 trial(s) droped due to inconsistent recording\n",
      "1 trial(s) droped due to inconsistent recording\n",
      "1 trial(s) droped due to inconsistent recording\n",
      "1 trial(s) droped due to inconsistent recording\n",
      "1 trial(s) droped due to inconsistent recording\n",
      "1 trial(s) droped due to inconsistent recording\n",
      "1 trial(s) droped due to inconsistent recording\n",
      "1 trial(s) droped due to inconsistent recording\n",
      "1 trial(s) droped due to inconsistent recording\n",
      "1 trial(s) droped due to inconsistent recording\n",
      "1 trial(s) droped due to inconsistent recording\n",
      "1 trial(s) droped due to inconsistent recording\n",
      "1 trial(s) droped due to inconsistent recording\n",
      "1 trial(s) droped due to inconsistent recording\n",
      "1 trial(s) droped due to inconsistent recording\n",
      "1 trial(s) droped due to inconsistent recording\n",
      "1 trial(s) droped due to inconsistent recording\n",
      "1 trial(s) droped due to inconsistent recording\n",
      "1 trial(s) droped due to inconsistent recording\n",
      "1 trial(s) droped due to inconsistent recording\n",
      "1 trial(s) droped due to inconsistent recording\n",
      "1 trial(s) droped due to inconsistent recording\n",
      "1 trial(s) droped due to inconsistent recording\n",
      "1 trial(s) droped due to inconsistent recording\n",
      "1 trial(s) droped due to inconsistent recording\n",
      "1 trial(s) droped due to inconsistent recording\n",
      "1 trial(s) droped due to inconsistent recording\n",
      "1 trial(s) droped due to inconsistent recording\n",
      "1 trial(s) droped due to inconsistent recording\n",
      "1 trial(s) droped due to inconsistent recording\n",
      "1 trial(s) droped due to inconsistent recording\n",
      "1 trial(s) droped due to inconsistent recording\n",
      "1 trial(s) droped due to inconsistent recording\n",
      "1 trial(s) droped due to inconsistent recording\n",
      "1 trial(s) droped due to inconsistent recording\n",
      "1 trial(s) droped due to inconsistent recording\n",
      "1 trial(s) droped due to inconsistent recording\n",
      "1 trial(s) droped due to inconsistent recording\n",
      "1 trial(s) droped due to inconsistent recording\n",
      "1 trial(s) droped due to inconsistent recording\n",
      "1 trial(s) droped due to inconsistent recording\n",
      "1 trial(s) droped due to inconsistent recording\n",
      "1 trial(s) droped due to inconsistent recording\n",
      "1 trial(s) droped due to inconsistent recording\n",
      "1 trial(s) droped due to inconsistent recording\n",
      "1 trial(s) droped due to inconsistent recording\n",
      "1 trial(s) droped due to inconsistent recording\n",
      "1 trial(s) droped due to inconsistent recording\n",
      "1 trial(s) droped due to inconsistent recording\n",
      "1 trial(s) droped due to inconsistent recording\n",
      "1 trial(s) droped due to inconsistent recording\n",
      "1 trial(s) droped due to inconsistent recording\n",
      "1 trial(s) droped due to inconsistent recording\n",
      "1 trial(s) droped due to inconsistent recording\n",
      "1 trial(s) droped due to inconsistent recording\n",
      "1 trial(s) droped due to inconsistent recording\n",
      "1 trial(s) droped due to inconsistent recording\n",
      "1 trial(s) droped due to inconsistent recording\n",
      "1 trial(s) droped due to inconsistent recording\n",
      "1 trial(s) droped due to inconsistent recording\n",
      "1 trial(s) droped due to inconsistent recording\n",
      "1 trial(s) droped due to inconsistent recording\n",
      "1 trial(s) droped due to inconsistent recording\n",
      "1 trial(s) droped due to inconsistent recording\n",
      "1 trial(s) droped due to inconsistent recording\n",
      "1 trial(s) droped due to inconsistent recording\n",
      "1 trial(s) droped due to inconsistent recording\n",
      "1 trial(s) droped due to inconsistent recording\n",
      "1 trial(s) droped due to inconsistent recording\n",
      "1 trial(s) droped due to inconsistent recording\n",
      "1 trial(s) droped due to inconsistent recording\n",
      "1 trial(s) droped due to inconsistent recording\n",
      "1 trial(s) droped due to inconsistent recording\n",
      "1 trial(s) droped due to inconsistent recording\n",
      "1 trial(s) droped due to inconsistent recording\n",
      "1 trial(s) droped due to inconsistent recording\n",
      "1 trial(s) droped due to inconsistent recording\n",
      "1 trial(s) droped due to inconsistent recording\n",
      "1 trial(s) droped due to inconsistent recording\n",
      "1 trial(s) droped due to inconsistent recording\n",
      "1 trial(s) droped due to inconsistent recording\n",
      "1 trial(s) droped due to inconsistent recording\n",
      "1 trial(s) droped due to inconsistent recording\n",
      "1 trial(s) droped due to inconsistent recording\n",
      "1 trial(s) droped due to inconsistent recording\n",
      "1 trial(s) droped due to inconsistent recording\n",
      "1 trial(s) droped due to inconsistent recording\n",
      "1 trial(s) droped due to inconsistent recording\n",
      "1 trial(s) droped due to inconsistent recording\n",
      "1 trial(s) droped due to inconsistent recording\n",
      "1 trial(s) droped due to inconsistent recording\n",
      "1 trial(s) droped due to inconsistent recording\n",
      "1 trial(s) droped due to inconsistent recording\n",
      "1 trial(s) droped due to inconsistent recording\n",
      "1 trial(s) droped due to inconsistent recording\n",
      "1 trial(s) droped due to inconsistent recording\n",
      "1 trial(s) droped due to inconsistent recording\n",
      "1 trial(s) droped due to inconsistent recording\n",
      "1 trial(s) droped due to inconsistent recording\n",
      "1 trial(s) droped due to inconsistent recording\n",
      "1 trial(s) droped due to inconsistent recording\n",
      "1 trial(s) droped due to inconsistent recording\n",
      "1 trial(s) droped due to inconsistent recording\n",
      "1 trial(s) droped due to inconsistent recording\n",
      "1 trial(s) droped due to inconsistent recording\n",
      "1 trial(s) droped due to inconsistent recording\n",
      "1 trial(s) droped due to inconsistent recording\n",
      "1 trial(s) droped due to inconsistent recording\n",
      "1 trial(s) droped due to inconsistent recording\n",
      "1 trial(s) droped due to inconsistent recording\n",
      "1 trial(s) droped due to inconsistent recording\n",
      "1 trial(s) droped due to inconsistent recording\n",
      "1 trial(s) droped due to inconsistent recording\n",
      "1 trial(s) droped due to inconsistent recording\n",
      "1 trial(s) droped due to inconsistent recording\n",
      "1 trial(s) droped due to inconsistent recording\n",
      "1 trial(s) droped due to inconsistent recording\n",
      "1 trial(s) droped due to inconsistent recording\n",
      "1 trial(s) droped due to inconsistent recording\n",
      "1 trial(s) droped due to inconsistent recording\n",
      "1 trial(s) droped due to inconsistent recording\n",
      "1 trial(s) droped due to inconsistent recording\n",
      "1 trial(s) droped due to inconsistent recording\n",
      "1 trial(s) droped due to inconsistent recording\n",
      "1 trial(s) droped due to inconsistent recording\n",
      "1 trial(s) droped due to inconsistent recording\n",
      "1 trial(s) droped due to inconsistent recording\n",
      "1 trial(s) droped due to inconsistent recording\n",
      "1 trial(s) droped due to inconsistent recording\n",
      "1 trial(s) droped due to inconsistent recording\n",
      "1 trial(s) droped due to inconsistent recording\n",
      "1 trial(s) droped due to inconsistent recording\n",
      "1 trial(s) droped due to inconsistent recording\n",
      "1 trial(s) droped due to inconsistent recording\n",
      "1 trial(s) droped due to inconsistent recording\n",
      "1 trial(s) droped due to inconsistent recording\n",
      "1 trial(s) droped due to inconsistent recording\n",
      "1 trial(s) droped due to inconsistent recording\n",
      "1 trial(s) droped due to inconsistent recording\n",
      "1 trial(s) droped due to inconsistent recording\n",
      "1 trial(s) droped due to inconsistent recording\n",
      "1 trial(s) droped due to inconsistent recording\n",
      "1 trial(s) droped due to inconsistent recording\n",
      "1 trial(s) droped due to inconsistent recording\n",
      "1 trial(s) droped due to inconsistent recording\n",
      "1 trial(s) droped due to inconsistent recording\n",
      "1 trial(s) droped due to inconsistent recording\n",
      "1 trial(s) droped due to inconsistent recording\n",
      "1 trial(s) droped due to inconsistent recording\n",
      "1 trial(s) droped due to inconsistent recording\n",
      "1 trial(s) droped due to inconsistent recording\n",
      "1 trial(s) droped due to inconsistent recording\n",
      "1 trial(s) droped due to inconsistent recording\n",
      "1 trial(s) droped due to inconsistent recording\n",
      "1 trial(s) droped due to inconsistent recording\n",
      "1 trial(s) droped due to inconsistent recording\n",
      "1 trial(s) droped due to inconsistent recording\n",
      "1 trial(s) droped due to inconsistent recording\n",
      "1 trial(s) droped due to inconsistent recording\n",
      "1 trial(s) droped due to inconsistent recording\n",
      "1 trial(s) droped due to inconsistent recording\n",
      "1 trial(s) droped due to inconsistent recording\n",
      "1 trial(s) droped due to inconsistent recording\n",
      "1 trial(s) droped due to inconsistent recording\n",
      "1 trial(s) droped due to inconsistent recording\n",
      "1 trial(s) droped due to inconsistent recording\n",
      "1 trial(s) droped due to inconsistent recording\n",
      "1 trial(s) droped due to inconsistent recording\n",
      "1 trial(s) droped due to inconsistent recording\n",
      "1 trial(s) droped due to inconsistent recording\n",
      "1 trial(s) droped due to inconsistent recording\n",
      "1 trial(s) droped due to inconsistent recording\n",
      "1 trial(s) droped due to inconsistent recording\n",
      "1 trial(s) droped due to inconsistent recording\n",
      "1 trial(s) droped due to inconsistent recording\n",
      "1 trial(s) droped due to inconsistent recording\n",
      "1 trial(s) droped due to inconsistent recording\n",
      "1 trial(s) droped due to inconsistent recording\n",
      "1 trial(s) droped due to inconsistent recording\n",
      "1 trial(s) droped due to inconsistent recording\n",
      "1 trial(s) droped due to inconsistent recording\n",
      "1 trial(s) droped due to inconsistent recording\n",
      "1 trial(s) droped due to inconsistent recording\n",
      "1 trial(s) droped due to inconsistent recording\n",
      "1 trial(s) droped due to inconsistent recording\n",
      "1 trial(s) droped due to inconsistent recording\n",
      "1 trial(s) droped due to inconsistent recording\n",
      "1 trial(s) droped due to inconsistent recording\n",
      "1 trial(s) droped due to inconsistent recording\n",
      "1 trial(s) droped due to inconsistent recording\n",
      "1 trial(s) droped due to inconsistent recording\n",
      "1 trial(s) droped due to inconsistent recording\n",
      "1 trial(s) droped due to inconsistent recording\n",
      "1 trial(s) droped due to inconsistent recording\n",
      "1 trial(s) droped due to inconsistent recording\n",
      "1 trial(s) droped due to inconsistent recording\n",
      "1 trial(s) droped due to inconsistent recording\n"
     ]
    },
    {
     "name": "stderr",
     "output_type": "stream",
     "text": [
      "C:\\ProgramData\\Anaconda3\\lib\\site-packages\\pandas\\core\\ops\\__init__.py:1115: FutureWarning: elementwise comparison failed; returning scalar instead, but in the future will perform elementwise comparison\n",
      "  result = method(y)\n"
     ]
    },
    {
     "name": "stdout",
     "output_type": "stream",
     "text": [
      "1 trial(s) droped due to inconsistent recording\n",
      "1 trial(s) droped due to inconsistent recording\n",
      "1 trial(s) droped due to inconsistent recording\n"
     ]
    },
    {
     "name": "stderr",
     "output_type": "stream",
     "text": [
      "C:\\ProgramData\\Anaconda3\\lib\\site-packages\\pandas\\core\\ops\\__init__.py:1115: FutureWarning: elementwise comparison failed; returning scalar instead, but in the future will perform elementwise comparison\n",
      "  result = method(y)\n"
     ]
    },
    {
     "name": "stdout",
     "output_type": "stream",
     "text": [
      "1 trial(s) droped due to inconsistent recording\n",
      "1 trial(s) droped due to inconsistent recording\n",
      "1 trial(s) droped due to inconsistent recording\n"
     ]
    },
    {
     "name": "stderr",
     "output_type": "stream",
     "text": [
      "C:\\ProgramData\\Anaconda3\\lib\\site-packages\\pandas\\core\\ops\\__init__.py:1115: FutureWarning: elementwise comparison failed; returning scalar instead, but in the future will perform elementwise comparison\n",
      "  result = method(y)\n"
     ]
    },
    {
     "name": "stdout",
     "output_type": "stream",
     "text": [
      "1 trial(s) droped due to inconsistent recording\n",
      "1 trial(s) droped due to inconsistent recording\n",
      "1 trial(s) droped due to inconsistent recording\n"
     ]
    },
    {
     "name": "stderr",
     "output_type": "stream",
     "text": [
      "C:\\ProgramData\\Anaconda3\\lib\\site-packages\\pandas\\core\\ops\\__init__.py:1115: FutureWarning: elementwise comparison failed; returning scalar instead, but in the future will perform elementwise comparison\n",
      "  result = method(y)\n"
     ]
    },
    {
     "name": "stdout",
     "output_type": "stream",
     "text": [
      "1 trial(s) droped due to inconsistent recording\n",
      "1 trial(s) droped due to inconsistent recording\n",
      "1 trial(s) droped due to inconsistent recording\n",
      "1 trial(s) droped due to inconsistent recording\n",
      "1 trial(s) droped due to inconsistent recording\n",
      "1 trial(s) droped due to inconsistent recording\n",
      "1 trial(s) droped due to inconsistent recording\n",
      "1 trial(s) droped due to inconsistent recording\n",
      "1 trial(s) droped due to inconsistent recording\n",
      "1 trial(s) droped due to inconsistent recording\n",
      "1 trial(s) droped due to inconsistent recording\n",
      "1 trial(s) droped due to inconsistent recording\n",
      "1 trial(s) droped due to inconsistent recording\n",
      "1 trial(s) droped due to inconsistent recording\n",
      "1 trial(s) droped due to inconsistent recording\n",
      "1 trial(s) droped due to inconsistent recording\n",
      "1 trial(s) droped due to inconsistent recording\n",
      "1 trial(s) droped due to inconsistent recording\n",
      "1 trial(s) droped due to inconsistent recording\n",
      "1 trial(s) droped due to inconsistent recording\n",
      "1 trial(s) droped due to inconsistent recording\n",
      "1 trial(s) droped due to inconsistent recording\n",
      "1 trial(s) droped due to inconsistent recording\n",
      "1 trial(s) droped due to inconsistent recording\n",
      "1 trial(s) droped due to inconsistent recording\n",
      "1 trial(s) droped due to inconsistent recording\n",
      "1 trial(s) droped due to inconsistent recording\n",
      "1 trial(s) droped due to inconsistent recording\n",
      "1 trial(s) droped due to inconsistent recording\n",
      "1 trial(s) droped due to inconsistent recording\n",
      "1 trial(s) droped due to inconsistent recording\n",
      "1 trial(s) droped due to inconsistent recording\n",
      "1 trial(s) droped due to inconsistent recording\n",
      "1 trial(s) droped due to inconsistent recording\n",
      "1 trial(s) droped due to inconsistent recording\n"
     ]
    }
   ],
   "source": [
    "subjects = [f for f in os.listdir(path) if len(f) == 5]\n",
    "final_df = pd.DataFrame([])\n",
    "for nSub in subjects:\n",
    "\n",
    "    # Find files name\n",
    "    for file in os.listdir(path + nSub):\n",
    "        if file.endswith(\".txt\") & file.startswith('Subject'):\n",
    "            df = pd.read_csv(os.path.join(path + nSub, file))\n",
    "        elif file.endswith('9.npy'):\n",
    "            nSub2 = file[:len(file) - 5]\n",
    "\n",
    "    # Start loop \n",
    "    results_df, total_corr = pd.DataFrame([]), pd.DataFrame([])\n",
    "    for val in ['Low', 'High']:\n",
    "        for aro in ['Low', 'High']:\n",
    "\n",
    "            X, y = [], []\n",
    "            for learningTime in [30, 60, 90]:\n",
    "                \n",
    "                # Get block numbers\n",
    "                this_df = df.copy()[(df.Arousal == aro) & (df.Valence == val) & (df.LearningTime == learningTime)]\n",
    "                bl = this_df.nBlock.iloc[0]\n",
    "                recording = np.load(path + nSub + '/' + nSub2 + str(int(bl)) + '-raw.npy')\n",
    "\n",
    "                # Epoch recording\n",
    "                epoch = to_epochs(recording[0], recording[1], sfreq=75, event_idx=2, tmin=0, tmax=6, sigma=2)\n",
    "                \n",
    "                # Decimate\n",
    "                epoch = epoch[:, ::5]\n",
    "                \n",
    "                # Drop artifacts\n",
    "                drop_outliers = np.max(np.abs(epoch), axis=1) < 30\n",
    "                drop = (this_df.Confidence != 'Nan') & drop_outliers\n",
    "\n",
    "                # Regression\n",
    "                y.extend(epoch[drop, :])\n",
    "                X.extend(this_df.Confidence[drop].to_list())\n",
    "            \n",
    "            y, X = np.asarray(y), np.asarray(X)\n",
    "            \n",
    "            # Outlier rejection\n",
    "            drop_outliers = ~pg.madmedianrule(np.max(np.abs(y), axis=1))\n",
    "            y = y[drop_outliers, :]\n",
    "            X = X[drop_outliers]\n",
    "\n",
    "            # Model fit\n",
    "            l = []\n",
    "            for i in range(epoch.shape[1]):\n",
    "                reg = LinearRegression().fit(X.reshape(-1, 1).astype(np.float64),\n",
    "                                             y[:, i].reshape(-1, 1).astype(np.float64))\n",
    "                l.append(reg.coef_[0][0])\n",
    "\n",
    "            final_df = final_df.append(pd.DataFrame({'Arousal':aro,\n",
    "                                                     'Valence': val,\n",
    "                                                     'LearningTime': learningTime,\n",
    "                                                     'Time': np.arange(0, len(l))/15,\n",
    "                                                     'Subject': nSub,\n",
    "                                                     'BPM': y.mean(0),\n",
    "                                                     'Beta': l}))"
   ]
  },
  {
   "cell_type": "code",
   "execution_count": 7,
   "metadata": {},
   "outputs": [
    {
     "name": "stdout",
     "output_type": "stream",
     "text": [
      "1 trial(s) droped due to inconsistent recording\n"
     ]
    },
    {
     "data": {
      "image/png": "[encoded data removed]",
      "text/plain": [
       "<Figure size 432x288 with 1 Axes>"
      ]
     },
     "metadata": {
      "needs_background": "light"
     },
     "output_type": "display_data"
    }
   ],
   "source": [
    " # Epoch recording\n",
    "epoch = to_epochs(recording[0], recording[1], sfreq=75, event_idx=2, tmin=0, tmax=6, sigma=2)\n",
    "\n",
    "# Decimate\n",
    "epoch = epoch[:, ::5]\n",
    "\n",
    "plt.plot(epoch.T);"
   ]
  },
  {
   "cell_type": "code",
   "execution_count": 8,
   "metadata": {},
   "outputs": [
    {
     "data": {
      "image/png": "[encoded data removed]",
      "text/plain": [
       "<Figure size 1296x360 with 3 Axes>"
      ]
     },
     "metadata": {
      "needs_background": "light"
     },
     "output_type": "display_data"
    }
   ],
   "source": [
    "sns.set_context('talk')\n",
    "plt.figure(figsize=(18, 5))\n",
    "\n",
    "# Model fits - Arousal\n",
    "plt.subplot(131)\n",
    "sns.lineplot(data=final_df, x='Time', y='BPM', hue='Arousal', ci=68, palette=['thistle', 'blueviolet'])\n",
    "plt.axhline(y=0, linestyle='--', color='gray')\n",
    "plt.axvline(x=0, linestyle='--', color='k')\n",
    "plt.title('Confidence - Arousal')\n",
    "\n",
    "# Model fits - Valence\n",
    "plt.subplot(132)\n",
    "sns.lineplot(data=final_df, x='Time', y='BPM', hue='Valence', ci=68, palette=['steelblue', 'firebrick'])\n",
    "plt.axhline(y=0, linestyle='--', color='gray')\n",
    "plt.axvline(x=0, linestyle='--', color='k')\n",
    "plt.title('Confidence - Valence')\n",
    "\n",
    "plt.subplot(133)\n",
    "sns.lineplot(data=final_df, x='Time', y='BPM', hue='LearningTime', ci=68)\n",
    "plt.axhline(y=0, linestyle='--', color='gray')\n",
    "plt.axvline(x=0, linestyle='--', color='k')\n",
    "plt.title('Confidence - Valence')\n",
    "\n",
    "plt.tight_layout()\n",
    "plt.savefig(results_path + 'confidence.png', dpi=600)"
   ]
  },
  {
   "cell_type": "code",
   "execution_count": 9,
   "metadata": {},
   "outputs": [
    {
     "data": {
      "image/png": "[encoded data removed]",
      "text/plain": [
       "<Figure size 1008x360 with 2 Axes>"
      ]
     },
     "metadata": {
      "needs_background": "light"
     },
     "output_type": "display_data"
    }
   ],
   "source": [
    "sns.set_context('talk')\n",
    "plt.figure(figsize=(14, 5))\n",
    "\n",
    "# Model fits - Arousal\n",
    "plt.subplot(121)\n",
    "sns.lineplot(data=final_df, x='Time', y='Beta', hue='Arousal', ci=68, palette=['lightgray', 'gray'])\n",
    "plt.axhline(y=0, linestyle='--', color='gray')\n",
    "plt.axvline(x=0, linestyle='--', color='k')\n",
    "plt.title('Confidence - Arousal')\n",
    "\n",
    "# Model fits - Valence\n",
    "plt.subplot(122)\n",
    "sns.lineplot(data=final_df, x='Time', y='Beta', hue='Valence', ci=68, palette=['steelblue', 'firebrick'])\n",
    "plt.axhline(y=0, linestyle='--', color='gray')\n",
    "plt.axvline(x=0, linestyle='--', color='k')\n",
    "plt.title('Confidence - Valence')\n",
    "\n",
    "plt.tight_layout()\n",
    "plt.savefig(results_path + 'regressions.png', dpi=600)"
   ]
  },
  {
   "cell_type": "markdown",
   "metadata": {},
   "source": [
    "# Heart rate variability"
   ]
  },
  {
   "cell_type": "code",
   "execution_count": 19,
   "metadata": {},
   "outputs": [
    {
     "ename": "NameError",
     "evalue": "name 'subjectFinal' is not defined",
     "output_type": "error",
     "traceback": [
      "\u001b[1;31m---------------------------------------------------------------------------\u001b[0m",
      "\u001b[1;31mNameError\u001b[0m                                 Traceback (most recent call last)",
      "\u001b[1;32m<ipython-input-19-372955d978a4>\u001b[0m in \u001b[0;36m<module>\u001b[1;34m\u001b[0m\n\u001b[0;32m      2\u001b[0m \u001b[0mfinal_df\u001b[0m \u001b[1;33m=\u001b[0m \u001b[0mpd\u001b[0m\u001b[1;33m.\u001b[0m\u001b[0mDataFrame\u001b[0m\u001b[1;33m(\u001b[0m\u001b[1;33m[\u001b[0m\u001b[1;33m]\u001b[0m\u001b[1;33m)\u001b[0m\u001b[1;33m\u001b[0m\u001b[1;33m\u001b[0m\u001b[0m\n\u001b[0;32m      3\u001b[0m \u001b[1;32mfor\u001b[0m \u001b[0mnSub\u001b[0m \u001b[1;32min\u001b[0m \u001b[0msubjects\u001b[0m\u001b[1;33m:\u001b[0m\u001b[1;33m\u001b[0m\u001b[1;33m\u001b[0m\u001b[0m\n\u001b[1;32m----> 4\u001b[1;33m     \u001b[1;32mif\u001b[0m \u001b[1;34m'Subject_'\u001b[0m \u001b[1;33m+\u001b[0m \u001b[0mnSub\u001b[0m \u001b[1;33m+\u001b[0m \u001b[1;34m'.txt'\u001b[0m \u001b[1;32min\u001b[0m \u001b[0msubjectFinal\u001b[0m\u001b[1;33m:\u001b[0m\u001b[1;33m\u001b[0m\u001b[1;33m\u001b[0m\u001b[0m\n\u001b[0m\u001b[0;32m      5\u001b[0m         \u001b[0mprint\u001b[0m\u001b[1;33m(\u001b[0m\u001b[1;34m'Start extracting data from subject'\u001b[0m \u001b[1;33m+\u001b[0m \u001b[0mstr\u001b[0m\u001b[1;33m(\u001b[0m\u001b[0mnSub\u001b[0m\u001b[1;33m)\u001b[0m\u001b[1;33m)\u001b[0m\u001b[1;33m\u001b[0m\u001b[1;33m\u001b[0m\u001b[0m\n\u001b[0;32m      6\u001b[0m         \u001b[1;31m# Find files name\u001b[0m\u001b[1;33m\u001b[0m\u001b[1;33m\u001b[0m\u001b[1;33m\u001b[0m\u001b[0m\n",
      "\u001b[1;31mNameError\u001b[0m: name 'subjectFinal' is not defined"
     ]
    }
   ],
   "source": [
    "subjects = [f for f in os.listdir(path) if len(f) == 5]\n",
    "final_df = pd.DataFrame([])\n",
    "for nSub in subjects:\n",
    "    if 'Subject_' + nSub + '.txt' in subjectFinal:\n",
    "        print('Start extracting data from subject' + str(nSub))\n",
    "        # Find files name\n",
    "        for file in os.listdir(path + nSub):\n",
    "            if file.endswith(\".txt\") & file.startswith('Subject'):\n",
    "                df = pd.read_csv(os.path.join(path + nSub, file))\n",
    "            elif file.endswith('9.npy'):\n",
    "                nSub2 = file[:len(file) - 5]\n",
    "\n",
    "        # Start loop \n",
    "        for val in ['Low', 'High']:\n",
    "            for aro in ['Low', 'High']:\n",
    "                for learningTime in [30, 60, 90]:\n",
    "\n",
    "                    # Get block numbers\n",
    "                    this_df = df.copy()[(df.Arousal == aro) & (df.Valence == val) & (df.LearningTime == learningTime)]\n",
    "                    bl = this_df.nBlock.iloc[0]\n",
    "                    oxi = np.load(path + nSub + '/' + nSub2 + str(int(bl)) + '.npy', allow_pickle=True)[0]\n",
    "                    triggers = np.load(path + nSub + '/' + nSub2 + str(int(bl)) + '.npy', allow_pickle=True)[1][:-1]\n",
    "\n",
    "                    # Find peaks\n",
    "                    signal, peaks = oxi_peaks(oxi)\n",
    "\n",
    "                    # Artifacts removal\n",
    "                    peaks, per = artefact_correction(peaks)\n",
    "\n",
    "                    rr = (np.diff(np.where(peaks)[0])/750) * 1000\n",
    "\n",
    "                    this_df = pd.DataFrame([])\n",
    "                    this_df = this_df.append(time_domain(rr), sort=False)\n",
    "                    #this_df = this_df.append(frequency_domain(rr), sort=False)\n",
    "                    this_df = this_df.append(nonlinear_domain(rr), sort=False)\n",
    "                    this_df['Subject'] = nSub\n",
    "                    this_df['Valence'] = val\n",
    "                    this_df['Arousal'] = aro\n",
    "                    this_df['LearningTime'] = learningTime\n",
    "\n",
    "                    final_df = final_df.append(this_df, sort=False)"
   ]
  },
  {
   "cell_type": "code",
   "execution_count": 71,
   "metadata": {},
   "outputs": [],
   "source": [
    "filter_df = final_df.groupby(['Subject', 'Valence', 'Arousal', 'Metric'], as_index=False).median()"
   ]
  },
  {
   "cell_type": "code",
   "execution_count": 115,
   "metadata": {},
   "outputs": [
    {
     "data": {
      "image/png": "[encoded data removed]",
      "text/plain": [
       "<Figure size 864x288 with 2 Axes>"
      ]
     },
     "metadata": {
      "needs_background": "light"
     },
     "output_type": "display_data"
    }
   ],
   "source": [
    "plt.figure(figsize=(12, 4))\n",
    "plt.subplot(121)\n",
    "sns.pointplot(data=filter_df[filter_df.Metric=='MeanBPM'],\n",
    "              x='Arousal', y='Values', hue='Valence', dodge=True, ci=68,\n",
    "              palette=['#AA0000', '#2C5AA0'])\n",
    "plt.ylabel('BPM')\n",
    "plt.subplot(122)\n",
    "sns.pointplot(data=filter_df[filter_df.Metric=='RMSSD'],\n",
    "              x='Arousal', y='Values', hue='Valence', dodge=True, ci=68,\n",
    "              palette=['#AA0000', '#2C5AA0'])\n",
    "plt.ylabel('RMSSD')\n",
    "plt.tight_layout()\n",
    "plt.savefig('Sebastian.png', dpi=600)"
   ]
  },
  {
   "cell_type": "code",
   "execution_count": 103,
   "metadata": {},
   "outputs": [
    {
     "data": {
      "text/html": [
       "<div>\n",
       "<style scoped>\n",
       "    .dataframe tbody tr th:only-of-type {\n",
       "        vertical-align: middle;\n",
       "    }\n",
       "\n",
       "    .dataframe tbody tr th {\n",
       "        vertical-align: top;\n",
       "    }\n",
       "\n",
       "    .dataframe thead th {\n",
       "        text-align: right;\n",
       "    }\n",
       "</style>\n",
       "<table border=\"1\" class=\"dataframe\">\n",
       "  <thead>\n",
       "    <tr style=\"text-align: right;\">\n",
       "      <th></th>\n",
       "      <th>Source</th>\n",
       "      <th>SS</th>\n",
       "      <th>ddof1</th>\n",
       "      <th>ddof2</th>\n",
       "      <th>MS</th>\n",
       "      <th>F</th>\n",
       "      <th>p-unc</th>\n",
       "      <th>p-GG-corr</th>\n",
       "      <th>np2</th>\n",
       "      <th>eps</th>\n",
       "    </tr>\n",
       "  </thead>\n",
       "  <tbody>\n",
       "    <tr>\n",
       "      <th>0</th>\n",
       "      <td>Arousal</td>\n",
       "      <td>17.532</td>\n",
       "      <td>1</td>\n",
       "      <td>25</td>\n",
       "      <td>17.532</td>\n",
       "      <td>6.339</td>\n",
       "      <td>0.018585</td>\n",
       "      <td>0.018585</td>\n",
       "      <td>0.202</td>\n",
       "      <td>1.0</td>\n",
       "    </tr>\n",
       "    <tr>\n",
       "      <th>1</th>\n",
       "      <td>Valence</td>\n",
       "      <td>47.196</td>\n",
       "      <td>1</td>\n",
       "      <td>25</td>\n",
       "      <td>47.196</td>\n",
       "      <td>8.726</td>\n",
       "      <td>0.006742</td>\n",
       "      <td>0.006742</td>\n",
       "      <td>0.259</td>\n",
       "      <td>1.0</td>\n",
       "    </tr>\n",
       "    <tr>\n",
       "      <th>2</th>\n",
       "      <td>Arousal * Valence</td>\n",
       "      <td>0.688</td>\n",
       "      <td>1</td>\n",
       "      <td>25</td>\n",
       "      <td>0.688</td>\n",
       "      <td>0.712</td>\n",
       "      <td>0.406856</td>\n",
       "      <td>0.406856</td>\n",
       "      <td>0.028</td>\n",
       "      <td>1.0</td>\n",
       "    </tr>\n",
       "  </tbody>\n",
       "</table>\n",
       "</div>"
      ],
      "text/plain": [
       "              Source      SS  ddof1  ddof2      MS      F     p-unc  \\\n",
       "0            Arousal  17.532      1     25  17.532  6.339  0.018585   \n",
       "1            Valence  47.196      1     25  47.196  8.726  0.006742   \n",
       "2  Arousal * Valence   0.688      1     25   0.688  0.712  0.406856   \n",
       "\n",
       "   p-GG-corr    np2  eps  \n",
       "0   0.018585  0.202  1.0  \n",
       "1   0.006742  0.259  1.0  \n",
       "2   0.406856  0.028  1.0  "
      ]
     },
     "execution_count": 103,
     "metadata": {},
     "output_type": "execute_result"
    }
   ],
   "source": [
    "import pingouin as pg\n",
    "pg.rm_anova(data=filter_df[filter_df.Metric=='MeanBPM'],\n",
    "            subject='Subject', within=['Arousal', 'Valence'], dv='Values')"
   ]
  },
  {
   "cell_type": "code",
   "execution_count": 135,
   "metadata": {},
   "outputs": [
    {
     "data": {
      "text/html": [
       "<div>\n",
       "<style scoped>\n",
       "    .dataframe tbody tr th:only-of-type {\n",
       "        vertical-align: middle;\n",
       "    }\n",
       "\n",
       "    .dataframe tbody tr th {\n",
       "        vertical-align: top;\n",
       "    }\n",
       "\n",
       "    .dataframe thead th {\n",
       "        text-align: right;\n",
       "    }\n",
       "</style>\n",
       "<table border=\"1\" class=\"dataframe\">\n",
       "  <thead>\n",
       "    <tr style=\"text-align: right;\">\n",
       "      <th></th>\n",
       "      <th>Source</th>\n",
       "      <th>SS</th>\n",
       "      <th>ddof1</th>\n",
       "      <th>ddof2</th>\n",
       "      <th>MS</th>\n",
       "      <th>F</th>\n",
       "      <th>p-unc</th>\n",
       "      <th>p-GG-corr</th>\n",
       "      <th>np2</th>\n",
       "      <th>eps</th>\n",
       "    </tr>\n",
       "  </thead>\n",
       "  <tbody>\n",
       "    <tr>\n",
       "      <th>0</th>\n",
       "      <td>Arousal</td>\n",
       "      <td>23.370</td>\n",
       "      <td>1</td>\n",
       "      <td>25</td>\n",
       "      <td>23.370</td>\n",
       "      <td>8.199</td>\n",
       "      <td>0.008364</td>\n",
       "      <td>0.008364</td>\n",
       "      <td>0.247</td>\n",
       "      <td>1.0</td>\n",
       "    </tr>\n",
       "    <tr>\n",
       "      <th>1</th>\n",
       "      <td>Valence</td>\n",
       "      <td>61.139</td>\n",
       "      <td>1</td>\n",
       "      <td>25</td>\n",
       "      <td>61.139</td>\n",
       "      <td>12.293</td>\n",
       "      <td>0.001738</td>\n",
       "      <td>0.001738</td>\n",
       "      <td>0.330</td>\n",
       "      <td>1.0</td>\n",
       "    </tr>\n",
       "    <tr>\n",
       "      <th>2</th>\n",
       "      <td>Arousal * Valence</td>\n",
       "      <td>1.431</td>\n",
       "      <td>1</td>\n",
       "      <td>25</td>\n",
       "      <td>1.431</td>\n",
       "      <td>1.263</td>\n",
       "      <td>0.271734</td>\n",
       "      <td>0.271734</td>\n",
       "      <td>0.048</td>\n",
       "      <td>1.0</td>\n",
       "    </tr>\n",
       "  </tbody>\n",
       "</table>\n",
       "</div>"
      ],
      "text/plain": [
       "              Source      SS  ddof1  ddof2      MS       F     p-unc  \\\n",
       "0            Arousal  23.370      1     25  23.370   8.199  0.008364   \n",
       "1            Valence  61.139      1     25  61.139  12.293  0.001738   \n",
       "2  Arousal * Valence   1.431      1     25   1.431   1.263  0.271734   \n",
       "\n",
       "   p-GG-corr    np2  eps  \n",
       "0   0.008364  0.247  1.0  \n",
       "1   0.001738  0.330  1.0  \n",
       "2   0.271734  0.048  1.0  "
      ]
     },
     "execution_count": 135,
     "metadata": {},
     "output_type": "execute_result"
    }
   ],
   "source": [
    "pg.rm_anova(data=filter_df[filter_df.Metric=='MedianBPM'],\n",
    "            subject='Subject', within=['Arousal', 'Valence'], dv='Values')"
   ]
  },
  {
   "cell_type": "code",
   "execution_count": 136,
   "metadata": {},
   "outputs": [
    {
     "data": {
      "text/plain": [
       "<matplotlib.axes._subplots.AxesSubplot at 0x1ab073e5b70>"
      ]
     },
     "execution_count": 136,
     "metadata": {},
     "output_type": "execute_result"
    },
    {
     "data": {
      "image/png": "[encoded data removed]",
      "text/plain": [
       "<Figure size 432x288 with 1 Axes>"
      ]
     },
     "metadata": {
      "needs_background": "light"
     },
     "output_type": "display_data"
    }
   ],
   "source": [
    "sns.violinplot(data=filter_df[filter_df.Metric=='MedianBPM'],\n",
    "              x='Valence', y='Values',\n",
    "              palette=['#AA0000', '#2C5AA0'])"
   ]
  },
  {
   "cell_type": "code",
   "execution_count": null,
   "metadata": {},
   "outputs": [],
   "source": []
  }
 ],
 "metadata": {
  "kernelspec": {
   "display_name": "Python 3",
   "language": "python",
   "name": "python3"
  },
  "language_info": {
   "codemirror_mode": {
    "name": "ipython",
    "version": 3
   },
   "file_extension": ".py",
   "mimetype": "text/x-python",
   "name": "python",
   "nbconvert_exporter": "python",
   "pygments_lexer": "ipython3",
   "version": "3.7.3"
  }
 },
 "nbformat": 4,
 "nbformat_minor": 4
}
